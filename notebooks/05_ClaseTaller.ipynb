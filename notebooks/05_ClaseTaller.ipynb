{
  "nbformat": 4,
  "nbformat_minor": 0,
  "metadata": {
    "colab": {
      "provenance": []
    },
    "kernelspec": {
      "name": "python3",
      "display_name": "Python 3"
    },
    "language_info": {
      "name": "python"
    }
  },
  "cells": [
    {
      "cell_type": "markdown",
      "source": [
        "# Solucion a ejercicios del taller 3"
      ],
      "metadata": {
        "id": "gR7oOM_H_RKy"
      }
    },
    {
      "cell_type": "markdown",
      "source": [
        "## 1 - Escriba una funcion que reciba una cantidad finita pero no fija de argumentos. Devolver en un diccionario con llave \"num\" que contiene una lista con los argumentos nummericos, otra llave \"text\" que contiene una lista de argumentos que no son numericos. (usar el metodo str.isnumeric o str.isalpha)"
      ],
      "metadata": {
        "id": "6FwcKpmkfsxJ"
      }
    },
    {
      "cell_type": "code",
      "execution_count": 3,
      "metadata": {
        "id": "JyazU8Gnpn3s"
      },
      "outputs": [],
      "source": [
        "def separanumtex(*args):\n",
        "  dic = {} # inicializar diccionario como vacio\n",
        "  dic[\"num\"] = [] #Agregar llave num con valor de lista vacia\n",
        "  dic[\"text\"] = [] #Agregar text num con valor de lista vacia\n",
        "  for elem in args: #recorre los elementos de la lista args\n",
        "    if (type(elem)==int or type(elem)==float): #elem es entero o flotante\n",
        "      dic[\"num\"].append(elem) #almacena elem en lista de la llave num\n",
        "    elif type(elem)==str: #elem es str\n",
        "      if elem.isnumeric(): #elem es str y numerico\n",
        "        dic[\"num\"].append(elem) #almacena elem en lista de la llave num\n",
        "      else:\n",
        "        dic[\"text\"].append(elem) #almacena elem en lista de la llave text\n",
        "  return dic"
      ]
    },
    {
      "cell_type": "code",
      "source": [
        "dic = separanumtex(1,2.0,'a','Hola',4.0,'1')"
      ],
      "metadata": {
        "id": "5sUVg81RqwTz"
      },
      "execution_count": 5,
      "outputs": []
    },
    {
      "cell_type": "code",
      "source": [
        "print(dic)"
      ],
      "metadata": {
        "colab": {
          "base_uri": "https://localhost:8080/"
        },
        "id": "DAfQhIPhq5Cs",
        "outputId": "60a4dfdb-200d-4683-90ad-63696719afc1"
      },
      "execution_count": 6,
      "outputs": [
        {
          "output_type": "stream",
          "name": "stdout",
          "text": [
            "{'num': [1, 2.0, 4.0, '1'], 'text': ['a', 'Hola']}\n"
          ]
        }
      ]
    },
    {
      "cell_type": "markdown",
      "source": [
        "## 5. Escribir una funcion que reciba una cantidad finita de diccionarios y retorne la concatenacion de los diccionarios."
      ],
      "metadata": {
        "id": "GjTP9PMWg_o3"
      }
    },
    {
      "cell_type": "code",
      "source": [
        "def concatenardics(*args):\n",
        "  dicOut = {}\n",
        "  for dic in args:\n",
        "    if type(dic)==dict: #Si el tipo de dato en args es diccionario\n",
        "      for key in dic.keys(): # recorrer llaves del diccionario\n",
        "        dicOut[key] = dic[key] # asignas llaves y valores de dic a dicOut\n",
        "  return dicOut"
      ],
      "metadata": {
        "id": "Alvitc2WrA7R"
      },
      "execution_count": 7,
      "outputs": []
    },
    {
      "cell_type": "code",
      "source": [
        "concatdic = concatenardics({'a':1,'b':2},{'nombre':'Pedro','edad':30},[1,2,3])"
      ],
      "metadata": {
        "id": "0YfUORravGlC"
      },
      "execution_count": 8,
      "outputs": []
    },
    {
      "cell_type": "code",
      "source": [
        "concatdic"
      ],
      "metadata": {
        "colab": {
          "base_uri": "https://localhost:8080/"
        },
        "id": "8OtlefjOvVFf",
        "outputId": "e184cd03-013c-489a-927d-ca1a4e172717"
      },
      "execution_count": 9,
      "outputs": [
        {
          "output_type": "execute_result",
          "data": {
            "text/plain": [
              "{'a': 1, 'b': 2, 'nombre': 'Pedro', 'edad': 30}"
            ]
          },
          "metadata": {},
          "execution_count": 9
        }
      ]
    },
    {
      "cell_type": "markdown",
      "source": [
        "## 2. Escribir una funcion que calcule el factorial. Hacer la funcion usando recursividad. https://chrispenner.ca/posts/python-tail-recursion"
      ],
      "metadata": {
        "id": "3ZvkzQTAhi29"
      }
    },
    {
      "cell_type": "markdown",
      "source": [
        "Factoria a partir del ciclo for"
      ],
      "metadata": {
        "id": "CbdaR8hmhzkE"
      }
    },
    {
      "cell_type": "code",
      "source": [
        "def factorial(n):\n",
        "  producto = 1\n",
        "  for i in range(1,n+1):\n",
        "    producto *= i\n",
        "  return producto"
      ],
      "metadata": {
        "id": "CP9uEkzbvWOy"
      },
      "execution_count": 10,
      "outputs": []
    },
    {
      "cell_type": "code",
      "source": [
        "factorial(4)"
      ],
      "metadata": {
        "colab": {
          "base_uri": "https://localhost:8080/"
        },
        "id": "ARNIhh3Ah3lU",
        "outputId": "c8053505-e597-4a70-d739-c2af852fdb29"
      },
      "execution_count": 11,
      "outputs": [
        {
          "output_type": "execute_result",
          "data": {
            "text/plain": [
              "24"
            ]
          },
          "metadata": {},
          "execution_count": 11
        }
      ]
    },
    {
      "cell_type": "markdown",
      "source": [
        "Factorial a partir de recursividad"
      ],
      "metadata": {
        "id": "Q-LDfr19h5s0"
      }
    },
    {
      "cell_type": "code",
      "source": [
        "def factorial_rec(n):\n",
        "  if n == 0 or n==1:\n",
        "    return 1.0\n",
        "  else:\n",
        "    return n*factorial_rec(n-1)"
      ],
      "metadata": {
        "id": "LBuxPcCSwcLA"
      },
      "execution_count": 12,
      "outputs": []
    },
    {
      "cell_type": "code",
      "source": [
        "factorial_rec(960) #al parecer solo acepta 959 como maxima profundidad de la recursion"
      ],
      "metadata": {
        "colab": {
          "base_uri": "https://localhost:8080/",
          "height": 287
        },
        "id": "1H_KSI3-we9U",
        "outputId": "c242bce9-052a-4766-c98d-f99525f5d285"
      },
      "execution_count": 23,
      "outputs": [
        {
          "output_type": "error",
          "ename": "RecursionError",
          "evalue": "maximum recursion depth exceeded in comparison",
          "traceback": [
            "\u001b[0;31m---------------------------------------------------------------------------\u001b[0m",
            "\u001b[0;31mRecursionError\u001b[0m                            Traceback (most recent call last)",
            "\u001b[0;32m<ipython-input-23-e2b781f9de4c>\u001b[0m in \u001b[0;36m<cell line: 1>\u001b[0;34m()\u001b[0m\n\u001b[0;32m----> 1\u001b[0;31m \u001b[0mfactorial_rec\u001b[0m\u001b[0;34m(\u001b[0m\u001b[0;36m960\u001b[0m\u001b[0;34m)\u001b[0m\u001b[0;34m\u001b[0m\u001b[0;34m\u001b[0m\u001b[0m\n\u001b[0m",
            "\u001b[0;32m<ipython-input-12-468f5c0c7611>\u001b[0m in \u001b[0;36mfactorial_rec\u001b[0;34m(n)\u001b[0m\n\u001b[1;32m      3\u001b[0m     \u001b[0;32mreturn\u001b[0m \u001b[0;36m1.0\u001b[0m\u001b[0;34m\u001b[0m\u001b[0;34m\u001b[0m\u001b[0m\n\u001b[1;32m      4\u001b[0m   \u001b[0;32melse\u001b[0m\u001b[0;34m:\u001b[0m\u001b[0;34m\u001b[0m\u001b[0;34m\u001b[0m\u001b[0m\n\u001b[0;32m----> 5\u001b[0;31m     \u001b[0;32mreturn\u001b[0m \u001b[0mn\u001b[0m\u001b[0;34m*\u001b[0m\u001b[0mfactorial_rec\u001b[0m\u001b[0;34m(\u001b[0m\u001b[0mn\u001b[0m\u001b[0;34m-\u001b[0m\u001b[0;36m1\u001b[0m\u001b[0;34m)\u001b[0m\u001b[0;34m\u001b[0m\u001b[0;34m\u001b[0m\u001b[0m\n\u001b[0m",
            "... last 1 frames repeated, from the frame below ...\n",
            "\u001b[0;32m<ipython-input-12-468f5c0c7611>\u001b[0m in \u001b[0;36mfactorial_rec\u001b[0;34m(n)\u001b[0m\n\u001b[1;32m      3\u001b[0m     \u001b[0;32mreturn\u001b[0m \u001b[0;36m1.0\u001b[0m\u001b[0;34m\u001b[0m\u001b[0;34m\u001b[0m\u001b[0m\n\u001b[1;32m      4\u001b[0m   \u001b[0;32melse\u001b[0m\u001b[0;34m:\u001b[0m\u001b[0;34m\u001b[0m\u001b[0;34m\u001b[0m\u001b[0m\n\u001b[0;32m----> 5\u001b[0;31m     \u001b[0;32mreturn\u001b[0m \u001b[0mn\u001b[0m\u001b[0;34m*\u001b[0m\u001b[0mfactorial_rec\u001b[0m\u001b[0;34m(\u001b[0m\u001b[0mn\u001b[0m\u001b[0;34m-\u001b[0m\u001b[0;36m1\u001b[0m\u001b[0;34m)\u001b[0m\u001b[0;34m\u001b[0m\u001b[0;34m\u001b[0m\u001b[0m\n\u001b[0m",
            "\u001b[0;31mRecursionError\u001b[0m: maximum recursion depth exceeded in comparison"
          ]
        }
      ]
    },
    {
      "cell_type": "markdown",
      "source": [
        "Factorial con recursividad en la cola"
      ],
      "metadata": {
        "id": "pvWThCBqiSEc"
      }
    },
    {
      "cell_type": "code",
      "source": [
        "def tail_factorial(n, accumulator=1):\n",
        "  if n == 0:\n",
        "    return accumulator\n",
        "  else:\n",
        "    return tail_factorial(n-1, accumulator * n)"
      ],
      "metadata": {
        "id": "LuVihFavwifF"
      },
      "execution_count": 24,
      "outputs": []
    },
    {
      "cell_type": "code",
      "source": [
        "tail_factorial(960)"
      ],
      "metadata": {
        "colab": {
          "base_uri": "https://localhost:8080/",
          "height": 287
        },
        "id": "ayC6YSMDiZAU",
        "outputId": "863d23e2-f7f9-46ab-9245-6228229ca62a"
      },
      "execution_count": 25,
      "outputs": [
        {
          "output_type": "error",
          "ename": "RecursionError",
          "evalue": "maximum recursion depth exceeded in comparison",
          "traceback": [
            "\u001b[0;31m---------------------------------------------------------------------------\u001b[0m",
            "\u001b[0;31mRecursionError\u001b[0m                            Traceback (most recent call last)",
            "\u001b[0;32m<ipython-input-25-4f64f9443011>\u001b[0m in \u001b[0;36m<cell line: 1>\u001b[0;34m()\u001b[0m\n\u001b[0;32m----> 1\u001b[0;31m \u001b[0mtail_factorial\u001b[0m\u001b[0;34m(\u001b[0m\u001b[0;36m960\u001b[0m\u001b[0;34m)\u001b[0m\u001b[0;34m\u001b[0m\u001b[0;34m\u001b[0m\u001b[0m\n\u001b[0m",
            "\u001b[0;32m<ipython-input-24-e3af88c8eec8>\u001b[0m in \u001b[0;36mtail_factorial\u001b[0;34m(n, accumulator)\u001b[0m\n\u001b[1;32m      3\u001b[0m     \u001b[0;32mreturn\u001b[0m \u001b[0maccumulator\u001b[0m\u001b[0;34m\u001b[0m\u001b[0;34m\u001b[0m\u001b[0m\n\u001b[1;32m      4\u001b[0m   \u001b[0;32melse\u001b[0m\u001b[0;34m:\u001b[0m\u001b[0;34m\u001b[0m\u001b[0;34m\u001b[0m\u001b[0m\n\u001b[0;32m----> 5\u001b[0;31m     \u001b[0;32mreturn\u001b[0m \u001b[0mtail_factorial\u001b[0m\u001b[0;34m(\u001b[0m\u001b[0mn\u001b[0m\u001b[0;34m-\u001b[0m\u001b[0;36m1\u001b[0m\u001b[0;34m,\u001b[0m \u001b[0maccumulator\u001b[0m \u001b[0;34m*\u001b[0m \u001b[0mn\u001b[0m\u001b[0;34m)\u001b[0m\u001b[0;34m\u001b[0m\u001b[0;34m\u001b[0m\u001b[0m\n\u001b[0m",
            "... last 1 frames repeated, from the frame below ...\n",
            "\u001b[0;32m<ipython-input-24-e3af88c8eec8>\u001b[0m in \u001b[0;36mtail_factorial\u001b[0;34m(n, accumulator)\u001b[0m\n\u001b[1;32m      3\u001b[0m     \u001b[0;32mreturn\u001b[0m \u001b[0maccumulator\u001b[0m\u001b[0;34m\u001b[0m\u001b[0;34m\u001b[0m\u001b[0m\n\u001b[1;32m      4\u001b[0m   \u001b[0;32melse\u001b[0m\u001b[0;34m:\u001b[0m\u001b[0;34m\u001b[0m\u001b[0;34m\u001b[0m\u001b[0m\n\u001b[0;32m----> 5\u001b[0;31m     \u001b[0;32mreturn\u001b[0m \u001b[0mtail_factorial\u001b[0m\u001b[0;34m(\u001b[0m\u001b[0mn\u001b[0m\u001b[0;34m-\u001b[0m\u001b[0;36m1\u001b[0m\u001b[0;34m,\u001b[0m \u001b[0maccumulator\u001b[0m \u001b[0;34m*\u001b[0m \u001b[0mn\u001b[0m\u001b[0;34m)\u001b[0m\u001b[0;34m\u001b[0m\u001b[0;34m\u001b[0m\u001b[0m\n\u001b[0m",
            "\u001b[0;31mRecursionError\u001b[0m: maximum recursion depth exceeded in comparison"
          ]
        }
      ]
    },
    {
      "cell_type": "markdown",
      "source": [
        "## 3. Usar la libreria Pandas para abrir un archivo usando el comando read csv. Convertir el dataframe en Diccionario usando el metodo to dict de Pandas.\n",
        "https://pandas.pydata.org/docs/reference/api/pandas.read_csv.html <br>\n",
        "https://raw.githubusercontent.com/cgl-itm/ProgramacionAvanzada-ITM/main/talleres/EmisorasFM.csv"
      ],
      "metadata": {
        "id": "Gdksyje9if6Y"
      }
    },
    {
      "cell_type": "code",
      "source": [
        "import pandas as pd"
      ],
      "metadata": {
        "id": "ZK37G87-0LMF"
      },
      "execution_count": 26,
      "outputs": []
    },
    {
      "cell_type": "code",
      "source": [
        "emisoras_df = pd.read_csv('https://raw.githubusercontent.com/cgl-itm/ProgramacionAvanzada-ITM/main/talleres/EmisorasFM.csv')"
      ],
      "metadata": {
        "id": "76ybhaPF0No0"
      },
      "execution_count": 27,
      "outputs": []
    },
    {
      "cell_type": "code",
      "source": [
        "emisoras_df.head(3)"
      ],
      "metadata": {
        "colab": {
          "base_uri": "https://localhost:8080/",
          "height": 213
        },
        "id": "bWSXvDqr0Q6_",
        "outputId": "dd320cdf-cb28-4079-c417-fe6878f982ae"
      },
      "execution_count": 28,
      "outputs": [
        {
          "output_type": "execute_result",
          "data": {
            "text/plain": [
              "   Unnamed: 0  Frecuencia (MHz) Código         Nombre  \\\n",
              "0           0              88.9  HJG38      Guasca FM   \n",
              "1           1              89.5      —  Aburra Stereo   \n",
              "2           2              89.9   HJRT            MIX   \n",
              "\n",
              "                         Cadena                   Estilo Señal de Origen RDS  \\\n",
              "0    Sistema Sonoro de Colombia           Música Popular        Medellín  SI   \n",
              "1        Independiente / Pirata                Crossover        Medellín  NO   \n",
              "2  Organización Radial Olímpica  Reguetón, Música Urbana        Medellín  SI   \n",
              "\n",
              "   Potencia (vatio)  Año de inicio                Eslogan  WEB  \n",
              "0               4.0         2018.0       Yo soy Guasca FM  WEB  \n",
              "1               NaN         2023.0                    NaN  NaN  \n",
              "2               NaN         2018.0  El sonido de la calle  WEB  "
            ],
            "text/html": [
              "\n",
              "  <div id=\"df-c4caf64d-1451-4f29-89dd-85efe6dc1974\" class=\"colab-df-container\">\n",
              "    <div>\n",
              "<style scoped>\n",
              "    .dataframe tbody tr th:only-of-type {\n",
              "        vertical-align: middle;\n",
              "    }\n",
              "\n",
              "    .dataframe tbody tr th {\n",
              "        vertical-align: top;\n",
              "    }\n",
              "\n",
              "    .dataframe thead th {\n",
              "        text-align: right;\n",
              "    }\n",
              "</style>\n",
              "<table border=\"1\" class=\"dataframe\">\n",
              "  <thead>\n",
              "    <tr style=\"text-align: right;\">\n",
              "      <th></th>\n",
              "      <th>Unnamed: 0</th>\n",
              "      <th>Frecuencia (MHz)</th>\n",
              "      <th>Código</th>\n",
              "      <th>Nombre</th>\n",
              "      <th>Cadena</th>\n",
              "      <th>Estilo</th>\n",
              "      <th>Señal de Origen</th>\n",
              "      <th>RDS</th>\n",
              "      <th>Potencia (vatio)</th>\n",
              "      <th>Año de inicio</th>\n",
              "      <th>Eslogan</th>\n",
              "      <th>WEB</th>\n",
              "    </tr>\n",
              "  </thead>\n",
              "  <tbody>\n",
              "    <tr>\n",
              "      <th>0</th>\n",
              "      <td>0</td>\n",
              "      <td>88.9</td>\n",
              "      <td>HJG38</td>\n",
              "      <td>Guasca FM</td>\n",
              "      <td>Sistema Sonoro de Colombia</td>\n",
              "      <td>Música Popular</td>\n",
              "      <td>Medellín</td>\n",
              "      <td>SI</td>\n",
              "      <td>4.0</td>\n",
              "      <td>2018.0</td>\n",
              "      <td>Yo soy Guasca FM</td>\n",
              "      <td>WEB</td>\n",
              "    </tr>\n",
              "    <tr>\n",
              "      <th>1</th>\n",
              "      <td>1</td>\n",
              "      <td>89.5</td>\n",
              "      <td>—</td>\n",
              "      <td>Aburra Stereo</td>\n",
              "      <td>Independiente / Pirata</td>\n",
              "      <td>Crossover</td>\n",
              "      <td>Medellín</td>\n",
              "      <td>NO</td>\n",
              "      <td>NaN</td>\n",
              "      <td>2023.0</td>\n",
              "      <td>NaN</td>\n",
              "      <td>NaN</td>\n",
              "    </tr>\n",
              "    <tr>\n",
              "      <th>2</th>\n",
              "      <td>2</td>\n",
              "      <td>89.9</td>\n",
              "      <td>HJRT</td>\n",
              "      <td>MIX</td>\n",
              "      <td>Organización Radial Olímpica</td>\n",
              "      <td>Reguetón, Música Urbana</td>\n",
              "      <td>Medellín</td>\n",
              "      <td>SI</td>\n",
              "      <td>NaN</td>\n",
              "      <td>2018.0</td>\n",
              "      <td>El sonido de la calle</td>\n",
              "      <td>WEB</td>\n",
              "    </tr>\n",
              "  </tbody>\n",
              "</table>\n",
              "</div>\n",
              "    <div class=\"colab-df-buttons\">\n",
              "\n",
              "  <div class=\"colab-df-container\">\n",
              "    <button class=\"colab-df-convert\" onclick=\"convertToInteractive('df-c4caf64d-1451-4f29-89dd-85efe6dc1974')\"\n",
              "            title=\"Convert this dataframe to an interactive table.\"\n",
              "            style=\"display:none;\">\n",
              "\n",
              "  <svg xmlns=\"http://www.w3.org/2000/svg\" height=\"24px\" viewBox=\"0 -960 960 960\">\n",
              "    <path d=\"M120-120v-720h720v720H120Zm60-500h600v-160H180v160Zm220 220h160v-160H400v160Zm0 220h160v-160H400v160ZM180-400h160v-160H180v160Zm440 0h160v-160H620v160ZM180-180h160v-160H180v160Zm440 0h160v-160H620v160Z\"/>\n",
              "  </svg>\n",
              "    </button>\n",
              "\n",
              "  <style>\n",
              "    .colab-df-container {\n",
              "      display:flex;\n",
              "      gap: 12px;\n",
              "    }\n",
              "\n",
              "    .colab-df-convert {\n",
              "      background-color: #E8F0FE;\n",
              "      border: none;\n",
              "      border-radius: 50%;\n",
              "      cursor: pointer;\n",
              "      display: none;\n",
              "      fill: #1967D2;\n",
              "      height: 32px;\n",
              "      padding: 0 0 0 0;\n",
              "      width: 32px;\n",
              "    }\n",
              "\n",
              "    .colab-df-convert:hover {\n",
              "      background-color: #E2EBFA;\n",
              "      box-shadow: 0px 1px 2px rgba(60, 64, 67, 0.3), 0px 1px 3px 1px rgba(60, 64, 67, 0.15);\n",
              "      fill: #174EA6;\n",
              "    }\n",
              "\n",
              "    .colab-df-buttons div {\n",
              "      margin-bottom: 4px;\n",
              "    }\n",
              "\n",
              "    [theme=dark] .colab-df-convert {\n",
              "      background-color: #3B4455;\n",
              "      fill: #D2E3FC;\n",
              "    }\n",
              "\n",
              "    [theme=dark] .colab-df-convert:hover {\n",
              "      background-color: #434B5C;\n",
              "      box-shadow: 0px 1px 3px 1px rgba(0, 0, 0, 0.15);\n",
              "      filter: drop-shadow(0px 1px 2px rgba(0, 0, 0, 0.3));\n",
              "      fill: #FFFFFF;\n",
              "    }\n",
              "  </style>\n",
              "\n",
              "    <script>\n",
              "      const buttonEl =\n",
              "        document.querySelector('#df-c4caf64d-1451-4f29-89dd-85efe6dc1974 button.colab-df-convert');\n",
              "      buttonEl.style.display =\n",
              "        google.colab.kernel.accessAllowed ? 'block' : 'none';\n",
              "\n",
              "      async function convertToInteractive(key) {\n",
              "        const element = document.querySelector('#df-c4caf64d-1451-4f29-89dd-85efe6dc1974');\n",
              "        const dataTable =\n",
              "          await google.colab.kernel.invokeFunction('convertToInteractive',\n",
              "                                                    [key], {});\n",
              "        if (!dataTable) return;\n",
              "\n",
              "        const docLinkHtml = 'Like what you see? Visit the ' +\n",
              "          '<a target=\"_blank\" href=https://colab.research.google.com/notebooks/data_table.ipynb>data table notebook</a>'\n",
              "          + ' to learn more about interactive tables.';\n",
              "        element.innerHTML = '';\n",
              "        dataTable['output_type'] = 'display_data';\n",
              "        await google.colab.output.renderOutput(dataTable, element);\n",
              "        const docLink = document.createElement('div');\n",
              "        docLink.innerHTML = docLinkHtml;\n",
              "        element.appendChild(docLink);\n",
              "      }\n",
              "    </script>\n",
              "  </div>\n",
              "\n",
              "\n",
              "<div id=\"df-bc47cffd-38ec-450e-8668-321a3b44f106\">\n",
              "  <button class=\"colab-df-quickchart\" onclick=\"quickchart('df-bc47cffd-38ec-450e-8668-321a3b44f106')\"\n",
              "            title=\"Suggest charts\"\n",
              "            style=\"display:none;\">\n",
              "\n",
              "<svg xmlns=\"http://www.w3.org/2000/svg\" height=\"24px\"viewBox=\"0 0 24 24\"\n",
              "     width=\"24px\">\n",
              "    <g>\n",
              "        <path d=\"M19 3H5c-1.1 0-2 .9-2 2v14c0 1.1.9 2 2 2h14c1.1 0 2-.9 2-2V5c0-1.1-.9-2-2-2zM9 17H7v-7h2v7zm4 0h-2V7h2v10zm4 0h-2v-4h2v4z\"/>\n",
              "    </g>\n",
              "</svg>\n",
              "  </button>\n",
              "\n",
              "<style>\n",
              "  .colab-df-quickchart {\n",
              "      --bg-color: #E8F0FE;\n",
              "      --fill-color: #1967D2;\n",
              "      --hover-bg-color: #E2EBFA;\n",
              "      --hover-fill-color: #174EA6;\n",
              "      --disabled-fill-color: #AAA;\n",
              "      --disabled-bg-color: #DDD;\n",
              "  }\n",
              "\n",
              "  [theme=dark] .colab-df-quickchart {\n",
              "      --bg-color: #3B4455;\n",
              "      --fill-color: #D2E3FC;\n",
              "      --hover-bg-color: #434B5C;\n",
              "      --hover-fill-color: #FFFFFF;\n",
              "      --disabled-bg-color: #3B4455;\n",
              "      --disabled-fill-color: #666;\n",
              "  }\n",
              "\n",
              "  .colab-df-quickchart {\n",
              "    background-color: var(--bg-color);\n",
              "    border: none;\n",
              "    border-radius: 50%;\n",
              "    cursor: pointer;\n",
              "    display: none;\n",
              "    fill: var(--fill-color);\n",
              "    height: 32px;\n",
              "    padding: 0;\n",
              "    width: 32px;\n",
              "  }\n",
              "\n",
              "  .colab-df-quickchart:hover {\n",
              "    background-color: var(--hover-bg-color);\n",
              "    box-shadow: 0 1px 2px rgba(60, 64, 67, 0.3), 0 1px 3px 1px rgba(60, 64, 67, 0.15);\n",
              "    fill: var(--button-hover-fill-color);\n",
              "  }\n",
              "\n",
              "  .colab-df-quickchart-complete:disabled,\n",
              "  .colab-df-quickchart-complete:disabled:hover {\n",
              "    background-color: var(--disabled-bg-color);\n",
              "    fill: var(--disabled-fill-color);\n",
              "    box-shadow: none;\n",
              "  }\n",
              "\n",
              "  .colab-df-spinner {\n",
              "    border: 2px solid var(--fill-color);\n",
              "    border-color: transparent;\n",
              "    border-bottom-color: var(--fill-color);\n",
              "    animation:\n",
              "      spin 1s steps(1) infinite;\n",
              "  }\n",
              "\n",
              "  @keyframes spin {\n",
              "    0% {\n",
              "      border-color: transparent;\n",
              "      border-bottom-color: var(--fill-color);\n",
              "      border-left-color: var(--fill-color);\n",
              "    }\n",
              "    20% {\n",
              "      border-color: transparent;\n",
              "      border-left-color: var(--fill-color);\n",
              "      border-top-color: var(--fill-color);\n",
              "    }\n",
              "    30% {\n",
              "      border-color: transparent;\n",
              "      border-left-color: var(--fill-color);\n",
              "      border-top-color: var(--fill-color);\n",
              "      border-right-color: var(--fill-color);\n",
              "    }\n",
              "    40% {\n",
              "      border-color: transparent;\n",
              "      border-right-color: var(--fill-color);\n",
              "      border-top-color: var(--fill-color);\n",
              "    }\n",
              "    60% {\n",
              "      border-color: transparent;\n",
              "      border-right-color: var(--fill-color);\n",
              "    }\n",
              "    80% {\n",
              "      border-color: transparent;\n",
              "      border-right-color: var(--fill-color);\n",
              "      border-bottom-color: var(--fill-color);\n",
              "    }\n",
              "    90% {\n",
              "      border-color: transparent;\n",
              "      border-bottom-color: var(--fill-color);\n",
              "    }\n",
              "  }\n",
              "</style>\n",
              "\n",
              "  <script>\n",
              "    async function quickchart(key) {\n",
              "      const quickchartButtonEl =\n",
              "        document.querySelector('#' + key + ' button');\n",
              "      quickchartButtonEl.disabled = true;  // To prevent multiple clicks.\n",
              "      quickchartButtonEl.classList.add('colab-df-spinner');\n",
              "      try {\n",
              "        const charts = await google.colab.kernel.invokeFunction(\n",
              "            'suggestCharts', [key], {});\n",
              "      } catch (error) {\n",
              "        console.error('Error during call to suggestCharts:', error);\n",
              "      }\n",
              "      quickchartButtonEl.classList.remove('colab-df-spinner');\n",
              "      quickchartButtonEl.classList.add('colab-df-quickchart-complete');\n",
              "    }\n",
              "    (() => {\n",
              "      let quickchartButtonEl =\n",
              "        document.querySelector('#df-bc47cffd-38ec-450e-8668-321a3b44f106 button');\n",
              "      quickchartButtonEl.style.display =\n",
              "        google.colab.kernel.accessAllowed ? 'block' : 'none';\n",
              "    })();\n",
              "  </script>\n",
              "</div>\n",
              "    </div>\n",
              "  </div>\n"
            ],
            "application/vnd.google.colaboratory.intrinsic+json": {
              "type": "dataframe",
              "variable_name": "emisoras_df",
              "summary": "{\n  \"name\": \"emisoras_df\",\n  \"rows\": 34,\n  \"fields\": [\n    {\n      \"column\": \"Unnamed: 0\",\n      \"properties\": {\n        \"dtype\": \"number\",\n        \"std\": 9,\n        \"min\": 0,\n        \"max\": 33,\n        \"num_unique_values\": 34,\n        \"samples\": [\n          15,\n          19,\n          27\n        ],\n        \"semantic_type\": \"\",\n        \"description\": \"\"\n      }\n    },\n    {\n      \"column\": \"Frecuencia (MHz)\",\n      \"properties\": {\n        \"dtype\": \"number\",\n        \"std\": 5.686425654147129,\n        \"min\": 88.9,\n        \"max\": 107.9,\n        \"num_unique_values\": 34,\n        \"samples\": [\n          97.9,\n          99.9,\n          103.9\n        ],\n        \"semantic_type\": \"\",\n        \"description\": \"\"\n      }\n    },\n    {\n      \"column\": \"C\\u00f3digo\",\n      \"properties\": {\n        \"dtype\": \"string\",\n        \"num_unique_values\": 31,\n        \"samples\": [\n          \"HJG55\",\n          \"HJVJ\",\n          \"HJE71\"\n        ],\n        \"semantic_type\": \"\",\n        \"description\": \"\"\n      }\n    },\n    {\n      \"column\": \"Nombre\",\n      \"properties\": {\n        \"dtype\": \"string\",\n        \"num_unique_values\": 34,\n        \"samples\": [\n          \"Blu Radio\",\n          \"Radi\\u00f3nica\",\n          \"La X\"\n        ],\n        \"semantic_type\": \"\",\n        \"description\": \"\"\n      }\n    },\n    {\n      \"column\": \"Cadena\",\n      \"properties\": {\n        \"dtype\": \"string\",\n        \"num_unique_values\": 17,\n        \"samples\": [\n          \"Sistema Sonoro de Colombia\",\n          \"Independiente / Pirata\",\n          \"Universidad Pontificia Bolivariana\"\n        ],\n        \"semantic_type\": \"\",\n        \"description\": \"\"\n      }\n    },\n    {\n      \"column\": \"Estilo\",\n      \"properties\": {\n        \"dtype\": \"string\",\n        \"num_unique_values\": 26,\n        \"samples\": [\n          \"Noticias\",\n          \"Pop Anglo\",\n          \"M\\u00fasica Popular\"\n        ],\n        \"semantic_type\": \"\",\n        \"description\": \"\"\n      }\n    },\n    {\n      \"column\": \"Se\\u00f1al de Origen\",\n      \"properties\": {\n        \"dtype\": \"category\",\n        \"num_unique_values\": 1,\n        \"samples\": [\n          \"Medell\\u00edn\"\n        ],\n        \"semantic_type\": \"\",\n        \"description\": \"\"\n      }\n    },\n    {\n      \"column\": \"RDS\",\n      \"properties\": {\n        \"dtype\": \"category\",\n        \"num_unique_values\": 2,\n        \"samples\": [\n          \"NO\"\n        ],\n        \"semantic_type\": \"\",\n        \"description\": \"\"\n      }\n    },\n    {\n      \"column\": \"Potencia (vatio)\",\n      \"properties\": {\n        \"dtype\": \"number\",\n        \"std\": 8.063211805191813,\n        \"min\": 4.0,\n        \"max\": 45.0,\n        \"num_unique_values\": 5,\n        \"samples\": [\n          5.0\n        ],\n        \"semantic_type\": \"\",\n        \"description\": \"\"\n      }\n    },\n    {\n      \"column\": \"A\\u00f1o de inicio\",\n      \"properties\": {\n        \"dtype\": \"number\",\n        \"std\": 12.768315670340833,\n        \"min\": 1984.0,\n        \"max\": 2023.0,\n        \"num_unique_values\": 18,\n        \"samples\": [\n          2018.0\n        ],\n        \"semantic_type\": \"\",\n        \"description\": \"\"\n      }\n    },\n    {\n      \"column\": \"Eslogan\",\n      \"properties\": {\n        \"dtype\": \"string\",\n        \"num_unique_values\": 27,\n        \"samples\": [\n          \"24 horas de contenido en vivo\"\n        ],\n        \"semantic_type\": \"\",\n        \"description\": \"\"\n      }\n    },\n    {\n      \"column\": \"WEB\",\n      \"properties\": {\n        \"dtype\": \"category\",\n        \"num_unique_values\": 1,\n        \"samples\": [\n          \"WEB\"\n        ],\n        \"semantic_type\": \"\",\n        \"description\": \"\"\n      }\n    }\n  ]\n}"
            }
          },
          "metadata": {},
          "execution_count": 28
        }
      ]
    },
    {
      "cell_type": "code",
      "source": [
        "emisoras = emisoras_df.to_dict()"
      ],
      "metadata": {
        "id": "nToymv6cf5z2"
      },
      "execution_count": 29,
      "outputs": []
    },
    {
      "cell_type": "code",
      "source": [
        "emisoras"
      ],
      "metadata": {
        "colab": {
          "base_uri": "https://localhost:8080/"
        },
        "id": "lX_RaiQMg1Yv",
        "outputId": "d770bbf5-9ce0-4eb3-f36a-bbe9fad728a8"
      },
      "execution_count": 30,
      "outputs": [
        {
          "output_type": "execute_result",
          "data": {
            "text/plain": [
              "{'Unnamed: 0': {0: 0,\n",
              "  1: 1,\n",
              "  2: 2,\n",
              "  3: 3,\n",
              "  4: 4,\n",
              "  5: 5,\n",
              "  6: 6,\n",
              "  7: 7,\n",
              "  8: 8,\n",
              "  9: 9,\n",
              "  10: 10,\n",
              "  11: 11,\n",
              "  12: 12,\n",
              "  13: 13,\n",
              "  14: 14,\n",
              "  15: 15,\n",
              "  16: 16,\n",
              "  17: 17,\n",
              "  18: 18,\n",
              "  19: 19,\n",
              "  20: 20,\n",
              "  21: 21,\n",
              "  22: 22,\n",
              "  23: 23,\n",
              "  24: 24,\n",
              "  25: 25,\n",
              "  26: 26,\n",
              "  27: 27,\n",
              "  28: 28,\n",
              "  29: 29,\n",
              "  30: 30,\n",
              "  31: 31,\n",
              "  32: 32,\n",
              "  33: 33},\n",
              " 'Frecuencia (MHz)': {0: 88.9,\n",
              "  1: 89.5,\n",
              "  2: 89.9,\n",
              "  3: 90.3,\n",
              "  4: 90.9,\n",
              "  5: 91.3,\n",
              "  6: 91.9,\n",
              "  7: 92.4,\n",
              "  8: 92.9,\n",
              "  9: 93.9,\n",
              "  10: 94.4,\n",
              "  11: 94.9,\n",
              "  12: 95.9,\n",
              "  13: 96.4,\n",
              "  14: 96.9,\n",
              "  15: 97.9,\n",
              "  16: 98.3,\n",
              "  17: 98.9,\n",
              "  18: 99.4,\n",
              "  19: 99.9,\n",
              "  20: 100.4,\n",
              "  21: 100.9,\n",
              "  22: 101.4,\n",
              "  23: 101.9,\n",
              "  24: 102.3,\n",
              "  25: 102.9,\n",
              "  26: 103.5,\n",
              "  27: 103.9,\n",
              "  28: 104.3,\n",
              "  29: 104.9,\n",
              "  30: 105.9,\n",
              "  31: 106.3,\n",
              "  32: 106.9,\n",
              "  33: 107.9},\n",
              " 'Código': {0: 'HJG38',\n",
              "  1: '—',\n",
              "  2: 'HJRT',\n",
              "  3: 'HJE27',\n",
              "  4: 'HJPQ',\n",
              "  5: '—',\n",
              "  6: 'HJTO',\n",
              "  7: 'HJA94',\n",
              "  8: 'HJRY',\n",
              "  9: 'HJSX',\n",
              "  10: 'HJG42',\n",
              "  11: 'HJDW',\n",
              "  12: 'HJUC',\n",
              "  13: 'HJG52',\n",
              "  14: 'HJIK',\n",
              "  15: 'HJD78',\n",
              "  16: '—',\n",
              "  17: 'HJVJ',\n",
              "  18: 'HJG53',\n",
              "  19: 'HJXA',\n",
              "  20: 'HJG51',\n",
              "  21: 'HJQO',\n",
              "  22: 'HJU64',\n",
              "  23: 'HJB84',\n",
              "  24: 'HJD76',\n",
              "  25: 'HJE71',\n",
              "  26: '—',\n",
              "  27: 'HJG54',\n",
              "  28: 'HJTD',\n",
              "  29: 'HJFK',\n",
              "  30: 'HJG55',\n",
              "  31: 'HJA74',\n",
              "  32: 'HJUU',\n",
              "  33: 'HJXW'},\n",
              " 'Nombre': {0: 'Guasca FM',\n",
              "  1: 'Aburra Stereo',\n",
              "  2: 'MIX',\n",
              "  3: 'Caracol Radio',\n",
              "  4: 'LOS40 Urban',\n",
              "  5: 'Ritmo Stereo',\n",
              "  6: 'Brutal',\n",
              "  7: 'Radio Bolivariana FM',\n",
              "  8: 'La Mega',\n",
              "  9: 'Radio Uno',\n",
              "  10: 'RCN Radio',\n",
              "  11: 'La Voz de Colombia Bésame',\n",
              "  12: 'Cámara FM',\n",
              "  13: 'Radio Policía Nacional',\n",
              "  14: 'Radio Fantástica',\n",
              "  15: 'Blu Radio',\n",
              "  16: 'Cristiana Sin Nombre',\n",
              "  17: 'Tropicana',\n",
              "  18: 'W+',\n",
              "  19: 'Radiónica',\n",
              "  20: 'Radio UNAL',\n",
              "  21: 'Latina Stéreo',\n",
              "  22: 'La Esquina Radio',\n",
              "  23: 'Emisora Cultural Universidad de Antioquia',\n",
              "  24: 'Radioacktiva',\n",
              "  25: 'W Radio',\n",
              "  26: 'La Mía',\n",
              "  27: 'La X',\n",
              "  28: 'Estrella Estéreo',\n",
              "  29: 'Olímpica Stereo',\n",
              "  30: 'Radio Tiempo',\n",
              "  31: 'Alfa Stereo',\n",
              "  32: 'La FM',\n",
              "  33: 'El Sol'},\n",
              " 'Cadena': {0: 'Sistema Sonoro de Colombia',\n",
              "  1: 'Independiente / Pirata',\n",
              "  2: 'Organización Radial Olímpica',\n",
              "  3: 'Caracol Radio',\n",
              "  4: 'Caracol Radio',\n",
              "  5: 'Independiente / Pirata',\n",
              "  6: 'Independiente',\n",
              "  7: 'Universidad Pontificia Bolivariana',\n",
              "  8: 'RCN Radio',\n",
              "  9: 'RCN Radio',\n",
              "  10: 'RCN Radio',\n",
              "  11: 'Caracol Radio',\n",
              "  12: 'Cámara de Comercio de Medellín',\n",
              "  13: 'Policía Nacional de Colombia',\n",
              "  14: 'RCN Radio',\n",
              "  15: 'Caracol Televisión',\n",
              "  16: 'Independiente / Pirata',\n",
              "  17: 'Caracol Radio',\n",
              "  18: 'Caracol Radio',\n",
              "  19: 'RTVC Sistema de Medios Públicos',\n",
              "  20: 'Universidad Nacional de Colombia',\n",
              "  21: 'Indepediente',\n",
              "  22: 'Asociación Palco',\n",
              "  23: 'Universidad de Antioquia',\n",
              "  24: 'Caracol Radio',\n",
              "  25: 'Caracol Radio',\n",
              "  26: 'Independiente / Pirata',\n",
              "  27: 'Todelar',\n",
              "  28: 'Estrella Colombia',\n",
              "  29: 'Organización Radial Olímpica',\n",
              "  30: 'Organización Radial Olímpica',\n",
              "  31: 'Independiente',\n",
              "  32: 'RCN Radio',\n",
              "  33: 'RCN Radio'},\n",
              " 'Estilo': {0: 'Música Popular',\n",
              "  1: 'Crossover',\n",
              "  2: 'Reguetón, Música Urbana',\n",
              "  3: 'Noticias y Deportes',\n",
              "  4: 'Reguetón, Música Urbana',\n",
              "  5: 'Mixta',\n",
              "  6: 'Reguetón, Música Urbana',\n",
              "  7: 'Cultural',\n",
              "  8: 'Reggaeton, pop latino',\n",
              "  9: 'Popular y Tropical',\n",
              "  10: 'Noticias',\n",
              "  11: 'Pop, Baladas',\n",
              "  12: 'Música Alternativa, Noticias',\n",
              "  13: 'Crossover (interés público)',\n",
              "  14: 'Pop, baladas',\n",
              "  15: 'Noticias, radio hablada, pop anglo',\n",
              "  16: 'Religiosa Protestante',\n",
              "  17: 'Popular, Salsa, Tropical',\n",
              "  18: 'Pop Anglo',\n",
              "  19: 'Rock, electrónica',\n",
              "  20: 'Cultural',\n",
              "  21: 'Salsa',\n",
              "  22: 'Música, Noticias, Cultura',\n",
              "  23: 'Clásica y cultural',\n",
              "  24: 'Rock',\n",
              "  25: 'Noticias, radio hablada, música',\n",
              "  26: 'Mixta',\n",
              "  27: 'Pop y Música electrónica',\n",
              "  28: 'Popular y Tropical',\n",
              "  29: 'Crossover',\n",
              "  30: 'Pop Latino',\n",
              "  31: 'Crossover',\n",
              "  32: 'Noticias, Música y Deportes',\n",
              "  33: 'Salsa'},\n",
              " 'Señal de Origen': {0: 'Medellín',\n",
              "  1: 'Medellín',\n",
              "  2: 'Medellín',\n",
              "  3: 'Medellín',\n",
              "  4: 'Medellín',\n",
              "  5: 'Medellín',\n",
              "  6: 'Medellín',\n",
              "  7: 'Medellín',\n",
              "  8: 'Medellín',\n",
              "  9: 'Medellín',\n",
              "  10: 'Medellín',\n",
              "  11: 'Medellín',\n",
              "  12: 'Medellín',\n",
              "  13: 'Medellín',\n",
              "  14: 'Medellín',\n",
              "  15: 'Medellín',\n",
              "  16: 'Medellín',\n",
              "  17: 'Medellín',\n",
              "  18: 'Medellín',\n",
              "  19: 'Medellín',\n",
              "  20: 'Medellín',\n",
              "  21: 'Medellín',\n",
              "  22: 'Medellín',\n",
              "  23: 'Medellín',\n",
              "  24: 'Medellín',\n",
              "  25: 'Medellín',\n",
              "  26: 'Medellín',\n",
              "  27: 'Medellín',\n",
              "  28: 'Medellín',\n",
              "  29: 'Medellín',\n",
              "  30: 'Medellín',\n",
              "  31: 'Medellín',\n",
              "  32: 'Medellín',\n",
              "  33: 'Medellín'},\n",
              " 'RDS': {0: 'SI',\n",
              "  1: 'NO',\n",
              "  2: 'SI',\n",
              "  3: 'SI',\n",
              "  4: 'SI',\n",
              "  5: 'NO',\n",
              "  6: 'SI',\n",
              "  7: 'SI',\n",
              "  8: 'SI',\n",
              "  9: 'SI',\n",
              "  10: 'SI',\n",
              "  11: 'SI',\n",
              "  12: 'SI',\n",
              "  13: 'SI',\n",
              "  14: 'SI',\n",
              "  15: 'SI',\n",
              "  16: 'NO',\n",
              "  17: 'SI',\n",
              "  18: 'SI',\n",
              "  19: 'SI',\n",
              "  20: 'SI',\n",
              "  21: 'SI',\n",
              "  22: 'SI',\n",
              "  23: 'SI',\n",
              "  24: 'SI',\n",
              "  25: 'SI',\n",
              "  26: 'NO',\n",
              "  27: 'SI',\n",
              "  28: 'NO',\n",
              "  29: 'SI',\n",
              "  30: 'SI',\n",
              "  31: 'SI',\n",
              "  32: 'SI',\n",
              "  33: 'SI'},\n",
              " 'Potencia (vatio)': {0: 4.0,\n",
              "  1: nan,\n",
              "  2: nan,\n",
              "  3: 5.0,\n",
              "  4: 15.0,\n",
              "  5: nan,\n",
              "  6: 15.0,\n",
              "  7: 15.0,\n",
              "  8: 15.0,\n",
              "  9: 15.0,\n",
              "  10: 15.0,\n",
              "  11: 45.0,\n",
              "  12: 15.0,\n",
              "  13: 15.0,\n",
              "  14: 15.0,\n",
              "  15: 5.0,\n",
              "  16: nan,\n",
              "  17: 5.0,\n",
              "  18: 15.0,\n",
              "  19: 10.0,\n",
              "  20: 15.0,\n",
              "  21: nan,\n",
              "  22: nan,\n",
              "  23: 15.0,\n",
              "  24: nan,\n",
              "  25: 15.0,\n",
              "  26: nan,\n",
              "  27: 15.0,\n",
              "  28: 5.0,\n",
              "  29: 15.0,\n",
              "  30: 15.0,\n",
              "  31: 5.0,\n",
              "  32: 5.0,\n",
              "  33: 5.0},\n",
              " 'Año de inicio': {0: 2018.0,\n",
              "  1: 2023.0,\n",
              "  2: 2018.0,\n",
              "  3: 2013.0,\n",
              "  4: 2022.0,\n",
              "  5: 2023.0,\n",
              "  6: 2021.0,\n",
              "  7: 1992.0,\n",
              "  8: 2006.0,\n",
              "  9: 2005.0,\n",
              "  10: 2023.0,\n",
              "  11: 1994.0,\n",
              "  12: 1984.0,\n",
              "  13: 1997.0,\n",
              "  14: 2023.0,\n",
              "  15: 2012.0,\n",
              "  16: 2023.0,\n",
              "  17: 2014.0,\n",
              "  18: 2020.0,\n",
              "  19: 2007.0,\n",
              "  20: 2021.0,\n",
              "  21: 1985.0,\n",
              "  22: nan,\n",
              "  23: 1990.0,\n",
              "  24: 2018.0,\n",
              "  25: 2020.0,\n",
              "  26: 2023.0,\n",
              "  27: 1994.0,\n",
              "  28: nan,\n",
              "  29: nan,\n",
              "  30: nan,\n",
              "  31: 2022.0,\n",
              "  32: 2015.0,\n",
              "  33: 2006.0},\n",
              " 'Eslogan': {0: 'Yo soy Guasca FM',\n",
              "  1: nan,\n",
              "  2: 'El sonido de la calle',\n",
              "  3: 'Más compañía',\n",
              "  4: 'Es mi radio',\n",
              "  5: nan,\n",
              "  6: 'La nueva radio de Medallo',\n",
              "  7: '¡ La máxima nota!',\n",
              "  8: 'Te pega al cielo',\n",
              "  9: '¿Que qué escucho mucho?, Radio Uno la de Uno',\n",
              "  10: '24 horas de contenido en vivo',\n",
              "  11: 'Radio Apasionada',\n",
              "  12: 'Emisora online de música alternativa',\n",
              "  13: 'Siempre en sintonía',\n",
              "  14: 'La radio de las emociones',\n",
              "  15: 'La alternativa',\n",
              "  16: nan,\n",
              "  17: 'La más bacana',\n",
              "  18: 'Más clásicos',\n",
              "  19: '¡Salva tú mundo!, usa Radiónica',\n",
              "  20: 'En línea con la academia',\n",
              "  21: nan,\n",
              "  22: nan,\n",
              "  23: 'Sistema de Radio Educativa',\n",
              "  24: 'El planeta rock',\n",
              "  25: 'Más piel, más W',\n",
              "  26: nan,\n",
              "  27: 'Más música',\n",
              "  28: nan,\n",
              "  29: '¿Qué estás haciendo? Yo escuchando Olímpica Stereo',\n",
              "  30: 'Todo el tiempo',\n",
              "  31: 'La Emisora Del Pueblo Antioqueño/La De Los Batacazos',\n",
              "  32: 'Siempre / La radio de los clásicos',\n",
              "  33: 'Asoléate que te conviene'},\n",
              " 'WEB': {0: 'WEB',\n",
              "  1: nan,\n",
              "  2: 'WEB',\n",
              "  3: 'WEB',\n",
              "  4: 'WEB',\n",
              "  5: nan,\n",
              "  6: 'WEB',\n",
              "  7: 'WEB',\n",
              "  8: 'WEB',\n",
              "  9: 'WEB',\n",
              "  10: 'WEB',\n",
              "  11: 'WEB',\n",
              "  12: 'WEB',\n",
              "  13: 'WEB',\n",
              "  14: 'WEB',\n",
              "  15: 'WEB',\n",
              "  16: nan,\n",
              "  17: 'WEB',\n",
              "  18: 'WEB',\n",
              "  19: 'WEB',\n",
              "  20: 'WEB',\n",
              "  21: 'WEB',\n",
              "  22: 'WEB',\n",
              "  23: 'WEB',\n",
              "  24: 'WEB',\n",
              "  25: 'WEB',\n",
              "  26: nan,\n",
              "  27: 'WEB',\n",
              "  28: 'WEB',\n",
              "  29: 'WEB',\n",
              "  30: 'WEB',\n",
              "  31: 'WEB',\n",
              "  32: 'WEB',\n",
              "  33: 'WEB'}}"
            ]
          },
          "metadata": {},
          "execution_count": 30
        }
      ]
    },
    {
      "cell_type": "markdown",
      "source": [
        "La siguiente funcion fue realizada en clase, pero presentaba el problema que todos los registros de las columnas de las emisoras quedaban con la palabra WEB"
      ],
      "metadata": {
        "id": "i-rxlHE3i5xe"
      }
    },
    {
      "cell_type": "code",
      "source": [
        "def filtrar_emisoras(dicIn, liminf, limsup):\n",
        "  dicOut = {}\n",
        "  dicOut = dicOut.fromkeys(dicIn.keys(),{}.copy())\n",
        "\n",
        "  for key1,val in dicIn['Frecuencia (MHz)'].items():\n",
        "    if (val>=liminf and val<=limsup):\n",
        "      for key2 in dicOut.keys():\n",
        "        dicOut[key2][key1] = dicIn[key2][key1]\n",
        "  return dicOut"
      ],
      "metadata": {
        "id": "cr3aBr_F0XQg"
      },
      "execution_count": 31,
      "outputs": []
    },
    {
      "cell_type": "code",
      "source": [
        "emisorasfil = filtrar_emisoras(emisoras, 90.3, 99.9)"
      ],
      "metadata": {
        "id": "FT0-3oWmjG0X"
      },
      "execution_count": 32,
      "outputs": []
    },
    {
      "cell_type": "code",
      "source": [
        "print(emisorasfil)"
      ],
      "metadata": {
        "colab": {
          "base_uri": "https://localhost:8080/"
        },
        "id": "FPVSmZXijJP8",
        "outputId": "08084598-2aee-456d-afa6-bddc37e4b0a1"
      },
      "execution_count": 33,
      "outputs": [
        {
          "output_type": "stream",
          "name": "stdout",
          "text": [
            "{'Unnamed: 0': {3: 'WEB', 4: 'WEB', 5: nan, 6: 'WEB', 7: 'WEB', 8: 'WEB', 9: 'WEB', 10: 'WEB', 11: 'WEB', 12: 'WEB', 13: 'WEB', 14: 'WEB', 15: 'WEB', 16: nan, 17: 'WEB', 18: 'WEB', 19: 'WEB'}, 'Frecuencia (MHz)': {3: 'WEB', 4: 'WEB', 5: nan, 6: 'WEB', 7: 'WEB', 8: 'WEB', 9: 'WEB', 10: 'WEB', 11: 'WEB', 12: 'WEB', 13: 'WEB', 14: 'WEB', 15: 'WEB', 16: nan, 17: 'WEB', 18: 'WEB', 19: 'WEB'}, 'Código': {3: 'WEB', 4: 'WEB', 5: nan, 6: 'WEB', 7: 'WEB', 8: 'WEB', 9: 'WEB', 10: 'WEB', 11: 'WEB', 12: 'WEB', 13: 'WEB', 14: 'WEB', 15: 'WEB', 16: nan, 17: 'WEB', 18: 'WEB', 19: 'WEB'}, 'Nombre': {3: 'WEB', 4: 'WEB', 5: nan, 6: 'WEB', 7: 'WEB', 8: 'WEB', 9: 'WEB', 10: 'WEB', 11: 'WEB', 12: 'WEB', 13: 'WEB', 14: 'WEB', 15: 'WEB', 16: nan, 17: 'WEB', 18: 'WEB', 19: 'WEB'}, 'Cadena': {3: 'WEB', 4: 'WEB', 5: nan, 6: 'WEB', 7: 'WEB', 8: 'WEB', 9: 'WEB', 10: 'WEB', 11: 'WEB', 12: 'WEB', 13: 'WEB', 14: 'WEB', 15: 'WEB', 16: nan, 17: 'WEB', 18: 'WEB', 19: 'WEB'}, 'Estilo': {3: 'WEB', 4: 'WEB', 5: nan, 6: 'WEB', 7: 'WEB', 8: 'WEB', 9: 'WEB', 10: 'WEB', 11: 'WEB', 12: 'WEB', 13: 'WEB', 14: 'WEB', 15: 'WEB', 16: nan, 17: 'WEB', 18: 'WEB', 19: 'WEB'}, 'Señal de Origen': {3: 'WEB', 4: 'WEB', 5: nan, 6: 'WEB', 7: 'WEB', 8: 'WEB', 9: 'WEB', 10: 'WEB', 11: 'WEB', 12: 'WEB', 13: 'WEB', 14: 'WEB', 15: 'WEB', 16: nan, 17: 'WEB', 18: 'WEB', 19: 'WEB'}, 'RDS': {3: 'WEB', 4: 'WEB', 5: nan, 6: 'WEB', 7: 'WEB', 8: 'WEB', 9: 'WEB', 10: 'WEB', 11: 'WEB', 12: 'WEB', 13: 'WEB', 14: 'WEB', 15: 'WEB', 16: nan, 17: 'WEB', 18: 'WEB', 19: 'WEB'}, 'Potencia (vatio)': {3: 'WEB', 4: 'WEB', 5: nan, 6: 'WEB', 7: 'WEB', 8: 'WEB', 9: 'WEB', 10: 'WEB', 11: 'WEB', 12: 'WEB', 13: 'WEB', 14: 'WEB', 15: 'WEB', 16: nan, 17: 'WEB', 18: 'WEB', 19: 'WEB'}, 'Año de inicio': {3: 'WEB', 4: 'WEB', 5: nan, 6: 'WEB', 7: 'WEB', 8: 'WEB', 9: 'WEB', 10: 'WEB', 11: 'WEB', 12: 'WEB', 13: 'WEB', 14: 'WEB', 15: 'WEB', 16: nan, 17: 'WEB', 18: 'WEB', 19: 'WEB'}, 'Eslogan': {3: 'WEB', 4: 'WEB', 5: nan, 6: 'WEB', 7: 'WEB', 8: 'WEB', 9: 'WEB', 10: 'WEB', 11: 'WEB', 12: 'WEB', 13: 'WEB', 14: 'WEB', 15: 'WEB', 16: nan, 17: 'WEB', 18: 'WEB', 19: 'WEB'}, 'WEB': {3: 'WEB', 4: 'WEB', 5: nan, 6: 'WEB', 7: 'WEB', 8: 'WEB', 9: 'WEB', 10: 'WEB', 11: 'WEB', 12: 'WEB', 13: 'WEB', 14: 'WEB', 15: 'WEB', 16: nan, 17: 'WEB', 18: 'WEB', 19: 'WEB'}}\n"
          ]
        }
      ]
    },
    {
      "cell_type": "markdown",
      "source": [
        "El problema del codigo anterior es la forma como se inicializó el diccionario usando la instruccion `dicOut = dicOut.fromkeys(dicIn.keys(),{}.copy())`. Debido que todos las llaves quedan con el mismo diccionario (el mismo en la memoria)"
      ],
      "metadata": {
        "id": "2-zfwR56jMAD"
      }
    },
    {
      "cell_type": "code",
      "source": [
        "dicIn = {'Nombre':{0: 'Pedro', 1:'Andres'},'Edad':{0: 20, 1: 30}}\n",
        "dicOut = {}\n",
        "dicOut = dicOut.fromkeys(dicIn.keys(),{}.copy())\n",
        "print(dicOut)"
      ],
      "metadata": {
        "colab": {
          "base_uri": "https://localhost:8080/"
        },
        "id": "uq2UAD2xjdQk",
        "outputId": "e3a48b4d-6837-4e96-d633-dccab153fd19"
      },
      "execution_count": 37,
      "outputs": [
        {
          "output_type": "stream",
          "name": "stdout",
          "text": [
            "{'Nombre': {}, 'Edad': {}}\n"
          ]
        }
      ]
    },
    {
      "cell_type": "markdown",
      "source": [
        "Si cambiamos un valor en cualquier llave de dicOut, automaticamente cambia todas las demas"
      ],
      "metadata": {
        "id": "8O2Q0nRvj5RT"
      }
    },
    {
      "cell_type": "code",
      "source": [
        "dicOut['Nombre'][0] = 'Pedro'\n",
        "print(dicOut)"
      ],
      "metadata": {
        "colab": {
          "base_uri": "https://localhost:8080/"
        },
        "id": "IiePeTRPj_sa",
        "outputId": "65d104ae-e925-4e22-a0f3-2ee714737ad4"
      },
      "execution_count": 39,
      "outputs": [
        {
          "output_type": "stream",
          "name": "stdout",
          "text": [
            "{'Nombre': {0: 'Pedro'}, 'Edad': {0: 'Pedro'}}\n"
          ]
        }
      ]
    },
    {
      "cell_type": "markdown",
      "source": [
        "Como se puede observar, la llave 'Edad' tambien fue modificada al asignarle a la llave Nombre el diccionario con valor 'Pedro'. Esto se debe a que Python paso la referencia del diccionario a todas las llaves de dicOut. Entonces todas las llaves tienen la misma variable asociada."
      ],
      "metadata": {
        "id": "NoEKUUH8kLJi"
      }
    },
    {
      "cell_type": "code",
      "source": [
        "id(dicOut['Nombre']), id(dicOut['Edad']) #Es la misma variable almacenadad en diferentes llaves de dicOut"
      ],
      "metadata": {
        "colab": {
          "base_uri": "https://localhost:8080/"
        },
        "id": "eu5JvCcqkfQS",
        "outputId": "b8593fb9-4437-4a04-f7e6-c9f7c373b879"
      },
      "execution_count": 42,
      "outputs": [
        {
          "output_type": "execute_result",
          "data": {
            "text/plain": [
              "(132850327855360, 132850327855360)"
            ]
          },
          "metadata": {},
          "execution_count": 42
        }
      ]
    },
    {
      "cell_type": "markdown",
      "source": [
        "La forma de arreglar el problema, es inicializando dicOut de una forma diferente, sin usar fromkeys."
      ],
      "metadata": {
        "id": "03ZyQGDJkvTT"
      }
    },
    {
      "cell_type": "code",
      "source": [
        "def filtrar_emisoras(dicIn, liminf, limsup):\n",
        "  dicOut = {}\n",
        "\n",
        "  for key1,val in dicIn['Frecuencia (MHz)'].items():\n",
        "    if (val>=liminf and val<=limsup):\n",
        "      for key2 in dicIn.keys():\n",
        "        dicOut[key2] = dicOut.get(key2,{})\n",
        "        dicOut[key2][key1] = dicIn[key2][key1]\n",
        "  return dicOut"
      ],
      "metadata": {
        "id": "WdI1j1dP5bjh"
      },
      "execution_count": 43,
      "outputs": []
    },
    {
      "cell_type": "code",
      "source": [
        "emisorasfil = filtrar_emisoras(emisoras, 90.3, 99.9)"
      ],
      "metadata": {
        "id": "3-pnJYcS5ANv"
      },
      "execution_count": 44,
      "outputs": []
    },
    {
      "cell_type": "code",
      "source": [
        "emisorasfil"
      ],
      "metadata": {
        "colab": {
          "base_uri": "https://localhost:8080/"
        },
        "id": "KeFOoaVW0r4z",
        "outputId": "9a948e51-38d9-42a8-827e-69d6b69f375c"
      },
      "execution_count": 45,
      "outputs": [
        {
          "output_type": "execute_result",
          "data": {
            "text/plain": [
              "{'Unnamed: 0': {3: 3,\n",
              "  4: 4,\n",
              "  5: 5,\n",
              "  6: 6,\n",
              "  7: 7,\n",
              "  8: 8,\n",
              "  9: 9,\n",
              "  10: 10,\n",
              "  11: 11,\n",
              "  12: 12,\n",
              "  13: 13,\n",
              "  14: 14,\n",
              "  15: 15,\n",
              "  16: 16,\n",
              "  17: 17,\n",
              "  18: 18,\n",
              "  19: 19},\n",
              " 'Frecuencia (MHz)': {3: 90.3,\n",
              "  4: 90.9,\n",
              "  5: 91.3,\n",
              "  6: 91.9,\n",
              "  7: 92.4,\n",
              "  8: 92.9,\n",
              "  9: 93.9,\n",
              "  10: 94.4,\n",
              "  11: 94.9,\n",
              "  12: 95.9,\n",
              "  13: 96.4,\n",
              "  14: 96.9,\n",
              "  15: 97.9,\n",
              "  16: 98.3,\n",
              "  17: 98.9,\n",
              "  18: 99.4,\n",
              "  19: 99.9},\n",
              " 'Código': {3: 'HJE27',\n",
              "  4: 'HJPQ',\n",
              "  5: '—',\n",
              "  6: 'HJTO',\n",
              "  7: 'HJA94',\n",
              "  8: 'HJRY',\n",
              "  9: 'HJSX',\n",
              "  10: 'HJG42',\n",
              "  11: 'HJDW',\n",
              "  12: 'HJUC',\n",
              "  13: 'HJG52',\n",
              "  14: 'HJIK',\n",
              "  15: 'HJD78',\n",
              "  16: '—',\n",
              "  17: 'HJVJ',\n",
              "  18: 'HJG53',\n",
              "  19: 'HJXA'},\n",
              " 'Nombre': {3: 'Caracol Radio',\n",
              "  4: 'LOS40 Urban',\n",
              "  5: 'Ritmo Stereo',\n",
              "  6: 'Brutal',\n",
              "  7: 'Radio Bolivariana FM',\n",
              "  8: 'La Mega',\n",
              "  9: 'Radio Uno',\n",
              "  10: 'RCN Radio',\n",
              "  11: 'La Voz de Colombia Bésame',\n",
              "  12: 'Cámara FM',\n",
              "  13: 'Radio Policía Nacional',\n",
              "  14: 'Radio Fantástica',\n",
              "  15: 'Blu Radio',\n",
              "  16: 'Cristiana Sin Nombre',\n",
              "  17: 'Tropicana',\n",
              "  18: 'W+',\n",
              "  19: 'Radiónica'},\n",
              " 'Cadena': {3: 'Caracol Radio',\n",
              "  4: 'Caracol Radio',\n",
              "  5: 'Independiente / Pirata',\n",
              "  6: 'Independiente',\n",
              "  7: 'Universidad Pontificia Bolivariana',\n",
              "  8: 'RCN Radio',\n",
              "  9: 'RCN Radio',\n",
              "  10: 'RCN Radio',\n",
              "  11: 'Caracol Radio',\n",
              "  12: 'Cámara de Comercio de Medellín',\n",
              "  13: 'Policía Nacional de Colombia',\n",
              "  14: 'RCN Radio',\n",
              "  15: 'Caracol Televisión',\n",
              "  16: 'Independiente / Pirata',\n",
              "  17: 'Caracol Radio',\n",
              "  18: 'Caracol Radio',\n",
              "  19: 'RTVC Sistema de Medios Públicos'},\n",
              " 'Estilo': {3: 'Noticias y Deportes',\n",
              "  4: 'Reguetón, Música Urbana',\n",
              "  5: 'Mixta',\n",
              "  6: 'Reguetón, Música Urbana',\n",
              "  7: 'Cultural',\n",
              "  8: 'Reggaeton, pop latino',\n",
              "  9: 'Popular y Tropical',\n",
              "  10: 'Noticias',\n",
              "  11: 'Pop, Baladas',\n",
              "  12: 'Música Alternativa, Noticias',\n",
              "  13: 'Crossover (interés público)',\n",
              "  14: 'Pop, baladas',\n",
              "  15: 'Noticias, radio hablada, pop anglo',\n",
              "  16: 'Religiosa Protestante',\n",
              "  17: 'Popular, Salsa, Tropical',\n",
              "  18: 'Pop Anglo',\n",
              "  19: 'Rock, electrónica'},\n",
              " 'Señal de Origen': {3: 'Medellín',\n",
              "  4: 'Medellín',\n",
              "  5: 'Medellín',\n",
              "  6: 'Medellín',\n",
              "  7: 'Medellín',\n",
              "  8: 'Medellín',\n",
              "  9: 'Medellín',\n",
              "  10: 'Medellín',\n",
              "  11: 'Medellín',\n",
              "  12: 'Medellín',\n",
              "  13: 'Medellín',\n",
              "  14: 'Medellín',\n",
              "  15: 'Medellín',\n",
              "  16: 'Medellín',\n",
              "  17: 'Medellín',\n",
              "  18: 'Medellín',\n",
              "  19: 'Medellín'},\n",
              " 'RDS': {3: 'SI',\n",
              "  4: 'SI',\n",
              "  5: 'NO',\n",
              "  6: 'SI',\n",
              "  7: 'SI',\n",
              "  8: 'SI',\n",
              "  9: 'SI',\n",
              "  10: 'SI',\n",
              "  11: 'SI',\n",
              "  12: 'SI',\n",
              "  13: 'SI',\n",
              "  14: 'SI',\n",
              "  15: 'SI',\n",
              "  16: 'NO',\n",
              "  17: 'SI',\n",
              "  18: 'SI',\n",
              "  19: 'SI'},\n",
              " 'Potencia (vatio)': {3: 5.0,\n",
              "  4: 15.0,\n",
              "  5: nan,\n",
              "  6: 15.0,\n",
              "  7: 15.0,\n",
              "  8: 15.0,\n",
              "  9: 15.0,\n",
              "  10: 15.0,\n",
              "  11: 45.0,\n",
              "  12: 15.0,\n",
              "  13: 15.0,\n",
              "  14: 15.0,\n",
              "  15: 5.0,\n",
              "  16: nan,\n",
              "  17: 5.0,\n",
              "  18: 15.0,\n",
              "  19: 10.0},\n",
              " 'Año de inicio': {3: 2013.0,\n",
              "  4: 2022.0,\n",
              "  5: 2023.0,\n",
              "  6: 2021.0,\n",
              "  7: 1992.0,\n",
              "  8: 2006.0,\n",
              "  9: 2005.0,\n",
              "  10: 2023.0,\n",
              "  11: 1994.0,\n",
              "  12: 1984.0,\n",
              "  13: 1997.0,\n",
              "  14: 2023.0,\n",
              "  15: 2012.0,\n",
              "  16: 2023.0,\n",
              "  17: 2014.0,\n",
              "  18: 2020.0,\n",
              "  19: 2007.0},\n",
              " 'Eslogan': {3: 'Más compañía',\n",
              "  4: 'Es mi radio',\n",
              "  5: nan,\n",
              "  6: 'La nueva radio de Medallo',\n",
              "  7: '¡ La máxima nota!',\n",
              "  8: 'Te pega al cielo',\n",
              "  9: '¿Que qué escucho mucho?, Radio Uno la de Uno',\n",
              "  10: '24 horas de contenido en vivo',\n",
              "  11: 'Radio Apasionada',\n",
              "  12: 'Emisora online de música alternativa',\n",
              "  13: 'Siempre en sintonía',\n",
              "  14: 'La radio de las emociones',\n",
              "  15: 'La alternativa',\n",
              "  16: nan,\n",
              "  17: 'La más bacana',\n",
              "  18: 'Más clásicos',\n",
              "  19: '¡Salva tú mundo!, usa Radiónica'},\n",
              " 'WEB': {3: 'WEB',\n",
              "  4: 'WEB',\n",
              "  5: nan,\n",
              "  6: 'WEB',\n",
              "  7: 'WEB',\n",
              "  8: 'WEB',\n",
              "  9: 'WEB',\n",
              "  10: 'WEB',\n",
              "  11: 'WEB',\n",
              "  12: 'WEB',\n",
              "  13: 'WEB',\n",
              "  14: 'WEB',\n",
              "  15: 'WEB',\n",
              "  16: nan,\n",
              "  17: 'WEB',\n",
              "  18: 'WEB',\n",
              "  19: 'WEB'}}"
            ]
          },
          "metadata": {},
          "execution_count": 45
        }
      ]
    }
  ]
}