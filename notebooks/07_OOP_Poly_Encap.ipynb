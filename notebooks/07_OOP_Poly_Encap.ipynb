{
  "cells": [
    {
      "cell_type": "markdown",
      "metadata": {
        "id": "iUXxr1rRi1WJ"
      },
      "source": [
        "# Programación Orientada a Objetos (POO) u Object Oriented Programming (OOP)\n",
        "Fuentes: <br>\n",
        "https://ellibrodepython.com/programacion-orientada-a-objetos <br>\n",
        "\n",
        "Polimorfismo:\n",
        "\n",
        "https://pynative.com/python-polymorphism/ <br>\n",
        "https://www.youtube.com/watch?v=HtKqSJX7VoM <br>\n",
        "\n",
        "Encapsulacion:\n",
        "\n",
        "https://pynative.com/python-encapsulation/ <br>\n",
        "https://www.geeksforgeeks.org/encapsulation-in-python/"
      ]
    },
    {
      "cell_type": "markdown",
      "metadata": {
        "id": "pmeEmgpGi1WP"
      },
      "source": [
        "## 1. Polimorfismo\n",
        "Python implementa este concepto a su propia manera. Por ejemplo, la funcion `len` presenta diferentes comportamiento dependiendo del tipo de dato.\n",
        "\n",
        "![Polimorfismo](https://pynative.com/wp-content/uploads/2021/08/polymorphic_len_function.png)\n"
      ]
    },
    {
      "cell_type": "code",
      "execution_count": null,
      "metadata": {
        "id": "IlOrT_jxi1WP"
      },
      "outputs": [],
      "source": [
        "#Polimorfismo en clases\n",
        "class Gato:\n",
        "  def sonido(self):\n",
        "    return \"Miau\"\n",
        "\n",
        "class Perro:\n",
        "  def sonido(self):\n",
        "    return \"Guau\"\n",
        "\n",
        "#Polimorfismo en la funcion\n",
        "def hacerSonido(animal):\n",
        "  print(animal.sonido())\n",
        "\n",
        "gato = Gato()\n",
        "perro = Perro()"
      ]
    },
    {
      "cell_type": "code",
      "source": [
        "hacerSonido(gato)"
      ],
      "metadata": {
        "id": "5KGHdll1u4PS"
      },
      "execution_count": null,
      "outputs": []
    },
    {
      "cell_type": "markdown",
      "source": [
        "### Polimorfismo de herencia: En pytho debido que es un lenguaje de tipado dinamico, no es necesario hacer el polimorfismo por herencia. En lenguajes de tipado estatico como Java, si es necesario.\n",
        "\n",
        "![Polimorfismo2](https://pynative.com/wp-content/uploads/2021/08/polymorphism_with_inheritance.jpg)"
      ],
      "metadata": {
        "id": "Z0PkyGzYMgXV"
      }
    },
    {
      "cell_type": "code",
      "execution_count": null,
      "metadata": {
        "id": "5Q8IyNpxi1WR"
      },
      "outputs": [],
      "source": [
        "#Polimorfismo por Herencia\n",
        "class Animal:\n",
        "  def sonido(self):\n",
        "    return 'No hace ruidos'\n",
        "\n",
        "class Gato(Animal):\n",
        "  def sonido(self):\n",
        "    return \"Miau\"\n",
        "\n",
        "class Perro(Animal):\n",
        "  def sonido(self):\n",
        "    return \"Guau\"\n",
        "\n",
        "class EspecieNueva(Animal):\n",
        "  pass\n",
        "\n",
        "print(Gato().sonido())\n",
        "print(Perro().sonido())\n",
        "print(EspecieNueva().sonido())\n"
      ]
    },
    {
      "cell_type": "markdown",
      "source": [
        "Ejercicio: Escribir el codigo de una clase padre Vehiculo, y reciba el nombre, color y precio. Ademas, tiene el metodo mostrar que imprime \"Detalles: {nombre}, {color}, {precio}\" del objeto."
      ],
      "metadata": {
        "id": "IyxnZB4ROrIN"
      }
    },
    {
      "cell_type": "code",
      "source": [
        "class Vehiculo:\n",
        "  def __init__(self, nombre, color, precio):\n",
        "    self.nombre = nombre\n",
        "    self.color = color\n",
        "    self.precio = precio\n",
        "\n",
        "  def mostrar(self):\n",
        "    print(f\"Detalles: {self.nombre}, {self.color}, {self.precio}\")\n",
        "  @staticmethod\n",
        "  def velocidad():\n",
        "    print(\"Maximo 150 km/h\")\n",
        "  def cambios(self):\n",
        "    print(\"5 cambios\")"
      ],
      "metadata": {
        "id": "GuXx1yMEw2Vx"
      },
      "execution_count": null,
      "outputs": []
    },
    {
      "cell_type": "code",
      "source": [
        "carrito = Vehiculo('Spark','Gris',12000000)"
      ],
      "metadata": {
        "id": "_8zSN7uJy5GY"
      },
      "execution_count": null,
      "outputs": []
    },
    {
      "cell_type": "code",
      "source": [
        "carrito.velocidad()\n",
        "carrito.cambios()"
      ],
      "metadata": {
        "id": "6pBgkocfzEMJ"
      },
      "execution_count": null,
      "outputs": []
    },
    {
      "cell_type": "code",
      "source": [
        "class Camion(Vehiculo):\n",
        "  def __init__(self, nombre, color, precio):\n",
        "    super().__init__(nombre, color, precio)\n",
        "\n",
        "  def velocidad(self):\n",
        "    print(\"Maximo 200 km/h\")\n",
        "  def cambios(self):\n",
        "    print(\"8 cambios\")"
      ],
      "metadata": {
        "id": "UfwN5Pp8xrko"
      },
      "execution_count": null,
      "outputs": []
    },
    {
      "cell_type": "code",
      "source": [
        "cam = Camion('Foton','Negro',120000000)"
      ],
      "metadata": {
        "id": "6A5QPsAczhAh"
      },
      "execution_count": null,
      "outputs": []
    },
    {
      "cell_type": "code",
      "source": [
        "cam.cambios()"
      ],
      "metadata": {
        "id": "OpHChXJB0TO6"
      },
      "execution_count": null,
      "outputs": []
    },
    {
      "cell_type": "markdown",
      "source": [
        "## 2. Encapsulacion\n",
        "Consiste en agrupar un conjunto de datos y metodos en una sola unidad. Entonces, por ejemplo, cuando se crea una clase, significa que estas implementando la encapsulacion. Una clase es un ejemplo de encapsulacion debido que enlaza todos los datos (variables de la instancia) y los metodos en una sola unidad.\n",
        "\n",
        "![](https://pynative.com/wp-content/uploads/2021/08/encapsulation_python_class.jpg)"
      ],
      "metadata": {
        "id": "92QNzacV52lA"
      }
    },
    {
      "cell_type": "markdown",
      "source": [
        "En este ejemplo, creamos la clase Employee (empleado), definiendo los atributos del empleado como variables de instancia: nombre y salario. Implementar los metodos work y show como metodos de la instancia.\n",
        "\n"
      ],
      "metadata": {
        "id": "WNy_RzEDXmiJ"
      }
    },
    {
      "cell_type": "code",
      "source": [
        "class Employee:\n",
        "    # constructor\n",
        "    def __init__(self, name, salary, project):\n",
        "        # data members\n",
        "        self.name = name\n",
        "        self.salary = salary\n",
        "        self.project = project\n",
        "\n",
        "    # method\n",
        "    # to display employee's details\n",
        "    def show(self):\n",
        "        # accessing public data member\n",
        "        print(\"Name: \", self.name, 'Salary:', self.salary)\n",
        "\n",
        "    # method\n",
        "    def work(self):\n",
        "        print(self.name, 'is working on', self.project)\n",
        "\n",
        "# creating object of a class\n",
        "emp = Employee('Jessa', 8000, 'NLP')\n",
        "\n",
        "# calling public method of the class\n",
        "emp.show()\n",
        "emp.work()"
      ],
      "metadata": {
        "id": "dqjJG5mo5dbL"
      },
      "execution_count": null,
      "outputs": []
    },
    {
      "cell_type": "markdown",
      "source": [
        "### 2.1 Miembros protegidos y acceso de modificadores\n",
        "Los metodos y atributos pueden ser privados o protegidos. Para en Python, no necesitamos acceso directo a los modificadores como publico, privado y protegido. Podemos realizaro esto simplemente usando el underscore (raya al piso) y doble underscore.\n",
        "\n",
        "Los modificadores de acceso limitan el acceso a las variables y metodos de una clase. Python provee tres tipos de acceso a los modificadores: privados, publicos y protegidos.\n",
        "* Miembro Público: Accesible desde cualquier parte por fuera de la clase.\n",
        "* Mientro Protegido: Accesible dentro de la clase y sus subclases.\n",
        "* Miembro Privado: Accesible dentro de la clase.\n",
        "\n",
        "\n",
        "![](https://pynative.com/wp-content/uploads/2021/08/python_data_hiding.jpg)\n"
      ],
      "metadata": {
        "id": "C5BoRrCwWqt1"
      }
    },
    {
      "cell_type": "markdown",
      "source": [
        "**Miembros privados**:\n",
        "Podemos proteger las variables en la clase volviendolas privadas. Usamos la doble raya al piso como prefijo al comienzo del nombre de la variable.\n",
        "Los miembros privados solo se pueden acceder dentro de la clase, pero no podemos acceder a ellos directamente desde los objetos de la clase."
      ],
      "metadata": {
        "id": "FOdIfkTgjjfe"
      }
    },
    {
      "cell_type": "code",
      "source": [
        "class Employee:\n",
        "    # constructor\n",
        "    def __init__(self, name, salary):\n",
        "        # public data member\n",
        "        self.name = name\n",
        "        # private member\n",
        "        self.__salary = salary\n",
        "    def printSalary(self):\n",
        "      print(f'Sslario: {self.__salary}')\n",
        "\n",
        "# creating object of a class\n",
        "emp = Employee('Jessa', 10000)\n",
        "\n",
        "# accessing private data members\n",
        "#print('Salary:', emp.__salary)\n",
        "\n",
        "emp.printSalary()"
      ],
      "metadata": {
        "id": "iwPo4M8hUNVY"
      },
      "execution_count": null,
      "outputs": []
    },
    {
      "cell_type": "code",
      "source": [
        "emp.__salary = 5000\n",
        "emp.printSalary()"
      ],
      "metadata": {
        "id": "LKOdgKZY2xZ7"
      },
      "execution_count": null,
      "outputs": []
    },
    {
      "cell_type": "markdown",
      "source": [
        "Podemos acceder al miembro privado usando un metodo de la instancia."
      ],
      "metadata": {
        "id": "ryAeHXKpkQrV"
      }
    },
    {
      "cell_type": "code",
      "source": [
        "class Employee:\n",
        "    # constructor\n",
        "    def __init__(self, name, salary):\n",
        "        # public data member\n",
        "        self.name = name\n",
        "        # private member\n",
        "        self.__salary = salary\n",
        "\n",
        "    # public instance methods\n",
        "    def show(self):\n",
        "        # private members are accessible from a class\n",
        "        print(\"Name: \", self.name, 'Salary:', self.__salary)\n",
        "\n",
        "# creating object of a class\n",
        "emp = Employee('Jessa', 10000)\n",
        "\n",
        "# calling public method of the class\n",
        "emp.show()"
      ],
      "metadata": {
        "id": "Kam8tGVDkQDm"
      },
      "execution_count": null,
      "outputs": []
    },
    {
      "cell_type": "code",
      "source": [
        "emp.name = 'Joe'\n",
        "emp.show()"
      ],
      "metadata": {
        "id": "To5FKb2d3yZK"
      },
      "execution_count": null,
      "outputs": []
    },
    {
      "cell_type": "markdown",
      "source": [
        "**Miembro protegido**: Los miembros protegidos son accesibles dentro de la clase y tambien dentro de las sub-clases. Los miembros protegidos se definen iniciando con `_`."
      ],
      "metadata": {
        "id": "oGdETzY1kvJ3"
      }
    },
    {
      "cell_type": "code",
      "source": [
        "# base class\n",
        "class Company:\n",
        "    def __init__(self):\n",
        "        # Protected member\n",
        "        self._project = \"NLP\"\n",
        "        # Private member\n",
        "        self.__secret = \"Nadie lo sabe\"\n",
        "\n",
        "# child class\n",
        "class Employee(Company):\n",
        "    def __init__(self, name):\n",
        "        self.name = name\n",
        "        Company.__init__(self)\n",
        "\n",
        "    def show(self):\n",
        "        print(\"Employee name :\", self.name)\n",
        "        # Accessing protected member in child class\n",
        "        print(\"Working on project :\", self._project)\n",
        "        #print(\"Working on project :\", self.__secret)\n",
        "\n",
        "itm = Company()\n",
        "c = Employee(\"Jessa\")\n",
        "c.show()\n",
        "\n",
        "# Direct access protected data member\n",
        "print('Project:', c._project)"
      ],
      "metadata": {
        "id": "yHfXSAoflAfr"
      },
      "execution_count": null,
      "outputs": []
    },
    {
      "cell_type": "code",
      "source": [
        "c._project = 'Proyecto'"
      ],
      "metadata": {
        "id": "WzIRUiF34ydL"
      },
      "execution_count": null,
      "outputs": []
    },
    {
      "cell_type": "code",
      "source": [
        "c._project"
      ],
      "metadata": {
        "id": "w70z1suw43sJ"
      },
      "execution_count": null,
      "outputs": []
    },
    {
      "cell_type": "code",
      "source": [
        "itm._project = 'Proyecto'\n",
        "itm._project"
      ],
      "metadata": {
        "id": "1nl25r975LNJ"
      },
      "execution_count": null,
      "outputs": []
    },
    {
      "cell_type": "markdown",
      "source": [
        "Getters y Setters en Python"
      ],
      "metadata": {
        "id": "w6xKhEx4lhvl"
      }
    },
    {
      "cell_type": "code",
      "source": [
        "class Student:\n",
        "    def __init__(self, name, age):\n",
        "        self.name = name\n",
        "        # private member\n",
        "        self.__age = age\n",
        "\n",
        "    # getter method\n",
        "    def get_age(self):\n",
        "        return self.__age\n",
        "\n",
        "    # setter method\n",
        "    def set_age(self, age):\n",
        "        self.__age = age\n",
        "\n",
        "stud = Student('Jessa', 14)\n",
        "\n",
        "# retrieving age using getter\n",
        "print('Name:', stud.name, stud.get_age())\n",
        "\n",
        "# changing age using setter\n",
        "stud.set_age(16)\n",
        "\n",
        "# retrieving age using getter\n",
        "print('Name:', stud.name, stud.get_age())"
      ],
      "metadata": {
        "id": "bXPu6bR0lj__"
      },
      "execution_count": null,
      "outputs": []
    },
    {
      "cell_type": "markdown",
      "source": [
        "### Ventajas de la Encapsulacion\n",
        "* La seguridad: La principal ventaja de utilizar la encapsulación es la seguridad de los datos. La encapsulación protege un objeto de accesos no autorizados. Permite niveles de acceso privados y protegidos para evitar la modificación accidental de los datos.\n",
        "* Ocultación de datos: El usuario no sabría lo que está pasando detrás de la escena. Sólo sabría que para modificar un miembro de datos, hay que llamar al método setter. Para leer un miembro de datos, llame al método getter. Lo que estos métodos setter y getter están haciendo está oculto para ellos.\n",
        "* Simplicidad: Simplifica el mantenimiento de la aplicación al mantener las clases separadas y evitar que se acoplen estrechamente entre sí.\n",
        "* Estética: Agrupar datos y métodos dentro de una clase hace que el código sea más legible y fácil de mantener.\n"
      ],
      "metadata": {
        "id": "LUvWIFJLlrx0"
      }
    },
    {
      "cell_type": "markdown",
      "source": [
        "Ejercicio:\n",
        "\n",
        "Diseñar una clase para una cuenta bancaria, con campos Nombre Completo (str), Numero de cuenta (str), clave (str) y saldo (float). Construir unos metodos para `Ingresar` y `Debitar` (requiere validacion de la clave) dinero de la cuenta, no se debe sacar mas dinero del que se tiene, los ingresos son solo valores positivos. La clave debe ser privada, el saldo debe ser protegido (para imprimir requiere validacion de la clave).  "
      ],
      "metadata": {
        "id": "y6T7oA5lK2zE"
      }
    },
    {
      "cell_type": "markdown",
      "source": [
        "### 3. Decorators"
      ],
      "metadata": {
        "id": "9jqMvuZD6hai"
      }
    },
    {
      "cell_type": "markdown",
      "source": [
        "Modifican la forma en que se ejecutan las funciones."
      ],
      "metadata": {
        "id": "a1rVB3Z96nSC"
      }
    },
    {
      "cell_type": "code",
      "source": [
        "# importing libraries\n",
        "import time\n",
        "import math\n",
        "\n",
        "# decorator to calculate duration\n",
        "# taken by any function.\n",
        "def calculate_time(func):\n",
        "\n",
        "    # added arguments inside the inner1,\n",
        "    # if function takes any arguments,\n",
        "    # can be added like this.\n",
        "    def inner1(*args, **kwargs):\n",
        "\n",
        "        # storing time before function execution\n",
        "        begin = time.time()\n",
        "\n",
        "        out = func(*args, **kwargs)\n",
        "\n",
        "        # storing time after function execution\n",
        "        end = time.time()\n",
        "        print(\"Total time taken in : \", func.__name__, end - begin)\n",
        "        return out\n",
        "\n",
        "    return inner1\n",
        "\n",
        "# this can be added to any function present,\n",
        "# in this case to calculate a factorial\n",
        "@calculate_time\n",
        "def factorial(num):\n",
        "\n",
        "    # sleep 2 seconds because it takes very less time\n",
        "    # so that you can see the actual difference\n",
        "    time.sleep(2)\n",
        "    return math.factorial(num)"
      ],
      "metadata": {
        "id": "NI1GJ4N96jFV"
      },
      "execution_count": null,
      "outputs": []
    },
    {
      "cell_type": "code",
      "source": [
        "# calling the function.\n",
        "a = factorial(10)"
      ],
      "metadata": {
        "id": "MUDDEBTC7UDw"
      },
      "execution_count": null,
      "outputs": []
    },
    {
      "cell_type": "code",
      "source": [
        "def hello_decorator(func):\n",
        "    def inner1(*args, **kwargs):\n",
        "\n",
        "        print(\"before Execution\")\n",
        "\n",
        "        # getting the returned value\n",
        "        returned_value = func(*args, **kwargs)\n",
        "        print(\"after Execution\")\n",
        "\n",
        "        # returning the value to the original frame\n",
        "        return returned_value\n",
        "\n",
        "    return inner1\n",
        "\n",
        "\n",
        "# adding decorator to the function\n",
        "@hello_decorator\n",
        "def sum_two_numbers(a, b):\n",
        "    print(\"Inside the function\")\n",
        "    return a + b\n",
        "\n",
        "a, b = 1, 2\n",
        "\n",
        "# getting the value through return of the function\n",
        "print(\"Sum =\", sum_two_numbers(a, b))"
      ],
      "metadata": {
        "id": "jkvQFnce7VyO"
      },
      "execution_count": null,
      "outputs": []
    },
    {
      "cell_type": "code",
      "source": [
        "def sum2(*args, **kwargs): #(a,b, c= 20, d=10)\n",
        "    a , b = args\n",
        "    c = kwargs.get('c',20)\n",
        "    d = kwargs.get('d',10)\n",
        "    print(\"Inside the function\")\n",
        "    return a + b + c + d\n",
        "\n",
        "sum2(1,2,d=10)"
      ],
      "metadata": {
        "id": "gR4kBvsW9Z9c"
      },
      "execution_count": null,
      "outputs": []
    }
  ],
  "metadata": {
    "kernelspec": {
      "display_name": "Python 3",
      "language": "python",
      "name": "python3"
    },
    "language_info": {
      "codemirror_mode": {
        "name": "ipython",
        "version": 3
      },
      "file_extension": ".py",
      "mimetype": "text/x-python",
      "name": "python",
      "nbconvert_exporter": "python",
      "pygments_lexer": "ipython3",
      "version": "3.7.6"
    },
    "colab": {
      "provenance": []
    }
  },
  "nbformat": 4,
  "nbformat_minor": 0
}