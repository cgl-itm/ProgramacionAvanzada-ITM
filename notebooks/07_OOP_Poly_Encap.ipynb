{
  "cells": [
    {
      "cell_type": "markdown",
      "metadata": {
        "id": "iUXxr1rRi1WJ"
      },
      "source": [
        "# Programación Orientada a Objetos (POO) u Object Oriented Programming (OOP)\n",
        "Fuentes: <br>\n",
        "https://ellibrodepython.com/programacion-orientada-a-objetos <br>\n",
        "\n",
        "1. Polimorfismo:\n",
        "\n",
        "https://pynative.com/python-polymorphism/ <br>\n",
        "https://www.youtube.com/watch?v=HtKqSJX7VoM <br>\n",
        "\n",
        "2. Encapsulacion:\n",
        "\n",
        "https://pynative.com/python-encapsulation/ <br>\n",
        "https://www.geeksforgeeks.org/encapsulation-in-python/\n",
        "\n",
        "Opionales:\n",
        "3. Tipos de Metodos"
      ]
    },
    {
      "cell_type": "markdown",
      "metadata": {
        "id": "pmeEmgpGi1WP"
      },
      "source": [
        "## 1. Polimorfismo\n",
        "Python implementa este concepto a su propia manera. Por ejemplo, la funcion `len` presenta diferentes comportamiento dependiendo del tipo de dato.\n",
        "\n",
        "![Polimorfismo](https://pynative.com/wp-content/uploads/2021/08/polymorphic_len_function.png)\n"
      ]
    },
    {
      "cell_type": "code",
      "execution_count": null,
      "metadata": {
        "id": "IlOrT_jxi1WP"
      },
      "outputs": [],
      "source": [
        "#Polimorfismo en clases\n",
        "class Gato:\n",
        "  def sonido(self):\n",
        "    return \"Miau\"\n",
        "\n",
        "class Perro:\n",
        "  def sonido(self):\n",
        "    return \"Guau\"\n",
        "\n",
        "#Polimorfismo en la funcion\n",
        "def hacerSonido(animal):\n",
        "  print(animal.sonido())\n",
        "\n",
        "gato = Gato()\n",
        "perro = Perro()"
      ]
    },
    {
      "cell_type": "code",
      "source": [
        "hacerSonido(gato)"
      ],
      "metadata": {
        "id": "5KGHdll1u4PS"
      },
      "execution_count": null,
      "outputs": []
    },
    {
      "cell_type": "markdown",
      "source": [
        "### Polimorfismo de herencia: En pytho debido que es un lenguaje de tipado dinamico, no es necesario hacer el polimorfismo por herencia. En lenguajes de tipado estatico como Java, si es necesario.\n",
        "\n",
        "![Polimorfismo2](https://pynative.com/wp-content/uploads/2021/08/polymorphism_with_inheritance.jpg)"
      ],
      "metadata": {
        "id": "Z0PkyGzYMgXV"
      }
    },
    {
      "cell_type": "code",
      "execution_count": null,
      "metadata": {
        "id": "5Q8IyNpxi1WR"
      },
      "outputs": [],
      "source": [
        "#Polimorfismo por Herencia\n",
        "class Animal:\n",
        "  def sonido(self):\n",
        "    return 'No hace ruidos'\n",
        "\n",
        "class Gato(Animal):\n",
        "  def sonido(self):\n",
        "    return \"Miau\"\n",
        "\n",
        "class Perro(Animal):\n",
        "  def sonido(self):\n",
        "    return \"Guau\"\n",
        "\n",
        "class EspecieNueva(Animal):\n",
        "  pass\n",
        "\n",
        "print(Gato().sonido())\n",
        "print(Perro().sonido())\n",
        "print(EspecieNueva().sonido())\n"
      ]
    },
    {
      "cell_type": "markdown",
      "source": [
        "Ejercicio: Escribir el codigo de una clase padre Vehiculo, y reciba el nombre, color y precio. Ademas, tiene el metodo mostrar que imprime \"Detalles: {nombre}, {color}, {precio}\" del objeto."
      ],
      "metadata": {
        "id": "IyxnZB4ROrIN"
      }
    },
    {
      "cell_type": "code",
      "source": [
        "class Vehiculo:\n",
        "  def __init__(self, nombre, color, precio):\n",
        "    self.nombre = nombre\n",
        "    self.color = color\n",
        "    self.precio = precio\n",
        "\n",
        "  def mostrar(self):\n",
        "    print(f\"Detalles: {self.nombre}, {self.color}, {self.precio}\")\n",
        "  @staticmethod\n",
        "  def velocidad():\n",
        "    print(\"Maximo 150 km/h\")\n",
        "  def cambios(self):\n",
        "    print(\"5 cambios\")"
      ],
      "metadata": {
        "id": "GuXx1yMEw2Vx"
      },
      "execution_count": null,
      "outputs": []
    },
    {
      "cell_type": "code",
      "source": [
        "carrito = Vehiculo('Spark','Gris',12000000)"
      ],
      "metadata": {
        "id": "_8zSN7uJy5GY"
      },
      "execution_count": null,
      "outputs": []
    },
    {
      "cell_type": "code",
      "source": [
        "carrito.velocidad()\n",
        "carrito.cambios()"
      ],
      "metadata": {
        "id": "6pBgkocfzEMJ"
      },
      "execution_count": null,
      "outputs": []
    },
    {
      "cell_type": "code",
      "source": [
        "class Camion(Vehiculo):\n",
        "  def __init__(self, nombre, color, precio):\n",
        "    super().__init__(nombre, color, precio)\n",
        "\n",
        "  def velocidad(self):\n",
        "    print(\"Maximo 200 km/h\")\n",
        "  def cambios(self):\n",
        "    print(\"8 cambios\")"
      ],
      "metadata": {
        "id": "UfwN5Pp8xrko"
      },
      "execution_count": null,
      "outputs": []
    },
    {
      "cell_type": "code",
      "source": [
        "cam = Camion('Foton','Negro',120000000)"
      ],
      "metadata": {
        "id": "6A5QPsAczhAh"
      },
      "execution_count": null,
      "outputs": []
    },
    {
      "cell_type": "code",
      "source": [
        "cam.cambios()"
      ],
      "metadata": {
        "id": "OpHChXJB0TO6"
      },
      "execution_count": null,
      "outputs": []
    },
    {
      "cell_type": "markdown",
      "source": [
        "## 2. Encapsulacion\n",
        "Consiste en agrupar un conjunto de datos y metodos en una sola unidad. Entonces, por ejemplo, cuando se crea una clase, significa que estas implementando la encapsulacion. Una clase es un ejemplo de encapsulacion debido que enlaza todos los datos (variables de la instancia) y los metodos en una sola unidad.\n",
        "\n",
        "![](https://pynative.com/wp-content/uploads/2021/08/encapsulation_python_class.jpg)"
      ],
      "metadata": {
        "id": "92QNzacV52lA"
      }
    },
    {
      "cell_type": "markdown",
      "source": [
        "En este ejemplo, creamos la clase Employee (empleado), definiendo los atributos del empleado como variables de instancia: nombre y salario. Implementar los metodos work y show como metodos de la instancia.\n",
        "\n"
      ],
      "metadata": {
        "id": "WNy_RzEDXmiJ"
      }
    },
    {
      "cell_type": "code",
      "source": [
        "class Employee:\n",
        "    # constructor\n",
        "    def __init__(self, name, salary, project):\n",
        "        # data members\n",
        "        self.name = name\n",
        "        self.salary = salary\n",
        "        self.project = project\n",
        "\n",
        "    # method\n",
        "    # to display employee's details\n",
        "    def show(self):\n",
        "        # accessing public data member\n",
        "        print(\"Name: \", self.name, 'Salary:', self.salary)\n",
        "\n",
        "    # method\n",
        "    def work(self):\n",
        "        print(self.name, 'is working on', self.project)\n",
        "\n",
        "# creating object of a class\n",
        "emp = Employee('Jessa', 8000, 'NLP')\n",
        "\n",
        "# calling public method of the class\n",
        "emp.show()\n",
        "emp.work()"
      ],
      "metadata": {
        "id": "dqjJG5mo5dbL"
      },
      "execution_count": null,
      "outputs": []
    },
    {
      "cell_type": "markdown",
      "source": [
        "### 2.1 Miembros protegidos y acceso de modificadores\n",
        "Los metodos y atributos pueden ser privados o protegidos. Para en Python, no necesitamos acceso directo a los modificadores como publico, privado y protegido. Podemos realizaro esto simplemente usando el underscore (raya al piso) y doble underscore.\n",
        "\n",
        "Los modificadores de acceso limitan el acceso a las variables y metodos de una clase. Python provee tres tipos de acceso a los modificadores: privados, publicos y protegidos.\n",
        "* Miembro Público: Accesible desde cualquier parte por fuera de la clase.\n",
        "* Mientro Protegido: Accesible dentro de la clase y sus subclases.\n",
        "* Miembro Privado: Accesible dentro de la clase.\n",
        "\n",
        "\n",
        "![](https://pynative.com/wp-content/uploads/2021/08/python_data_hiding.jpg)\n"
      ],
      "metadata": {
        "id": "C5BoRrCwWqt1"
      }
    },
    {
      "cell_type": "markdown",
      "source": [
        "**Miembros privados**:\n",
        "Podemos proteger las variables en la clase volviendolas privadas. Usamos la doble raya al piso como prefijo al comienzo del nombre de la variable.\n",
        "Los miembros privados solo se pueden acceder dentro de la clase, pero no podemos acceder a ellos directamente desde los objetos de la clase."
      ],
      "metadata": {
        "id": "FOdIfkTgjjfe"
      }
    },
    {
      "cell_type": "code",
      "source": [
        "class Employee:\n",
        "    # constructor\n",
        "    def __init__(self, name, salary):\n",
        "        # public data member\n",
        "        self.name = name\n",
        "        # private member\n",
        "        self.__salary = salary\n",
        "    def printSalary(self):\n",
        "      print(f'Sslario: {self.__salary}')\n",
        "\n",
        "# creating object of a class\n",
        "emp = Employee('Jessa', 10000)\n",
        "\n",
        "# accessing private data members\n",
        "#print('Salary:', emp.__salary)\n",
        "\n",
        "emp.printSalary()"
      ],
      "metadata": {
        "id": "iwPo4M8hUNVY"
      },
      "execution_count": null,
      "outputs": []
    },
    {
      "cell_type": "code",
      "source": [
        "emp.__salary = 5000\n",
        "emp.printSalary()"
      ],
      "metadata": {
        "id": "LKOdgKZY2xZ7"
      },
      "execution_count": null,
      "outputs": []
    },
    {
      "cell_type": "markdown",
      "source": [
        "Podemos acceder al miembro privado usando un metodo de la instancia."
      ],
      "metadata": {
        "id": "ryAeHXKpkQrV"
      }
    },
    {
      "cell_type": "code",
      "source": [
        "class Employee:\n",
        "    # constructor\n",
        "    def __init__(self, name, salary):\n",
        "        # public data member\n",
        "        self.name = name\n",
        "        # private member\n",
        "        self.__salary = salary\n",
        "\n",
        "    # public instance methods\n",
        "    def show(self):\n",
        "        # private members are accessible from a class\n",
        "        print(\"Name: \", self.name, 'Salary:', self.__salary)\n",
        "\n",
        "# creating object of a class\n",
        "emp = Employee('Jessa', 10000)\n",
        "\n",
        "# calling public method of the class\n",
        "emp.show()"
      ],
      "metadata": {
        "id": "Kam8tGVDkQDm"
      },
      "execution_count": null,
      "outputs": []
    },
    {
      "cell_type": "code",
      "source": [
        "emp.name = 'Joe'\n",
        "emp.show()"
      ],
      "metadata": {
        "id": "To5FKb2d3yZK"
      },
      "execution_count": null,
      "outputs": []
    },
    {
      "cell_type": "markdown",
      "source": [
        "**Miembro protegido**: Los miembros protegidos son accesibles dentro de la clase y tambien dentro de las sub-clases. Los miembros protegidos se definen iniciando con `_`."
      ],
      "metadata": {
        "id": "oGdETzY1kvJ3"
      }
    },
    {
      "cell_type": "code",
      "source": [
        "# base class\n",
        "class Company:\n",
        "    def __init__(self):\n",
        "        # Protected member\n",
        "        self._project = \"NLP\"\n",
        "        # Private member\n",
        "        self.__secret = \"Nadie lo sabe\"\n",
        "\n",
        "# child class\n",
        "class Employee(Company):\n",
        "    def __init__(self, name):\n",
        "        self.name = name\n",
        "        Company.__init__(self)\n",
        "\n",
        "    def show(self):\n",
        "        print(\"Employee name :\", self.name)\n",
        "        # Accessing protected member in child class\n",
        "        print(\"Working on project :\", self._project)\n",
        "        #print(\"Working on project :\", self.__secret)\n",
        "\n",
        "itm = Company()\n",
        "c = Employee(\"Jessa\")\n",
        "c.show()\n",
        "\n",
        "# Direct access protected data member\n",
        "print('Project:', c._project)"
      ],
      "metadata": {
        "id": "yHfXSAoflAfr"
      },
      "execution_count": null,
      "outputs": []
    },
    {
      "cell_type": "code",
      "source": [
        "c._project = 'Proyecto'"
      ],
      "metadata": {
        "id": "WzIRUiF34ydL"
      },
      "execution_count": null,
      "outputs": []
    },
    {
      "cell_type": "code",
      "source": [
        "c._project"
      ],
      "metadata": {
        "id": "w70z1suw43sJ"
      },
      "execution_count": null,
      "outputs": []
    },
    {
      "cell_type": "code",
      "source": [
        "itm._project = 'Proyecto'\n",
        "itm._project"
      ],
      "metadata": {
        "id": "1nl25r975LNJ"
      },
      "execution_count": null,
      "outputs": []
    },
    {
      "cell_type": "markdown",
      "source": [
        "Getters y Setters en Python"
      ],
      "metadata": {
        "id": "w6xKhEx4lhvl"
      }
    },
    {
      "cell_type": "code",
      "source": [
        "class Student:\n",
        "    def __init__(self, name, age):\n",
        "        self.name = name\n",
        "        # private member\n",
        "        self.__age = age\n",
        "\n",
        "    # getter method\n",
        "    def get_age(self):\n",
        "        return self.__age\n",
        "\n",
        "    # setter method\n",
        "    def set_age(self, age):\n",
        "        self.__age = age\n",
        "\n",
        "stud = Student('Jessa', 14)\n",
        "\n",
        "# retrieving age using getter\n",
        "print('Name:', stud.name, stud.get_age())\n",
        "\n",
        "# changing age using setter\n",
        "stud.set_age(16)\n",
        "\n",
        "# retrieving age using getter\n",
        "print('Name:', stud.name, stud.get_age())"
      ],
      "metadata": {
        "id": "bXPu6bR0lj__"
      },
      "execution_count": null,
      "outputs": []
    },
    {
      "cell_type": "markdown",
      "source": [
        "### Ventajas de la Encapsulacion\n",
        "* La seguridad: La principal ventaja de utilizar la encapsulación es la seguridad de los datos. La encapsulación protege un objeto de accesos no autorizados. Permite niveles de acceso privados y protegidos para evitar la modificación accidental de los datos.\n",
        "* Ocultación de datos: El usuario no sabría lo que está pasando detrás de la escena. Sólo sabría que para modificar un miembro de datos, hay que llamar al método setter. Para leer un miembro de datos, llame al método getter. Lo que estos métodos setter y getter están haciendo está oculto para ellos.\n",
        "* Simplicidad: Simplifica el mantenimiento de la aplicación al mantener las clases separadas y evitar que se acoplen estrechamente entre sí.\n",
        "* Estética: Agrupar datos y métodos dentro de una clase hace que el código sea más legible y fácil de mantener.\n"
      ],
      "metadata": {
        "id": "LUvWIFJLlrx0"
      }
    },
    {
      "cell_type": "markdown",
      "source": [
        "Ejercicio:\n",
        "\n",
        "Diseñar una clase para una cuenta bancaria, con campos Nombre Completo (str), Numero de cuenta (str), clave (str) y saldo (float). Construir unos metodos para `Ingresar` y `Debitar` (requiere validacion de la clave) dinero de la cuenta, no se debe sacar mas dinero del que se tiene, los ingresos son solo valores positivos. La clave debe ser privada, el saldo debe ser protegido (para imprimir requiere validacion de la clave).  "
      ],
      "metadata": {
        "id": "y6T7oA5lK2zE"
      }
    },
    {
      "cell_type": "markdown",
      "source": [
        "## 3. Tipos de Metodos\n",
        "Los metodos o funciones de la clase, se pueden definir con la palabra reservada \"def\" pero debe incluir la estructura self, que contiene todos los atributos y metodos de la clase. Se puede hacer uso de los decoradores para modificar el tipo del metodo.\n",
        "\n",
        "- Métodos de clase usando el decorador @classmethod\n",
        "- Métodos estáticos por medeio del decorador @staticmethod"
      ],
      "metadata": {
        "id": "uMyg7FO7t_69"
      }
    },
    {
      "cell_type": "code",
      "source": [
        "class Clase:\n",
        "    def metodo(self):\n",
        "        return 'forma normal', self\n",
        "\n",
        "    @classmethod\n",
        "    def metododeclase(cls):\n",
        "        return 'metodo tipo clase', cls\n",
        "\n",
        "    @staticmethod\n",
        "    def metodoestatico():\n",
        "        return \"metodo tipo estático\""
      ],
      "metadata": {
        "id": "6N_UwviJv0ju"
      },
      "execution_count": null,
      "outputs": []
    },
    {
      "cell_type": "markdown",
      "source": [
        "## 3.1 Metodos de instancia\n",
        "\n",
        "Los métodos de instancia tienen las siguientes propiedades:\n",
        "\n",
        "- Pueden acceder y modificar los atributos del objeto.\n",
        "- Pueden acceder a los otros métodos de la clase.\n",
        "- Dado que desde el objeto _self_ se puede acceder a la clase con `self.class`, también pueden modificar el estado de la clase."
      ],
      "metadata": {
        "id": "JRjqdM3byenm"
      }
    },
    {
      "cell_type": "code",
      "source": [
        "class Usuario:\n",
        "  def __init__(self, nombre='Pepito'):\n",
        "    self.nombre = nombre\n",
        "    self.edad = 100\n",
        "    self.sexo = 'no binario'\n",
        "    self.birthday = Fecha()\n",
        "  def __str__(self):\n",
        "    return ' nombre: '+self.nombre+'\\n Edad: '+str(self.edad)+'\\n Sexo: '+str(self.sexo)+\\\n",
        "        '\\n Fecha de nacimiento: '+str(self.birthday)\n",
        "  def metodo(self):\n",
        "    return self\n"
      ],
      "metadata": {
        "id": "wGLEV-IL2f6V"
      },
      "execution_count": null,
      "outputs": []
    },
    {
      "cell_type": "code",
      "source": [
        "JuanSe = Usuario('Juan Sebastian')\n",
        "JuanSeClon = JuanSe.metodo()"
      ],
      "metadata": {
        "id": "-Tn8mHt3nsoe"
      },
      "execution_count": null,
      "outputs": []
    },
    {
      "cell_type": "code",
      "source": [
        "print(id(JuanSeClon),id(JuanSe))"
      ],
      "metadata": {
        "id": "VlUcf1Ban_3B"
      },
      "execution_count": null,
      "outputs": []
    },
    {
      "cell_type": "markdown",
      "source": [
        "## 3.2 Metodos de tipo clase\n",
        "Se definen a partir del decorador `@classmethod`. A diferencia de los métodos de instancia, estos métodos de clase reciben como argumento _cls_, que hace referencia a la clase. Por lo tanto, pueden acceder a la clase pero no a la instancia. Dicho de otra forma, no pueden acceder a los atributos de la instancia ya que no reciben `self`, pero si pueden recibir y posteriormente modificar los atributos de la clase."
      ],
      "metadata": {
        "id": "Fr8J6Nray_Tm"
      }
    },
    {
      "cell_type": "code",
      "source": [
        "class Usuario:\n",
        "  def __init__(self, nombre='Pepito'):\n",
        "    self.nombre = nombre\n",
        "    self.edad = 100\n",
        "    self.sexo = 'no binario'\n",
        "    self.birthday = Fecha()\n",
        "  def __str__(self):\n",
        "    return ' nombre: '+self.nombre+'\\n Edad: '+str(self.edad)+'\\n Sexo: '+str(self.sexo)+\\\n",
        "        '\\n Fecha de nacimiento: '+str(self.birthday)\n",
        "  def EdadInstancia(self):\n",
        "    return self.edad\n",
        "  @classmethod\n",
        "  def EdadClase(cls):\n",
        "    return cls().edad"
      ],
      "metadata": {
        "id": "dTB4nLmV2hfG"
      },
      "execution_count": null,
      "outputs": []
    },
    {
      "cell_type": "code",
      "source": [
        "JuanSe = Usuario()\n",
        "JuanSe.edad = 21\n",
        "JuanSeClonEdad = JuanSe.EdadInstancia()\n",
        "UsuarioEdad = JuanSe.EdadClase()\n",
        "#Pepito = JuanSeClase()"
      ],
      "metadata": {
        "id": "H4oVaw0jpQ1j"
      },
      "execution_count": null,
      "outputs": []
    },
    {
      "cell_type": "code",
      "source": [
        "print(JuanSe.EdadInstancia(), JuanSe.EdadClase())\n",
        "print(JuanSeClonEdad,UsuarioEdad)"
      ],
      "metadata": {
        "id": "bXRwu-ZRpUex"
      },
      "execution_count": null,
      "outputs": []
    },
    {
      "cell_type": "markdown",
      "source": [
        "## 3.3 Metodos estaticos\n",
        "Se definen a partir del decorador @staticmethod. No reciben como argumento de entrada ni la clase ni la instancia. Por tal motivo no pueden modificar el estado de la clase ni de la instancia."
      ],
      "metadata": {
        "id": "cdP1gpgM1qZY"
      }
    },
    {
      "cell_type": "code",
      "source": [
        "class Usuario:\n",
        "  def __init__(self, nombre='Pepito'):\n",
        "    self.nombre = nombre\n",
        "    self.edad = 100\n",
        "    self.sexo = 'no binario'\n",
        "    self.birthday = Fecha()\n",
        "  def __str__(self):\n",
        "    return ' nombre: '+self.nombre+'\\n Edad: '+str(self.edad)+'\\n Sexo: '+str(self.sexo)+\\\n",
        "        '\\n Fecha de nacimiento: '+str(self.birthday)\n",
        "  @staticmethod\n",
        "  def metodoestatico(x,y):\n",
        "    return \"Soy independiente de la instancia y de la clase, soy un \"+str(x+y)"
      ],
      "metadata": {
        "id": "KeakAwQt2krl"
      },
      "execution_count": null,
      "outputs": []
    },
    {
      "cell_type": "code",
      "source": [
        "Samuel = Usuario()\n",
        "print(Samuel.metodoestatico(5,5))"
      ],
      "metadata": {
        "id": "4SD28ow2uzyQ"
      },
      "execution_count": null,
      "outputs": []
    }
  ],
  "metadata": {
    "kernelspec": {
      "display_name": "Python 3",
      "language": "python",
      "name": "python3"
    },
    "language_info": {
      "codemirror_mode": {
        "name": "ipython",
        "version": 3
      },
      "file_extension": ".py",
      "mimetype": "text/x-python",
      "name": "python",
      "nbconvert_exporter": "python",
      "pygments_lexer": "ipython3",
      "version": "3.7.6"
    },
    "colab": {
      "provenance": []
    }
  },
  "nbformat": 4,
  "nbformat_minor": 0
}