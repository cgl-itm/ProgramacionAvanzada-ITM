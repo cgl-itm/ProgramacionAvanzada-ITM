{
  "cells": [
    {
      "cell_type": "markdown",
      "metadata": {
        "id": "iUXxr1rRi1WJ"
      },
      "source": [
        "# Programación Orientada a Objetos (POO) u Object Oriented Programming (OOP)\n",
        "Fuentes: <br>\n",
        "https://ellibrodepython.com/programacion-orientada-a-objetos <br>\n",
        "\n",
        "Polimorfismo:\n",
        "\n",
        "https://pynative.com/python-polymorphism/ <br>\n",
        "https://www.youtube.com/watch?v=HtKqSJX7VoM <br>\n",
        "\n",
        "Encapsulacion:\n",
        "\n",
        "https://pynative.com/python-encapsulation/ <br>\n",
        "https://www.geeksforgeeks.org/encapsulation-in-python/"
      ]
    },
    {
      "cell_type": "markdown",
      "metadata": {
        "id": "pmeEmgpGi1WP"
      },
      "source": [
        "## 1. Polimorfismo\n",
        "Python implementa este concepto a su propia manera. Por ejemplo, la funcion `len` presenta diferentes comportamiento dependiendo del tipo de dato.\n",
        "\n",
        "![Polimorfismo](https://pynative.com/wp-content/uploads/2021/08/polymorphic_len_function.png)\n"
      ]
    },
    {
      "cell_type": "code",
      "execution_count": 8,
      "metadata": {
        "colab": {
          "base_uri": "https://localhost:8080/"
        },
        "id": "IlOrT_jxi1WP",
        "outputId": "80094ac5-4741-454e-f014-9dd4040f3c8e"
      },
      "outputs": [
        {
          "output_type": "stream",
          "name": "stdout",
          "text": [
            "Guau\n"
          ]
        }
      ],
      "source": [
        "#Polimorfismo en clases\n",
        "class Gato:\n",
        "  def sonido(self):\n",
        "    return \"Miau\"\n",
        "\n",
        "class Perro:\n",
        "  def sonido(self):\n",
        "    return \"Guau\"\n",
        "\n",
        "#Polimorfismo en la funcion\n",
        "def hacerSonido(animal):\n",
        "  print(animal.sonido())\n",
        "\n",
        "gato = Gato()\n",
        "perro = Perro()"
      ]
    },
    {
      "cell_type": "code",
      "source": [
        "hacerSonido(gato)"
      ],
      "metadata": {
        "colab": {
          "base_uri": "https://localhost:8080/"
        },
        "id": "5KGHdll1u4PS",
        "outputId": "5fb4add8-a67a-49fc-c467-51c8dd1563b3"
      },
      "execution_count": 10,
      "outputs": [
        {
          "output_type": "stream",
          "name": "stdout",
          "text": [
            "Miau\n"
          ]
        }
      ]
    },
    {
      "cell_type": "markdown",
      "source": [
        "### Polimorfismo de herencia: En pytho debido que es un lenguaje de tipado dinamico, no es necesario hacer el polimorfismo por herencia. En lenguajes de tipado estatico como Java, si es necesario.\n",
        "\n",
        "![Polimorfismo2](https://pynative.com/wp-content/uploads/2021/08/polymorphism_with_inheritance.jpg)"
      ],
      "metadata": {
        "id": "Z0PkyGzYMgXV"
      }
    },
    {
      "cell_type": "code",
      "execution_count": 14,
      "metadata": {
        "colab": {
          "base_uri": "https://localhost:8080/"
        },
        "id": "5Q8IyNpxi1WR",
        "outputId": "5daecf52-5d5b-4fe8-de98-fc1ec23e65a7"
      },
      "outputs": [
        {
          "output_type": "stream",
          "name": "stdout",
          "text": [
            "Miau\n",
            "Guau\n",
            "No hace ruidos\n"
          ]
        }
      ],
      "source": [
        "#Polimorfismo por Herencia\n",
        "class Animal:\n",
        "  def sonido(self):\n",
        "    return 'No hace ruidos'\n",
        "\n",
        "class Gato(Animal):\n",
        "  def sonido(self):\n",
        "    return \"Miau\"\n",
        "\n",
        "class Perro(Animal):\n",
        "  def sonido(self):\n",
        "    return \"Guau\"\n",
        "\n",
        "class EspecieNueva(Animal):\n",
        "  pass\n",
        "\n",
        "print(Gato().sonido())\n",
        "print(Perro().sonido())\n",
        "print(EspecieNueva().sonido())\n"
      ]
    },
    {
      "cell_type": "markdown",
      "source": [
        "Ejercicio: Escribir el codigo de una clase padre Vehiculo, y reciba el nombre, color y precio. Ademas, tiene el metodo mostrar que imprime \"Detalles: {nombre}, {color}, {precio}\" del objeto."
      ],
      "metadata": {
        "id": "IyxnZB4ROrIN"
      }
    },
    {
      "cell_type": "code",
      "source": [
        "class Vehiculo:\n",
        "  def __init__(self, nombre, color, precio):\n",
        "    self.nombre = nombre\n",
        "    self.color = color\n",
        "    self.precio = precio\n",
        "\n",
        "  def mostrar(self):\n",
        "    print(f\"Detalles: {self.nombre}, {self.color}, {self.precio}\")\n",
        "  @staticmethod\n",
        "  def velocidad():\n",
        "    print(\"Maximo 150 km/h\")\n",
        "  def cambios(self):\n",
        "    print(\"5 cambios\")"
      ],
      "metadata": {
        "id": "GuXx1yMEw2Vx"
      },
      "execution_count": 23,
      "outputs": []
    },
    {
      "cell_type": "code",
      "source": [
        "carrito = Vehiculo('Spark','Gris',12000000)"
      ],
      "metadata": {
        "id": "_8zSN7uJy5GY"
      },
      "execution_count": 24,
      "outputs": []
    },
    {
      "cell_type": "code",
      "source": [
        "carrito.velocidad()\n",
        "carrito.cambios()"
      ],
      "metadata": {
        "colab": {
          "base_uri": "https://localhost:8080/"
        },
        "id": "6pBgkocfzEMJ",
        "outputId": "41a252fa-caee-4782-c315-07cb7936d98e"
      },
      "execution_count": 26,
      "outputs": [
        {
          "output_type": "stream",
          "name": "stdout",
          "text": [
            "Maximo 150 km/h\n",
            "5 cambios\n"
          ]
        }
      ]
    },
    {
      "cell_type": "code",
      "source": [
        "class Camion(Vehiculo):\n",
        "  def __init__(self, nombre, color, precio):\n",
        "    super().__init__(nombre, color, precio)\n",
        "\n",
        "  def velocidad(self):\n",
        "    print(\"Maximo 200 km/h\")\n",
        "  def cambios(self):\n",
        "    print(\"8 cambios\")"
      ],
      "metadata": {
        "id": "UfwN5Pp8xrko"
      },
      "execution_count": 29,
      "outputs": []
    },
    {
      "cell_type": "code",
      "source": [
        "cam = Camion('Foton','Negro',120000000)"
      ],
      "metadata": {
        "id": "6A5QPsAczhAh"
      },
      "execution_count": 30,
      "outputs": []
    },
    {
      "cell_type": "code",
      "source": [
        "cam.cambios()"
      ],
      "metadata": {
        "colab": {
          "base_uri": "https://localhost:8080/"
        },
        "id": "OpHChXJB0TO6",
        "outputId": "4303afeb-558f-4a4d-b7da-9a007fa814f5"
      },
      "execution_count": 33,
      "outputs": [
        {
          "output_type": "stream",
          "name": "stdout",
          "text": [
            "8 cambios\n"
          ]
        }
      ]
    },
    {
      "cell_type": "markdown",
      "source": [
        "## 2. Encapsulacion\n",
        "Consiste en agrupar un conjunto de datos y metodos en una sola unidad. Entonces, por ejemplo, cuando se crea una clase, significa que estas implementando la encapsulacion. Una clase es un ejemplo de encapsulacion debido que enlaza todos los datos (variables de la instancia) y los metodos en una sola unidad.\n",
        "\n",
        "![](https://pynative.com/wp-content/uploads/2021/08/encapsulation_python_class.jpg)"
      ],
      "metadata": {
        "id": "92QNzacV52lA"
      }
    },
    {
      "cell_type": "markdown",
      "source": [
        "En este ejemplo, creamos la clase Employee (empleado), definiendo los atributos del empleado como variables de instancia: nombre y salario. Implementar los metodos work y show como metodos de la instancia.\n",
        "\n"
      ],
      "metadata": {
        "id": "WNy_RzEDXmiJ"
      }
    },
    {
      "cell_type": "code",
      "source": [
        "class Employee:\n",
        "    # constructor\n",
        "    def __init__(self, name, salary, project):\n",
        "        # data members\n",
        "        self.name = name\n",
        "        self.salary = salary\n",
        "        self.project = project\n",
        "\n",
        "    # method\n",
        "    # to display employee's details\n",
        "    def show(self):\n",
        "        # accessing public data member\n",
        "        print(\"Name: \", self.name, 'Salary:', self.salary)\n",
        "\n",
        "    # method\n",
        "    def work(self):\n",
        "        print(self.name, 'is working on', self.project)\n",
        "\n",
        "# creating object of a class\n",
        "emp = Employee('Jessa', 8000, 'NLP')\n",
        "\n",
        "# calling public method of the class\n",
        "emp.show()\n",
        "emp.work()"
      ],
      "metadata": {
        "id": "dqjJG5mo5dbL",
        "colab": {
          "base_uri": "https://localhost:8080/"
        },
        "outputId": "1c95f3b2-a798-401e-d98c-7226ac1dcd3f"
      },
      "execution_count": 34,
      "outputs": [
        {
          "output_type": "stream",
          "name": "stdout",
          "text": [
            "Name:  Jessa Salary: 8000\n",
            "Jessa is working on NLP\n"
          ]
        }
      ]
    },
    {
      "cell_type": "markdown",
      "source": [
        "### 2.1 Miembros protegidos y acceso de modificadores\n",
        "Los metodos y atributos pueden ser privados o protegidos. Para en Python, no necesitamos acceso directo a los modificadores como publico, privado y protegido. Podemos realizaro esto simplemente usando el underscore (raya al piso) y doble underscore.\n",
        "\n",
        "Los modificadores de acceso limitan el acceso a las variables y metodos de una clase. Python provee tres tipos de acceso a los modificadores: privados, publicos y protegidos.\n",
        "* Miembro publico: Accesible desde cualquier parte por fuera de la clase.\n",
        "* Miembro privado: Accesible dentro de la clase.\n",
        "* Mientro Protegido: Accesible dentro de la clase y sus subclases.\n",
        "\n",
        "![](https://pynative.com/wp-content/uploads/2021/08/python_data_hiding.jpg)\n"
      ],
      "metadata": {
        "id": "C5BoRrCwWqt1"
      }
    },
    {
      "cell_type": "markdown",
      "source": [
        "**Miembros privados**:\n",
        "Podemos proteger las variables en la clase volviendolas privadas. Usamos la doble raya al piso como prefijo al comienzo del nombre de la variable.\n",
        "Los miembros privados solo se pueden acceder dentro de la clase, pero no podemos acceder a ellos directamente desde los objetos de la clase."
      ],
      "metadata": {
        "id": "FOdIfkTgjjfe"
      }
    },
    {
      "cell_type": "code",
      "source": [
        "class Employee:\n",
        "    # constructor\n",
        "    def __init__(self, name, salary):\n",
        "        # public data member\n",
        "        self.name = name\n",
        "        # private member\n",
        "        self.__salary = salary\n",
        "    def printSalary(self):\n",
        "      print(f'Sslario: {self.__salary}')\n",
        "\n",
        "# creating object of a class\n",
        "emp = Employee('Jessa', 10000)\n",
        "\n",
        "# accessing private data members\n",
        "#print('Salary:', emp.__salary)\n",
        "\n",
        "emp.printSalary()"
      ],
      "metadata": {
        "id": "iwPo4M8hUNVY",
        "colab": {
          "base_uri": "https://localhost:8080/"
        },
        "outputId": "1726458b-07f7-4d83-9953-52849743ca13"
      },
      "execution_count": 38,
      "outputs": [
        {
          "output_type": "stream",
          "name": "stdout",
          "text": [
            "Sslario: 10000\n"
          ]
        }
      ]
    },
    {
      "cell_type": "code",
      "source": [
        "emp.__salary = 5000\n",
        "emp.printSalary()"
      ],
      "metadata": {
        "colab": {
          "base_uri": "https://localhost:8080/"
        },
        "id": "LKOdgKZY2xZ7",
        "outputId": "e0ef7c5f-f626-4c04-e773-f0d07a65d3b0"
      },
      "execution_count": 41,
      "outputs": [
        {
          "output_type": "stream",
          "name": "stdout",
          "text": [
            "Sslario: 10000\n"
          ]
        }
      ]
    },
    {
      "cell_type": "markdown",
      "source": [
        "Podemos acceder al miembro privado usando un metodo de la instancia."
      ],
      "metadata": {
        "id": "ryAeHXKpkQrV"
      }
    },
    {
      "cell_type": "code",
      "source": [
        "class Employee:\n",
        "    # constructor\n",
        "    def __init__(self, name, salary):\n",
        "        # public data member\n",
        "        self.name = name\n",
        "        # private member\n",
        "        self.__salary = salary\n",
        "\n",
        "    # public instance methods\n",
        "    def show(self):\n",
        "        # private members are accessible from a class\n",
        "        print(\"Name: \", self.name, 'Salary:', self.__salary)\n",
        "\n",
        "# creating object of a class\n",
        "emp = Employee('Jessa', 10000)\n",
        "\n",
        "# calling public method of the class\n",
        "emp.show()"
      ],
      "metadata": {
        "colab": {
          "base_uri": "https://localhost:8080/"
        },
        "id": "Kam8tGVDkQDm",
        "outputId": "8ec3f28e-ed41-4c62-b5c7-44cd7d171a0c"
      },
      "execution_count": 42,
      "outputs": [
        {
          "output_type": "stream",
          "name": "stdout",
          "text": [
            "Name:  Jessa Salary: 10000\n"
          ]
        }
      ]
    },
    {
      "cell_type": "code",
      "source": [
        "emp.name = 'Joe'\n",
        "emp.show()"
      ],
      "metadata": {
        "colab": {
          "base_uri": "https://localhost:8080/"
        },
        "id": "To5FKb2d3yZK",
        "outputId": "312b84e3-1808-4fb6-f397-dbb754d66af0"
      },
      "execution_count": 44,
      "outputs": [
        {
          "output_type": "stream",
          "name": "stdout",
          "text": [
            "Name:  Joe Salary: 10000\n"
          ]
        }
      ]
    },
    {
      "cell_type": "markdown",
      "source": [
        "**Miembro protegido**: Los miembros protegidos son accesibles dentro de la clase y tambien dentro de las sub-clases. Los miembros protegidos se definen iniciando con `_`."
      ],
      "metadata": {
        "id": "oGdETzY1kvJ3"
      }
    },
    {
      "cell_type": "code",
      "source": [
        "# base class\n",
        "class Company:\n",
        "    def __init__(self):\n",
        "        # Protected member\n",
        "        self._project = \"NLP\"\n",
        "        # Private member\n",
        "        self.__secret = \"Nadie lo sabe\"\n",
        "\n",
        "# child class\n",
        "class Employee(Company):\n",
        "    def __init__(self, name):\n",
        "        self.name = name\n",
        "        Company.__init__(self)\n",
        "\n",
        "    def show(self):\n",
        "        print(\"Employee name :\", self.name)\n",
        "        # Accessing protected member in child class\n",
        "        print(\"Working on project :\", self._project)\n",
        "        #print(\"Working on project :\", self.__secret)\n",
        "\n",
        "itm = Company()\n",
        "c = Employee(\"Jessa\")\n",
        "c.show()\n",
        "\n",
        "# Direct access protected data member\n",
        "print('Project:', c._project)"
      ],
      "metadata": {
        "colab": {
          "base_uri": "https://localhost:8080/"
        },
        "id": "yHfXSAoflAfr",
        "outputId": "32a5a5a4-015d-436c-ef51-acc9b45e9986"
      },
      "execution_count": 51,
      "outputs": [
        {
          "output_type": "stream",
          "name": "stdout",
          "text": [
            "Employee name : Jessa\n",
            "Working on project : NLP\n",
            "Project: NLP\n"
          ]
        }
      ]
    },
    {
      "cell_type": "code",
      "source": [
        "c._project = 'Proyecto'"
      ],
      "metadata": {
        "id": "WzIRUiF34ydL"
      },
      "execution_count": 49,
      "outputs": []
    },
    {
      "cell_type": "code",
      "source": [
        "c._project"
      ],
      "metadata": {
        "colab": {
          "base_uri": "https://localhost:8080/",
          "height": 35
        },
        "id": "w70z1suw43sJ",
        "outputId": "d57a5346-a880-4faf-c57c-131ad1f214cb"
      },
      "execution_count": 50,
      "outputs": [
        {
          "output_type": "execute_result",
          "data": {
            "text/plain": [
              "'Proyecto'"
            ],
            "application/vnd.google.colaboratory.intrinsic+json": {
              "type": "string"
            }
          },
          "metadata": {},
          "execution_count": 50
        }
      ]
    },
    {
      "cell_type": "code",
      "source": [
        "itm._project = 'Proyecto'\n",
        "itm._project"
      ],
      "metadata": {
        "colab": {
          "base_uri": "https://localhost:8080/",
          "height": 35
        },
        "id": "1nl25r975LNJ",
        "outputId": "e783f90d-fa7a-4c1b-93e7-0226cba0dff1"
      },
      "execution_count": 52,
      "outputs": [
        {
          "output_type": "execute_result",
          "data": {
            "text/plain": [
              "'Proyecto'"
            ],
            "application/vnd.google.colaboratory.intrinsic+json": {
              "type": "string"
            }
          },
          "metadata": {},
          "execution_count": 52
        }
      ]
    },
    {
      "cell_type": "markdown",
      "source": [
        "Getters y Setters en Python"
      ],
      "metadata": {
        "id": "w6xKhEx4lhvl"
      }
    },
    {
      "cell_type": "code",
      "source": [
        "class Student:\n",
        "    def __init__(self, name, age):\n",
        "        self.name = name\n",
        "        # private member\n",
        "        self.__age = age\n",
        "\n",
        "    # getter method\n",
        "    def get_age(self):\n",
        "        return self.__age\n",
        "\n",
        "    # setter method\n",
        "    def set_age(self, age):\n",
        "        self.__age = age\n",
        "\n",
        "stud = Student('Jessa', 14)\n",
        "\n",
        "# retrieving age using getter\n",
        "print('Name:', stud.name, stud.get_age())\n",
        "\n",
        "# changing age using setter\n",
        "stud.set_age(16)\n",
        "\n",
        "# retrieving age using getter\n",
        "print('Name:', stud.name, stud.get_age())"
      ],
      "metadata": {
        "colab": {
          "base_uri": "https://localhost:8080/"
        },
        "id": "bXPu6bR0lj__",
        "outputId": "951f9b11-5bbb-4953-ad2c-7b88faa4acf8"
      },
      "execution_count": 54,
      "outputs": [
        {
          "output_type": "stream",
          "name": "stdout",
          "text": [
            "Name: Jessa 14\n",
            "Name: Jessa 16\n"
          ]
        }
      ]
    },
    {
      "cell_type": "markdown",
      "source": [
        "### Ventajas de la Encapsulacion\n",
        "* La seguridad: La principal ventaja de utilizar la encapsulación es la seguridad de los datos. La encapsulación protege un objeto de accesos no autorizados. Permite niveles de acceso privados y protegidos para evitar la modificación accidental de los datos.\n",
        "* Ocultación de datos: El usuario no sabría lo que está pasando detrás de la escena. Sólo sabría que para modificar un miembro de datos, hay que llamar al método setter. Para leer un miembro de datos, llame al método getter. Lo que estos métodos setter y getter están haciendo está oculto para ellos.\n",
        "* Simplicidad: Simplifica el mantenimiento de la aplicación al mantener las clases separadas y evitar que se acoplen estrechamente entre sí.\n",
        "* Estética: Agrupar datos y métodos dentro de una clase hace que el código sea más legible y fácil de mantener.\n"
      ],
      "metadata": {
        "id": "LUvWIFJLlrx0"
      }
    },
    {
      "cell_type": "markdown",
      "source": [
        "### 3. Decorators"
      ],
      "metadata": {
        "id": "9jqMvuZD6hai"
      }
    },
    {
      "cell_type": "markdown",
      "source": [
        "Modifican la forma en que se ejecutan las funciones."
      ],
      "metadata": {
        "id": "a1rVB3Z96nSC"
      }
    },
    {
      "cell_type": "code",
      "source": [
        "# importing libraries\n",
        "import time\n",
        "import math\n",
        "\n",
        "# decorator to calculate duration\n",
        "# taken by any function.\n",
        "def calculate_time(func):\n",
        "\n",
        "    # added arguments inside the inner1,\n",
        "    # if function takes any arguments,\n",
        "    # can be added like this.\n",
        "    def inner1(*args, **kwargs):\n",
        "\n",
        "        # storing time before function execution\n",
        "        begin = time.time()\n",
        "\n",
        "        out = func(*args, **kwargs)\n",
        "\n",
        "        # storing time after function execution\n",
        "        end = time.time()\n",
        "        print(\"Total time taken in : \", func.__name__, end - begin)\n",
        "        return out\n",
        "\n",
        "    return inner1\n",
        "\n",
        "# this can be added to any function present,\n",
        "# in this case to calculate a factorial\n",
        "@calculate_time\n",
        "def factorial(num):\n",
        "\n",
        "    # sleep 2 seconds because it takes very less time\n",
        "    # so that you can see the actual difference\n",
        "    time.sleep(2)\n",
        "    return math.factorial(num)"
      ],
      "metadata": {
        "id": "NI1GJ4N96jFV"
      },
      "execution_count": 67,
      "outputs": []
    },
    {
      "cell_type": "code",
      "source": [
        "# calling the function.\n",
        "a = factorial(10)"
      ],
      "metadata": {
        "colab": {
          "base_uri": "https://localhost:8080/"
        },
        "id": "MUDDEBTC7UDw",
        "outputId": "8307155d-e76d-495f-c922-7f7699d2d71c"
      },
      "execution_count": 68,
      "outputs": [
        {
          "output_type": "stream",
          "name": "stdout",
          "text": [
            "Total time taken in :  factorial 2.001354455947876\n"
          ]
        }
      ]
    },
    {
      "cell_type": "code",
      "source": [
        "def hello_decorator(func):\n",
        "    def inner1(*args, **kwargs):\n",
        "\n",
        "        print(\"before Execution\")\n",
        "\n",
        "        # getting the returned value\n",
        "        returned_value = func(*args, **kwargs)\n",
        "        print(\"after Execution\")\n",
        "\n",
        "        # returning the value to the original frame\n",
        "        return returned_value\n",
        "\n",
        "    return inner1\n",
        "\n",
        "\n",
        "# adding decorator to the function\n",
        "@hello_decorator\n",
        "def sum_two_numbers(a, b):\n",
        "    print(\"Inside the function\")\n",
        "    return a + b\n",
        "\n",
        "a, b = 1, 2\n",
        "\n",
        "# getting the value through return of the function\n",
        "print(\"Sum =\", sum_two_numbers(a, b))"
      ],
      "metadata": {
        "colab": {
          "base_uri": "https://localhost:8080/"
        },
        "id": "jkvQFnce7VyO",
        "outputId": "1a6a8c55-2799-4e98-e9b8-0cd454a88685"
      },
      "execution_count": 86,
      "outputs": [
        {
          "output_type": "stream",
          "name": "stdout",
          "text": [
            "before Execution\n",
            "Inside the function\n",
            "after Execution\n",
            "Sum = 3\n"
          ]
        }
      ]
    },
    {
      "cell_type": "code",
      "source": [
        "def sum2(*args, **kwargs): #(a,b, c= 20, d=10)\n",
        "    a , b = args\n",
        "    c = kwargs.get('c',20)\n",
        "    d = kwargs.get('d',10)\n",
        "    print(\"Inside the function\")\n",
        "    return a + b + c + d\n",
        "\n",
        "sum2(1,2,d=10)"
      ],
      "metadata": {
        "colab": {
          "base_uri": "https://localhost:8080/",
          "height": 332
        },
        "id": "gR4kBvsW9Z9c",
        "outputId": "d64bec39-9f8f-4b4a-aae3-c2bb14be208f"
      },
      "execution_count": 96,
      "outputs": [
        {
          "output_type": "error",
          "ename": "ValueError",
          "evalue": "ignored",
          "traceback": [
            "\u001b[0;31m---------------------------------------------------------------------------\u001b[0m",
            "\u001b[0;31mValueError\u001b[0m                                Traceback (most recent call last)",
            "\u001b[0;32m<ipython-input-96-a5d5d1cfbb40>\u001b[0m in \u001b[0;36m<cell line: 8>\u001b[0;34m()\u001b[0m\n\u001b[1;32m      6\u001b[0m     \u001b[0;32mreturn\u001b[0m \u001b[0ma\u001b[0m \u001b[0;34m+\u001b[0m \u001b[0mb\u001b[0m \u001b[0;34m+\u001b[0m \u001b[0mc\u001b[0m \u001b[0;34m+\u001b[0m \u001b[0md\u001b[0m\u001b[0;34m\u001b[0m\u001b[0;34m\u001b[0m\u001b[0m\n\u001b[1;32m      7\u001b[0m \u001b[0;34m\u001b[0m\u001b[0m\n\u001b[0;32m----> 8\u001b[0;31m \u001b[0msum2\u001b[0m\u001b[0;34m(\u001b[0m\u001b[0;36m1\u001b[0m\u001b[0;34m,\u001b[0m\u001b[0;36m2\u001b[0m\u001b[0;34m,\u001b[0m\u001b[0;36m3\u001b[0m\u001b[0;34m,\u001b[0m\u001b[0;36m4\u001b[0m\u001b[0;34m)\u001b[0m\u001b[0;34m\u001b[0m\u001b[0;34m\u001b[0m\u001b[0m\n\u001b[0m",
            "\u001b[0;32m<ipython-input-96-a5d5d1cfbb40>\u001b[0m in \u001b[0;36msum2\u001b[0;34m(*args, **kwargs)\u001b[0m\n\u001b[1;32m      1\u001b[0m \u001b[0;32mdef\u001b[0m \u001b[0msum2\u001b[0m\u001b[0;34m(\u001b[0m\u001b[0;34m*\u001b[0m\u001b[0margs\u001b[0m\u001b[0;34m,\u001b[0m \u001b[0;34m**\u001b[0m\u001b[0mkwargs\u001b[0m\u001b[0;34m)\u001b[0m\u001b[0;34m:\u001b[0m \u001b[0;31m#(a,b, c= 20, d=10)\u001b[0m\u001b[0;34m\u001b[0m\u001b[0;34m\u001b[0m\u001b[0m\n\u001b[0;32m----> 2\u001b[0;31m     \u001b[0ma\u001b[0m \u001b[0;34m,\u001b[0m \u001b[0mb\u001b[0m \u001b[0;34m=\u001b[0m \u001b[0margs\u001b[0m\u001b[0;34m\u001b[0m\u001b[0;34m\u001b[0m\u001b[0m\n\u001b[0m\u001b[1;32m      3\u001b[0m     \u001b[0mc\u001b[0m \u001b[0;34m=\u001b[0m \u001b[0mkwargs\u001b[0m\u001b[0;34m.\u001b[0m\u001b[0mget\u001b[0m\u001b[0;34m(\u001b[0m\u001b[0;34m'c'\u001b[0m\u001b[0;34m,\u001b[0m\u001b[0;36m20\u001b[0m\u001b[0;34m)\u001b[0m\u001b[0;34m\u001b[0m\u001b[0;34m\u001b[0m\u001b[0m\n\u001b[1;32m      4\u001b[0m     \u001b[0md\u001b[0m \u001b[0;34m=\u001b[0m \u001b[0mkwargs\u001b[0m\u001b[0;34m.\u001b[0m\u001b[0mget\u001b[0m\u001b[0;34m(\u001b[0m\u001b[0;34m'd'\u001b[0m\u001b[0;34m,\u001b[0m\u001b[0;36m10\u001b[0m\u001b[0;34m)\u001b[0m\u001b[0;34m\u001b[0m\u001b[0;34m\u001b[0m\u001b[0m\n\u001b[1;32m      5\u001b[0m     \u001b[0mprint\u001b[0m\u001b[0;34m(\u001b[0m\u001b[0;34m\"Inside the function\"\u001b[0m\u001b[0;34m)\u001b[0m\u001b[0;34m\u001b[0m\u001b[0;34m\u001b[0m\u001b[0m\n",
            "\u001b[0;31mValueError\u001b[0m: too many values to unpack (expected 2)"
          ]
        }
      ]
    },
    {
      "cell_type": "code",
      "source": [],
      "metadata": {
        "colab": {
          "base_uri": "https://localhost:8080/"
        },
        "id": "Ut34dhac9bBj",
        "outputId": "3f46d7c2-9d8e-44f8-bb49-c55fe23633ef"
      },
      "execution_count": 80,
      "outputs": [
        {
          "output_type": "stream",
          "name": "stdout",
          "text": [
            "Inside the function\n"
          ]
        },
        {
          "output_type": "execute_result",
          "data": {
            "text/plain": [
              "11"
            ]
          },
          "metadata": {},
          "execution_count": 80
        }
      ]
    },
    {
      "cell_type": "code",
      "source": [],
      "metadata": {
        "id": "8kkp-plj9eR9"
      },
      "execution_count": null,
      "outputs": []
    }
  ],
  "metadata": {
    "kernelspec": {
      "display_name": "Python 3",
      "language": "python",
      "name": "python3"
    },
    "language_info": {
      "codemirror_mode": {
        "name": "ipython",
        "version": 3
      },
      "file_extension": ".py",
      "mimetype": "text/x-python",
      "name": "python",
      "nbconvert_exporter": "python",
      "pygments_lexer": "ipython3",
      "version": "3.7.6"
    },
    "colab": {
      "provenance": []
    }
  },
  "nbformat": 4,
  "nbformat_minor": 0
}