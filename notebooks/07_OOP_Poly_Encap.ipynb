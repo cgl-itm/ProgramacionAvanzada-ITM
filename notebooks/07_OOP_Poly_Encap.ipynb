{
  "cells": [
    {
      "cell_type": "markdown",
      "metadata": {
        "id": "iUXxr1rRi1WJ"
      },
      "source": [
        "# Programación Orientada a Objetos (POO) u Object Oriented Programming (OOP)\n",
        "Fuentes: <br>\n",
        "https://ellibrodepython.com/programacion-orientada-a-objetos <br>\n",
        "\n",
        "Polimorfismo:\n",
        "\n",
        "https://pynative.com/python-polymorphism/ <br>\n",
        "https://www.youtube.com/watch?v=HtKqSJX7VoM <br>\n",
        "\n",
        "Encapsulacion:\n",
        "\n",
        "https://pynative.com/python-encapsulation/ <br>\n",
        "https://www.geeksforgeeks.org/encapsulation-in-python/"
      ]
    },
    {
      "cell_type": "markdown",
      "metadata": {
        "id": "pmeEmgpGi1WP"
      },
      "source": [
        "## 1. Polimorfismo\n",
        "Pytho implementa este concepto a su propia manera. Por ejemplo, la funcion `len` presenta diferentes comportamiento dependiendo del tipo de dato.\n",
        "\n",
        "![Polimorfismo](https://pynative.com/wp-content/uploads/2021/08/polymorphic_len_function.png)\n"
      ]
    },
    {
      "cell_type": "code",
      "execution_count": null,
      "metadata": {
        "colab": {
          "base_uri": "https://localhost:8080/"
        },
        "id": "IlOrT_jxi1WP",
        "outputId": "c7cb6788-49c5-4e7f-eeb7-81e0b13c23fd"
      },
      "outputs": [
        {
          "output_type": "stream",
          "name": "stdout",
          "text": [
            "Guau\n"
          ]
        }
      ],
      "source": [
        "#Polimorfismo en clases\n",
        "class Gato:\n",
        "  def sonido(self):\n",
        "    return \"Miau\"\n",
        "\n",
        "class Perro:\n",
        "  def sonido(self):\n",
        "    return \"Guau\"\n",
        "\n",
        "#Polimorfismo en la funcion\n",
        "def hacerSonido(animal):\n",
        "  print(animal.sonido())\n",
        "\n",
        "gato = Gato()\n",
        "perro = Perro()\n",
        "\n",
        "hacerSonido(perro)"
      ]
    },
    {
      "cell_type": "markdown",
      "source": [
        "### Polimorfismo de herencia: En pytho debido que es un lenguaje de tipado dinamico, no es necesario hacer el polimorfismo por herencia. En lenguajes de tipado estatico como Java, si es necesario.\n",
        "\n",
        "![Polimorfismo2](https://pynative.com/wp-content/uploads/2021/08/polymorphism_with_inheritance.jpg)"
      ],
      "metadata": {
        "id": "Z0PkyGzYMgXV"
      }
    },
    {
      "cell_type": "code",
      "execution_count": null,
      "metadata": {
        "colab": {
          "base_uri": "https://localhost:8080/"
        },
        "id": "5Q8IyNpxi1WR",
        "outputId": "b6301fc6-a282-4609-a84a-82bdda29024f"
      },
      "outputs": [
        {
          "output_type": "stream",
          "name": "stdout",
          "text": [
            "Miau\n",
            "Guau\n",
            "None\n"
          ]
        }
      ],
      "source": [
        "#Polimorfismo por Herencia\n",
        "class Animal:\n",
        "  def sonido(self):\n",
        "    pass\n",
        "\n",
        "class Gato(Animal):\n",
        "  def sonido(self):\n",
        "    return \"Miau\"\n",
        "\n",
        "class Perro(Animal):\n",
        "  def sonido(self):\n",
        "    return \"Guau\"\n",
        "\n",
        "class EspecieNueva(Animal):\n",
        "  pass\n",
        "\n",
        "print(Gato().sonido())\n",
        "print(Perro().sonido())\n",
        "print(EspecieNueva().sonido())\n"
      ]
    },
    {
      "cell_type": "markdown",
      "source": [
        "Ejercicio: Escribir el codigo de una clase padre Vehiculo, y reciba el nombre, color y precio. Ademas, tiene el metodo mostrar que imprime \"Detalles: {nombre}, {color}, {precio} del objeto."
      ],
      "metadata": {
        "id": "IyxnZB4ROrIN"
      }
    },
    {
      "cell_type": "markdown",
      "source": [
        "## 2. Encapsulacion\n",
        "Consiste en agrupar un conjunto de datos y metodos en una sola unidad. Entonces, por ejemplo, cuando se crea una clase, significa que estas implementando la encapsulacion. Una clase es un ejemplo de encapsulacion debido que enlaza todos los datos (variables de la instancia) y los metodos en una sola unidad.\n",
        "\n",
        "![](https://pynative.com/wp-content/uploads/2021/08/encapsulation_python_class.jpg)"
      ],
      "metadata": {
        "id": "92QNzacV52lA"
      }
    },
    {
      "cell_type": "markdown",
      "source": [
        "En este ejemplo, creamos la clase Employee (empleado), definiendo los atributos del empleado como variables de instancia: nombre y salario. Implementar los metodos work y show como metodos de la instancia.\n",
        "\n"
      ],
      "metadata": {
        "id": "WNy_RzEDXmiJ"
      }
    },
    {
      "cell_type": "code",
      "source": [
        "class Employee:\n",
        "    # constructor\n",
        "    def __init__(self, name, salary, project):\n",
        "        # data members\n",
        "        self.name = name\n",
        "        self.salary = salary\n",
        "        self.project = project\n",
        "\n",
        "    # method\n",
        "    # to display employee's details\n",
        "    def show(self):\n",
        "        # accessing public data member\n",
        "        print(\"Name: \", self.name, 'Salary:', self.salary)\n",
        "\n",
        "    # method\n",
        "    def work(self):\n",
        "        print(self.name, 'is working on', self.project)\n",
        "\n",
        "# creating object of a class\n",
        "emp = Employee('Jessa', 8000, 'NLP')\n",
        "\n",
        "# calling public method of the class\n",
        "emp.show()\n",
        "emp.work()"
      ],
      "metadata": {
        "id": "dqjJG5mo5dbL"
      },
      "execution_count": null,
      "outputs": []
    },
    {
      "cell_type": "markdown",
      "source": [
        "### 2.1 Miembros protegidos y acceso de modificadores\n",
        "Los metodos y atributos pueden ser privados o protegidos. Para en Python, no necesitamos acceso directo a los modificadores como publico, privado y protegido. Podemos realizaro esto simplemente usando el underscore (raya al piso) y doble underscore.\n",
        "\n",
        "Los modificadores de acceso limitan el acceso a las variables y metodos de una clase. Python provee tres tipos de acceso a los modificadores: privados, publicos y protegidos.\n",
        "* Miembro publico: Accesible desde cualquier parte por fuera de la clase.\n",
        "* Miembro privado: Accesible dentro de la clase.\n",
        "* Mientro Protegido: Accesible dentro de la clase y sus subclases.\n",
        "\n",
        "![](https://pynative.com/wp-content/uploads/2021/08/python_data_hiding.jpg)\n"
      ],
      "metadata": {
        "id": "C5BoRrCwWqt1"
      }
    },
    {
      "cell_type": "markdown",
      "source": [
        "**Miembros privados**:\n",
        "Podemos proteger las variables en la clase volviendolas privadas. Usamos la doble raya al piso como prefijo al comienzo del nombre de la variable.\n",
        "Los miembros privados solo se pueden acceder dentro de la clase, pero no podemos acceder a ellos directamente desde los objetos de la clase."
      ],
      "metadata": {
        "id": "FOdIfkTgjjfe"
      }
    },
    {
      "cell_type": "code",
      "source": [
        "class Employee:\n",
        "    # constructor\n",
        "    def __init__(self, name, salary):\n",
        "        # public data member\n",
        "        self.name = name\n",
        "        # private member\n",
        "        self.__salary = salary\n",
        "\n",
        "# creating object of a class\n",
        "emp = Employee('Jessa', 10000)\n",
        "\n",
        "# accessing private data members\n",
        "print('Salary:', emp.__salary)"
      ],
      "metadata": {
        "id": "iwPo4M8hUNVY"
      },
      "execution_count": null,
      "outputs": []
    },
    {
      "cell_type": "markdown",
      "source": [
        "Podemos acceder al miembro privado usando un metodo de la instancia."
      ],
      "metadata": {
        "id": "ryAeHXKpkQrV"
      }
    },
    {
      "cell_type": "code",
      "source": [
        "class Employee:\n",
        "    # constructor\n",
        "    def __init__(self, name, salary):\n",
        "        # public data member\n",
        "        self.name = name\n",
        "        # private member\n",
        "        self.__salary = salary\n",
        "\n",
        "    # public instance methods\n",
        "    def show(self):\n",
        "        # private members are accessible from a class\n",
        "        print(\"Name: \", self.name, 'Salary:', self.__salary)\n",
        "\n",
        "# creating object of a class\n",
        "emp = Employee('Jessa', 10000)\n",
        "\n",
        "# calling public method of the class\n",
        "emp.show()"
      ],
      "metadata": {
        "id": "Kam8tGVDkQDm"
      },
      "execution_count": null,
      "outputs": []
    },
    {
      "cell_type": "markdown",
      "source": [
        "**Miembro protegido**: Los miembros protegidos son accesibles dentro de la clase y tambien dentro de las sub-clases. Los miembros protegidos se definen iniciando con `_`."
      ],
      "metadata": {
        "id": "oGdETzY1kvJ3"
      }
    },
    {
      "cell_type": "code",
      "source": [
        "# base class\n",
        "class Company:\n",
        "    def __init__(self):\n",
        "        # Protected member\n",
        "        self._project = \"NLP\"\n",
        "\n",
        "# child class\n",
        "class Employee(Company):\n",
        "    def __init__(self, name):\n",
        "        self.name = name\n",
        "        Company.__init__(self)\n",
        "\n",
        "    def show(self):\n",
        "        print(\"Employee name :\", self.name)\n",
        "        # Accessing protected member in child class\n",
        "        print(\"Working on project :\", self._project)\n",
        "\n",
        "c = Employee(\"Jessa\")\n",
        "c.show()\n",
        "\n",
        "# Direct access protected data member\n",
        "print('Project:', c._project)"
      ],
      "metadata": {
        "id": "yHfXSAoflAfr"
      },
      "execution_count": null,
      "outputs": []
    }
  ],
  "metadata": {
    "kernelspec": {
      "display_name": "Python 3",
      "language": "python",
      "name": "python3"
    },
    "language_info": {
      "codemirror_mode": {
        "name": "ipython",
        "version": 3
      },
      "file_extension": ".py",
      "mimetype": "text/x-python",
      "name": "python",
      "nbconvert_exporter": "python",
      "pygments_lexer": "ipython3",
      "version": "3.7.6"
    },
    "colab": {
      "provenance": []
    }
  },
  "nbformat": 4,
  "nbformat_minor": 0
}