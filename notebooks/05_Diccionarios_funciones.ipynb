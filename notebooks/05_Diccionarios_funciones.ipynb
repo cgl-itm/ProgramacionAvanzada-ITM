{
  "cells": [
    {
      "cell_type": "markdown",
      "metadata": {
        "id": "OvinR0gHEIzi"
      },
      "source": [
        "# Clase 5:\n",
        "Notebook creado por los docentes Andres Castro y Leonardo Duque. Modificado por Cristian Guarnizo.\n",
        "\n",
        "### 1. Estructuras de datos:\n",
        "\n",
        "####  &nbsp;&nbsp;&nbsp;&nbsp;&nbsp;&nbsp;    1.2 Diccionarios\n",
        "\n",
        "### 2. Funciones"
      ]
    },
    {
      "cell_type": "markdown",
      "metadata": {
        "collapsed": true,
        "id": "OF_ndCorEIzy"
      },
      "source": [
        "## Diccionarios\n",
        "\n",
        "Una estructura de datos muy útil en Python es el diccionario, con la siguiente sintaxis:\n",
        "\n",
        "$diccionario$ = <font color=\"blue\" size=5>{</font> $key_1:elemento_1$, $key_2:elemento_2$, $key_3:elemento_3$,...,$key_n:elemento_n$ <font color=\"blue\" size=5>}</font>\n",
        "\n",
        "Donde $key_i$ se refiere a un indicador, llave o clave única para el elemento $i$. Observemos el siguiente ejemplo:"
      ]
    },
    {
      "cell_type": "code",
      "execution_count": null,
      "metadata": {
        "id": "WHWnTAfgEIzz"
      },
      "outputs": [],
      "source": [
        "dir(dict)"
      ]
    },
    {
      "cell_type": "code",
      "execution_count": null,
      "metadata": {
        "scrolled": true,
        "id": "lwlswYvBEIzz"
      },
      "outputs": [],
      "source": [
        "Dic = {\"primero\":1,\"segundo\": 2, \"letra\": 'a', 5.1 : [50,5,2,1,6]}\n",
        "\n",
        "print(type(Dic))\n",
        "print(Dic)\n",
        "\n",
        "print(Dic['primero'])\n",
        "print(Dic['letra'])\n",
        "\n",
        "print(Dic.keys())\n",
        "print(Dic.values())\n",
        "print(Dic.items())"
      ]
    },
    {
      "cell_type": "code",
      "source": [
        "Dic.setdefault?"
      ],
      "metadata": {
        "id": "LiWkyrCONroh"
      },
      "execution_count": null,
      "outputs": []
    },
    {
      "cell_type": "code",
      "source": [
        "key = 5.1\n",
        "if key in Dic.keys():\n",
        "    print(\"Si existe!\")"
      ],
      "metadata": {
        "id": "ylQnZJgFPoxB"
      },
      "execution_count": null,
      "outputs": []
    },
    {
      "cell_type": "code",
      "execution_count": null,
      "metadata": {
        "id": "UtSR9PJvEIz0"
      },
      "outputs": [],
      "source": [
        "print(Dic)\n",
        "# print(Dic[4])\n",
        "\n",
        "print(Dic.get(4))\n",
        "print(Dic.get(5.1,\"No existe\"))\n",
        "\n",
        "print(\"fin de la celda\")"
      ]
    },
    {
      "cell_type": "code",
      "execution_count": null,
      "metadata": {
        "id": "YOaeAhhWEIz1"
      },
      "outputs": [],
      "source": [
        "print(Dic.setdefault(8,5))\n",
        "print(Dic)\n",
        "print(Dic.setdefault(\"primero\",100))\n",
        "print(Dic)"
      ]
    },
    {
      "cell_type": "code",
      "execution_count": null,
      "metadata": {
        "id": "NnNTrDYNEIz1"
      },
      "outputs": [],
      "source": [
        "Dic[10] = [1,2,3,4,5]\n",
        "print(Dic)"
      ]
    },
    {
      "cell_type": "code",
      "execution_count": null,
      "metadata": {
        "id": "4xFpL74zEIz2"
      },
      "outputs": [],
      "source": [
        "Dic.clear()\n",
        "print(Dic)"
      ]
    },
    {
      "cell_type": "code",
      "execution_count": null,
      "metadata": {
        "id": "9PhL2JEmEIz2"
      },
      "outputs": [],
      "source": [
        "help(dict.fromkeys)"
      ]
    },
    {
      "cell_type": "code",
      "execution_count": null,
      "metadata": {
        "id": "HmlFfyvHEIz3"
      },
      "outputs": [],
      "source": [
        "Dic = Dic.fromkeys('aeiou',0)\n",
        "print(Dic)"
      ]
    },
    {
      "cell_type": "code",
      "execution_count": null,
      "metadata": {
        "id": "0fp1OVGREIz3"
      },
      "outputs": [],
      "source": [
        "Dic = Dic.fromkeys([0,10,20,30,40,50,60,70],0)\n",
        "print(Dic)"
      ]
    },
    {
      "cell_type": "code",
      "execution_count": null,
      "metadata": {
        "id": "tJeDdntKEIz3"
      },
      "outputs": [],
      "source": [
        "Dic[10] = 1000\n",
        "print(Dic)"
      ]
    },
    {
      "cell_type": "code",
      "execution_count": null,
      "metadata": {
        "scrolled": true,
        "id": "or-Xtr1pEIz4"
      },
      "outputs": [],
      "source": [
        "estudiantes = {\"Juan\":[22, \"Casas\", \"ITM\"], \"Pedro\":[23, \"Lopez\", \"Pascual Bravo\"]}\n",
        "estudiantes2 = {\"Juan\":[22, \"Casas\", \"ITM\"], \"Pedro\":[23, \"Lopez\", \"Pascual Bravo\"]}\n",
        "#Acceso al diccionario <estudiantes> en la llave \"Juan\"\n",
        "\n",
        "\n",
        "estudiantes[\"Andres\"] = [30,'Castro','ITM']\n",
        "estudiantes[\"Lizeth\"] = [20,'Verdugo','ITM']\n",
        "estudiantes[\"Juan\"] = [44,'Vanegas','Colegio Mayor','1234']\n",
        "\n",
        "print(estudiantes)\n"
      ]
    },
    {
      "cell_type": "code",
      "source": [
        "print(estudiantes.keys())"
      ],
      "metadata": {
        "id": "bZYEYXVIWFb0"
      },
      "execution_count": null,
      "outputs": []
    },
    {
      "cell_type": "code",
      "source": [
        "estudiantes.update?"
      ],
      "metadata": {
        "id": "vOngi5N2Rzz_"
      },
      "execution_count": null,
      "outputs": []
    },
    {
      "cell_type": "code",
      "execution_count": null,
      "metadata": {
        "id": "-WETLjwOEIz4"
      },
      "outputs": [],
      "source": [
        "print(estudiantes2)\n",
        "estudiantes2.update(estudiantes)\n",
        "print(estudiantes2)"
      ]
    },
    {
      "cell_type": "code",
      "execution_count": null,
      "metadata": {
        "id": "uf5jWj2jEIz5"
      },
      "outputs": [],
      "source": [
        "help(dict.pop)"
      ]
    },
    {
      "cell_type": "code",
      "execution_count": null,
      "metadata": {
        "id": "169KsERVEIz5"
      },
      "outputs": [],
      "source": [
        "T = estudiantes.pop('Juan')\n",
        "print(T)\n",
        "print(estudiantes)"
      ]
    },
    {
      "cell_type": "code",
      "execution_count": null,
      "metadata": {
        "id": "rZu5lJ0MEIz5"
      },
      "outputs": [],
      "source": [
        "T = estudiantes.pop('Jose',0)\n",
        "print(T)\n",
        "print(estudiantes)"
      ]
    },
    {
      "cell_type": "code",
      "execution_count": null,
      "metadata": {
        "id": "wYxhtRtxEIz6"
      },
      "outputs": [],
      "source": [
        "help(estudiantes.popitem)"
      ]
    },
    {
      "cell_type": "code",
      "execution_count": null,
      "metadata": {
        "id": "B9DFufXJEIz6"
      },
      "outputs": [],
      "source": [
        "k,v = estudiantes.popitem()\n",
        "print(k,v)\n",
        "print(estudiantes)"
      ]
    },
    {
      "cell_type": "markdown",
      "metadata": {
        "id": "oS4tynGDEIz6"
      },
      "source": [
        "## Iterar Diccionarios"
      ]
    },
    {
      "cell_type": "code",
      "execution_count": null,
      "metadata": {
        "id": "VuM8pGmrEIz7"
      },
      "outputs": [],
      "source": [
        "for k,v in estudiantes.items():\n",
        "    print(f\"Llave: {k} tiene valor {v}\")"
      ]
    },
    {
      "cell_type": "code",
      "execution_count": null,
      "metadata": {
        "id": "yvq7fUKtEIz7"
      },
      "outputs": [],
      "source": [
        "#llaves = estudiantes.keys()\n",
        "\n",
        "for key in estudiantes.keys():\n",
        "#     print(key)\n",
        "    print(f\"llave: {key}, tiene valor: {estudiantes[key]}\")"
      ]
    },
    {
      "cell_type": "code",
      "execution_count": null,
      "metadata": {
        "id": "g1efuFoAEIz7"
      },
      "outputs": [],
      "source": [
        "for v in estudiantes.values():\n",
        "    print(v)"
      ]
    },
    {
      "cell_type": "markdown",
      "metadata": {
        "id": "jCSy9NNrEIz8"
      },
      "source": [
        "### Llenando un diccionario\n",
        "\n",
        "Para ello analicemos el siguiente ejemplo:"
      ]
    },
    {
      "cell_type": "code",
      "execution_count": null,
      "metadata": {
        "id": "fiIMyG3LEIz8"
      },
      "outputs": [],
      "source": [
        "import math\n",
        "\n",
        "tabla_factorial = {} #diccionario vacio\n",
        "# tabla_factorial = dict()\n",
        "print(tabla_factorial)\n",
        "\n",
        "for i in range(15):\n",
        "    tabla_factorial[i] = math.factorial(i)\n",
        "\n",
        "print(tabla_factorial)"
      ]
    },
    {
      "cell_type": "code",
      "source": [
        "math.factorial(1000000)"
      ],
      "metadata": {
        "id": "6kbCwVBcYS_t"
      },
      "execution_count": null,
      "outputs": []
    },
    {
      "cell_type": "code",
      "execution_count": null,
      "metadata": {
        "id": "lEbY4CyLEIz8"
      },
      "outputs": [],
      "source": [
        "print(tabla_factorial[8])"
      ]
    },
    {
      "cell_type": "code",
      "execution_count": null,
      "metadata": {
        "id": "pFUinpG-EIz9"
      },
      "outputs": [],
      "source": [
        "for key, valor in tabla_factorial.items():\n",
        "    print(f\"factorial de {key} es {valor}\")"
      ]
    },
    {
      "cell_type": "markdown",
      "metadata": {
        "id": "AQd278prEIz9"
      },
      "source": [
        "## Ejercicios\n",
        "\n",
        "1. Itere una tupla de datos mixtos e imprima únicamente los valores enteros\n",
        "\n",
        "2. Imprima cada una de las claves de un diccionario\n",
        "\n",
        "3. Imprima cada uno de los valores de un diccionario\n",
        "\n",
        "4. Imprima ambas, clave y valor de un diccionario\n",
        "\n",
        "5. Estime el promedio de todos los valores numericos (flotantes y enteros) en un diccionario\n",
        "\n",
        "6. Actualice los valores numericos de un diccionario reduciendo un 25% de cada valor"
      ]
    },
    {
      "cell_type": "code",
      "execution_count": null,
      "metadata": {
        "id": "J0Mk3qzLEIz9"
      },
      "outputs": [],
      "source": [
        "t = (1,3,67,7.6,0.4,'d','F', 100, 'Hola', 8.9, 7+7j,7,1.4)\n",
        "print(t)\n",
        "\n",
        "#1. Itere una tupla de datos mixtos e imprima únicamente los valores enteros\n"
      ]
    },
    {
      "cell_type": "code",
      "execution_count": null,
      "metadata": {
        "id": "bFqVxMLOEIz-"
      },
      "outputs": [],
      "source": [
        "D = dict.fromkeys('Programacion Avanzada',0)\n",
        "print(D)\n",
        "\n",
        "# 2. Imprima cada una de las claves de un diccionario\n",
        "print(D.keys())\n",
        "\n",
        "for i in D.keys():\n",
        "    print(i)\n",
        "\n",
        "# 3. Imprima cada uno de los valores de un diccionario\n",
        "print(D.values())\n",
        "\n",
        "for i in D.values():\n",
        "    print(i)\n",
        "\n",
        "# 4. Imprima ambas, clave y valor de un diccionario\n",
        "for llave, valor in D.items():\n",
        "    print(f\"Llave={llave}, valor={valor}\")\n",
        "\n",
        "print(\"\\nOtra forma \\n\")\n",
        "for i in D.keys():\n",
        "    print(f\"Llave={i}, valor={D[i]}\")"
      ]
    },
    {
      "cell_type": "code",
      "execution_count": null,
      "metadata": {
        "id": "DBIhEIr3EIz-"
      },
      "outputs": [],
      "source": [
        "# 5. Estime el promedio de todos los valores en un diccionario\n",
        "\n",
        "D5 = {'elem1': 500, 'elem2': 1200, 'elem3': 700, 'elem4': 800, 'elem5':200}\n",
        "print(D5)\n",
        "\n",
        "suma = 0\n",
        "cont = 0\n",
        "\n",
        "for i in D5.values():\n",
        "    suma = suma + i\n",
        "    cont = cont + 1\n",
        "\n",
        "print(f\"Promedio={suma/cont}\")"
      ]
    },
    {
      "cell_type": "code",
      "execution_count": null,
      "metadata": {
        "id": "AMSibyzkEIz-"
      },
      "outputs": [],
      "source": [
        "Valores = D5.values()\n",
        "\n",
        "sum(Valores)/len(Valores)"
      ]
    },
    {
      "cell_type": "code",
      "execution_count": null,
      "metadata": {
        "id": "Ff-mu1XlEIz_"
      },
      "outputs": [],
      "source": [
        "# 5. Estime el promedio de todos los valores NUMERICOS en un diccionario\n",
        "D5 = {'elem1': 500.0, 'elem2': 1200.0, 'elem3': 700.0, 'elem4': 800.0, 'elem5':200,\n",
        "     \"elem6\": 'hola', \"elem7\":200}\n",
        "print(D5)\n",
        "\n",
        "suma = 0\n",
        "cont = 0\n",
        "\n",
        "for i in D5.values():\n",
        "    if (type(i) == int or type(i)==float):\n",
        "        suma = suma + i\n",
        "        cont = cont + 1\n",
        "\n",
        "print(f\"Promedio={suma/cont}\")"
      ]
    },
    {
      "cell_type": "code",
      "execution_count": null,
      "metadata": {
        "id": "tHMItbvwEIz_"
      },
      "outputs": [],
      "source": [
        "#Actualice los valores de un diccionario reduciendo un 25% de cada valor que sea numérico\n",
        "D5 = {'elem1': 500, 'elem2': 1200, 'elem3': 700, 'elem4': 800, 'elem5':200,\n",
        "      'elem6':'hola!', 'elem7':250.5}\n",
        "\n",
        "for llave,i in D5.items():\n",
        "    if (type(i) == int or type(i)==float):\n",
        "        v = i - i*0.25\n",
        "        D5[llave] = v\n",
        "\n",
        "print(D5)"
      ]
    },
    {
      "cell_type": "code",
      "execution_count": null,
      "metadata": {
        "id": "Nn9OvfNEEIz_"
      },
      "outputs": [],
      "source": [
        "#Actualice los valores de un diccionario reduciendo un 25% de cada valor que sea numérico\n",
        "D5 = {'elem1': 500, 'elem2': 1200, 'elem3': 700, 'elem4': 800, 'elem5':200,\n",
        "      'elem6':'hola!', 'elem7':250.5}\n",
        "\n",
        "for llave in D5.keys():\n",
        "    valor = D5[llave]\n",
        "    if (type(valor) == int or type(valor)==float):\n",
        "        valorNuevo = valor - valor*0.25\n",
        "        D5[llave] = valorNuevo\n",
        "\n",
        "print(D5)"
      ]
    },
    {
      "cell_type": "markdown",
      "metadata": {
        "id": "lrFlKiHxEI0A"
      },
      "source": [
        "# Funciones\n",
        "\n",
        "\n",
        "# Declaración de funciones\n",
        "\n",
        "En Python se utiliza la palabra reservada **def** para definir una función. La sintaxis es la siguiente:\n",
        "\n",
        "<br>\n",
        "\n",
        " **def** _nombreDeLaFuncion_ **(** $parametro_1, parametro_2, ..., parametro_n$ **):**\n",
        "\n",
        "A continuación un ejemplo:"
      ]
    },
    {
      "cell_type": "code",
      "execution_count": null,
      "metadata": {
        "id": "trp8BVpOEI0A"
      },
      "outputs": [],
      "source": [
        "def imprimirMensaje(nombre=\"Samuel\"):\n",
        "    '''\n",
        "    Docstring.\n",
        "    Procedimiento que imprime un mensaje utilizando un valor de entrada.\n",
        "\n",
        "    INPUT:\n",
        "        nombre: str\n",
        "    OUTPUT:\n",
        "        None\n",
        "    '''\n",
        "    if(type(nombre) != str): #validamos que el argumento <nombre> sea de tipo string\n",
        "        print(\"Error, el parámetro de entrada debe ser un str.\")\n",
        "    else:\n",
        "        print(f\"Hola {nombre}. Bienvenido al curso\")\n"
      ]
    },
    {
      "cell_type": "code",
      "source": [
        "print(imprimirMensaje())"
      ],
      "metadata": {
        "id": "VwFy2Ulpaiba"
      },
      "execution_count": null,
      "outputs": []
    },
    {
      "cell_type": "code",
      "execution_count": null,
      "metadata": {
        "id": "eLMAWeYGEI0A"
      },
      "outputs": [],
      "source": [
        "help(imprimirMensaje)\n",
        "# imprimirMensaje?"
      ]
    },
    {
      "cell_type": "code",
      "execution_count": null,
      "metadata": {
        "id": "jhBgVAr5EI0B"
      },
      "outputs": [],
      "source": [
        "#llamado a la funcion\n",
        "s = 'Miguel'\n",
        "\n",
        "imprimirMensaje(s)\n",
        "imprimirMensaje(98.86)"
      ]
    },
    {
      "cell_type": "markdown",
      "metadata": {
        "id": "34DstFJyEI0B"
      },
      "source": [
        "# Parámetros y argumentos\n",
        "\n",
        "Definiciones:\n",
        "\n",
        "1. **Parámetros**: Variables de la definición de la función y a las que son asignadas un valor al momento de llamar la función.\n",
        "2. **Argumentos**: Valores que son asignados a los parámetros de la función al momento del llamado.\n",
        "\n",
        "El número de parámetros que puede recibir una función es arbitrario, es decir, tantos como se necesiten."
      ]
    },
    {
      "cell_type": "code",
      "execution_count": null,
      "metadata": {
        "id": "5uFB3sfbEI0B"
      },
      "outputs": [],
      "source": [
        "def miFuncion(a,b,c,d): #parametros de la funcion: a, b, c, d\n",
        "    '''\n",
        "    Función que recibe cuatro parámetros y retorna el cuadrado del producto de ellos\n",
        "    '''\n",
        "    f = (a*b*c*d)\n",
        "\n",
        "    return f**2\n",
        "\n",
        "print(miFuncion(1,1,1,1))"
      ]
    },
    {
      "cell_type": "code",
      "execution_count": null,
      "metadata": {
        "id": "apKEP_vqEI0C"
      },
      "outputs": [],
      "source": [
        "resultado = miFuncion(1,2,3,1) #argumentos de la funcion\n",
        "print(resultado)"
      ]
    },
    {
      "cell_type": "markdown",
      "metadata": {
        "id": "-8_FH1K3EI0C"
      },
      "source": [
        "## Parámetros por defecto\n",
        "\n",
        "Python permite la asignación de valores por defecto a los parámetros de una función. Esto es, es posible asignar un valor por defecto a uno o varios parámetros de la función, de tal forma que si el usuario no ingresa un argumento para un parámetro, se asigna el valor por defecto a este último."
      ]
    },
    {
      "cell_type": "code",
      "execution_count": null,
      "metadata": {
        "id": "xckca_WBEI0C"
      },
      "outputs": [],
      "source": [
        "def miFuncion(a,b=1,c=1,d=2): #parametros de la funcion: a, b, c, d\n",
        "    '''\n",
        "    Función que recibe cuatro parámetros y retorna el cuadrado producto de ellos\n",
        "    '''\n",
        "    f = (a*b*c*d)\n",
        "\n",
        "    return f**2\n",
        "\n",
        "resultado = miFuncion(2) #argumentos de la funcion\n",
        "print(resultado)"
      ]
    },
    {
      "cell_type": "code",
      "execution_count": null,
      "metadata": {
        "id": "BhtQFyylEI0C"
      },
      "outputs": [],
      "source": [
        "def y(v0, t, g=9.8): #valor por defecto para el parámetro g\n",
        "    y = v0*t - 0.5*g*t**2\n",
        "\n",
        "    return y"
      ]
    },
    {
      "cell_type": "code",
      "execution_count": null,
      "metadata": {
        "id": "1abe-EtZEI0D"
      },
      "outputs": [],
      "source": [
        "for t in range(1,5):\n",
        "    print(\"tiempo: \"+str(t)+\" \"+str(y(5,t)))\n"
      ]
    },
    {
      "cell_type": "code",
      "execution_count": null,
      "metadata": {
        "id": "bCenhxcBEI0D"
      },
      "outputs": [],
      "source": [
        "for t1 in range(1,5):\n",
        "    print(\"tiempo: \"+str(t1),y(t = t1, v0 = 5)) #llamada a la funcion utilizando el valor por defecto para g"
      ]
    },
    {
      "cell_type": "markdown",
      "source": [
        "## *args y ***kwargs\n",
        "https://python-intermedio.readthedocs.io/es/latest/args_and_kwargs.html"
      ],
      "metadata": {
        "id": "fR-RertVZEpv"
      }
    },
    {
      "cell_type": "code",
      "source": [
        "def test_var_args(f_arg, *argv):\n",
        "    print(\"primer argumento normal:\", f_arg)\n",
        "    print(type(argv))\n",
        "    for arg in argv:\n",
        "        print(\"argumentos de *argv:\", arg)\n",
        "\n",
        "test_var_args('python', 'foo', 'bar')"
      ],
      "metadata": {
        "id": "soRzO2nBZt3Z"
      },
      "execution_count": null,
      "outputs": []
    },
    {
      "cell_type": "code",
      "source": [
        "def saludame(**kwargs):\n",
        "    for key, value in kwargs.items():\n",
        "        print(\"{0} = {1}\".format(key, value))\n",
        "\n",
        "saludame(nombre=\"Covadonga\", apellido = \"Verdugo\")"
      ],
      "metadata": {
        "id": "3nrfUkAJZDn5"
      },
      "execution_count": null,
      "outputs": []
    },
    {
      "cell_type": "markdown",
      "metadata": {
        "id": "wt1uCgnUEI0D"
      },
      "source": [
        "# 2.3. Valores de retorno\n",
        "\n",
        "Una función puede retornar un valor. En cuyo caso utilizamos la palabra reservada __return__.\n",
        "\n",
        "Sintaxis:\n",
        "    \n",
        "__return__ objeto_a_retornar\n"
      ]
    },
    {
      "cell_type": "code",
      "execution_count": null,
      "metadata": {
        "id": "epMYjJg5EI0E"
      },
      "outputs": [],
      "source": [
        "def cuad(x):\n",
        "    return x**2 #se retorna el valor x al cuadrado"
      ]
    },
    {
      "cell_type": "code",
      "execution_count": null,
      "metadata": {
        "id": "3NIe45VgEI0E"
      },
      "outputs": [],
      "source": [
        "x = 15\n",
        "\n",
        "Respuesta = cuad(x)\n",
        "\n",
        "print(Respuesta)\n",
        "print(type(Respuesta))\n",
        "print(cuad(x))"
      ]
    },
    {
      "cell_type": "markdown",
      "metadata": {
        "id": "G7X19Bp1EI0E"
      },
      "source": [
        "Una función con valor de retorno, equivale en el momento del llamado, al tipo de dato que retorna. Es decir, una función que devuelve o retorna un valor, soporta todas las operaciones del tipo de dato que retorna."
      ]
    },
    {
      "cell_type": "code",
      "execution_count": null,
      "metadata": {
        "id": "ZBTQxKH0EI0E"
      },
      "outputs": [],
      "source": [
        "import math\n",
        "\n",
        "x = 1\n",
        "y = math.sqrt(cuad(x) + 3.24) #estamos utilizando cuad(x) como un flotante\n",
        "\n",
        "print(y)"
      ]
    },
    {
      "cell_type": "markdown",
      "metadata": {
        "id": "6RGiunHYEI0F"
      },
      "source": [
        "## Múltiples valores de retorno\n",
        "\n",
        "En caso de que una funcion deba retornar más de un valor, podemos:\n",
        "\n",
        "1. __Agregar los elementos__ a retornar en una estructura de datos.\n",
        "2. __Retornar los elementos separados por coma (,)__: En este caso, Python se encarga de agregar automáticamente los elementos en una tupla."
      ]
    },
    {
      "cell_type": "code",
      "execution_count": null,
      "metadata": {
        "id": "NefRrG8eEI0F"
      },
      "outputs": [],
      "source": [
        "## definir una función que reciba dos números como parámetros, debemos\n",
        "## retornar la suma, la resta, el producto y la división de los\n",
        "## dos números\n",
        "\n",
        "def ejemplo(*args):\n",
        "    num1, num2, *_ = args\n",
        "    suma = num1+num2\n",
        "    resta = num1-num2\n",
        "    producto = num1*num2\n",
        "    division = num1/num2\n",
        "\n",
        "    lista = [suma, resta, producto, division]\n",
        "\n",
        "    return lista"
      ]
    },
    {
      "cell_type": "code",
      "source": [],
      "metadata": {
        "id": "fQaaDcSxicj7"
      },
      "execution_count": null,
      "outputs": []
    },
    {
      "cell_type": "code",
      "execution_count": null,
      "metadata": {
        "id": "bRJq_evWiiI5"
      },
      "outputs": [],
      "source": [
        "## definir una función que reciba dos números como parámetros, debemos\n",
        "## retornar la suma, la resta, el producto y la división de los\n",
        "## dos números\n",
        "\n",
        "def ejemplokwargs(**args):\n",
        "    num1 = args['e1']\n",
        "    num2 = args['e2']\n",
        "    suma = num1+num2\n",
        "    resta = num1-num2\n",
        "    producto = num1*num2\n",
        "    division = num1/num2\n",
        "\n",
        "    lista = [suma, resta, producto, division]\n",
        "\n",
        "    return lista"
      ]
    },
    {
      "cell_type": "code",
      "source": [
        "ejemplokwargs(e1=1,e2=2)"
      ],
      "metadata": {
        "id": "H4p25ZEignOo"
      },
      "execution_count": null,
      "outputs": []
    },
    {
      "cell_type": "code",
      "execution_count": null,
      "metadata": {
        "id": "hA6POQArEI0F"
      },
      "outputs": [],
      "source": [
        "a = 3\n",
        "b = 2\n",
        "\n",
        "L = ejemplo(a,b)\n",
        "print(type(L))\n",
        "print(L)\n",
        "print(L[2])"
      ]
    },
    {
      "cell_type": "code",
      "execution_count": null,
      "metadata": {
        "id": "o7EzeGKaEI0F"
      },
      "outputs": [],
      "source": [
        "def ejemplo2(num1,num2):\n",
        "    suma = num1+num2\n",
        "    resta = num1-num2\n",
        "    producto = num1*num2\n",
        "    division = num1/num2\n",
        "\n",
        "    dic = {\"s\":suma, \"r\": resta, \"p\":producto, \"div\":division}\n",
        "\n",
        "    return dic"
      ]
    },
    {
      "cell_type": "code",
      "source": [
        "dic = ejemplo2(1,2)\n",
        "print(dic['s'])"
      ],
      "metadata": {
        "id": "I_ZwFL2FlL0i"
      },
      "execution_count": null,
      "outputs": []
    },
    {
      "cell_type": "code",
      "execution_count": null,
      "metadata": {
        "id": "CdNS27uSEI0G"
      },
      "outputs": [],
      "source": [
        "a = 3\n",
        "\n",
        "L = ejemplo2(a,2)\n",
        "print(type(L))\n",
        "print(L)\n",
        "print(L[\"s\"])"
      ]
    },
    {
      "cell_type": "code",
      "source": [
        "a=3\n",
        "b=1\n",
        "def suma(a):\n",
        "  return a+b\n",
        "\n",
        "print(suma(1))\n",
        "print(a)"
      ],
      "metadata": {
        "id": "MBM_29-plrzA"
      },
      "execution_count": null,
      "outputs": []
    },
    {
      "cell_type": "code",
      "execution_count": null,
      "metadata": {
        "id": "PKG5o697EI0G"
      },
      "outputs": [],
      "source": [
        "def ejemplo3(num1,num2):\n",
        "    suma = num1+num2\n",
        "    resta = num1-num2\n",
        "    producto = num1*num2\n",
        "    division = num1/num2\n",
        "\n",
        "    return suma, resta, producto, division"
      ]
    },
    {
      "cell_type": "code",
      "execution_count": null,
      "metadata": {
        "id": "Qkkd37CKEI0G"
      },
      "outputs": [],
      "source": [
        "a = 3\n",
        "b = 2\n",
        "\n",
        "s,r,*c = ejemplo3(a,b)\n",
        "print(s,r,c)"
      ]
    },
    {
      "cell_type": "markdown",
      "metadata": {
        "id": "qY9Zw9QhEI0H"
      },
      "source": [
        "## Los elementos retornados se pueden almacenar de manera independiente"
      ]
    },
    {
      "cell_type": "code",
      "execution_count": null,
      "metadata": {
        "id": "EbyE6wnQEI0H"
      },
      "outputs": [],
      "source": [
        "s,r,p,d = ejemplo3(a,b) #unpacking\n",
        "\n",
        "print(type(s))\n",
        "print(s)\n",
        "print(type(r))\n",
        "print(r)\n",
        "print(type(p))\n",
        "print(p)\n",
        "print(type(d))\n",
        "print(d)"
      ]
    },
    {
      "cell_type": "markdown",
      "metadata": {
        "id": "3-dwoe-bEI0H"
      },
      "source": [
        "# Localidad y globalidad de una variable\n",
        "\n",
        "Una variable puede ser local o global respecto a una función, i.e., el valor de la variable puede existir de forma interna o externa a la función. Por definición, todo parámetro de una función es local a la misma."
      ]
    },
    {
      "cell_type": "code",
      "execution_count": null,
      "metadata": {
        "scrolled": true,
        "id": "CCeSkY6dEI0I"
      },
      "outputs": [],
      "source": [
        "c = 10 #c es una variable por fuera de la funcion suma, esto es, c es global\n",
        "\n",
        "def suma(a, b):\n",
        "    c = a + b #la variable c es local respecto a la funcion suma\n",
        "    return c\n",
        "\n",
        "print(\"Valor de c dentro de la funcion: \", suma(2, 4))\n",
        "print(\"Valor de c por fuera de la funcion: \", c)"
      ]
    },
    {
      "cell_type": "code",
      "execution_count": null,
      "metadata": {
        "id": "nUPnPs-cEI0I"
      },
      "outputs": [],
      "source": [
        "print(c)"
      ]
    },
    {
      "cell_type": "code",
      "source": [
        "dir(list)"
      ],
      "metadata": {
        "id": "Nmuw53wSVuJM"
      },
      "execution_count": null,
      "outputs": []
    },
    {
      "cell_type": "markdown",
      "metadata": {
        "id": "DW-BT362EI0I"
      },
      "source": [
        "# Ejercicios\n",
        "\n",
        "\n",
        "### 1. Escriba un programa que reciba los valores de dos catetos de un triángulo rectángulo y retorne el valor de la hipotenusa del triángulo.\n",
        "\n",
        "### 2. Se debe crear un programa que solicite números enteros a un usuario hasta que ingrese una 'Q'. Los números se deben almacenar en una lista, pero un número solo puede estar únicamente una vez. Es decir, aunque el usuario ingrese números repetidos, estos no se deben almacenar en la lista.\n",
        "\n",
        "### 3. Escribe un programa que lea una cadena y devuelva un diccionario con la cantidad de apariciones de cada caracter en la cadena.\n",
        "\n",
        "### 4. Crea un programa que pida dos número enteros al usuario y diga si alguno de ellos es múltiplo del otro. Crea un programa que reciba los dos números para evaluar si ambos son multiplos, y devuelve un valor booleano.\n",
        "\n",
        "### 5. Crea un programa “calcularMaxMin” que recibe una lista con valores numéricos y devuelve el valor máximo y el mínimo.\n",
        "\n",
        "### 6. Crear una función que reciba un año y retorne un valor booleano (True o False) si el año es bisiesto o no, respectivamente.\n",
        "\n",
        "### 7. Crear un programa que solicite una palabra e imprima el número de veces que aparece cada vocal\n",
        "\n",
        "### 8. Crear un programa que reciba una palabra e indique si es palíndrome"
      ]
    },
    {
      "cell_type": "code",
      "execution_count": null,
      "metadata": {
        "id": "RdX-5GUcEI0I"
      },
      "outputs": [],
      "source": [
        "# 1. Escriba una función que reciba los valores de dos catetos de un triángulo\n",
        "#rectángulo y retorne el valor de la hipotenusa del triángulo.\n",
        "\n",
        "#Como programa:\n",
        "cat1 = 12\n",
        "cat2 = 12\n",
        "\n",
        "hip = (cat1**2 +  cat2**2)**(1/2)\n",
        "print(hip)"
      ]
    },
    {
      "cell_type": "code",
      "execution_count": null,
      "metadata": {
        "id": "ncU-kKiMEI0J"
      },
      "outputs": [],
      "source": [
        "#Como funcion\n",
        "\n",
        "def hipotenusa(cat1, cat2):\n",
        "    return (cat1**2 +  cat2**2)**(1/2)"
      ]
    },
    {
      "cell_type": "code",
      "execution_count": null,
      "metadata": {
        "id": "UcSx5W8tEI0J"
      },
      "outputs": [],
      "source": [
        "print(hipotenusa(4,3))\n",
        "print(hipotenusa(10,20))\n",
        "H5 = hipotenusa(12,12)\n",
        "print(H5)"
      ]
    },
    {
      "cell_type": "code",
      "execution_count": null,
      "metadata": {
        "id": "kulKEIGkvC3Q"
      },
      "outputs": [],
      "source": [
        "# 2. Se debe crear un programa que solicite números enteros a un usuario hasta que\n",
        "#ingrese una 'Q'. Los números se deben almacenar en una lista, pero un número\n",
        "#solo puede estar únicamente una vez. Es decir, aunque el usuario ingrese números\n",
        "#repetidos, estos no se deben almacenar en la lista.\n",
        "\n"
      ]
    },
    {
      "cell_type": "code",
      "execution_count": null,
      "metadata": {
        "id": "X66DFjTSEI0K"
      },
      "outputs": [],
      "source": [
        "#3. Escribe un programa que lea una cadena de caracteres y devuelva un diccionario con la\n",
        "# cantidad de apariciones de cada caracter en la cadena.\n",
        "\n",
        "# si se ingresa 'Holaaaa' --> {'H':1, 'o':1, 'l':1, 'a':4}\n",
        "\n"
      ]
    },
    {
      "cell_type": "code",
      "execution_count": null,
      "metadata": {
        "id": "gxu7HeMhEI0L"
      },
      "outputs": [],
      "source": [
        "# 4. Crea un programa que pida dos número enteros al usuario y diga si alguno de\n",
        "# ellos es múltiplo del otro. Crea una función EsMultiplo que reciba los dos números,\n",
        "# y devuelve un valor booleano.\n"
      ]
    },
    {
      "cell_type": "code",
      "execution_count": null,
      "metadata": {
        "id": "dGeofxu6EI0L"
      },
      "outputs": [],
      "source": [
        "# 5. Crea una función “calcularMaxMin” que recibe una lista con valores numéricos\n",
        "# y devuelve el valor máximo y el mínimo.\n"
      ]
    },
    {
      "cell_type": "code",
      "execution_count": null,
      "metadata": {
        "id": "NQ5_5QbbEI0L"
      },
      "outputs": [],
      "source": [
        "# 6. Crear una función que reciba un año y retorne un valor booleano (True o False)\n",
        "# si el año es bisiesto o no, respectivamente.\n",
        "\n",
        "# Un año es bisiesto si es divisible entre 400 o si\n",
        "# es múltiplo de 4 y no divisible por 100\n"
      ]
    },
    {
      "cell_type": "code",
      "execution_count": null,
      "metadata": {
        "id": "yn66pgyAEI0L"
      },
      "outputs": [],
      "source": [
        "# 7. Crear un programa que solicite una palabra e imprima\n",
        "# el número de veces que aparece cada vocal\n",
        "\n"
      ]
    },
    {
      "cell_type": "code",
      "execution_count": null,
      "metadata": {
        "id": "zrxcEei1EI0L"
      },
      "outputs": [],
      "source": [
        "# 8. Programa que reciba una palabra e indique si es palíndrome\n"
      ]
    }
  ],
  "metadata": {
    "kernelspec": {
      "display_name": "Python 3",
      "language": "python",
      "name": "python3"
    },
    "language_info": {
      "codemirror_mode": {
        "name": "ipython",
        "version": 3
      },
      "file_extension": ".py",
      "mimetype": "text/x-python",
      "name": "python",
      "nbconvert_exporter": "python",
      "pygments_lexer": "ipython3",
      "version": "3.7.6"
    },
    "colab": {
      "provenance": [],
      "collapsed_sections": [
        "oS4tynGDEIz6",
        "jCSy9NNrEIz8",
        "AQd278prEIz9",
        "-8_FH1K3EI0C"
      ]
    }
  },
  "nbformat": 4,
  "nbformat_minor": 0
}