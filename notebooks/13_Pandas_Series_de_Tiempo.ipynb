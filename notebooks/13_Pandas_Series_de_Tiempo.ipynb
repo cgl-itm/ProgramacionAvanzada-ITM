{
  "cells": [
    {
      "cell_type": "markdown",
      "metadata": {
        "id": "GWKuCGedAPCz"
      },
      "source": [
        "<p><font size=\"6\"><b>Pandas para Series de Tiempo</b></font></p>"
      ]
    },
    {
      "cell_type": "markdown",
      "source": [
        "Tomado y traducido de https://github.com/jorisvandenbossche/pandas-tutorial, Tutorial de  Joris Van den Bossche and Stijn Van Hoey (mailto:jorisvandenbossche@gmail.com, mailto:stijnvanhoey@gmail.com), todo el credito a ellos."
      ],
      "metadata": {
        "id": "UYZNaqbmAXa3"
      }
    },
    {
      "cell_type": "code",
      "execution_count": null,
      "metadata": {
        "collapsed": true,
        "run_control": {
          "frozen": false,
          "read_only": false
        },
        "id": "8Saiq65-APC1"
      },
      "outputs": [],
      "source": [
        "%matplotlib inline\n",
        "import pandas as pd\n",
        "import numpy as np\n",
        "import matplotlib.pyplot as plt\n",
        "\n",
        "pd.options.display.max_rows = 8 #Cantidad maxima de filas en el plot"
      ]
    },
    {
      "cell_type": "markdown",
      "metadata": {
        "id": "bY2wYPdWAPC2"
      },
      "source": [
        "# Introduccion: Modulo `datetime`"
      ]
    },
    {
      "cell_type": "markdown",
      "metadata": {
        "id": "yXkdmDmnAPC2"
      },
      "source": [
        "Python contiene el modulo `datetime` para manejar datos de fecha y hora:"
      ]
    },
    {
      "cell_type": "code",
      "execution_count": null,
      "metadata": {
        "collapsed": true,
        "run_control": {
          "frozen": false,
          "read_only": false
        },
        "id": "x7pXtQ4iAPC2"
      },
      "outputs": [],
      "source": [
        "import datetime"
      ]
    },
    {
      "cell_type": "code",
      "execution_count": null,
      "metadata": {
        "collapsed": true,
        "run_control": {
          "frozen": false,
          "read_only": false
        },
        "colab": {
          "base_uri": "https://localhost:8080/"
        },
        "id": "robCUQxFAPC2",
        "outputId": "4524644f-97fe-477d-edb6-eec9389a17ec"
      },
      "outputs": [
        {
          "output_type": "execute_result",
          "data": {
            "text/plain": [
              "datetime.datetime(2016, 12, 19, 13, 30)"
            ]
          },
          "metadata": {},
          "execution_count": 3
        }
      ],
      "source": [
        "#Se crea una variable con la fecha y hora especfica y se imprime\n",
        "dt = datetime.datetime(year=2016, month=12, day=19, hour=13, minute=30)\n",
        "dt\n"
      ]
    },
    {
      "cell_type": "code",
      "execution_count": null,
      "metadata": {
        "collapsed": true,
        "run_control": {
          "frozen": false,
          "read_only": false
        },
        "colab": {
          "base_uri": "https://localhost:8080/"
        },
        "id": "BXKTePxoAPC2",
        "outputId": "46b6a0b9-1e3d-478b-d1a5-56eb66f76448"
      },
      "outputs": [
        {
          "output_type": "stream",
          "name": "stdout",
          "text": [
            "2016-12-19 13:30:00\n"
          ]
        }
      ],
      "source": [
        "print(dt) # .day,..."
      ]
    },
    {
      "cell_type": "code",
      "execution_count": null,
      "metadata": {
        "collapsed": true,
        "run_control": {
          "frozen": false,
          "read_only": false
        },
        "colab": {
          "base_uri": "https://localhost:8080/"
        },
        "id": "hoULhKXUAPC3",
        "outputId": "1c7fbb8c-3bb0-4ad0-e809-80082bd0e9a0"
      },
      "outputs": [
        {
          "output_type": "stream",
          "name": "stdout",
          "text": [
            "19 December 2016\n"
          ]
        }
      ],
      "source": [
        "print(dt.strftime(\"%d %B %Y\"))"
      ]
    },
    {
      "cell_type": "markdown",
      "metadata": {
        "id": "8IxRYnfAAPC3"
      },
      "source": [
        "# Fechas y tiempos en Pandas"
      ]
    },
    {
      "cell_type": "markdown",
      "metadata": {
        "id": "5a_Znx-PAPC3"
      },
      "source": [
        "## El objeto ``Timestamp``"
      ]
    },
    {
      "cell_type": "markdown",
      "metadata": {
        "id": "yRq4Ao8ZAPC3"
      },
      "source": [
        "Pandas tiene sus propios objetos de fecha y tiempo (hora), los cuales son compatibles con el objeto estandar `datetime`, pero provee algunas mas funcionalidades para trabar con él.  \n",
        "\n",
        "El objeto `Timestamp` puede tambien ser construido desde un string (cadena de caracteres `str`):"
      ]
    },
    {
      "cell_type": "code",
      "execution_count": null,
      "metadata": {
        "collapsed": true,
        "run_control": {
          "frozen": false,
          "read_only": false
        },
        "colab": {
          "base_uri": "https://localhost:8080/"
        },
        "id": "Nm2Yu3aNAPC3",
        "outputId": "6ae97e93-1b4b-4297-ecc3-8e521a0d1043"
      },
      "outputs": [
        {
          "output_type": "execute_result",
          "data": {
            "text/plain": [
              "Timestamp('2016-12-19 00:00:00')"
            ]
          },
          "metadata": {},
          "execution_count": 6
        }
      ],
      "source": [
        "ts = pd.Timestamp('2016-12-19')\n",
        "ts"
      ]
    },
    {
      "cell_type": "markdown",
      "metadata": {
        "id": "7Aj9bggVAPC3"
      },
      "source": [
        "Asi como con los objetos `datetime.datetime`, existen muchos atributos utiles disponibles en `Timestamp`. Por ejemplo, podemos obtener el mes de cada registro:"
      ]
    },
    {
      "cell_type": "code",
      "execution_count": null,
      "metadata": {
        "collapsed": true,
        "run_control": {
          "frozen": false,
          "read_only": false
        },
        "colab": {
          "base_uri": "https://localhost:8080/"
        },
        "id": "sj0Y9NdUAPC4",
        "outputId": "a1c9264c-399d-4bf9-c810-755bfe3aa29a"
      },
      "outputs": [
        {
          "output_type": "execute_result",
          "data": {
            "text/plain": [
              "12"
            ]
          },
          "metadata": {},
          "execution_count": 7
        }
      ],
      "source": [
        "ts.month"
      ]
    },
    {
      "cell_type": "code",
      "execution_count": null,
      "metadata": {
        "collapsed": true,
        "run_control": {
          "frozen": false,
          "read_only": false
        },
        "colab": {
          "base_uri": "https://localhost:8080/"
        },
        "id": "W8qP2dXRAPC4",
        "outputId": "5f6657a4-f98b-418c-a9ff-c5f9336e8b99"
      },
      "outputs": [
        {
          "output_type": "execute_result",
          "data": {
            "text/plain": [
              "Timestamp('2016-12-24 00:00:00')"
            ]
          },
          "metadata": {},
          "execution_count": 8
        }
      ],
      "source": [
        "ts + pd.Timedelta('5 days')"
      ]
    },
    {
      "cell_type": "markdown",
      "metadata": {
        "id": "Nu93vyHuAPC4"
      },
      "source": [
        "### Analizando los strings de `datetime`"
      ]
    },
    {
      "cell_type": "markdown",
      "metadata": {
        "id": "t6XprbzzAPC4"
      },
      "source": [
        "![](http://imgs.xkcd.com/comics/iso_8601.png)\n"
      ]
    },
    {
      "cell_type": "markdown",
      "metadata": {
        "id": "BTg1WJM8APC4"
      },
      "source": [
        "Desafortunadamente, cuando se trabaja con datos reales, se encuentran muchos formatos `datetime` diferentes. La mayoria de ellos vienen con el formato de texto de un archivo `CSV`. Para trabajar con estos datos en Pandas, primero debemos hacer un *parsing* de los caracteres a objetos de tipo `Timestamp`."
      ]
    },
    {
      "cell_type": "markdown",
      "metadata": {
        "id": "XAy0spVKAPC4"
      },
      "source": [
        "<div class=\"alert alert-info\">\n",
        "<b>RECUERDA</b>: <br><br>\n",
        "\n",
        "De fechas en formato *string* a objetos `Timestamp`: Funcion `to_datetime`\n",
        "</div>\n",
        "\n"
      ]
    },
    {
      "cell_type": "code",
      "execution_count": null,
      "metadata": {
        "collapsed": true,
        "run_control": {
          "frozen": false,
          "read_only": false
        },
        "colab": {
          "base_uri": "https://localhost:8080/"
        },
        "id": "ih9CjmhkAPC4",
        "outputId": "588c48fc-c810-44b0-8016-98d435d60957"
      },
      "outputs": [
        {
          "output_type": "execute_result",
          "data": {
            "text/plain": [
              "Timestamp('2016-12-09 00:00:00')"
            ]
          },
          "metadata": {},
          "execution_count": 9
        }
      ],
      "source": [
        "pd.to_datetime(\"2016-12-09\")"
      ]
    },
    {
      "cell_type": "code",
      "execution_count": null,
      "metadata": {
        "collapsed": true,
        "run_control": {
          "frozen": false,
          "read_only": false
        },
        "colab": {
          "base_uri": "https://localhost:8080/"
        },
        "id": "IF72RQyeAPC5",
        "outputId": "152e7b9e-523f-4faf-a843-4c30e152d049"
      },
      "outputs": [
        {
          "output_type": "execute_result",
          "data": {
            "text/plain": [
              "Timestamp('2016-09-12 00:00:00')"
            ]
          },
          "metadata": {},
          "execution_count": 10
        }
      ],
      "source": [
        "pd.to_datetime(\"09/12/2016\")"
      ]
    },
    {
      "cell_type": "code",
      "execution_count": null,
      "metadata": {
        "collapsed": true,
        "run_control": {
          "frozen": false,
          "read_only": false
        },
        "colab": {
          "base_uri": "https://localhost:8080/"
        },
        "id": "AyU9wfq_APC5",
        "outputId": "0907a9f8-a209-4742-bb04-cdb2f1e8d419"
      },
      "outputs": [
        {
          "output_type": "execute_result",
          "data": {
            "text/plain": [
              "Timestamp('2016-12-09 00:00:00')"
            ]
          },
          "metadata": {},
          "execution_count": 11
        }
      ],
      "source": [
        "pd.to_datetime(\"09/12/2016\", dayfirst=True)"
      ]
    },
    {
      "cell_type": "code",
      "execution_count": null,
      "metadata": {
        "collapsed": true,
        "run_control": {
          "frozen": false,
          "read_only": false
        },
        "colab": {
          "base_uri": "https://localhost:8080/"
        },
        "id": "1V9hyG-KAPC5",
        "outputId": "203d847b-b8a9-42e4-cf82-288a11cd88ce"
      },
      "outputs": [
        {
          "output_type": "execute_result",
          "data": {
            "text/plain": [
              "Timestamp('2016-12-09 00:00:00')"
            ]
          },
          "metadata": {},
          "execution_count": 12
        }
      ],
      "source": [
        "pd.to_datetime(\"09/12/2016\", format=\"%d/%m/%Y\")"
      ]
    },
    {
      "cell_type": "markdown",
      "metadata": {
        "collapsed": true,
        "id": "AvJ-PNKqAPC5"
      },
      "source": [
        "Una descripcion detallada de como especificar el formato de la cadena de caracteres (*string*), esta disponible en: https://docs.python.org/3.5/library/datetime.html#strftime-and-strptime-behavior"
      ]
    },
    {
      "cell_type": "markdown",
      "metadata": {
        "id": "A3qR6cFEAPC5"
      },
      "source": [
        "## Datos de tipo `Timestamp` en una columna de una `Series` o `DataFrame`de Pandas"
      ]
    },
    {
      "cell_type": "code",
      "execution_count": null,
      "metadata": {
        "collapsed": true,
        "run_control": {
          "frozen": false,
          "read_only": false
        },
        "id": "2srPfCDCAPC5"
      },
      "outputs": [],
      "source": [
        "s = pd.Series(['2016-12-09 10:00:00', '2016-12-09, 11:00:00', '2016-12-09 12:00:00'])"
      ]
    },
    {
      "cell_type": "markdown",
      "metadata": {
        "id": "y7aCHCiQAPC5"
      },
      "source": [
        "La funcion `to_datetime` puede tambien ser usada para convertir una serie completa de *strings*:"
      ]
    },
    {
      "cell_type": "code",
      "execution_count": null,
      "metadata": {
        "collapsed": true,
        "run_control": {
          "frozen": false,
          "read_only": false
        },
        "id": "LQNZGFvGAPC5"
      },
      "outputs": [],
      "source": [
        "ts = pd.to_datetime(s)"
      ]
    },
    {
      "cell_type": "code",
      "execution_count": null,
      "metadata": {
        "collapsed": true,
        "run_control": {
          "frozen": false,
          "read_only": false
        },
        "colab": {
          "base_uri": "https://localhost:8080/"
        },
        "id": "s16QydUOAPC5",
        "outputId": "8564ca46-9078-4142-efff-503b0cbef22d"
      },
      "outputs": [
        {
          "output_type": "execute_result",
          "data": {
            "text/plain": [
              "0   2016-12-09 10:00:00\n",
              "1   2016-12-09 11:00:00\n",
              "2   2016-12-09 12:00:00\n",
              "dtype: datetime64[ns]"
            ]
          },
          "metadata": {},
          "execution_count": 15
        }
      ],
      "source": [
        "ts"
      ]
    },
    {
      "cell_type": "markdown",
      "metadata": {
        "id": "R_vG8v39APC6"
      },
      "source": [
        "Note que el tipo de dato de esta serie: el `datetime64[ns]` dtype. Esto indica que tenemos series de valores de tipo `datetime`."
      ]
    },
    {
      "cell_type": "markdown",
      "metadata": {
        "id": "DieOC2akAPC6"
      },
      "source": [
        "Los mismos atributos como en `Timestamp` singulares tambien estan disponibles en una Serie con datos de tipo `datetime`,  usando el *accesor* **`.dt`**:"
      ]
    },
    {
      "cell_type": "code",
      "execution_count": null,
      "metadata": {
        "collapsed": true,
        "run_control": {
          "frozen": false,
          "read_only": false
        },
        "scrolled": true,
        "colab": {
          "base_uri": "https://localhost:8080/"
        },
        "id": "xGPdHeLvAPC6",
        "outputId": "a2034f6a-a105-4437-d6b9-1bfcb3fe0875"
      },
      "outputs": [
        {
          "output_type": "execute_result",
          "data": {
            "text/plain": [
              "0    10\n",
              "1    11\n",
              "2    12\n",
              "dtype: int64"
            ]
          },
          "metadata": {},
          "execution_count": 16
        }
      ],
      "source": [
        "ts.dt.hour"
      ]
    },
    {
      "cell_type": "code",
      "execution_count": null,
      "metadata": {
        "collapsed": true,
        "run_control": {
          "frozen": false,
          "read_only": false
        },
        "colab": {
          "base_uri": "https://localhost:8080/"
        },
        "id": "2LdEXEwIAPC6",
        "outputId": "e60971ff-5c68-4e27-b3cc-f9a0b1e7a40c"
      },
      "outputs": [
        {
          "output_type": "execute_result",
          "data": {
            "text/plain": [
              "0    4\n",
              "1    4\n",
              "2    4\n",
              "dtype: int64"
            ]
          },
          "metadata": {},
          "execution_count": 17
        }
      ],
      "source": [
        "ts.dt.weekday"
      ]
    },
    {
      "cell_type": "markdown",
      "metadata": {
        "id": "4vNc3RaSAPC6"
      },
      "source": [
        "Para construir rapidamente un conjunto de datos de tipo tiempo, usar la funcion [``pd.date_range``](http://pandas.pydata.org/pandas-docs/stable/generated/pandas.date_range.html) :"
      ]
    },
    {
      "cell_type": "code",
      "execution_count": null,
      "metadata": {
        "collapsed": true,
        "run_control": {
          "frozen": false,
          "read_only": false
        },
        "colab": {
          "base_uri": "https://localhost:8080/"
        },
        "id": "V50WyU7yAPC6",
        "outputId": "a8a09906-c202-4b25-b690-3fd5aded0e3a"
      },
      "outputs": [
        {
          "output_type": "execute_result",
          "data": {
            "text/plain": [
              "0   2016-01-01 00:00:00\n",
              "1   2016-01-01 03:00:00\n",
              "2   2016-01-01 06:00:00\n",
              "3   2016-01-01 09:00:00\n",
              "            ...        \n",
              "6   2016-01-01 18:00:00\n",
              "7   2016-01-01 21:00:00\n",
              "8   2016-01-02 00:00:00\n",
              "9   2016-01-02 03:00:00\n",
              "Length: 10, dtype: datetime64[ns]"
            ]
          },
          "metadata": {},
          "execution_count": 18
        }
      ],
      "source": [
        "pd.Series(pd.date_range(start=\"2016-01-01\", periods=10, freq='3H'))"
      ]
    },
    {
      "cell_type": "markdown",
      "metadata": {
        "id": "W8dn3ig9APC6"
      },
      "source": [
        "# Datos de series de tiempo: `Timestamp` en el indice (*index*)"
      ]
    },
    {
      "cell_type": "markdown",
      "metadata": {
        "id": "PQ2iFr8JAPC6"
      },
      "source": [
        "## Ejemplo: Datos de descarga de un rio"
      ]
    },
    {
      "cell_type": "markdown",
      "metadata": {
        "id": "gwQE1ve2APC7"
      },
      "source": [
        "Para la siguiente demostracion de las funcionalidades de las series de tiempo, usamos un ejemplo de datos de descarga de; rio Marrkebeek (Flanders) con 3 horas de valores promediados, tomados de [Waterinfo website](https://www.waterinfo.be/)."
      ]
    },
    {
      "cell_type": "code",
      "execution_count": null,
      "metadata": {
        "collapsed": true,
        "run_control": {
          "frozen": false,
          "read_only": false
        },
        "id": "5r3x6uuIAPC7"
      },
      "outputs": [],
      "source": [
        "data_link = \"https://raw.githubusercontent.com/jorisvandenbossche/pandas-tutorial/master/data/flowdata.csv\"\n",
        "data = pd.read_csv(data_link)"
      ]
    },
    {
      "cell_type": "code",
      "execution_count": null,
      "metadata": {
        "collapsed": true,
        "run_control": {
          "frozen": false,
          "read_only": false
        },
        "colab": {
          "base_uri": "https://localhost:8080/",
          "height": 206
        },
        "id": "mpfHYNphAPC7",
        "outputId": "6d3931f1-77bf-498a-8937-0e81f133dbc7"
      },
      "outputs": [
        {
          "output_type": "execute_result",
          "data": {
            "text/plain": [
              "                  Time   L06_347  LS06_347  LS06_348\n",
              "0  2009-01-01 00:00:00  0.137417  0.097500  0.016833\n",
              "1  2009-01-01 03:00:00  0.131250  0.088833  0.016417\n",
              "2  2009-01-01 06:00:00  0.113500  0.091250  0.016750\n",
              "3  2009-01-01 09:00:00  0.135750  0.091500  0.016250\n",
              "4  2009-01-01 12:00:00  0.140917  0.096167  0.017000"
            ],
            "text/html": [
              "\n",
              "  <div id=\"df-6067a7bd-35e4-48a7-a949-2044befdcd63\">\n",
              "    <div class=\"colab-df-container\">\n",
              "      <div>\n",
              "<style scoped>\n",
              "    .dataframe tbody tr th:only-of-type {\n",
              "        vertical-align: middle;\n",
              "    }\n",
              "\n",
              "    .dataframe tbody tr th {\n",
              "        vertical-align: top;\n",
              "    }\n",
              "\n",
              "    .dataframe thead th {\n",
              "        text-align: right;\n",
              "    }\n",
              "</style>\n",
              "<table border=\"1\" class=\"dataframe\">\n",
              "  <thead>\n",
              "    <tr style=\"text-align: right;\">\n",
              "      <th></th>\n",
              "      <th>Time</th>\n",
              "      <th>L06_347</th>\n",
              "      <th>LS06_347</th>\n",
              "      <th>LS06_348</th>\n",
              "    </tr>\n",
              "  </thead>\n",
              "  <tbody>\n",
              "    <tr>\n",
              "      <th>0</th>\n",
              "      <td>2009-01-01 00:00:00</td>\n",
              "      <td>0.137417</td>\n",
              "      <td>0.097500</td>\n",
              "      <td>0.016833</td>\n",
              "    </tr>\n",
              "    <tr>\n",
              "      <th>1</th>\n",
              "      <td>2009-01-01 03:00:00</td>\n",
              "      <td>0.131250</td>\n",
              "      <td>0.088833</td>\n",
              "      <td>0.016417</td>\n",
              "    </tr>\n",
              "    <tr>\n",
              "      <th>2</th>\n",
              "      <td>2009-01-01 06:00:00</td>\n",
              "      <td>0.113500</td>\n",
              "      <td>0.091250</td>\n",
              "      <td>0.016750</td>\n",
              "    </tr>\n",
              "    <tr>\n",
              "      <th>3</th>\n",
              "      <td>2009-01-01 09:00:00</td>\n",
              "      <td>0.135750</td>\n",
              "      <td>0.091500</td>\n",
              "      <td>0.016250</td>\n",
              "    </tr>\n",
              "    <tr>\n",
              "      <th>4</th>\n",
              "      <td>2009-01-01 12:00:00</td>\n",
              "      <td>0.140917</td>\n",
              "      <td>0.096167</td>\n",
              "      <td>0.017000</td>\n",
              "    </tr>\n",
              "  </tbody>\n",
              "</table>\n",
              "</div>\n",
              "      <button class=\"colab-df-convert\" onclick=\"convertToInteractive('df-6067a7bd-35e4-48a7-a949-2044befdcd63')\"\n",
              "              title=\"Convert this dataframe to an interactive table.\"\n",
              "              style=\"display:none;\">\n",
              "        \n",
              "  <svg xmlns=\"http://www.w3.org/2000/svg\" height=\"24px\"viewBox=\"0 0 24 24\"\n",
              "       width=\"24px\">\n",
              "    <path d=\"M0 0h24v24H0V0z\" fill=\"none\"/>\n",
              "    <path d=\"M18.56 5.44l.94 2.06.94-2.06 2.06-.94-2.06-.94-.94-2.06-.94 2.06-2.06.94zm-11 1L8.5 8.5l.94-2.06 2.06-.94-2.06-.94L8.5 2.5l-.94 2.06-2.06.94zm10 10l.94 2.06.94-2.06 2.06-.94-2.06-.94-.94-2.06-.94 2.06-2.06.94z\"/><path d=\"M17.41 7.96l-1.37-1.37c-.4-.4-.92-.59-1.43-.59-.52 0-1.04.2-1.43.59L10.3 9.45l-7.72 7.72c-.78.78-.78 2.05 0 2.83L4 21.41c.39.39.9.59 1.41.59.51 0 1.02-.2 1.41-.59l7.78-7.78 2.81-2.81c.8-.78.8-2.07 0-2.86zM5.41 20L4 18.59l7.72-7.72 1.47 1.35L5.41 20z\"/>\n",
              "  </svg>\n",
              "      </button>\n",
              "      \n",
              "  <style>\n",
              "    .colab-df-container {\n",
              "      display:flex;\n",
              "      flex-wrap:wrap;\n",
              "      gap: 12px;\n",
              "    }\n",
              "\n",
              "    .colab-df-convert {\n",
              "      background-color: #E8F0FE;\n",
              "      border: none;\n",
              "      border-radius: 50%;\n",
              "      cursor: pointer;\n",
              "      display: none;\n",
              "      fill: #1967D2;\n",
              "      height: 32px;\n",
              "      padding: 0 0 0 0;\n",
              "      width: 32px;\n",
              "    }\n",
              "\n",
              "    .colab-df-convert:hover {\n",
              "      background-color: #E2EBFA;\n",
              "      box-shadow: 0px 1px 2px rgba(60, 64, 67, 0.3), 0px 1px 3px 1px rgba(60, 64, 67, 0.15);\n",
              "      fill: #174EA6;\n",
              "    }\n",
              "\n",
              "    [theme=dark] .colab-df-convert {\n",
              "      background-color: #3B4455;\n",
              "      fill: #D2E3FC;\n",
              "    }\n",
              "\n",
              "    [theme=dark] .colab-df-convert:hover {\n",
              "      background-color: #434B5C;\n",
              "      box-shadow: 0px 1px 3px 1px rgba(0, 0, 0, 0.15);\n",
              "      filter: drop-shadow(0px 1px 2px rgba(0, 0, 0, 0.3));\n",
              "      fill: #FFFFFF;\n",
              "    }\n",
              "  </style>\n",
              "\n",
              "      <script>\n",
              "        const buttonEl =\n",
              "          document.querySelector('#df-6067a7bd-35e4-48a7-a949-2044befdcd63 button.colab-df-convert');\n",
              "        buttonEl.style.display =\n",
              "          google.colab.kernel.accessAllowed ? 'block' : 'none';\n",
              "\n",
              "        async function convertToInteractive(key) {\n",
              "          const element = document.querySelector('#df-6067a7bd-35e4-48a7-a949-2044befdcd63');\n",
              "          const dataTable =\n",
              "            await google.colab.kernel.invokeFunction('convertToInteractive',\n",
              "                                                     [key], {});\n",
              "          if (!dataTable) return;\n",
              "\n",
              "          const docLinkHtml = 'Like what you see? Visit the ' +\n",
              "            '<a target=\"_blank\" href=https://colab.research.google.com/notebooks/data_table.ipynb>data table notebook</a>'\n",
              "            + ' to learn more about interactive tables.';\n",
              "          element.innerHTML = '';\n",
              "          dataTable['output_type'] = 'display_data';\n",
              "          await google.colab.output.renderOutput(dataTable, element);\n",
              "          const docLink = document.createElement('div');\n",
              "          docLink.innerHTML = docLinkHtml;\n",
              "          element.appendChild(docLink);\n",
              "        }\n",
              "      </script>\n",
              "    </div>\n",
              "  </div>\n",
              "  "
            ]
          },
          "metadata": {},
          "execution_count": 20
        }
      ],
      "source": [
        "data.head()"
      ]
    },
    {
      "cell_type": "markdown",
      "metadata": {
        "id": "uA5nsj4XAPC7"
      },
      "source": [
        "Ya sabemos como pasar una columna de tiempos o fechas con Pandas:"
      ]
    },
    {
      "cell_type": "code",
      "execution_count": null,
      "metadata": {
        "collapsed": true,
        "run_control": {
          "frozen": false,
          "read_only": false
        },
        "id": "csDwtQieAPC7"
      },
      "outputs": [],
      "source": [
        "data['Time'] = pd.to_datetime(data['Time'])"
      ]
    },
    {
      "cell_type": "markdown",
      "metadata": {
        "id": "CdSnkJwVAPC7"
      },
      "source": [
        "Con `set_index('datetime')`, ponemos la columna con valores de fecha y hora (*datetime*) como el indice (*index*) de nuestra tabla de Pandas, esto se puede realizar para `Series` y `DataFrame`."
      ]
    },
    {
      "cell_type": "code",
      "execution_count": null,
      "metadata": {
        "collapsed": true,
        "run_control": {
          "frozen": false,
          "read_only": false
        },
        "id": "eBgOJd8vAPC7"
      },
      "outputs": [],
      "source": [
        "data = data.set_index(\"Time\")"
      ]
    },
    {
      "cell_type": "code",
      "execution_count": null,
      "metadata": {
        "collapsed": true,
        "run_control": {
          "frozen": false,
          "read_only": false
        },
        "colab": {
          "base_uri": "https://localhost:8080/",
          "height": 392
        },
        "id": "686vUNv7APC7",
        "outputId": "baa013b7-6878-47b2-ad73-90d81922f00f"
      },
      "outputs": [
        {
          "output_type": "execute_result",
          "data": {
            "text/plain": [
              "                      L06_347  LS06_347  LS06_348\n",
              "Time                                             \n",
              "2009-01-01 00:00:00  0.137417  0.097500  0.016833\n",
              "2009-01-01 03:00:00  0.131250  0.088833  0.016417\n",
              "2009-01-01 06:00:00  0.113500  0.091250  0.016750\n",
              "2009-01-01 09:00:00  0.135750  0.091500  0.016250\n",
              "...                       ...       ...       ...\n",
              "2013-01-01 15:00:00  1.420000  1.420000  0.096333\n",
              "2013-01-01 18:00:00  1.178583  1.178583  0.083083\n",
              "2013-01-01 21:00:00  0.898250  0.898250  0.077167\n",
              "2013-01-02 00:00:00  0.860000  0.860000  0.075000\n",
              "\n",
              "[11697 rows x 3 columns]"
            ],
            "text/html": [
              "\n",
              "  <div id=\"df-210ca689-90b8-4a84-a6e5-b333f7fac486\">\n",
              "    <div class=\"colab-df-container\">\n",
              "      <div>\n",
              "<style scoped>\n",
              "    .dataframe tbody tr th:only-of-type {\n",
              "        vertical-align: middle;\n",
              "    }\n",
              "\n",
              "    .dataframe tbody tr th {\n",
              "        vertical-align: top;\n",
              "    }\n",
              "\n",
              "    .dataframe thead th {\n",
              "        text-align: right;\n",
              "    }\n",
              "</style>\n",
              "<table border=\"1\" class=\"dataframe\">\n",
              "  <thead>\n",
              "    <tr style=\"text-align: right;\">\n",
              "      <th></th>\n",
              "      <th>L06_347</th>\n",
              "      <th>LS06_347</th>\n",
              "      <th>LS06_348</th>\n",
              "    </tr>\n",
              "    <tr>\n",
              "      <th>Time</th>\n",
              "      <th></th>\n",
              "      <th></th>\n",
              "      <th></th>\n",
              "    </tr>\n",
              "  </thead>\n",
              "  <tbody>\n",
              "    <tr>\n",
              "      <th>2009-01-01 00:00:00</th>\n",
              "      <td>0.137417</td>\n",
              "      <td>0.097500</td>\n",
              "      <td>0.016833</td>\n",
              "    </tr>\n",
              "    <tr>\n",
              "      <th>2009-01-01 03:00:00</th>\n",
              "      <td>0.131250</td>\n",
              "      <td>0.088833</td>\n",
              "      <td>0.016417</td>\n",
              "    </tr>\n",
              "    <tr>\n",
              "      <th>2009-01-01 06:00:00</th>\n",
              "      <td>0.113500</td>\n",
              "      <td>0.091250</td>\n",
              "      <td>0.016750</td>\n",
              "    </tr>\n",
              "    <tr>\n",
              "      <th>2009-01-01 09:00:00</th>\n",
              "      <td>0.135750</td>\n",
              "      <td>0.091500</td>\n",
              "      <td>0.016250</td>\n",
              "    </tr>\n",
              "    <tr>\n",
              "      <th>...</th>\n",
              "      <td>...</td>\n",
              "      <td>...</td>\n",
              "      <td>...</td>\n",
              "    </tr>\n",
              "    <tr>\n",
              "      <th>2013-01-01 15:00:00</th>\n",
              "      <td>1.420000</td>\n",
              "      <td>1.420000</td>\n",
              "      <td>0.096333</td>\n",
              "    </tr>\n",
              "    <tr>\n",
              "      <th>2013-01-01 18:00:00</th>\n",
              "      <td>1.178583</td>\n",
              "      <td>1.178583</td>\n",
              "      <td>0.083083</td>\n",
              "    </tr>\n",
              "    <tr>\n",
              "      <th>2013-01-01 21:00:00</th>\n",
              "      <td>0.898250</td>\n",
              "      <td>0.898250</td>\n",
              "      <td>0.077167</td>\n",
              "    </tr>\n",
              "    <tr>\n",
              "      <th>2013-01-02 00:00:00</th>\n",
              "      <td>0.860000</td>\n",
              "      <td>0.860000</td>\n",
              "      <td>0.075000</td>\n",
              "    </tr>\n",
              "  </tbody>\n",
              "</table>\n",
              "<p>11697 rows × 3 columns</p>\n",
              "</div>\n",
              "      <button class=\"colab-df-convert\" onclick=\"convertToInteractive('df-210ca689-90b8-4a84-a6e5-b333f7fac486')\"\n",
              "              title=\"Convert this dataframe to an interactive table.\"\n",
              "              style=\"display:none;\">\n",
              "        \n",
              "  <svg xmlns=\"http://www.w3.org/2000/svg\" height=\"24px\"viewBox=\"0 0 24 24\"\n",
              "       width=\"24px\">\n",
              "    <path d=\"M0 0h24v24H0V0z\" fill=\"none\"/>\n",
              "    <path d=\"M18.56 5.44l.94 2.06.94-2.06 2.06-.94-2.06-.94-.94-2.06-.94 2.06-2.06.94zm-11 1L8.5 8.5l.94-2.06 2.06-.94-2.06-.94L8.5 2.5l-.94 2.06-2.06.94zm10 10l.94 2.06.94-2.06 2.06-.94-2.06-.94-.94-2.06-.94 2.06-2.06.94z\"/><path d=\"M17.41 7.96l-1.37-1.37c-.4-.4-.92-.59-1.43-.59-.52 0-1.04.2-1.43.59L10.3 9.45l-7.72 7.72c-.78.78-.78 2.05 0 2.83L4 21.41c.39.39.9.59 1.41.59.51 0 1.02-.2 1.41-.59l7.78-7.78 2.81-2.81c.8-.78.8-2.07 0-2.86zM5.41 20L4 18.59l7.72-7.72 1.47 1.35L5.41 20z\"/>\n",
              "  </svg>\n",
              "      </button>\n",
              "      \n",
              "  <style>\n",
              "    .colab-df-container {\n",
              "      display:flex;\n",
              "      flex-wrap:wrap;\n",
              "      gap: 12px;\n",
              "    }\n",
              "\n",
              "    .colab-df-convert {\n",
              "      background-color: #E8F0FE;\n",
              "      border: none;\n",
              "      border-radius: 50%;\n",
              "      cursor: pointer;\n",
              "      display: none;\n",
              "      fill: #1967D2;\n",
              "      height: 32px;\n",
              "      padding: 0 0 0 0;\n",
              "      width: 32px;\n",
              "    }\n",
              "\n",
              "    .colab-df-convert:hover {\n",
              "      background-color: #E2EBFA;\n",
              "      box-shadow: 0px 1px 2px rgba(60, 64, 67, 0.3), 0px 1px 3px 1px rgba(60, 64, 67, 0.15);\n",
              "      fill: #174EA6;\n",
              "    }\n",
              "\n",
              "    [theme=dark] .colab-df-convert {\n",
              "      background-color: #3B4455;\n",
              "      fill: #D2E3FC;\n",
              "    }\n",
              "\n",
              "    [theme=dark] .colab-df-convert:hover {\n",
              "      background-color: #434B5C;\n",
              "      box-shadow: 0px 1px 3px 1px rgba(0, 0, 0, 0.15);\n",
              "      filter: drop-shadow(0px 1px 2px rgba(0, 0, 0, 0.3));\n",
              "      fill: #FFFFFF;\n",
              "    }\n",
              "  </style>\n",
              "\n",
              "      <script>\n",
              "        const buttonEl =\n",
              "          document.querySelector('#df-210ca689-90b8-4a84-a6e5-b333f7fac486 button.colab-df-convert');\n",
              "        buttonEl.style.display =\n",
              "          google.colab.kernel.accessAllowed ? 'block' : 'none';\n",
              "\n",
              "        async function convertToInteractive(key) {\n",
              "          const element = document.querySelector('#df-210ca689-90b8-4a84-a6e5-b333f7fac486');\n",
              "          const dataTable =\n",
              "            await google.colab.kernel.invokeFunction('convertToInteractive',\n",
              "                                                     [key], {});\n",
              "          if (!dataTable) return;\n",
              "\n",
              "          const docLinkHtml = 'Like what you see? Visit the ' +\n",
              "            '<a target=\"_blank\" href=https://colab.research.google.com/notebooks/data_table.ipynb>data table notebook</a>'\n",
              "            + ' to learn more about interactive tables.';\n",
              "          element.innerHTML = '';\n",
              "          dataTable['output_type'] = 'display_data';\n",
              "          await google.colab.output.renderOutput(dataTable, element);\n",
              "          const docLink = document.createElement('div');\n",
              "          docLink.innerHTML = docLinkHtml;\n",
              "          element.appendChild(docLink);\n",
              "        }\n",
              "      </script>\n",
              "    </div>\n",
              "  </div>\n",
              "  "
            ]
          },
          "metadata": {},
          "execution_count": 23
        }
      ],
      "source": [
        "data"
      ]
    },
    {
      "cell_type": "markdown",
      "metadata": {
        "id": "gVyJ4MAnAPC8"
      },
      "source": [
        "Los pasos de arriba son provistos por una funcionalidad construida dentro (*built-in*) de la funcion `read_csv`:"
      ]
    },
    {
      "cell_type": "code",
      "execution_count": null,
      "metadata": {
        "collapsed": true,
        "run_control": {
          "frozen": false,
          "read_only": false
        },
        "id": "LDkeZ4BUAPC8"
      },
      "outputs": [],
      "source": [
        "data = pd.read_csv(data_link, index_col=0, parse_dates=True)"
      ]
    },
    {
      "cell_type": "markdown",
      "metadata": {
        "id": "GJn4FpReAPC8"
      },
      "source": [
        "<div class=\"alert alert-info\">\n",
        "<b>RECUERDA</b>: <br><br>\n",
        "\n",
        "`pd.read_csv` provee muchas funcionalidades construidas-dentro para ayudar en este tipo de transacciones cuando se lee un archivo! Revisa ala ayuda de la funcion `read_csv`...\n",
        "</div>"
      ]
    },
    {
      "cell_type": "markdown",
      "metadata": {
        "id": "YLYfQJNHAPC8"
      },
      "source": [
        "## El DatetimeIndex"
      ]
    },
    {
      "cell_type": "markdown",
      "metadata": {
        "id": "poAqu39HAPC8"
      },
      "source": [
        "Cuando nos aseguramos que el DataFrame tiene un `DatetimeIndex`, las funcionalidades relacionadas con time-series se hacen disponibles:"
      ]
    },
    {
      "cell_type": "code",
      "execution_count": null,
      "metadata": {
        "collapsed": true,
        "run_control": {
          "frozen": false,
          "read_only": false
        },
        "scrolled": true,
        "colab": {
          "base_uri": "https://localhost:8080/"
        },
        "id": "PwgyG3fBAPC8",
        "outputId": "72410e09-7267-44d3-9a22-cd68563ce9ff"
      },
      "outputs": [
        {
          "output_type": "execute_result",
          "data": {
            "text/plain": [
              "DatetimeIndex(['2009-01-01 00:00:00', '2009-01-01 03:00:00',\n",
              "               '2009-01-01 06:00:00', '2009-01-01 09:00:00',\n",
              "               '2009-01-01 12:00:00', '2009-01-01 15:00:00',\n",
              "               '2009-01-01 18:00:00', '2009-01-01 21:00:00',\n",
              "               '2009-01-02 00:00:00', '2009-01-02 03:00:00',\n",
              "               ...\n",
              "               '2012-12-31 21:00:00', '2013-01-01 00:00:00',\n",
              "               '2013-01-01 03:00:00', '2013-01-01 06:00:00',\n",
              "               '2013-01-01 09:00:00', '2013-01-01 12:00:00',\n",
              "               '2013-01-01 15:00:00', '2013-01-01 18:00:00',\n",
              "               '2013-01-01 21:00:00', '2013-01-02 00:00:00'],\n",
              "              dtype='datetime64[ns]', name='Time', length=11697, freq=None)"
            ]
          },
          "metadata": {},
          "execution_count": 25
        }
      ],
      "source": [
        "data.index"
      ]
    },
    {
      "cell_type": "markdown",
      "metadata": {
        "id": "W3bRS44-APC8"
      },
      "source": [
        "Similar a una Serie con datos de fecha y hora, hay algunos atributos disponibles para los valores de tipo tiempo:"
      ]
    },
    {
      "cell_type": "code",
      "execution_count": null,
      "metadata": {
        "collapsed": true,
        "run_control": {
          "frozen": false,
          "read_only": false
        },
        "colab": {
          "base_uri": "https://localhost:8080/"
        },
        "id": "1oFzugvAAPC8",
        "outputId": "e3a1e08f-ab3b-4104-e7f4-6da8ab4b4128"
      },
      "outputs": [
        {
          "output_type": "execute_result",
          "data": {
            "text/plain": [
              "Int64Index([ 1,  1,  1,  1,  1,  1,  1,  1,  2,  2,\n",
              "            ...\n",
              "            31,  1,  1,  1,  1,  1,  1,  1,  1,  2],\n",
              "           dtype='int64', name='Time', length=11697)"
            ]
          },
          "metadata": {},
          "execution_count": 26
        }
      ],
      "source": [
        "data.index.day"
      ]
    },
    {
      "cell_type": "code",
      "execution_count": null,
      "metadata": {
        "collapsed": true,
        "run_control": {
          "frozen": false,
          "read_only": false
        },
        "colab": {
          "base_uri": "https://localhost:8080/"
        },
        "id": "N-tZ0XjyAPC9",
        "outputId": "62ae64cc-a093-4218-a130-95f76b482794"
      },
      "outputs": [
        {
          "output_type": "execute_result",
          "data": {
            "text/plain": [
              "Int64Index([  1,   1,   1,   1,   1,   1,   1,   1,   2,   2,\n",
              "            ...\n",
              "            366,   1,   1,   1,   1,   1,   1,   1,   1,   2],\n",
              "           dtype='int64', name='Time', length=11697)"
            ]
          },
          "metadata": {},
          "execution_count": 27
        }
      ],
      "source": [
        "data.index.dayofyear"
      ]
    },
    {
      "cell_type": "code",
      "execution_count": null,
      "metadata": {
        "collapsed": true,
        "run_control": {
          "frozen": false,
          "read_only": false
        },
        "colab": {
          "base_uri": "https://localhost:8080/"
        },
        "id": "TqgFuImCAPC9",
        "outputId": "dcfaf289-aa8c-4fae-d0e3-de934305a097"
      },
      "outputs": [
        {
          "output_type": "execute_result",
          "data": {
            "text/plain": [
              "Int64Index([2009, 2009, 2009, 2009, 2009, 2009, 2009, 2009, 2009, 2009,\n",
              "            ...\n",
              "            2012, 2013, 2013, 2013, 2013, 2013, 2013, 2013, 2013, 2013],\n",
              "           dtype='int64', name='Time', length=11697)"
            ]
          },
          "metadata": {},
          "execution_count": 28
        }
      ],
      "source": [
        "data.index.year"
      ]
    },
    {
      "cell_type": "markdown",
      "metadata": {
        "id": "fDS5Uy40APC9"
      },
      "source": [
        "El metodo `plot` tambien adaptara sus etiquetas (cuando se haga acercamiento,se pueden ver los diferentes niveles de detalle):\n"
      ]
    },
    {
      "cell_type": "code",
      "execution_count": null,
      "metadata": {
        "collapsed": true,
        "run_control": {
          "frozen": false,
          "read_only": false
        },
        "colab": {
          "base_uri": "https://localhost:8080/",
          "height": 296
        },
        "id": "-My5tZ8OAPC9",
        "outputId": "e6e26f6d-1db8-4c89-b0e4-45a63a40886d"
      },
      "outputs": [
        {
          "output_type": "execute_result",
          "data": {
            "text/plain": [
              "<matplotlib.axes._subplots.AxesSubplot at 0x7f1aeb8cd190>"
            ]
          },
          "metadata": {},
          "execution_count": 29
        },
        {
          "output_type": "display_data",
          "data": {
            "text/plain": [
              "<Figure size 432x288 with 1 Axes>"
            ],
            "image/png": "[encoded data removed]"
          },
          "metadata": {
            "needs_background": "light"
          }
        }
      ],
      "source": [
        "data.plot()"
      ]
    },
    {
      "cell_type": "markdown",
      "metadata": {
        "id": "sMofnMC9APC9"
      },
      "source": [
        "Tenemos muchos datos para una sola figura. Veamos como facilmente seleccionar un parte de los datos o agregar los datos en otras resoluciones de tiempo, en las siguientes secciones."
      ]
    },
    {
      "cell_type": "markdown",
      "metadata": {
        "id": "axWI2DUrAPC9"
      },
      "source": [
        "## Seleccionando datos desde una serie de tiempo"
      ]
    },
    {
      "cell_type": "markdown",
      "metadata": {
        "id": "uaTpT8sZAPC9"
      },
      "source": [
        "Podemos usar el indexado basado en etiqueta de una series de tiempo:"
      ]
    },
    {
      "cell_type": "code",
      "execution_count": null,
      "metadata": {
        "collapsed": true,
        "run_control": {
          "frozen": false,
          "read_only": false
        },
        "colab": {
          "base_uri": "https://localhost:8080/",
          "height": 206
        },
        "id": "oMRs1YQuAPC9",
        "outputId": "dbdab764-9556-4dc5-dcbf-51c76cf57ab9"
      },
      "outputs": [
        {
          "output_type": "execute_result",
          "data": {
            "text/plain": [
              "                      L06_347  LS06_347  LS06_348\n",
              "Time                                             \n",
              "2012-01-01 09:00:00  0.330750  0.293583  0.029750\n",
              "2012-01-01 12:00:00  0.295000  0.285167  0.031750\n",
              "2012-01-01 15:00:00  0.301417  0.287750  0.031417\n",
              "2012-01-01 18:00:00  0.322083  0.304167  0.038083"
            ],
            "text/html": [
              "\n",
              "  <div id=\"df-41c0e148-2488-4149-ae6d-ae8f43400f4e\">\n",
              "    <div class=\"colab-df-container\">\n",
              "      <div>\n",
              "<style scoped>\n",
              "    .dataframe tbody tr th:only-of-type {\n",
              "        vertical-align: middle;\n",
              "    }\n",
              "\n",
              "    .dataframe tbody tr th {\n",
              "        vertical-align: top;\n",
              "    }\n",
              "\n",
              "    .dataframe thead th {\n",
              "        text-align: right;\n",
              "    }\n",
              "</style>\n",
              "<table border=\"1\" class=\"dataframe\">\n",
              "  <thead>\n",
              "    <tr style=\"text-align: right;\">\n",
              "      <th></th>\n",
              "      <th>L06_347</th>\n",
              "      <th>LS06_347</th>\n",
              "      <th>LS06_348</th>\n",
              "    </tr>\n",
              "    <tr>\n",
              "      <th>Time</th>\n",
              "      <th></th>\n",
              "      <th></th>\n",
              "      <th></th>\n",
              "    </tr>\n",
              "  </thead>\n",
              "  <tbody>\n",
              "    <tr>\n",
              "      <th>2012-01-01 09:00:00</th>\n",
              "      <td>0.330750</td>\n",
              "      <td>0.293583</td>\n",
              "      <td>0.029750</td>\n",
              "    </tr>\n",
              "    <tr>\n",
              "      <th>2012-01-01 12:00:00</th>\n",
              "      <td>0.295000</td>\n",
              "      <td>0.285167</td>\n",
              "      <td>0.031750</td>\n",
              "    </tr>\n",
              "    <tr>\n",
              "      <th>2012-01-01 15:00:00</th>\n",
              "      <td>0.301417</td>\n",
              "      <td>0.287750</td>\n",
              "      <td>0.031417</td>\n",
              "    </tr>\n",
              "    <tr>\n",
              "      <th>2012-01-01 18:00:00</th>\n",
              "      <td>0.322083</td>\n",
              "      <td>0.304167</td>\n",
              "      <td>0.038083</td>\n",
              "    </tr>\n",
              "  </tbody>\n",
              "</table>\n",
              "</div>\n",
              "      <button class=\"colab-df-convert\" onclick=\"convertToInteractive('df-41c0e148-2488-4149-ae6d-ae8f43400f4e')\"\n",
              "              title=\"Convert this dataframe to an interactive table.\"\n",
              "              style=\"display:none;\">\n",
              "        \n",
              "  <svg xmlns=\"http://www.w3.org/2000/svg\" height=\"24px\"viewBox=\"0 0 24 24\"\n",
              "       width=\"24px\">\n",
              "    <path d=\"M0 0h24v24H0V0z\" fill=\"none\"/>\n",
              "    <path d=\"M18.56 5.44l.94 2.06.94-2.06 2.06-.94-2.06-.94-.94-2.06-.94 2.06-2.06.94zm-11 1L8.5 8.5l.94-2.06 2.06-.94-2.06-.94L8.5 2.5l-.94 2.06-2.06.94zm10 10l.94 2.06.94-2.06 2.06-.94-2.06-.94-.94-2.06-.94 2.06-2.06.94z\"/><path d=\"M17.41 7.96l-1.37-1.37c-.4-.4-.92-.59-1.43-.59-.52 0-1.04.2-1.43.59L10.3 9.45l-7.72 7.72c-.78.78-.78 2.05 0 2.83L4 21.41c.39.39.9.59 1.41.59.51 0 1.02-.2 1.41-.59l7.78-7.78 2.81-2.81c.8-.78.8-2.07 0-2.86zM5.41 20L4 18.59l7.72-7.72 1.47 1.35L5.41 20z\"/>\n",
              "  </svg>\n",
              "      </button>\n",
              "      \n",
              "  <style>\n",
              "    .colab-df-container {\n",
              "      display:flex;\n",
              "      flex-wrap:wrap;\n",
              "      gap: 12px;\n",
              "    }\n",
              "\n",
              "    .colab-df-convert {\n",
              "      background-color: #E8F0FE;\n",
              "      border: none;\n",
              "      border-radius: 50%;\n",
              "      cursor: pointer;\n",
              "      display: none;\n",
              "      fill: #1967D2;\n",
              "      height: 32px;\n",
              "      padding: 0 0 0 0;\n",
              "      width: 32px;\n",
              "    }\n",
              "\n",
              "    .colab-df-convert:hover {\n",
              "      background-color: #E2EBFA;\n",
              "      box-shadow: 0px 1px 2px rgba(60, 64, 67, 0.3), 0px 1px 3px 1px rgba(60, 64, 67, 0.15);\n",
              "      fill: #174EA6;\n",
              "    }\n",
              "\n",
              "    [theme=dark] .colab-df-convert {\n",
              "      background-color: #3B4455;\n",
              "      fill: #D2E3FC;\n",
              "    }\n",
              "\n",
              "    [theme=dark] .colab-df-convert:hover {\n",
              "      background-color: #434B5C;\n",
              "      box-shadow: 0px 1px 3px 1px rgba(0, 0, 0, 0.15);\n",
              "      filter: drop-shadow(0px 1px 2px rgba(0, 0, 0, 0.3));\n",
              "      fill: #FFFFFF;\n",
              "    }\n",
              "  </style>\n",
              "\n",
              "      <script>\n",
              "        const buttonEl =\n",
              "          document.querySelector('#df-41c0e148-2488-4149-ae6d-ae8f43400f4e button.colab-df-convert');\n",
              "        buttonEl.style.display =\n",
              "          google.colab.kernel.accessAllowed ? 'block' : 'none';\n",
              "\n",
              "        async function convertToInteractive(key) {\n",
              "          const element = document.querySelector('#df-41c0e148-2488-4149-ae6d-ae8f43400f4e');\n",
              "          const dataTable =\n",
              "            await google.colab.kernel.invokeFunction('convertToInteractive',\n",
              "                                                     [key], {});\n",
              "          if (!dataTable) return;\n",
              "\n",
              "          const docLinkHtml = 'Like what you see? Visit the ' +\n",
              "            '<a target=\"_blank\" href=https://colab.research.google.com/notebooks/data_table.ipynb>data table notebook</a>'\n",
              "            + ' to learn more about interactive tables.';\n",
              "          element.innerHTML = '';\n",
              "          dataTable['output_type'] = 'display_data';\n",
              "          await google.colab.output.renderOutput(dataTable, element);\n",
              "          const docLink = document.createElement('div');\n",
              "          docLink.innerHTML = docLinkHtml;\n",
              "          element.appendChild(docLink);\n",
              "        }\n",
              "      </script>\n",
              "    </div>\n",
              "  </div>\n",
              "  "
            ]
          },
          "metadata": {},
          "execution_count": 30
        }
      ],
      "source": [
        "data[pd.Timestamp(\"2012-01-01 09:00\"):pd.Timestamp(\"2012-01-01 19:00\")]"
      ]
    },
    {
      "cell_type": "markdown",
      "metadata": {
        "id": "C5-eGSZsAPC9"
      },
      "source": [
        "Pero, para conveniencia, la indexacion de una serie de tiempo tambien funciona con *strings*:"
      ]
    },
    {
      "cell_type": "code",
      "execution_count": null,
      "metadata": {
        "collapsed": true,
        "run_control": {
          "frozen": false,
          "read_only": false
        },
        "colab": {
          "base_uri": "https://localhost:8080/",
          "height": 206
        },
        "id": "lG0JHy83APC9",
        "outputId": "533e45f6-7240-41cd-cfbf-031ca7bcdc6c"
      },
      "outputs": [
        {
          "output_type": "execute_result",
          "data": {
            "text/plain": [
              "                      L06_347  LS06_347  LS06_348\n",
              "Time                                             \n",
              "2012-01-01 09:00:00  0.330750  0.293583  0.029750\n",
              "2012-01-01 12:00:00  0.295000  0.285167  0.031750\n",
              "2012-01-01 15:00:00  0.301417  0.287750  0.031417\n",
              "2012-01-01 18:00:00  0.322083  0.304167  0.038083"
            ],
            "text/html": [
              "\n",
              "  <div id=\"df-60fe9556-d5d1-4479-95f4-69d4bfe2005d\">\n",
              "    <div class=\"colab-df-container\">\n",
              "      <div>\n",
              "<style scoped>\n",
              "    .dataframe tbody tr th:only-of-type {\n",
              "        vertical-align: middle;\n",
              "    }\n",
              "\n",
              "    .dataframe tbody tr th {\n",
              "        vertical-align: top;\n",
              "    }\n",
              "\n",
              "    .dataframe thead th {\n",
              "        text-align: right;\n",
              "    }\n",
              "</style>\n",
              "<table border=\"1\" class=\"dataframe\">\n",
              "  <thead>\n",
              "    <tr style=\"text-align: right;\">\n",
              "      <th></th>\n",
              "      <th>L06_347</th>\n",
              "      <th>LS06_347</th>\n",
              "      <th>LS06_348</th>\n",
              "    </tr>\n",
              "    <tr>\n",
              "      <th>Time</th>\n",
              "      <th></th>\n",
              "      <th></th>\n",
              "      <th></th>\n",
              "    </tr>\n",
              "  </thead>\n",
              "  <tbody>\n",
              "    <tr>\n",
              "      <th>2012-01-01 09:00:00</th>\n",
              "      <td>0.330750</td>\n",
              "      <td>0.293583</td>\n",
              "      <td>0.029750</td>\n",
              "    </tr>\n",
              "    <tr>\n",
              "      <th>2012-01-01 12:00:00</th>\n",
              "      <td>0.295000</td>\n",
              "      <td>0.285167</td>\n",
              "      <td>0.031750</td>\n",
              "    </tr>\n",
              "    <tr>\n",
              "      <th>2012-01-01 15:00:00</th>\n",
              "      <td>0.301417</td>\n",
              "      <td>0.287750</td>\n",
              "      <td>0.031417</td>\n",
              "    </tr>\n",
              "    <tr>\n",
              "      <th>2012-01-01 18:00:00</th>\n",
              "      <td>0.322083</td>\n",
              "      <td>0.304167</td>\n",
              "      <td>0.038083</td>\n",
              "    </tr>\n",
              "  </tbody>\n",
              "</table>\n",
              "</div>\n",
              "      <button class=\"colab-df-convert\" onclick=\"convertToInteractive('df-60fe9556-d5d1-4479-95f4-69d4bfe2005d')\"\n",
              "              title=\"Convert this dataframe to an interactive table.\"\n",
              "              style=\"display:none;\">\n",
              "        \n",
              "  <svg xmlns=\"http://www.w3.org/2000/svg\" height=\"24px\"viewBox=\"0 0 24 24\"\n",
              "       width=\"24px\">\n",
              "    <path d=\"M0 0h24v24H0V0z\" fill=\"none\"/>\n",
              "    <path d=\"M18.56 5.44l.94 2.06.94-2.06 2.06-.94-2.06-.94-.94-2.06-.94 2.06-2.06.94zm-11 1L8.5 8.5l.94-2.06 2.06-.94-2.06-.94L8.5 2.5l-.94 2.06-2.06.94zm10 10l.94 2.06.94-2.06 2.06-.94-2.06-.94-.94-2.06-.94 2.06-2.06.94z\"/><path d=\"M17.41 7.96l-1.37-1.37c-.4-.4-.92-.59-1.43-.59-.52 0-1.04.2-1.43.59L10.3 9.45l-7.72 7.72c-.78.78-.78 2.05 0 2.83L4 21.41c.39.39.9.59 1.41.59.51 0 1.02-.2 1.41-.59l7.78-7.78 2.81-2.81c.8-.78.8-2.07 0-2.86zM5.41 20L4 18.59l7.72-7.72 1.47 1.35L5.41 20z\"/>\n",
              "  </svg>\n",
              "      </button>\n",
              "      \n",
              "  <style>\n",
              "    .colab-df-container {\n",
              "      display:flex;\n",
              "      flex-wrap:wrap;\n",
              "      gap: 12px;\n",
              "    }\n",
              "\n",
              "    .colab-df-convert {\n",
              "      background-color: #E8F0FE;\n",
              "      border: none;\n",
              "      border-radius: 50%;\n",
              "      cursor: pointer;\n",
              "      display: none;\n",
              "      fill: #1967D2;\n",
              "      height: 32px;\n",
              "      padding: 0 0 0 0;\n",
              "      width: 32px;\n",
              "    }\n",
              "\n",
              "    .colab-df-convert:hover {\n",
              "      background-color: #E2EBFA;\n",
              "      box-shadow: 0px 1px 2px rgba(60, 64, 67, 0.3), 0px 1px 3px 1px rgba(60, 64, 67, 0.15);\n",
              "      fill: #174EA6;\n",
              "    }\n",
              "\n",
              "    [theme=dark] .colab-df-convert {\n",
              "      background-color: #3B4455;\n",
              "      fill: #D2E3FC;\n",
              "    }\n",
              "\n",
              "    [theme=dark] .colab-df-convert:hover {\n",
              "      background-color: #434B5C;\n",
              "      box-shadow: 0px 1px 3px 1px rgba(0, 0, 0, 0.15);\n",
              "      filter: drop-shadow(0px 1px 2px rgba(0, 0, 0, 0.3));\n",
              "      fill: #FFFFFF;\n",
              "    }\n",
              "  </style>\n",
              "\n",
              "      <script>\n",
              "        const buttonEl =\n",
              "          document.querySelector('#df-60fe9556-d5d1-4479-95f4-69d4bfe2005d button.colab-df-convert');\n",
              "        buttonEl.style.display =\n",
              "          google.colab.kernel.accessAllowed ? 'block' : 'none';\n",
              "\n",
              "        async function convertToInteractive(key) {\n",
              "          const element = document.querySelector('#df-60fe9556-d5d1-4479-95f4-69d4bfe2005d');\n",
              "          const dataTable =\n",
              "            await google.colab.kernel.invokeFunction('convertToInteractive',\n",
              "                                                     [key], {});\n",
              "          if (!dataTable) return;\n",
              "\n",
              "          const docLinkHtml = 'Like what you see? Visit the ' +\n",
              "            '<a target=\"_blank\" href=https://colab.research.google.com/notebooks/data_table.ipynb>data table notebook</a>'\n",
              "            + ' to learn more about interactive tables.';\n",
              "          element.innerHTML = '';\n",
              "          dataTable['output_type'] = 'display_data';\n",
              "          await google.colab.output.renderOutput(dataTable, element);\n",
              "          const docLink = document.createElement('div');\n",
              "          docLink.innerHTML = docLinkHtml;\n",
              "          element.appendChild(docLink);\n",
              "        }\n",
              "      </script>\n",
              "    </div>\n",
              "  </div>\n",
              "  "
            ]
          },
          "metadata": {},
          "execution_count": 31
        }
      ],
      "source": [
        "data[\"2012-01-01 09:00\":\"2012-01-01 19:00\"]"
      ]
    },
    {
      "cell_type": "markdown",
      "metadata": {
        "id": "Pkj5uEj_APC-"
      },
      "source": [
        "Una buena caracteristica es **\"partial string\" indexing**, donde podemos hacer una particion implicita por medio de un *string* parcial de fecha y hora.\n",
        "\n",
        "Por ejemplo todos los datos del 2013:"
      ]
    },
    {
      "cell_type": "code",
      "execution_count": null,
      "metadata": {
        "collapsed": true,
        "run_control": {
          "frozen": false,
          "read_only": false
        },
        "scrolled": true,
        "colab": {
          "base_uri": "https://localhost:8080/",
          "height": 447
        },
        "id": "st5jSZW9APC-",
        "outputId": "31d8f2e9-e20a-4031-f5f0-25093b3c5f40"
      },
      "outputs": [
        {
          "output_type": "stream",
          "name": "stderr",
          "text": [
            "/usr/local/lib/python3.7/dist-packages/ipykernel_launcher.py:1: FutureWarning: Indexing a DataFrame with a datetimelike index using a single string to slice the rows, like `frame[string]`, is deprecated and will be removed in a future version. Use `frame.loc[string]` instead.\n",
            "  \"\"\"Entry point for launching an IPython kernel.\n"
          ]
        },
        {
          "output_type": "execute_result",
          "data": {
            "text/plain": [
              "                      L06_347  LS06_347  LS06_348\n",
              "Time                                             \n",
              "2013-01-01 00:00:00  1.688333  1.688333  0.207333\n",
              "2013-01-01 03:00:00  2.693333  2.693333  0.201500\n",
              "2013-01-01 06:00:00  2.220833  2.220833  0.166917\n",
              "2013-01-01 09:00:00  2.055000  2.055000  0.175667\n",
              "...                       ...       ...       ...\n",
              "2013-01-01 15:00:00  1.420000  1.420000  0.096333\n",
              "2013-01-01 18:00:00  1.178583  1.178583  0.083083\n",
              "2013-01-01 21:00:00  0.898250  0.898250  0.077167\n",
              "2013-01-02 00:00:00  0.860000  0.860000  0.075000\n",
              "\n",
              "[9 rows x 3 columns]"
            ],
            "text/html": [
              "\n",
              "  <div id=\"df-9c328086-aa5e-4d48-8bc3-efb41c7adcdb\">\n",
              "    <div class=\"colab-df-container\">\n",
              "      <div>\n",
              "<style scoped>\n",
              "    .dataframe tbody tr th:only-of-type {\n",
              "        vertical-align: middle;\n",
              "    }\n",
              "\n",
              "    .dataframe tbody tr th {\n",
              "        vertical-align: top;\n",
              "    }\n",
              "\n",
              "    .dataframe thead th {\n",
              "        text-align: right;\n",
              "    }\n",
              "</style>\n",
              "<table border=\"1\" class=\"dataframe\">\n",
              "  <thead>\n",
              "    <tr style=\"text-align: right;\">\n",
              "      <th></th>\n",
              "      <th>L06_347</th>\n",
              "      <th>LS06_347</th>\n",
              "      <th>LS06_348</th>\n",
              "    </tr>\n",
              "    <tr>\n",
              "      <th>Time</th>\n",
              "      <th></th>\n",
              "      <th></th>\n",
              "      <th></th>\n",
              "    </tr>\n",
              "  </thead>\n",
              "  <tbody>\n",
              "    <tr>\n",
              "      <th>2013-01-01 00:00:00</th>\n",
              "      <td>1.688333</td>\n",
              "      <td>1.688333</td>\n",
              "      <td>0.207333</td>\n",
              "    </tr>\n",
              "    <tr>\n",
              "      <th>2013-01-01 03:00:00</th>\n",
              "      <td>2.693333</td>\n",
              "      <td>2.693333</td>\n",
              "      <td>0.201500</td>\n",
              "    </tr>\n",
              "    <tr>\n",
              "      <th>2013-01-01 06:00:00</th>\n",
              "      <td>2.220833</td>\n",
              "      <td>2.220833</td>\n",
              "      <td>0.166917</td>\n",
              "    </tr>\n",
              "    <tr>\n",
              "      <th>2013-01-01 09:00:00</th>\n",
              "      <td>2.055000</td>\n",
              "      <td>2.055000</td>\n",
              "      <td>0.175667</td>\n",
              "    </tr>\n",
              "    <tr>\n",
              "      <th>...</th>\n",
              "      <td>...</td>\n",
              "      <td>...</td>\n",
              "      <td>...</td>\n",
              "    </tr>\n",
              "    <tr>\n",
              "      <th>2013-01-01 15:00:00</th>\n",
              "      <td>1.420000</td>\n",
              "      <td>1.420000</td>\n",
              "      <td>0.096333</td>\n",
              "    </tr>\n",
              "    <tr>\n",
              "      <th>2013-01-01 18:00:00</th>\n",
              "      <td>1.178583</td>\n",
              "      <td>1.178583</td>\n",
              "      <td>0.083083</td>\n",
              "    </tr>\n",
              "    <tr>\n",
              "      <th>2013-01-01 21:00:00</th>\n",
              "      <td>0.898250</td>\n",
              "      <td>0.898250</td>\n",
              "      <td>0.077167</td>\n",
              "    </tr>\n",
              "    <tr>\n",
              "      <th>2013-01-02 00:00:00</th>\n",
              "      <td>0.860000</td>\n",
              "      <td>0.860000</td>\n",
              "      <td>0.075000</td>\n",
              "    </tr>\n",
              "  </tbody>\n",
              "</table>\n",
              "<p>9 rows × 3 columns</p>\n",
              "</div>\n",
              "      <button class=\"colab-df-convert\" onclick=\"convertToInteractive('df-9c328086-aa5e-4d48-8bc3-efb41c7adcdb')\"\n",
              "              title=\"Convert this dataframe to an interactive table.\"\n",
              "              style=\"display:none;\">\n",
              "        \n",
              "  <svg xmlns=\"http://www.w3.org/2000/svg\" height=\"24px\"viewBox=\"0 0 24 24\"\n",
              "       width=\"24px\">\n",
              "    <path d=\"M0 0h24v24H0V0z\" fill=\"none\"/>\n",
              "    <path d=\"M18.56 5.44l.94 2.06.94-2.06 2.06-.94-2.06-.94-.94-2.06-.94 2.06-2.06.94zm-11 1L8.5 8.5l.94-2.06 2.06-.94-2.06-.94L8.5 2.5l-.94 2.06-2.06.94zm10 10l.94 2.06.94-2.06 2.06-.94-2.06-.94-.94-2.06-.94 2.06-2.06.94z\"/><path d=\"M17.41 7.96l-1.37-1.37c-.4-.4-.92-.59-1.43-.59-.52 0-1.04.2-1.43.59L10.3 9.45l-7.72 7.72c-.78.78-.78 2.05 0 2.83L4 21.41c.39.39.9.59 1.41.59.51 0 1.02-.2 1.41-.59l7.78-7.78 2.81-2.81c.8-.78.8-2.07 0-2.86zM5.41 20L4 18.59l7.72-7.72 1.47 1.35L5.41 20z\"/>\n",
              "  </svg>\n",
              "      </button>\n",
              "      \n",
              "  <style>\n",
              "    .colab-df-container {\n",
              "      display:flex;\n",
              "      flex-wrap:wrap;\n",
              "      gap: 12px;\n",
              "    }\n",
              "\n",
              "    .colab-df-convert {\n",
              "      background-color: #E8F0FE;\n",
              "      border: none;\n",
              "      border-radius: 50%;\n",
              "      cursor: pointer;\n",
              "      display: none;\n",
              "      fill: #1967D2;\n",
              "      height: 32px;\n",
              "      padding: 0 0 0 0;\n",
              "      width: 32px;\n",
              "    }\n",
              "\n",
              "    .colab-df-convert:hover {\n",
              "      background-color: #E2EBFA;\n",
              "      box-shadow: 0px 1px 2px rgba(60, 64, 67, 0.3), 0px 1px 3px 1px rgba(60, 64, 67, 0.15);\n",
              "      fill: #174EA6;\n",
              "    }\n",
              "\n",
              "    [theme=dark] .colab-df-convert {\n",
              "      background-color: #3B4455;\n",
              "      fill: #D2E3FC;\n",
              "    }\n",
              "\n",
              "    [theme=dark] .colab-df-convert:hover {\n",
              "      background-color: #434B5C;\n",
              "      box-shadow: 0px 1px 3px 1px rgba(0, 0, 0, 0.15);\n",
              "      filter: drop-shadow(0px 1px 2px rgba(0, 0, 0, 0.3));\n",
              "      fill: #FFFFFF;\n",
              "    }\n",
              "  </style>\n",
              "\n",
              "      <script>\n",
              "        const buttonEl =\n",
              "          document.querySelector('#df-9c328086-aa5e-4d48-8bc3-efb41c7adcdb button.colab-df-convert');\n",
              "        buttonEl.style.display =\n",
              "          google.colab.kernel.accessAllowed ? 'block' : 'none';\n",
              "\n",
              "        async function convertToInteractive(key) {\n",
              "          const element = document.querySelector('#df-9c328086-aa5e-4d48-8bc3-efb41c7adcdb');\n",
              "          const dataTable =\n",
              "            await google.colab.kernel.invokeFunction('convertToInteractive',\n",
              "                                                     [key], {});\n",
              "          if (!dataTable) return;\n",
              "\n",
              "          const docLinkHtml = 'Like what you see? Visit the ' +\n",
              "            '<a target=\"_blank\" href=https://colab.research.google.com/notebooks/data_table.ipynb>data table notebook</a>'\n",
              "            + ' to learn more about interactive tables.';\n",
              "          element.innerHTML = '';\n",
              "          dataTable['output_type'] = 'display_data';\n",
              "          await google.colab.output.renderOutput(dataTable, element);\n",
              "          const docLink = document.createElement('div');\n",
              "          docLink.innerHTML = docLinkHtml;\n",
              "          element.appendChild(docLink);\n",
              "        }\n",
              "      </script>\n",
              "    </div>\n",
              "  </div>\n",
              "  "
            ]
          },
          "metadata": {},
          "execution_count": 32
        }
      ],
      "source": [
        "data['2013']"
      ]
    },
    {
      "cell_type": "markdown",
      "metadata": {
        "id": "QPZZOgZnAPC-"
      },
      "source": [
        "Normalmente se esperaria accedes a las columna llamada '2013', pero para un DatetimeIndex, Pandas tambien trata de interpretarlo como una particion de tipo fecha y hora."
      ]
    },
    {
      "cell_type": "markdown",
      "metadata": {
        "id": "zMi1Er4iAPC-"
      },
      "source": [
        "Todos los datos de Enero hasta Marzo 2012:"
      ]
    },
    {
      "cell_type": "code",
      "execution_count": null,
      "metadata": {
        "collapsed": true,
        "run_control": {
          "frozen": false,
          "read_only": false
        },
        "colab": {
          "base_uri": "https://localhost:8080/",
          "height": 392
        },
        "id": "nea14zmSAPC-",
        "outputId": "17192a46-06cd-4bbd-ce0d-045206848fe3"
      },
      "outputs": [
        {
          "output_type": "execute_result",
          "data": {
            "text/plain": [
              "                      L06_347  LS06_347  LS06_348\n",
              "Time                                             \n",
              "2012-01-01 00:00:00  0.307167  0.273917  0.028000\n",
              "2012-01-01 03:00:00  0.302917  0.270833  0.030583\n",
              "2012-01-01 06:00:00  0.331500  0.284750  0.030917\n",
              "2012-01-01 09:00:00  0.330750  0.293583  0.029750\n",
              "...                       ...       ...       ...\n",
              "2012-03-31 12:00:00  0.098333  0.124417  0.011833\n",
              "2012-03-31 15:00:00  0.091917  0.123917  0.011500\n",
              "2012-03-31 18:00:00  0.085750  0.121417  0.011000\n",
              "2012-03-31 21:00:00  0.068417  0.119750  0.010417\n",
              "\n",
              "[728 rows x 3 columns]"
            ],
            "text/html": [
              "\n",
              "  <div id=\"df-06a278c7-311a-4ea9-b4d7-612bf6488fea\">\n",
              "    <div class=\"colab-df-container\">\n",
              "      <div>\n",
              "<style scoped>\n",
              "    .dataframe tbody tr th:only-of-type {\n",
              "        vertical-align: middle;\n",
              "    }\n",
              "\n",
              "    .dataframe tbody tr th {\n",
              "        vertical-align: top;\n",
              "    }\n",
              "\n",
              "    .dataframe thead th {\n",
              "        text-align: right;\n",
              "    }\n",
              "</style>\n",
              "<table border=\"1\" class=\"dataframe\">\n",
              "  <thead>\n",
              "    <tr style=\"text-align: right;\">\n",
              "      <th></th>\n",
              "      <th>L06_347</th>\n",
              "      <th>LS06_347</th>\n",
              "      <th>LS06_348</th>\n",
              "    </tr>\n",
              "    <tr>\n",
              "      <th>Time</th>\n",
              "      <th></th>\n",
              "      <th></th>\n",
              "      <th></th>\n",
              "    </tr>\n",
              "  </thead>\n",
              "  <tbody>\n",
              "    <tr>\n",
              "      <th>2012-01-01 00:00:00</th>\n",
              "      <td>0.307167</td>\n",
              "      <td>0.273917</td>\n",
              "      <td>0.028000</td>\n",
              "    </tr>\n",
              "    <tr>\n",
              "      <th>2012-01-01 03:00:00</th>\n",
              "      <td>0.302917</td>\n",
              "      <td>0.270833</td>\n",
              "      <td>0.030583</td>\n",
              "    </tr>\n",
              "    <tr>\n",
              "      <th>2012-01-01 06:00:00</th>\n",
              "      <td>0.331500</td>\n",
              "      <td>0.284750</td>\n",
              "      <td>0.030917</td>\n",
              "    </tr>\n",
              "    <tr>\n",
              "      <th>2012-01-01 09:00:00</th>\n",
              "      <td>0.330750</td>\n",
              "      <td>0.293583</td>\n",
              "      <td>0.029750</td>\n",
              "    </tr>\n",
              "    <tr>\n",
              "      <th>...</th>\n",
              "      <td>...</td>\n",
              "      <td>...</td>\n",
              "      <td>...</td>\n",
              "    </tr>\n",
              "    <tr>\n",
              "      <th>2012-03-31 12:00:00</th>\n",
              "      <td>0.098333</td>\n",
              "      <td>0.124417</td>\n",
              "      <td>0.011833</td>\n",
              "    </tr>\n",
              "    <tr>\n",
              "      <th>2012-03-31 15:00:00</th>\n",
              "      <td>0.091917</td>\n",
              "      <td>0.123917</td>\n",
              "      <td>0.011500</td>\n",
              "    </tr>\n",
              "    <tr>\n",
              "      <th>2012-03-31 18:00:00</th>\n",
              "      <td>0.085750</td>\n",
              "      <td>0.121417</td>\n",
              "      <td>0.011000</td>\n",
              "    </tr>\n",
              "    <tr>\n",
              "      <th>2012-03-31 21:00:00</th>\n",
              "      <td>0.068417</td>\n",
              "      <td>0.119750</td>\n",
              "      <td>0.010417</td>\n",
              "    </tr>\n",
              "  </tbody>\n",
              "</table>\n",
              "<p>728 rows × 3 columns</p>\n",
              "</div>\n",
              "      <button class=\"colab-df-convert\" onclick=\"convertToInteractive('df-06a278c7-311a-4ea9-b4d7-612bf6488fea')\"\n",
              "              title=\"Convert this dataframe to an interactive table.\"\n",
              "              style=\"display:none;\">\n",
              "        \n",
              "  <svg xmlns=\"http://www.w3.org/2000/svg\" height=\"24px\"viewBox=\"0 0 24 24\"\n",
              "       width=\"24px\">\n",
              "    <path d=\"M0 0h24v24H0V0z\" fill=\"none\"/>\n",
              "    <path d=\"M18.56 5.44l.94 2.06.94-2.06 2.06-.94-2.06-.94-.94-2.06-.94 2.06-2.06.94zm-11 1L8.5 8.5l.94-2.06 2.06-.94-2.06-.94L8.5 2.5l-.94 2.06-2.06.94zm10 10l.94 2.06.94-2.06 2.06-.94-2.06-.94-.94-2.06-.94 2.06-2.06.94z\"/><path d=\"M17.41 7.96l-1.37-1.37c-.4-.4-.92-.59-1.43-.59-.52 0-1.04.2-1.43.59L10.3 9.45l-7.72 7.72c-.78.78-.78 2.05 0 2.83L4 21.41c.39.39.9.59 1.41.59.51 0 1.02-.2 1.41-.59l7.78-7.78 2.81-2.81c.8-.78.8-2.07 0-2.86zM5.41 20L4 18.59l7.72-7.72 1.47 1.35L5.41 20z\"/>\n",
              "  </svg>\n",
              "      </button>\n",
              "      \n",
              "  <style>\n",
              "    .colab-df-container {\n",
              "      display:flex;\n",
              "      flex-wrap:wrap;\n",
              "      gap: 12px;\n",
              "    }\n",
              "\n",
              "    .colab-df-convert {\n",
              "      background-color: #E8F0FE;\n",
              "      border: none;\n",
              "      border-radius: 50%;\n",
              "      cursor: pointer;\n",
              "      display: none;\n",
              "      fill: #1967D2;\n",
              "      height: 32px;\n",
              "      padding: 0 0 0 0;\n",
              "      width: 32px;\n",
              "    }\n",
              "\n",
              "    .colab-df-convert:hover {\n",
              "      background-color: #E2EBFA;\n",
              "      box-shadow: 0px 1px 2px rgba(60, 64, 67, 0.3), 0px 1px 3px 1px rgba(60, 64, 67, 0.15);\n",
              "      fill: #174EA6;\n",
              "    }\n",
              "\n",
              "    [theme=dark] .colab-df-convert {\n",
              "      background-color: #3B4455;\n",
              "      fill: #D2E3FC;\n",
              "    }\n",
              "\n",
              "    [theme=dark] .colab-df-convert:hover {\n",
              "      background-color: #434B5C;\n",
              "      box-shadow: 0px 1px 3px 1px rgba(0, 0, 0, 0.15);\n",
              "      filter: drop-shadow(0px 1px 2px rgba(0, 0, 0, 0.3));\n",
              "      fill: #FFFFFF;\n",
              "    }\n",
              "  </style>\n",
              "\n",
              "      <script>\n",
              "        const buttonEl =\n",
              "          document.querySelector('#df-06a278c7-311a-4ea9-b4d7-612bf6488fea button.colab-df-convert');\n",
              "        buttonEl.style.display =\n",
              "          google.colab.kernel.accessAllowed ? 'block' : 'none';\n",
              "\n",
              "        async function convertToInteractive(key) {\n",
              "          const element = document.querySelector('#df-06a278c7-311a-4ea9-b4d7-612bf6488fea');\n",
              "          const dataTable =\n",
              "            await google.colab.kernel.invokeFunction('convertToInteractive',\n",
              "                                                     [key], {});\n",
              "          if (!dataTable) return;\n",
              "\n",
              "          const docLinkHtml = 'Like what you see? Visit the ' +\n",
              "            '<a target=\"_blank\" href=https://colab.research.google.com/notebooks/data_table.ipynb>data table notebook</a>'\n",
              "            + ' to learn more about interactive tables.';\n",
              "          element.innerHTML = '';\n",
              "          dataTable['output_type'] = 'display_data';\n",
              "          await google.colab.output.renderOutput(dataTable, element);\n",
              "          const docLink = document.createElement('div');\n",
              "          docLink.innerHTML = docLinkHtml;\n",
              "          element.appendChild(docLink);\n",
              "        }\n",
              "      </script>\n",
              "    </div>\n",
              "  </div>\n",
              "  "
            ]
          },
          "metadata": {},
          "execution_count": 33
        }
      ],
      "source": [
        "data['2012-01':'2012-03']"
      ]
    },
    {
      "cell_type": "markdown",
      "metadata": {
        "id": "6Ic9oiboAPC-"
      },
      "source": [
        "<div class=\"alert alert-success\">\n",
        "\n",
        "<b>Ejercicio</b>:\n",
        "\n",
        " <ul>\n",
        "  <li>Seleccionar todos los datos empezando desde el 2012</li>\n",
        "</ul>\n",
        "</div>"
      ]
    },
    {
      "cell_type": "code",
      "execution_count": null,
      "metadata": {
        "clear_cell": true,
        "collapsed": true,
        "run_control": {
          "frozen": false,
          "read_only": false
        },
        "id": "Bfmwp4RsAPC-"
      },
      "outputs": [],
      "source": [
        "# Hacer aqui el codigo\n"
      ]
    },
    {
      "cell_type": "markdown",
      "metadata": {
        "id": "9Tngvr3uAPC-"
      },
      "source": [
        "<div class=\"alert alert-success\">\n",
        "\n",
        "<b>EJERCICIO</b>:\n",
        "\n",
        " <ul>\n",
        "  <li>Seleccionar todos los datos en Enero (*January*) para todos los diferentes años.</li>\n",
        "</ul>\n",
        "</div>"
      ]
    },
    {
      "cell_type": "code",
      "execution_count": null,
      "metadata": {
        "clear_cell": true,
        "collapsed": true,
        "run_control": {
          "frozen": false,
          "read_only": false
        },
        "id": "yxQJJkixAPC-"
      },
      "outputs": [],
      "source": [
        "# Hacer aqui el codigo\n"
      ]
    },
    {
      "cell_type": "markdown",
      "metadata": {
        "id": "7Pu48EEyAPC_"
      },
      "source": [
        "<div class=\"alert alert-success\">\n",
        "\n",
        "<b>EJERCICIO</b>:\n",
        "\n",
        " <ul>\n",
        "  <li>Seleccionar todos datos en Enero, Febrero, y Marzo para todos los diferentes años.</li>\n",
        "</ul>\n",
        "</div>"
      ]
    },
    {
      "cell_type": "code",
      "execution_count": null,
      "metadata": {
        "clear_cell": true,
        "collapsed": true,
        "run_control": {
          "frozen": false,
          "read_only": false
        },
        "id": "OiQiKdBRAPC_"
      },
      "outputs": [],
      "source": [
        "# Hacer aqui el codigo\n"
      ]
    },
    {
      "cell_type": "markdown",
      "metadata": {
        "id": "Nqm6J89gAPC_"
      },
      "source": [
        "<div class=\"alert alert-success\">\n",
        "\n",
        "<b>EJERICIO</b>:\n",
        "\n",
        " <ul>\n",
        "  <li>Seleccionar todo los datos 'daytime' (entre 8h y 20h) para todos los dias.</li>\n",
        "</ul>\n",
        "</div>"
      ]
    },
    {
      "cell_type": "code",
      "execution_count": null,
      "metadata": {
        "clear_cell": true,
        "collapsed": true,
        "run_control": {
          "frozen": false,
          "read_only": false
        },
        "id": "YpOs84cnAPC_"
      },
      "outputs": [],
      "source": [
        "# Hacer aqui el codigo\n"
      ]
    },
    {
      "cell_type": "markdown",
      "metadata": {
        "id": "NFQZeozgAPC_"
      },
      "source": [
        "## El poder de Pandas: `resample` (remuestreo)"
      ]
    },
    {
      "cell_type": "markdown",
      "metadata": {
        "id": "RuDXLczBAPC_"
      },
      "source": [
        "Un metodos muy poderoso es **`resample`: converting the frequency of the time series** (convirtiendo la frecuencia de la serie de tiempo). Por ejemplo desde las horas a datos diarios.\n",
        "\n",
        "La serie de tiempo tiene una frecuencia de una hora. Queremos cambiarla a diariamente:"
      ]
    },
    {
      "cell_type": "code",
      "execution_count": null,
      "metadata": {
        "collapsed": true,
        "run_control": {
          "frozen": false,
          "read_only": false
        },
        "id": "G2DNmraxAPC_"
      },
      "outputs": [],
      "source": [
        "data.resample('D').mean()"
      ]
    },
    {
      "cell_type": "code",
      "source": [
        "data.resample('1H').ffill().head()"
      ],
      "metadata": {
        "colab": {
          "base_uri": "https://localhost:8080/",
          "height": 238
        },
        "id": "BhWaHsGZ-jfT",
        "outputId": "3781dc21-0008-4bd4-e370-0c619455c7cb"
      },
      "execution_count": null,
      "outputs": [
        {
          "output_type": "execute_result",
          "data": {
            "text/plain": [
              "                      L06_347  LS06_347  LS06_348\n",
              "Time                                             \n",
              "2009-01-01 00:00:00  0.137417  0.097500  0.016833\n",
              "2009-01-01 01:00:00  0.137417  0.097500  0.016833\n",
              "2009-01-01 02:00:00  0.137417  0.097500  0.016833\n",
              "2009-01-01 03:00:00  0.131250  0.088833  0.016417\n",
              "2009-01-01 04:00:00  0.131250  0.088833  0.016417"
            ],
            "text/html": [
              "\n",
              "  <div id=\"df-9c195e29-03be-4582-80d9-9c6d5b17d3e7\">\n",
              "    <div class=\"colab-df-container\">\n",
              "      <div>\n",
              "<style scoped>\n",
              "    .dataframe tbody tr th:only-of-type {\n",
              "        vertical-align: middle;\n",
              "    }\n",
              "\n",
              "    .dataframe tbody tr th {\n",
              "        vertical-align: top;\n",
              "    }\n",
              "\n",
              "    .dataframe thead th {\n",
              "        text-align: right;\n",
              "    }\n",
              "</style>\n",
              "<table border=\"1\" class=\"dataframe\">\n",
              "  <thead>\n",
              "    <tr style=\"text-align: right;\">\n",
              "      <th></th>\n",
              "      <th>L06_347</th>\n",
              "      <th>LS06_347</th>\n",
              "      <th>LS06_348</th>\n",
              "    </tr>\n",
              "    <tr>\n",
              "      <th>Time</th>\n",
              "      <th></th>\n",
              "      <th></th>\n",
              "      <th></th>\n",
              "    </tr>\n",
              "  </thead>\n",
              "  <tbody>\n",
              "    <tr>\n",
              "      <th>2009-01-01 00:00:00</th>\n",
              "      <td>0.137417</td>\n",
              "      <td>0.097500</td>\n",
              "      <td>0.016833</td>\n",
              "    </tr>\n",
              "    <tr>\n",
              "      <th>2009-01-01 01:00:00</th>\n",
              "      <td>0.137417</td>\n",
              "      <td>0.097500</td>\n",
              "      <td>0.016833</td>\n",
              "    </tr>\n",
              "    <tr>\n",
              "      <th>2009-01-01 02:00:00</th>\n",
              "      <td>0.137417</td>\n",
              "      <td>0.097500</td>\n",
              "      <td>0.016833</td>\n",
              "    </tr>\n",
              "    <tr>\n",
              "      <th>2009-01-01 03:00:00</th>\n",
              "      <td>0.131250</td>\n",
              "      <td>0.088833</td>\n",
              "      <td>0.016417</td>\n",
              "    </tr>\n",
              "    <tr>\n",
              "      <th>2009-01-01 04:00:00</th>\n",
              "      <td>0.131250</td>\n",
              "      <td>0.088833</td>\n",
              "      <td>0.016417</td>\n",
              "    </tr>\n",
              "  </tbody>\n",
              "</table>\n",
              "</div>\n",
              "      <button class=\"colab-df-convert\" onclick=\"convertToInteractive('df-9c195e29-03be-4582-80d9-9c6d5b17d3e7')\"\n",
              "              title=\"Convert this dataframe to an interactive table.\"\n",
              "              style=\"display:none;\">\n",
              "        \n",
              "  <svg xmlns=\"http://www.w3.org/2000/svg\" height=\"24px\"viewBox=\"0 0 24 24\"\n",
              "       width=\"24px\">\n",
              "    <path d=\"M0 0h24v24H0V0z\" fill=\"none\"/>\n",
              "    <path d=\"M18.56 5.44l.94 2.06.94-2.06 2.06-.94-2.06-.94-.94-2.06-.94 2.06-2.06.94zm-11 1L8.5 8.5l.94-2.06 2.06-.94-2.06-.94L8.5 2.5l-.94 2.06-2.06.94zm10 10l.94 2.06.94-2.06 2.06-.94-2.06-.94-.94-2.06-.94 2.06-2.06.94z\"/><path d=\"M17.41 7.96l-1.37-1.37c-.4-.4-.92-.59-1.43-.59-.52 0-1.04.2-1.43.59L10.3 9.45l-7.72 7.72c-.78.78-.78 2.05 0 2.83L4 21.41c.39.39.9.59 1.41.59.51 0 1.02-.2 1.41-.59l7.78-7.78 2.81-2.81c.8-.78.8-2.07 0-2.86zM5.41 20L4 18.59l7.72-7.72 1.47 1.35L5.41 20z\"/>\n",
              "  </svg>\n",
              "      </button>\n",
              "      \n",
              "  <style>\n",
              "    .colab-df-container {\n",
              "      display:flex;\n",
              "      flex-wrap:wrap;\n",
              "      gap: 12px;\n",
              "    }\n",
              "\n",
              "    .colab-df-convert {\n",
              "      background-color: #E8F0FE;\n",
              "      border: none;\n",
              "      border-radius: 50%;\n",
              "      cursor: pointer;\n",
              "      display: none;\n",
              "      fill: #1967D2;\n",
              "      height: 32px;\n",
              "      padding: 0 0 0 0;\n",
              "      width: 32px;\n",
              "    }\n",
              "\n",
              "    .colab-df-convert:hover {\n",
              "      background-color: #E2EBFA;\n",
              "      box-shadow: 0px 1px 2px rgba(60, 64, 67, 0.3), 0px 1px 3px 1px rgba(60, 64, 67, 0.15);\n",
              "      fill: #174EA6;\n",
              "    }\n",
              "\n",
              "    [theme=dark] .colab-df-convert {\n",
              "      background-color: #3B4455;\n",
              "      fill: #D2E3FC;\n",
              "    }\n",
              "\n",
              "    [theme=dark] .colab-df-convert:hover {\n",
              "      background-color: #434B5C;\n",
              "      box-shadow: 0px 1px 3px 1px rgba(0, 0, 0, 0.15);\n",
              "      filter: drop-shadow(0px 1px 2px rgba(0, 0, 0, 0.3));\n",
              "      fill: #FFFFFF;\n",
              "    }\n",
              "  </style>\n",
              "\n",
              "      <script>\n",
              "        const buttonEl =\n",
              "          document.querySelector('#df-9c195e29-03be-4582-80d9-9c6d5b17d3e7 button.colab-df-convert');\n",
              "        buttonEl.style.display =\n",
              "          google.colab.kernel.accessAllowed ? 'block' : 'none';\n",
              "\n",
              "        async function convertToInteractive(key) {\n",
              "          const element = document.querySelector('#df-9c195e29-03be-4582-80d9-9c6d5b17d3e7');\n",
              "          const dataTable =\n",
              "            await google.colab.kernel.invokeFunction('convertToInteractive',\n",
              "                                                     [key], {});\n",
              "          if (!dataTable) return;\n",
              "\n",
              "          const docLinkHtml = 'Like what you see? Visit the ' +\n",
              "            '<a target=\"_blank\" href=https://colab.research.google.com/notebooks/data_table.ipynb>data table notebook</a>'\n",
              "            + ' to learn more about interactive tables.';\n",
              "          element.innerHTML = '';\n",
              "          dataTable['output_type'] = 'display_data';\n",
              "          await google.colab.output.renderOutput(dataTable, element);\n",
              "          const docLink = document.createElement('div');\n",
              "          docLink.innerHTML = docLinkHtml;\n",
              "          element.appendChild(docLink);\n",
              "        }\n",
              "      </script>\n",
              "    </div>\n",
              "  </div>\n",
              "  "
            ]
          },
          "metadata": {},
          "execution_count": 40
        }
      ]
    },
    {
      "cell_type": "code",
      "source": [
        "data['2009-01-01'].max()"
      ],
      "metadata": {
        "colab": {
          "base_uri": "https://localhost:8080/"
        },
        "id": "h-RWhjf59pyJ",
        "outputId": "82cad46f-8ef5-4f65-bac3-f52e7040e4f2"
      },
      "execution_count": null,
      "outputs": [
        {
          "output_type": "stream",
          "name": "stderr",
          "text": [
            "/usr/local/lib/python3.7/dist-packages/ipykernel_launcher.py:1: FutureWarning: Indexing a DataFrame with a datetimelike index using a single string to slice the rows, like `frame[string]`, is deprecated and will be removed in a future version. Use `frame.loc[string]` instead.\n",
            "  \"\"\"Entry point for launching an IPython kernel.\n"
          ]
        },
        {
          "output_type": "execute_result",
          "data": {
            "text/plain": [
              "L06_347     0.140917\n",
              "LS06_347    0.097500\n",
              "LS06_348    0.017583\n",
              "dtype: float64"
            ]
          },
          "metadata": {},
          "execution_count": 41
        }
      ]
    },
    {
      "cell_type": "markdown",
      "metadata": {
        "id": "ERi6UR9jAPDA"
      },
      "source": [
        "<div class=\"alert alert-danger\">\n",
        "\n",
        "<b>NOTA</b>:\n",
        "\n",
        " <ul>\n",
        "  <li>con las versiones viejas de Pandas, <code>data.resample('D').mean()</code> era expresado como <code>data.resample('D', how='mean')</code>.</li>\n",
        "</ul>\n",
        "</div>"
      ]
    },
    {
      "cell_type": "markdown",
      "metadata": {
        "id": "S1zOJxrMAPDA"
      },
      "source": [
        "otros metodos matematicos tambien pueden ser especificados:"
      ]
    },
    {
      "cell_type": "code",
      "execution_count": null,
      "metadata": {
        "collapsed": true,
        "run_control": {
          "frozen": false,
          "read_only": false
        },
        "id": "s-fdfU4nAPDA"
      },
      "outputs": [],
      "source": [
        "data.resample('D').max().head()"
      ]
    },
    {
      "cell_type": "markdown",
      "metadata": {
        "id": "NjGCFhHrAPDA"
      },
      "source": [
        "<div class=\"alert alert-info\">\n",
        "<b>RECUERDA</b>: <br><br>\n",
        "\n",
        "    La cadena de caracteres para especificar la nueva frecuencia temporal: http://pandas.pydata.org/pandas-docs/stable/timeseries.html#offset-aliases <br><br>\n",
        "            \n",
        "    Estas cadenas de caracters se pueden combinar con numeros, por ejemplo `'10D'`...\n",
        "\n",
        "</div>\n",
        "\n"
      ]
    },
    {
      "cell_type": "code",
      "execution_count": null,
      "metadata": {
        "collapsed": true,
        "run_control": {
          "frozen": false,
          "read_only": false
        },
        "colab": {
          "base_uri": "https://localhost:8080/",
          "height": 296
        },
        "id": "R1Ac-JXLAPDA",
        "outputId": "dca57134-3a37-436c-ef7f-270e6d7a8614"
      },
      "outputs": [
        {
          "output_type": "execute_result",
          "data": {
            "text/plain": [
              "<matplotlib.axes._subplots.AxesSubplot at 0x7f1aec15a290>"
            ]
          },
          "metadata": {},
          "execution_count": 43
        },
        {
          "output_type": "display_data",
          "data": {
            "text/plain": [
              "<Figure size 432x288 with 1 Axes>"
            ],
            "image/png": "[encoded data removed]"
          },
          "metadata": {
            "needs_background": "light"
          }
        }
      ],
      "source": [
        "data.resample('10D').mean().plot() # 10D"
      ]
    },
    {
      "cell_type": "markdown",
      "metadata": {
        "id": "_1lLVbF7APDA"
      },
      "source": [
        "<div class=\"alert alert-success\">\n",
        "\n",
        "<b>EJERCICIO</b>:\n",
        "\n",
        " <ul>\n",
        "  <li>Grafique la desviacion estadar mensual de las columnas.</li>\n",
        "</ul>\n",
        "</div>"
      ]
    },
    {
      "cell_type": "code",
      "execution_count": null,
      "metadata": {
        "clear_cell": true,
        "collapsed": true,
        "run_control": {
          "frozen": false,
          "read_only": false
        },
        "id": "EZOJte1KAPDA"
      },
      "outputs": [],
      "source": [
        "# Hacer aqui el codigo\n"
      ]
    },
    {
      "cell_type": "markdown",
      "metadata": {
        "id": "lpCuCYHUAPDA"
      },
      "source": [
        "<div class=\"alert alert-success\">\n",
        "\n",
        "<b>EJERCICIO</b>:\n",
        "\n",
        " <ul>\n",
        "  <li>Graficar la media y mediana mensual para los años 2011-2012 para la comuna 'L06_347'.<br><br></li>\n",
        "</ul>\n",
        "    \n",
        "    **Nota** <br>Puede crear una nueva figura con `fig, ax = plt.subplots()` y adicionar cada una de las graficas al objeto `ax` (ver la documentacion de pandas de la funcion plot)\n",
        "</div>"
      ]
    },
    {
      "cell_type": "code",
      "execution_count": null,
      "metadata": {
        "clear_cell": true,
        "collapsed": true,
        "run_control": {
          "frozen": false,
          "read_only": false
        },
        "id": "pBrqQOMPAPDA"
      },
      "outputs": [],
      "source": [
        "# Hacer aqui el codigo\n"
      ]
    },
    {
      "cell_type": "markdown",
      "metadata": {
        "id": "oWLoLaMVAPDB"
      },
      "source": [
        "<div class=\"alert alert-success\">\n",
        "\n",
        "<b>EJERCICIO</b>:\n",
        "\n",
        " <ul>\n",
        "  <li>Graficar el minimo y el maximo mensual del valor del promedio diario para la columna 'LS06_348'</li>\n",
        "</ul>\n",
        "</div>"
      ]
    },
    {
      "cell_type": "code",
      "execution_count": null,
      "metadata": {
        "clear_cell": true,
        "collapsed": true,
        "run_control": {
          "frozen": false,
          "read_only": false
        },
        "id": "4ypDB2KTAPDG"
      },
      "outputs": [],
      "source": [
        "# Hacer aqui el codigo\n"
      ]
    },
    {
      "cell_type": "code",
      "source": [
        "# Hacer aqui el codigo\n"
      ],
      "metadata": {
        "id": "SmNUVDFBGBgW"
      },
      "execution_count": null,
      "outputs": []
    },
    {
      "cell_type": "markdown",
      "metadata": {
        "id": "WeOsnd7HAPDG"
      },
      "source": [
        "<div class=\"alert alert-success\">\n",
        "<b>EJERICIO</b>:\n",
        "\n",
        " <ul>\n",
        "  <li>Hacer un grafico de barras de la media de las estaciones del año para el 2013 (Observacion: crear un objeto `fig, ax = plt.subplots()` y agregar el grafico la variable `ax` creada.</li>\n",
        "</ul>\n",
        "\n",
        "</div>"
      ]
    },
    {
      "cell_type": "code",
      "execution_count": null,
      "metadata": {
        "id": "OcUbN_ZXAPDG"
      },
      "outputs": [],
      "source": [
        "# Hacer aqui el codigo\n",
        "\n",
        "\n"
      ]
    },
    {
      "cell_type": "markdown",
      "metadata": {
        "id": "J5TZRh50APDG"
      },
      "source": [
        "<div class=\"alert alert-success\">\n",
        "<b>EJERCICIO</b>:\n",
        "\n",
        " <ul>\n",
        "  <li>Calcular el patron anual tipico con resolucion mensual (graficar el promedio mensual tipico sobre los años).</li>\n",
        "</ul>\n",
        "\n",
        "</div>"
      ]
    },
    {
      "cell_type": "code",
      "execution_count": null,
      "metadata": {
        "id": "hgp-H9kUAPDG"
      },
      "outputs": [],
      "source": [
        "# Hacer aqui el codigo\n"
      ]
    }
  ],
  "metadata": {
    "kernelspec": {
      "display_name": "Python 3",
      "language": "python",
      "name": "python3"
    },
    "language_info": {
      "codemirror_mode": {
        "name": "ipython",
        "version": 3
      },
      "file_extension": ".py",
      "mimetype": "text/x-python",
      "name": "python",
      "nbconvert_exporter": "python",
      "pygments_lexer": "ipython3",
      "version": "3.5.2"
    },
    "nav_menu": {},
    "toc": {
      "navigate_menu": true,
      "number_sections": true,
      "sideBar": true,
      "threshold": 6,
      "toc_cell": false,
      "toc_section_display": "block",
      "toc_window_display": true
    },
    "toc_position": {
      "height": "500px",
      "left": "0px",
      "right": "986px",
      "top": "106px",
      "width": "214px"
    },
    "colab": {
      "provenance": []
    }
  },
  "nbformat": 4,
  "nbformat_minor": 0
}