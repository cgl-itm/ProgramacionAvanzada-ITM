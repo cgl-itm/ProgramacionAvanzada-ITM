{
 "cells": [
  {
   "cell_type": "markdown",
   "metadata": {
    "id": "ZJhjsmSE0-S4"
   },
   "source": [
    "# Clase 4: Listas"
   ]
  },
  {
   "cell_type": "markdown",
   "metadata": {
    "id": "85ovFqjV0-S6"
   },
   "source": [
    "# 1. Estructuras de datos\n",
    "\n",
    "## 1.1. Listas\n",
    "\n",
    "Una lista es un estructura de datos que nos permite almacenar secuencias de elementos. Una lista tiene las siguientes propiedades:\n",
    "\n",
    "- Permite almacenar cualquier tipo de elemento.\n",
    "- Es dinámica, esto es, puede cambiar su tamaño dinámicamente.\n",
    "\n",
    "La sintaxis en Python es la siguiente:\n",
    "\n",
    "$lista$ = <font color=\"blue\" size=5>[</font> $elemento_1$, $elemento_2$, $elemento_3$,...,$elemento_n$ <font color=\"blue\" size=5>]</font> "
   ]
  },
  {
   "cell_type": "code",
   "execution_count": null,
   "metadata": {
    "id": "js-w-mZQ0-S7"
   },
   "outputs": [],
   "source": [
    "#Crear lista con diferentes valores (tipos)\n",
    "lista = []\n",
    "\n",
    "#imprimir lista\n",
    "print(lista)\n",
    "\n",
    "#tipo de variable?\n",
    "\n",
    "\n",
    "#len (length) para tamaño\n"
   ]
  },
  {
   "cell_type": "code",
   "execution_count": null,
   "metadata": {
    "id": "lWEJe9kK0-S8"
   },
   "outputs": [],
   "source": [
    "#imprimir un elemento de la lista\n",
    "\n",
    "\n",
    "#Indexación lista[-1]: indexación negativa\n"
   ]
  },
  {
   "cell_type": "code",
   "execution_count": null,
   "metadata": {
    "id": "JtYPgyhT0-S9"
   },
   "outputs": [],
   "source": [
    "print(lista)\n",
    "#Sublistas (slicing)\n",
    "\n",
    "\n",
    "# inicio : fin : pasos de\n",
    "\n",
    "\n",
    "#Modificación de elementos de la lista\n",
    "#lista[3] = 10 #Listas son mutables\n",
    "print(lista)"
   ]
  },
  {
   "cell_type": "code",
   "execution_count": null,
   "metadata": {
    "id": "XJqd0zYa0-S9"
   },
   "outputs": [],
   "source": [
    "#Podemos asignar sublistas a nuevas variables\n",
    "subL = lista[:3]\n",
    "print(subL)\n",
    "print(type(subL))"
   ]
  },
  {
   "cell_type": "markdown",
   "metadata": {
    "id": "jEIU41el0-S-"
   },
   "source": [
    "## slicing con str"
   ]
  },
  {
   "cell_type": "code",
   "execution_count": null,
   "metadata": {
    "id": "XA8Z0oAz0-S-"
   },
   "outputs": [],
   "source": [
    "#crear str\n",
    "cadena = 'LPW72-1 lenguajes de programacion'\n",
    "print(cadena)\n",
    "\n",
    "#Hacer slicing\n",
    "\n",
    "# cadena[3] = 'o' #inmutabilidad"
   ]
  },
  {
   "cell_type": "markdown",
   "metadata": {
    "id": "91HhQ-v90-S-"
   },
   "source": [
    "## Operaciones básicas sobre listas\n",
    "\n",
    "A continuación algunas operaciones sobre las listas. Para mayor información, consultar: https://docs.python.org/3/tutorial/datastructures.html"
   ]
  },
  {
   "cell_type": "code",
   "execution_count": null,
   "metadata": {
    "id": "kODRvYPb0-S_"
   },
   "outputs": [],
   "source": [
    "dir(list)"
   ]
  },
  {
   "cell_type": "code",
   "execution_count": null,
   "metadata": {
    "id": "AZEkdFLD0-S_"
   },
   "outputs": [],
   "source": [
    "# mi_lista = [] #crear lista vacia\n",
    "# mi_lista = list() #otra forma\n",
    "# print(mi_lista)\n",
    "# print(len(mi_lista))\n",
    "\n",
    "mi_lista = [1,2,3, 2.5, \"Juan\"] #crear lista con elementos\n",
    "print(mi_lista)\n",
    "\n",
    "#método append\n",
    "# mi_lista.append(5.0)\n",
    "# print(mi_lista)\n",
    "\n",
    "#método insert\n",
    "# mi_lista.insert(3,'Andres')\n",
    "# print(mi_lista)\n",
    "\n",
    "#método pop (con retorno)\n",
    "# elementoRemovido = mi_lista.pop()\n",
    "# print(elementoRemovido)\n",
    "# print(mi_lista)\n",
    "\n",
    "# elementoRemovido = mi_lista.pop(3)\n",
    "# print(elementoRemovido)\n",
    "# print(mi_lista)\n",
    "\n",
    "# del mi_lista[1:4]\n",
    "# print(mi_lista)"
   ]
  },
  {
   "cell_type": "code",
   "execution_count": null,
   "metadata": {
    "id": "EHWIwPan0-TA"
   },
   "outputs": [],
   "source": [
    "#sumamos dos listas?\n",
    "lista2 = [1,1,1,1,3,4,5]\n",
    "mi_lista = lista2 + mi_lista #agregacion de lista\n",
    "print(mi_lista)"
   ]
  },
  {
   "cell_type": "code",
   "execution_count": null,
   "metadata": {
    "id": "wYsAxAdW0-TA"
   },
   "outputs": [],
   "source": [
    "print(cadena) \n",
    "cadena.count('a')"
   ]
  },
  {
   "cell_type": "code",
   "execution_count": null,
   "metadata": {
    "id": "s8YrELJQ0-TB"
   },
   "outputs": [],
   "source": [
    "print(mi_lista)\n",
    "\n",
    "#método .count\n",
    "# print(mi_lista.count(5))\n",
    "\n",
    "#palabra reservada in\n",
    "# print(1 in mi_lista)\n",
    "\n",
    "#método extend\n",
    "# mi_lista.extend([7,8,9]) \n",
    "\n",
    "# mi_lista.extend('LPW') # +\n",
    "# print(mi_lista)"
   ]
  },
  {
   "cell_type": "code",
   "execution_count": null,
   "metadata": {
    "id": "tmuXl_Rs0-TB"
   },
   "outputs": [],
   "source": [
    "#diferencia entre append y extend\n",
    "mi_lista.append([3,10,210])\n",
    "print(mi_lista)\n",
    "\n"
   ]
  },
  {
   "cell_type": "code",
   "execution_count": null,
   "metadata": {
    "id": "M3HwFGY20-TB"
   },
   "outputs": [],
   "source": [
    "#método remove\n",
    "mi_lista.remove(1)\n",
    "print(mi_lista)"
   ]
  },
  {
   "cell_type": "code",
   "execution_count": null,
   "metadata": {
    "id": "6prMJ_2O0-TC"
   },
   "outputs": [],
   "source": [
    "list.sort?"
   ]
  },
  {
   "cell_type": "code",
   "execution_count": null,
   "metadata": {
    "id": "Bl8C1hOM0-TC",
    "scrolled": true
   },
   "outputs": [],
   "source": [
    "# remover todos los valores igual a 1\n",
    "while(1 in mi_lista):\n",
    "    mi_lista.remove(1)\n",
    "    print(mi_lista)\n",
    "\n",
    "# print(mi_lista)\n",
    "# #método reverse\n",
    "# mi_lista.reverse()\n",
    "# print(mi_lista)\n"
   ]
  },
  {
   "cell_type": "code",
   "execution_count": null,
   "metadata": {
    "id": "qfBG-fxL0-TC"
   },
   "outputs": [],
   "source": [
    "#método sort\n",
    "lista3 = ['andres', 'abuelo','a','c','fe','b']\n",
    "lista3.sort()\n",
    "print(lista3)\n",
    "\n",
    "#parámetros de sort\n",
    "lista3.sort(reverse=True)\n",
    "print(lista3)\n",
    "\n",
    "#Borrar la variable\n",
    "# del mi_lista\n",
    "# print(mi_lista)\n",
    "del lista3[2]\n",
    "print(lista3)"
   ]
  },
  {
   "cell_type": "code",
   "execution_count": null,
   "metadata": {
    "id": "SF1JbA4y0-TD"
   },
   "outputs": [],
   "source": [
    "#Borrar todos los elementos de la lista (vaciar)\n",
    "print(mi_lista)\n",
    "mi_lista.clear()\n",
    "print(mi_lista)"
   ]
  },
  {
   "cell_type": "code",
   "execution_count": null,
   "metadata": {
    "id": "HWlVX_Cp0-TD"
   },
   "outputs": [],
   "source": [
    "del mi_lista\n",
    "print(mi_lista)"
   ]
  },
  {
   "cell_type": "code",
   "execution_count": null,
   "metadata": {
    "id": "BrIC8btH0-TD"
   },
   "outputs": [],
   "source": [
    "#método index\n",
    "# L.index?\n",
    "L = [1,2,3,4,5,6,7,8,3,3,3]\n",
    "print(L.index(3))\n",
    "print(L.index(3,5))"
   ]
  },
  {
   "cell_type": "code",
   "execution_count": null,
   "metadata": {
    "code_folding": [],
    "id": "txX5dQZ70-TD"
   },
   "outputs": [],
   "source": [
    "#Copiar listas Primera explicación\n",
    "\n",
    "L1 = [1,3,5]\n",
    "L2 = L1\n",
    "\n",
    "print(\"Lista 1 = \", L1)\n",
    "print(\"Lista 2 = \", L2)\n",
    "\n",
    "print(\"Lista 1 = \", L1, \"dirección de memoria de L1:\",id(L1))\n",
    "print(\"Lista 2 = \", L2, \"dirección de memoria de L2:\",id(L2))\n",
    "\n",
    "L2[1] = -50\n",
    "\n",
    "print(\"Nueva Lista 1 = \", L1)\n",
    "print(\"Nueva Lista 2 = \", L2)\n"
   ]
  },
  {
   "cell_type": "code",
   "execution_count": null,
   "metadata": {
    "id": "tgLoW0000-TE"
   },
   "outputs": [],
   "source": [
    "#Copiar listas Primera explicación\n",
    "\n",
    "L1 = [1,3,5]\n",
    "L2 = L1.copy()\n",
    "\n",
    "print(\"Lista 1 = \", L1, \"dirección de memoria de L1:\",id(L1))\n",
    "print(\"Lista 2 = \", L2, \"dirección de memoria de L2:\",id(L2))\n",
    "\n",
    "L2[1] = -50\n",
    "\n",
    "print(\"Nueva Lista 1 = \", L1)\n",
    "print(\"Nueva Lista 2 = \", L2)"
   ]
  },
  {
   "cell_type": "markdown",
   "metadata": {
    "id": "wSSRvq2s0-TF"
   },
   "source": [
    "## Recorriendo una lista con estructuras repetitivas\n",
    "\n",
    "Para ello podemos:\n",
    "\n",
    "1. Utilizar un rango igual al tamaño de la lista e iterar por cada posición de la lista.\n",
    "2. Iterar por cada elemento de la lista como objeto iterable."
   ]
  },
  {
   "cell_type": "code",
   "execution_count": null,
   "metadata": {
    "id": "uDtd_ZQ50-TF"
   },
   "outputs": [],
   "source": [
    "lista = [1.3,2.2,7,4.1,4.5E-005, \"hola\", \"mundo\", [\"a\", \"b\", \"c\"]]\n",
    "print(lista)\n",
    "print(\"Longitud de la lista: \",len(lista))\n",
    "\n",
    "for i in range(len(lista)):#por índice\n",
    "    print(i, end=' ')\n",
    "    print(lista[i])\n"
   ]
  },
  {
   "cell_type": "markdown",
   "metadata": {
    "id": "xRmfPVqr0-TF"
   },
   "source": [
    "### Otra forma:"
   ]
  },
  {
   "cell_type": "code",
   "execution_count": null,
   "metadata": {
    "id": "slQaKXxt0-TG"
   },
   "outputs": [],
   "source": [
    "lista = [1.3,2.2,7,4.1,4.5E-5, \"hola\", \"mundo\", [\"a\", \"b\", \"c\"]]\n",
    "print(lista)\n",
    "cont = 0\n",
    "for elemento in lista: #elemento a elemento\n",
    "#     print(elemento)\n",
    "    print(f\"posición {cont}: {elemento}\")\n",
    "    cont += 1"
   ]
  },
  {
   "cell_type": "code",
   "execution_count": null,
   "metadata": {
    "id": "TRkXXyLL0-TG"
   },
   "outputs": [],
   "source": [
    "for i, elemento in enumerate('Hola Mundo!'): #con enumerate para tener tanto índice, como elemento\n",
    "    print(f\"posición {i}: {elemento}\")"
   ]
  },
  {
   "cell_type": "code",
   "execution_count": null,
   "metadata": {
    "id": "gkmFPPF60-TG"
   },
   "outputs": [],
   "source": [
    "print(lista)\n",
    "for i, elemento in enumerate(lista):\n",
    "    print(f\"El elemento de la posición {i} es {elemento}\")"
   ]
  },
  {
   "cell_type": "code",
   "execution_count": null,
   "metadata": {
    "id": "lW-qcRWC0-TH"
   },
   "outputs": [],
   "source": [
    "#Solicitar a un usario 10 valores y almacenarlos en una lista\n",
    "\n",
    "lista = []\n",
    "\n",
    "while len(lista) < 10:\n",
    "    num = input(\"Ingrese un número: \")\n",
    "    if num == 'q':\n",
    "        break\n",
    "    lista.append(float(num))\n",
    "\n",
    "print(lista)"
   ]
  },
  {
   "cell_type": "markdown",
   "metadata": {
    "id": "eCgtGn5k0-TH"
   },
   "source": [
    "## Comprensión de listas (List Comprehension)\n",
    "\n",
    "Esto es una manera concisa de crear listas, ahorrándonos el proceso ingresar la asignación de valores de la lista dentro de un ciclo."
   ]
  },
  {
   "cell_type": "code",
   "execution_count": null,
   "metadata": {
    "id": "60HWOAsn0-TH"
   },
   "outputs": [],
   "source": [
    "#Parecido al inline if -->  True if x%2==0 else False\n",
    "\n",
    "X = range(0, 11)\n",
    "\n",
    "lista = []\n",
    "print(lista)\n",
    "\n",
    "for x in X:\n",
    "    lista.append(x**2)\n",
    "\n",
    "print(lista)"
   ]
  },
  {
   "cell_type": "markdown",
   "metadata": {
    "id": "QHS7d66x0-TI"
   },
   "source": [
    "En el ejemplo anterior hemos creado una lista de los cuadrados de los elementos en una lista de la siguiente forma: \n",
    "\n",
    "<center><font size=5>$lista=x^2 \\qquad \\forall x \\in X=[0,10]$</font></center>\n",
    "\n",
    "Podemos leer la expresión anterior como:\n",
    "\n",
    "<br>\n",
    "<center><font size=3><i>\"lista es igual a x al cuadrado, para todo x que pertenece a X en el rango 0 a 10.\"</i></font></center>\n",
    "\n",
    "Podemos utilizar la expresión anterior para pensar un poco en la compresion de lista. Observemos el \n",
    "siguiente ejemplo:"
   ]
  },
  {
   "cell_type": "code",
   "execution_count": null,
   "metadata": {
    "id": "fL5liJ3-0-TI"
   },
   "outputs": [],
   "source": [
    "X = range(0, 11)\n",
    "\n",
    "lista2 = [x**2 for x in X] #lista es igual a x al cuadrado, para todo x que pertenece a X en el rango 0 a 10.\n",
    "\n",
    "print(lista2)"
   ]
  },
  {
   "cell_type": "markdown",
   "metadata": {
    "id": "8AtSyyns0-TI"
   },
   "source": [
    "## Otro ejemplo"
   ]
  },
  {
   "cell_type": "code",
   "execution_count": null,
   "metadata": {
    "id": "NojvU4cc0-TJ"
   },
   "outputs": [],
   "source": [
    "Ejemplo2 = []\n",
    "\n",
    "for i in range(1,5):\n",
    "    Ejemplo2.append(2*i-1)\n",
    "    \n",
    "print(Ejemplo2)"
   ]
  },
  {
   "cell_type": "code",
   "execution_count": null,
   "metadata": {
    "id": "LzFdSluE0-TJ"
   },
   "outputs": [],
   "source": [
    "\n",
    "L = [(2*i-1) for i in range(1,5)]\n",
    "print(L)\n",
    "\n",
    "print(sum(L))"
   ]
  },
  {
   "cell_type": "code",
   "execution_count": null,
   "metadata": {
    "id": "-h5aQRQh0-TJ"
   },
   "outputs": [],
   "source": [
    "L = [(2*i-1) for i in range(1,5) if i%2==0]\n",
    "print(L)"
   ]
  },
  {
   "cell_type": "markdown",
   "metadata": {
    "id": "m51TpIGO0-TK"
   },
   "source": [
    "Como una lista puede almacenar cualquier tipo de elemento, puede almacenar una lista también:"
   ]
  },
  {
   "cell_type": "code",
   "execution_count": null,
   "metadata": {
    "id": "C6FEq5SG0-TK"
   },
   "outputs": [],
   "source": [
    "lista_anidada = [[1,2,3],[4,5,6,7],[\"Juan\", \"Pedro\", \"Pablo\"]]\n",
    "\n",
    "print(lista_anidada)\n",
    "\n",
    "\"\"\"\n",
    "#El codigo anterior es equivalente a\n",
    "lista1 = [1,2,3]\n",
    "lista2 = [4,5,6,7]\n",
    "lista3 = [\"Juan\", \"Pedro\", \"Pablo\"]\n",
    "\n",
    "lista_anidada = [lista, lista2, lista3]\n",
    "\"\"\"\n",
    "\n",
    "print(len(lista_anidada))\n",
    "print(lista_anidada[1])\n",
    "print(lista_anidada[2][1])"
   ]
  },
  {
   "cell_type": "markdown",
   "metadata": {
    "id": "uSY0Y68h0-TK"
   },
   "source": [
    "### Ejercicio 1. Almacenemos la tabla de conversión de grados Celsius a Fahrenheit en una lista anidada de la forma: $[[C_0, F_0],[C_1, F_1],...,[C_n, F_n]]$\n",
    "\n",
    "Recordemos: Generemos una tabla de conversión de grados Celsius a Farenheit en el rango $[-20, 40]$ con __paso=5__"
   ]
  },
  {
   "cell_type": "code",
   "execution_count": null,
   "metadata": {
    "id": "FBtp6qr10-TL"
   },
   "outputs": [],
   "source": [
    "#Celda para hacer ejercicio\n"
   ]
  },
  {
   "cell_type": "markdown",
   "metadata": {
    "id": "3QsAx-yq0-TM"
   },
   "source": [
    "### Ejercicio 2. A partir de la siguiente lista, crear un programa que separe en otras dos listas los números pares y los números impares"
   ]
  },
  {
   "cell_type": "code",
   "execution_count": null,
   "metadata": {
    "id": "V5bhQ1zl0-TM"
   },
   "outputs": [],
   "source": [
    "lista = [1, 2, 3, 4, 5, 6, 7, 10, 11, 21, 33, 32, 2, 4]\n",
    "\n"
   ]
  },
  {
   "cell_type": "code",
   "execution_count": null,
   "metadata": {
    "id": "-UWCcL0C0-TN"
   },
   "outputs": [],
   "source": [
    "lista = [1, 2, 3, 4, 5, 6, 7, 10, 'hola', 11, 21, 32.2322, 32, 2, 4,'a', True, [1,2,3]]\n"
   ]
  },
  {
   "cell_type": "markdown",
   "metadata": {
    "id": "AfKaj_0L0-TN"
   },
   "source": [
    "### Ejercicio 3. Estime la suma de todos los elementos de una lista"
   ]
  },
  {
   "cell_type": "code",
   "execution_count": null,
   "metadata": {
    "id": "gSZXmqGZ0-TN"
   },
   "outputs": [],
   "source": [
    "lista = [1,4,6,2,5.8,6.4,99,10,23,67,-45]\n"
   ]
  },
  {
   "cell_type": "markdown",
   "metadata": {
    "id": "eFxFW_rN0-TN"
   },
   "source": [
    "### Ejercicio 4. Cuente la cantidad de números pares en una lista"
   ]
  },
  {
   "cell_type": "code",
   "execution_count": 1,
   "metadata": {
    "colab": {
     "base_uri": "https://localhost:8080/"
    },
    "id": "RqE3Tn4M0-TO",
    "outputId": "c78731b0-caca-4e55-e692-346d2446ec3d"
   },
   "outputs": [
    {
     "name": "stdout",
     "output_type": "stream",
     "text": [
      "organizamos la lista\n",
      "[-975.43, -45, 1, 2, 4, 5.8, 6, 6.4, 10, 23, 67, 99]\n",
      "4\n"
     ]
    }
   ],
   "source": [
    "lista = [1,4,6,2,5.8,6.4,99,10,-975.43,23,67,-45]\n"
   ]
  },
  {
   "cell_type": "markdown",
   "metadata": {
    "id": "ur3qzFr50-TP"
   },
   "source": [
    "### Ejercicio 5. Calcule y almacene en una lista la suma acumulada de todos los elementos de una lista"
   ]
  },
  {
   "cell_type": "code",
   "execution_count": null,
   "metadata": {
    "id": "wOPGhDGh0-TP"
   },
   "outputs": [],
   "source": [
    "lista = [1, 2, 3, 4, 5, 6, 7, 10, 11, 21, 33, 32, 2, 4]\n"
   ]
  },
  {
   "cell_type": "markdown",
   "metadata": {
    "id": "beulxjub0-TP"
   },
   "source": [
    "### Ejercicio 6. Escribir un programa que solicite ingresar números hasta que se introduzca un cero. Los números ingresados se deben almacenar en una lista. Finalmente, se debe imprimir la suma y el promedio de todos los números ingresados."
   ]
  },
  {
   "cell_type": "code",
   "execution_count": null,
   "metadata": {
    "id": "qKdYWsvl0-TQ"
   },
   "outputs": [],
   "source": []
  }
 ],
 "metadata": {
  "colab": {
   "name": "Copia de Clase 4 - Listas.ipynb",
   "provenance": []
  },
  "kernelspec": {
   "display_name": "Python 3 (ipykernel)",
   "language": "python",
   "name": "python3"
  },
  "language_info": {
   "codemirror_mode": {
    "name": "ipython",
    "version": 3
   },
   "file_extension": ".py",
   "mimetype": "text/x-python",
   "name": "python",
   "nbconvert_exporter": "python",
   "pygments_lexer": "ipython3",
   "version": "3.9.13"
  }
 },
 "nbformat": 4,
 "nbformat_minor": 1
}
