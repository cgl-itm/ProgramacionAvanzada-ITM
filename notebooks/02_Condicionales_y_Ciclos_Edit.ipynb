{
  "cells": [
    {
      "cell_type": "markdown",
      "metadata": {
        "id": "3iar3V6PRT6Q"
      },
      "source": [
        "# Clase 2: Estructuras condicionales y ciclos\n",
        "Notebook desarrollado por los docentes Andres Castro y Leonardo Duque. Modificado por Cristian Guarnizo.\n",
        "### 1. Operadores de Asignación\n",
        "\n",
        "### 2. Operadores Relacionales y Operadores Lógicos\n",
        "\n",
        "### 3. Estructuras condicionales:\n",
        "\n",
        "- <font color=\"#130eb3\">__if__</font>\n",
        "- <font color=\"#130eb3\">__if__ __else__</font>\n",
        "- <font color=\"#130eb3\">__elif__</font>\n",
        "- <font color=\"#130eb3\">__if__</font> anidados\n",
        "\n",
        "### 4. Estructuras repetitivas (ciclos):\n",
        "\n",
        "- <font color=\"#130eb3\">__While__</font>\n",
        "\n",
        "\n"
      ]
    },
    {
      "cell_type": "markdown",
      "metadata": {
        "id": "9l7eXbZpRT6V"
      },
      "source": [
        "\n",
        "# Operadores de Asignación"
      ]
    },
    {
      "cell_type": "code",
      "execution_count": 8,
      "metadata": {
        "id": "nM8yFHZaRT6V",
        "outputId": "0d9b4e24-b97b-442e-e9ff-6048f6d0cbed",
        "colab": {
          "base_uri": "https://localhost:8080/"
        }
      },
      "outputs": [
        {
          "output_type": "stream",
          "name": "stdout",
          "text": [
            "<class 'float'>\n",
            "valor de a = 1.0\n"
          ]
        }
      ],
      "source": [
        "a = 10\n",
        "\n",
        "a += 7  # a = a + 7   17\n",
        "a -= 12 # a = a - 12  5\n",
        "a *= 6  # a = a * 6   30\n",
        "a /= 10 # a = a / 10  3\n",
        "a **= 5 # a = a ** 5  3**5 = 243\n",
        "a //= 2 # a = a//2  Division entera 121\n",
        "a %= 2  # a = a % 2 Modulo o residuo de la division\n",
        "\n",
        "print(f\"valor de a = {a}\")"
      ]
    },
    {
      "cell_type": "markdown",
      "metadata": {
        "id": "GYwRgT9yRT6X"
      },
      "source": [
        "\n",
        "# Estructura condicional\n",
        "\n",
        "## Operadores Relacionales en Python\n",
        "\n",
        "- Se usan para establecer relación entre valores (variables)\n",
        "- Producen un resultado booleano (True o False):\n",
        "\n",
        "Una expresión Booleana se puede definir como toda expresión que retorna un valor falso o verdadero:\n",
        "     \n",
        "$ expresion \\rightarrow [True, False] $\n",
        "\n",
        "- Todos tienen el mismo nivel de precedencia (prioridad), pero son de menor prioridad que los operadores aritméticos\n",
        "\n",
        "| Operador | Operación |\n",
        "| --- | --- |\n",
        "| > | Mayor que |\n",
        "| < | Menor que |\n",
        "| >= | Mayor o igual que |\n",
        "| <= | Menor o igual que |\n",
        "| != | Diferente |\n",
        "| == | Igual |"
      ]
    },
    {
      "cell_type": "code",
      "execution_count": 9,
      "metadata": {
        "id": "DtWy4h5gRT6Y",
        "outputId": "a6f4f55d-7092-4736-9ab0-a272822cee86",
        "colab": {
          "base_uri": "https://localhost:8080/"
        }
      },
      "outputs": [
        {
          "output_type": "stream",
          "name": "stdout",
          "text": [
            "True\n",
            "<class 'bool'>\n"
          ]
        }
      ],
      "source": [
        "# Celda para ejemplos de operadores relacionales\n",
        "\n",
        "a = 10\n",
        "b = 3\n",
        "\n",
        "variable = a >= b\n",
        "\n",
        "print(variable)\n",
        "print(type(variable))"
      ]
    },
    {
      "cell_type": "markdown",
      "metadata": {
        "id": "vrb9051jRT6Y"
      },
      "source": [
        "\n",
        "# IF\n",
        "\n",
        "En Python contamos con tres elementos condicionales de la siguiente forma:\n",
        "\n",
        "1. **if**(_expresion booleana_)**:** --> Si se cumple la expresión booleana.\n",
        "2. **else:** --> en caso contrario.\n",
        "3. **elif**(_expresion booleana_)**:** --> Si no se cumple la expresión anterior y se cumple esta. Viene a reemplazar el `if` anidado de un nivel.\n",
        "\n",
        "<br>\n",
        "\n",
        "<font color=\"#130eb3\" size=5>__if__</font> <font size=5>(condición)</font> <font color=\"#130eb3\" size=5>__:__</font>\n",
        "\n",
        "    instrucción 1\n",
        "    \n",
        "    instrucción 2\n",
        "    \n",
        "    ...\n",
        "    \n",
        "    instrucción n\n"
      ]
    },
    {
      "cell_type": "code",
      "execution_count": 11,
      "metadata": {
        "id": "9yxbqzwQRT6Z",
        "outputId": "586e48ae-facf-4b87-ee30-2f60b49bbfe6",
        "colab": {
          "base_uri": "https://localhost:8080/"
        }
      },
      "outputs": [
        {
          "output_type": "stream",
          "name": "stdout",
          "text": [
            "Esto es fuera del if\n"
          ]
        }
      ],
      "source": [
        "#Ejemplo if\n",
        "\n",
        "edad = 15\n",
        "\n",
        "if(edad > 18):\n",
        "  print(\"Eres mayor de edad\")\n",
        "  print(\"instruccion 2\")\n",
        "\n",
        "print(\"Esto es fuera del if\")"
      ]
    },
    {
      "cell_type": "markdown",
      "metadata": {
        "id": "6vH2ZajiRT6Z"
      },
      "source": [
        "\n",
        "# IF - ELSE\n",
        "\n",
        "<br>\n",
        "\n",
        "<font color=\"#130eb3\" size=5>__if__</font> <font size=5>(condición)</font> <font color=\"#130eb3\" size=5>__:__</font>\n",
        "\n",
        "    instrucción 1\n",
        "    \n",
        "    instrucción 2\n",
        "    \n",
        "    ...\n",
        "    \n",
        "    instrucción n\n",
        "    \n",
        "<font color=\"#130eb3\" size=5>__else:__</font>\n",
        "\n",
        "    instrucción sino 1\n",
        "    \n",
        "    instrucción sino 2\n",
        "    \n",
        "    ...\n",
        "    \n",
        "    instrucción sino n"
      ]
    },
    {
      "cell_type": "code",
      "execution_count": 13,
      "metadata": {
        "id": "tIH86lfqRT6a",
        "outputId": "4dee6b9e-d681-4359-9404-d5c5a697d49a",
        "colab": {
          "base_uri": "https://localhost:8080/"
        }
      },
      "outputs": [
        {
          "output_type": "stream",
          "name": "stdout",
          "text": [
            "No eres mayor de edad\n",
            "Esto es fuera del if-else\n"
          ]
        }
      ],
      "source": [
        "#Ejemplo if - else\n",
        "\n",
        "Edad = 16\n",
        "\n",
        "if (Edad >= 18):\n",
        "    print(\"Eres mayor de edad\")\n",
        "else:\n",
        "    print(\"No eres mayor de edad\")\n",
        "\n",
        "print(\"Esto es fuera del if-else\")"
      ]
    },
    {
      "cell_type": "markdown",
      "metadata": {
        "id": "hxmlVTV9RT6b"
      },
      "source": [
        "# ELSE - IF (ELIF)\n",
        "\n",
        "<br>\n",
        "\n",
        "<font color=\"#130eb3\" size=5>__if__</font> <font size=5>(condición)</font> <font color=\"#130eb3\" size=5>__:__</font>\n",
        "\n",
        "    instrucción 1\n",
        "    \n",
        "    instrucción 2\n",
        "    \n",
        "    ...\n",
        "    \n",
        "    instrucción n\n",
        "    \n",
        "<font color=\"#130eb3\" size=5>__elif__</font> <font size=5>(condición2)</font> <font color=\"#130eb3\" size=5>__:__</font>\n",
        "\n",
        "    instrucción condición2 1\n",
        "    \n",
        "    instrucción condición2 2\n",
        "    \n",
        "    ...\n",
        "    \n",
        "    instrucción condición2 n\n",
        "    \n",
        "<font color=\"#130eb3\" size=5>__else:__</font>\n",
        "\n",
        "    instrucción sino 1\n",
        "    \n",
        "    instrucción sino 2\n",
        "    \n",
        "    ...\n",
        "    \n",
        "    instrucción sino n"
      ]
    },
    {
      "cell_type": "markdown",
      "source": [
        "![image.png](data:image/png;base64,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)"
      ],
      "metadata": {
        "id": "PzkaeEHULOFj"
      }
    },
    {
      "cell_type": "code",
      "execution_count": null,
      "metadata": {
        "id": "ZPH9u7HDRT6c"
      },
      "outputs": [],
      "source": [
        "# Ejemplo if-elif-else\n",
        "# Solicitar coordenadas de un punto y decir en qué cuadrante del plano cartesiano se encuentra\n",
        "# (x, y)\n",
        "\n",
        "x = float(input(\"ingrese el valor de x: \"))\n",
        "y = float(input(\"ingrese el valor de y: \"))\n",
        "\n",
        "if (x>0):\n",
        "    if (y<0):\n",
        "        print(\"El punto está en el cuadrante 4\")\n",
        "    else:\n",
        "        print(\"El punto está en el cuadrante 1\")\n",
        "else:\n",
        "    if (y<0):\n",
        "        print(\"El punto está en el cuadrante 3\")\n",
        "    else:\n",
        "        print(\"El punto está en el cuadrante 2\")\n"
      ]
    },
    {
      "cell_type": "code",
      "execution_count": 17,
      "metadata": {
        "id": "KTr1nVCvRT6c",
        "outputId": "7561bb6c-0fee-4f77-8aa4-c1cd2eb8d7d0",
        "colab": {
          "base_uri": "https://localhost:8080/"
        }
      },
      "outputs": [
        {
          "output_type": "stream",
          "name": "stdout",
          "text": [
            "ingrese el valor de x: 0\n",
            "ingrese el valor de y: 1\n",
            "El punto está en el cuadrante 4\n"
          ]
        }
      ],
      "source": [
        "# Ejemplo if-elif-else\n",
        "# Solicitar coordenadas de un punto y decir en qué cuadrante del plano cartesiano se encuentra\n",
        "# (x, y)\n",
        "\n",
        "x = float(input(\"ingrese el valor de x: \"))\n",
        "y = float(input(\"ingrese el valor de y: \"))\n",
        "\n",
        "if (x > 0 and y > 0):\n",
        "    print(\"El punto está en el cuadrante 1\")\n",
        "elif (x < 0 and y > 0):\n",
        "    print(\"El punto está en el cuadrante 2\")\n",
        "elif (x < 0 and y < 0):\n",
        "    print(\"El punto está en el cuadrante 3\")\n",
        "elif (x == 0 and y == 0):\n",
        "    print(\"El punto está en el origen\")\n",
        "else:\n",
        "    print(\"El punto está en el cuadrante 4\")"
      ]
    },
    {
      "cell_type": "markdown",
      "source": [
        "## **Ejercicio 1:** Ingresar un numero por consola, decir si es positivo, negativo o cero"
      ],
      "metadata": {
        "id": "HcT_NqZQYlC1"
      }
    },
    {
      "cell_type": "code",
      "execution_count": 21,
      "metadata": {
        "scrolled": true,
        "id": "_6qlbEhKRT6d",
        "outputId": "350ca617-752f-494a-c098-2a32ab0024d3",
        "colab": {
          "base_uri": "https://localhost:8080/"
        }
      },
      "outputs": [
        {
          "output_type": "stream",
          "name": "stdout",
          "text": [
            "ingrese un número: 9\n",
            "El numero es positivo.\n"
          ]
        }
      ],
      "source": [
        "# ingresar un numero por consola, decir si es positivo, negativo o cero\n",
        "num = float(input(\"ingrese un número: \"))\n",
        "#Hacer codigo aqui\n",
        "if (num==0.0):\n",
        "  print(\"El numero es cero.\")\n",
        "elif (num<0.0):\n",
        "  print(\"El numero es negativo.\")\n",
        "else:\n",
        "  print(\"El numero es positivo.\")"
      ]
    },
    {
      "cell_type": "markdown",
      "metadata": {
        "id": "1dHyqG_LRT6e"
      },
      "source": [
        "# 1.3. Inline IF\n",
        "\n",
        "Se utiliza para asignar el resultado de una selección condicional a una variable."
      ]
    },
    {
      "cell_type": "code",
      "execution_count": 25,
      "metadata": {
        "id": "lgqEvUesRT6e",
        "outputId": "3f0ca5a7-af7b-45c1-f314-9803f40017c0",
        "colab": {
          "base_uri": "https://localhost:8080/"
        }
      },
      "outputs": [
        {
          "output_type": "stream",
          "name": "stdout",
          "text": [
            "7744\n"
          ]
        }
      ],
      "source": [
        "num = 88\n",
        "\n",
        "# if num%2 == 0:\n",
        "#     print('numero par')\n",
        "# else:\n",
        "#     print('numero impar')\n",
        "\n",
        "#Inline if\n",
        "print(num**2) if num%2 == 0 else print(num/2)"
      ]
    },
    {
      "cell_type": "code",
      "execution_count": 27,
      "metadata": {
        "id": "D_It3LJaRT6e",
        "outputId": "3725f22b-5c1c-4786-e685-0bdc4d23492f",
        "colab": {
          "base_uri": "https://localhost:8080/"
        }
      },
      "outputs": [
        {
          "output_type": "stream",
          "name": "stdout",
          "text": [
            "81\n"
          ]
        }
      ],
      "source": [
        "x = 9\n",
        "\n",
        "'''\n",
        "Si x es menor que 10, asigne x al cuadrado a la variable msg,\n",
        "en caso contrario, asigne el valor 1 sobre x a la variable msg\n",
        "'''\n",
        "\n",
        "# if (x < 10):\n",
        "#     msg = x*x #x**2\n",
        "# else:\n",
        "#     msg = 1/x\n",
        "\n",
        "# print(msg)\n",
        "\n",
        "msg = x*x if(x < 10) else 1/x\n",
        "\n",
        "print(msg)"
      ]
    },
    {
      "cell_type": "markdown",
      "source": [
        "## **Ejercicio 2:** Solicitar un valor e imprimir el valor absoluto de él (Usar inline IF)"
      ],
      "metadata": {
        "id": "FLuer1lWYyjl"
      }
    },
    {
      "cell_type": "code",
      "execution_count": 31,
      "metadata": {
        "id": "7weLNYoxRT6f",
        "outputId": "071d373c-d874-447d-8739-b25d64dead67",
        "colab": {
          "base_uri": "https://localhost:8080/"
        }
      },
      "outputs": [
        {
          "output_type": "stream",
          "name": "stdout",
          "text": [
            "Ingrese un número: -100\n",
            "100.0\n"
          ]
        }
      ],
      "source": [
        "# Solicitar un valor e imprimir el valor absoluto de él\n",
        "num = float(input(\"Ingrese un número: \"))\n",
        "#Hacer codigo aqui\n",
        "#-1 -> 1\n",
        "#1  -> 1\n",
        "msg = num if(num > 0) else -num\n",
        "print(msg)"
      ]
    },
    {
      "cell_type": "markdown",
      "metadata": {
        "id": "xl5szsEvRT6f"
      },
      "source": [
        "## Operadores Lógicos\n",
        "\n",
        "- Producen un resultado booleano (True o False) a partir de expresiones lógicas\n",
        "\n",
        "- Prioridad:\n",
        "    1. not\n",
        "    2. and\n",
        "    3. or\n",
        "\n",
        "| Operador | Operación |\n",
        "| --- | --- |\n",
        "| and | y (conjunción) |\n",
        "| or | o (disyunción) |\n",
        "| not | no (Negación) |"
      ]
    },
    {
      "cell_type": "code",
      "execution_count": 53,
      "metadata": {
        "id": "AtDltwMxRT6f",
        "outputId": "fca3aecb-a7d9-448c-c7fd-33c14721677f",
        "colab": {
          "base_uri": "https://localhost:8080/"
        }
      },
      "outputs": [
        {
          "output_type": "stream",
          "name": "stdout",
          "text": [
            "El mayor es b y el valor es  100\n"
          ]
        }
      ],
      "source": [
        "#El mayor de tres números\n",
        "a, b, c = 10, 9, 10\n",
        "\n",
        "if(a>=b and a>=c):\n",
        "    print(\"El mayor es a y el valor es \", a)\n",
        "    if(a==b or a == c):\n",
        "        print(\"Y está repetido\")\n",
        "elif(b>=c and b>=a):\n",
        "    print(\"El mayor es b y el valor es \", b)\n",
        "    if(b==c or b == a):\n",
        "        print(\"Y está repetido\")\n",
        "else:\n",
        "    print(\"El mayor es c\")\n",
        "    if(b==c or c == a):\n",
        "        print(\"Y está repetido\")\n"
      ]
    },
    {
      "cell_type": "markdown",
      "metadata": {
        "id": "_HIwcMOeRT6g"
      },
      "source": [
        "## **Ejercicio 3:** Solicitar tres números e imprimir el menor\n"
      ]
    },
    {
      "cell_type": "code",
      "execution_count": 56,
      "metadata": {
        "id": "SOfFervlRT6g",
        "outputId": "000d7f74-2a40-48e8-d7bb-522f42d02406",
        "colab": {
          "base_uri": "https://localhost:8080/"
        }
      },
      "outputs": [
        {
          "output_type": "stream",
          "name": "stdout",
          "text": [
            "Ingrese un número: 9\n",
            "Ingrese un segundo número: 8\n",
            "Ingrese un tercer número: 7\n",
            "El menor es c\n"
          ]
        }
      ],
      "source": [
        "a = float(input(\"Ingrese un número: \"))\n",
        "b = float(input(\"Ingrese un segundo número: \"))\n",
        "c = float(input(\"Ingrese un tercer número: \"))\n",
        "\n",
        "if(a<=b and a<=c):\n",
        "    print(\"El menor es a y el valor es \", a)\n",
        "    if(a==b or a == c):\n",
        "        print(\"Y está repetido\")\n",
        "elif(b<=c and b<=a):\n",
        "    print(\"El menor es b y el valor es \", b)\n",
        "    if(b==c or b == a):\n",
        "        print(\"Y está repetido\")\n",
        "else:\n",
        "    print(\"El menor es c\")\n",
        "    if(b==c or c == a):\n",
        "        print(\"Y está repetido\")"
      ]
    },
    {
      "cell_type": "markdown",
      "metadata": {
        "id": "sqe2CkSmRT6g"
      },
      "source": [
        "## Precedencia de operadores\n",
        "\n",
        "__Recordemos__ que la jerarquía de operadores aritméticos es la siguiente:\n",
        "\n",
        "1. $()$: parentesis.\n",
        "2. $**$ : potencia.\n",
        "3. $* /$ % not : multiplicación, división, módulo, negación (not).\n",
        "4. $+ -$ and : suma, resta, conjunción (and).\n",
        "5. $>,<,==,>=,<=,!=,$ or : mayor que, menor que, igual, mayor o igual que, menor o igual que, diferenet, disyunción (or)"
      ]
    },
    {
      "cell_type": "markdown",
      "source": [
        "## Ejercicios:\n",
        "1.  Escriba el codigo que a partir de un numero entero devuelva el dia de la semana (0 - 6, de Domingo - Sabado).\n",
        "2. Diseñar un programa que reciba 3 variables numericas y devuelva cuantas son positivas, iguales a 0, o negativas.\n",
        "3. **Detección de fallas en un circuito**:\n",
        "Escribe un programa que detecte si hay una falla en un circuito basado en la corriente que fluye a través de un resistor. Considere que la corriente normal está entre 0.1 A y 0.5 A. Si la corriente está fuera de este rango, indica que hay una falla.\n",
        "4. Escribe un programa que controle la temperatura de un sistema. Si la temperatura es mayor a 100°C, enciende un ventilador; si es menor a 50°C, apaga el ventilador; y si está entre 50°C y 100°C, mantén el ventilador en su estado actual."
      ],
      "metadata": {
        "id": "lyoLPYWLDy0Y"
      }
    },
    {
      "cell_type": "code",
      "source": [
        "#Escriba el codigo que a partir de un numero entero devuelva el dia de la semana (0 - 6, de Domingo - Sabado).\n",
        "num = 0\n",
        "\n",
        "if num==0:\n",
        "  print('Domingo')\n",
        "elif num==1:\n",
        "  print('Lunes')\n",
        "elif num==2:\n",
        "  print('Martes')\n",
        "elif num==3:\n",
        "  print('Miercoles')\n",
        "elif num==4:\n",
        "  print('Jueves')\n",
        "elif num==5:\n",
        "  print('Viernes')\n",
        "elif num==6:\n",
        "  print('Sabado')\n",
        "else:\n",
        "  print(\"El numero no corresponde a un dia\")"
      ],
      "metadata": {
        "id": "8BxJ6vI-Tz-s",
        "outputId": "5db35764-d14d-4192-b753-18475cb9d261",
        "colab": {
          "base_uri": "https://localhost:8080/"
        }
      },
      "execution_count": 60,
      "outputs": [
        {
          "output_type": "stream",
          "name": "stdout",
          "text": [
            "Domingo\n"
          ]
        }
      ]
    },
    {
      "cell_type": "code",
      "source": [
        "num = 2\n",
        "listaDias = ['Domingo','Lunes','Martes','Miercoles','Jueves','Viernes','Sabado']\n",
        "print(listaDias[num] if (num>=0 and num<=6) else \"El numero no corresponde a un dia\")"
      ],
      "metadata": {
        "id": "KgC-zyOHUzi8",
        "outputId": "831d4d28-1eae-4964-a0ae-246c4552852d",
        "colab": {
          "base_uri": "https://localhost:8080/"
        }
      },
      "execution_count": 66,
      "outputs": [
        {
          "output_type": "stream",
          "name": "stdout",
          "text": [
            "Martes\n"
          ]
        }
      ]
    },
    {
      "cell_type": "code",
      "source": [
        "#Diseñar un programa que reciba 3 variables numericas y devuelva cuantas son positivas, iguales a 0, o negativas.\n",
        "a, b, c = 10,10,0\n",
        "\n",
        "positivos = 0\n",
        "negativos = 0\n",
        "ceros = 0\n",
        "\n",
        "if (a>0):\n",
        "  positivos += 1\n",
        "elif (a==0):\n",
        "  ceros += 1\n",
        "else:\n",
        "  negativos += 1\n",
        "\n",
        "if (b>0):\n",
        "  positivos += 1\n",
        "elif (b==0):\n",
        "  ceros += 1\n",
        "else:\n",
        "  negativos += 1\n",
        "\n",
        "if (c>0):\n",
        "  positivos += 1\n",
        "elif (c==0):\n",
        "  ceros += 1\n",
        "else:\n",
        "  negativos += 1\n",
        "\n",
        "print(f\"Negativos {negativos}, Posivitos {positivos} y Ceros {ceros}\")"
      ],
      "metadata": {
        "id": "ZhIDehWsV3RD",
        "outputId": "bfb2a025-856d-4854-dce8-a215b4b13d29",
        "colab": {
          "base_uri": "https://localhost:8080/"
        }
      },
      "execution_count": 68,
      "outputs": [
        {
          "output_type": "stream",
          "name": "stdout",
          "text": [
            "Negativos 0, Posivitos 2 y Ceros 1\n"
          ]
        }
      ]
    },
    {
      "cell_type": "markdown",
      "metadata": {
        "id": "JtxNyGsxRT6g"
      },
      "source": [
        "<hr>\n",
        "\n",
        "# Estructuras repetitivas\n",
        "\n",
        "<hr>\n",
        "\n",
        "## Ciclo While\n",
        "\n",
        "Se utiliza para repetir un conjunto de operaciones o instrucciones mientras una condición sea verdadera. La sintaxis en Python es la siguente:\n",
        "\n",
        "<br>\n",
        "\n",
        "<font color=\"#130eb3\" size=5>__while__</font> <font size=5>(condición)</font> <font color=\"blue\" size=5>__:__</font>\n",
        "\n",
        "    instrucción 1\n",
        "    \n",
        "    instrucción 2\n",
        "    \n",
        "    ...\n",
        "    \n",
        "    instrucción n\n"
      ]
    },
    {
      "cell_type": "code",
      "execution_count": 74,
      "metadata": {
        "id": "YyH-OgXoRT6h",
        "outputId": "2360cccb-8f72-43d5-e51b-1803a60440c5",
        "colab": {
          "base_uri": "https://localhost:8080/"
        }
      },
      "outputs": [
        {
          "output_type": "stream",
          "name": "stdout",
          "text": [
            "9\n",
            "8\n",
            "7\n",
            "6\n",
            "5\n",
            "4\n",
            "3\n",
            "2\n",
            "1\n",
            "0\n",
            "-1\n",
            "Esto está fuera del while\n"
          ]
        }
      ],
      "source": [
        "a = 10\n",
        "\n",
        "while (a >= 0): #mientras a sea mayor que cero\n",
        " a = a - 1 #instruccion 1 es igual a -= 1\n",
        " print(a) #instruccion 2\n",
        "\n",
        "print(\"Esto está fuera del while\")"
      ]
    },
    {
      "cell_type": "code",
      "execution_count": 75,
      "metadata": {
        "id": "bRZcYeo_RT6h",
        "outputId": "3941bc12-56a0-4f70-df5d-2bdf323c1686",
        "colab": {
          "base_uri": "https://localhost:8080/"
        }
      },
      "outputs": [
        {
          "output_type": "stream",
          "name": "stdout",
          "text": [
            "0\n",
            "1\n",
            "2\n",
            "3\n",
            "4\n",
            "5\n",
            "6\n",
            "7\n",
            "8\n",
            "9\n",
            "10\n",
            "Esto está fuera del while\n"
          ]
        }
      ],
      "source": [
        "a = 0\n",
        "\n",
        "while(a <= 10):\n",
        "    print(a)\n",
        "    a = a + 1\n",
        "\n",
        "print(\"Esto está fuera del while\")"
      ]
    },
    {
      "cell_type": "code",
      "execution_count": 83,
      "metadata": {
        "id": "Oru6Cf54RT6h",
        "outputId": "f3dbc686-3066-416d-8a0e-7163d24a894b",
        "colab": {
          "base_uri": "https://localhost:8080/"
        }
      },
      "outputs": [
        {
          "output_type": "stream",
          "name": "stdout",
          "text": [
            "10\n",
            "9\n",
            "8\n",
            "7\n",
            "6\n",
            "5\n",
            "4\n",
            "3\n",
            "2\n",
            "1\n",
            "Esto está fuera del while\n"
          ]
        }
      ],
      "source": [
        "a = 10\n",
        "flag = True\n",
        "\n",
        "while (flag): #mientras a sea mayor que cero\n",
        "    print(a) #instruccion 1\n",
        "    a = a - 1 #instruccion 2 es igual a -= 1\n",
        "    if (a <= 0):\n",
        "        flag = False\n",
        "\n",
        "print(\"Esto está fuera del while\")"
      ]
    },
    {
      "cell_type": "markdown",
      "metadata": {
        "id": "cdaG1x1uRT6h"
      },
      "source": [
        "### Ejercicio: Imprimir los números múltiplos de 3 que existan entre 0 y 20"
      ]
    },
    {
      "cell_type": "code",
      "execution_count": 93,
      "metadata": {
        "id": "4ifkV8l9RT6h",
        "outputId": "8314007d-9b82-44c9-bee3-57a96f99fe91",
        "colab": {
          "base_uri": "https://localhost:8080/"
        }
      },
      "outputs": [
        {
          "output_type": "stream",
          "name": "stdout",
          "text": [
            "4\n",
            "8\n",
            "12\n",
            "16\n",
            "20\n"
          ]
        }
      ],
      "source": [
        "num=0\n",
        "num2 = 4\n",
        "#Hacer codigo aqui\n",
        "while (num<=20):\n",
        "  if (num%num2==0 and num!=0):\n",
        "    print(num)\n",
        "  num += 1"
      ]
    },
    {
      "cell_type": "code",
      "source": [
        "num = 0\n",
        "num2 = 3\n",
        "#Hacer codigo aqui\n",
        "while (num<20):\n",
        "  num += num2\n",
        "  print(num)"
      ],
      "metadata": {
        "id": "8U8anS93biTW",
        "outputId": "55bd4f8b-bef9-4867-f8fb-d0c800067abb",
        "colab": {
          "base_uri": "https://localhost:8080/"
        }
      },
      "execution_count": 96,
      "outputs": [
        {
          "output_type": "stream",
          "name": "stdout",
          "text": [
            "3\n",
            "6\n",
            "9\n",
            "12\n",
            "15\n",
            "18\n",
            "21\n"
          ]
        }
      ]
    },
    {
      "cell_type": "markdown",
      "metadata": {
        "id": "6HDc2mxjRT6i"
      },
      "source": [
        "## Algo como un \"do-while\""
      ]
    },
    {
      "cell_type": "code",
      "execution_count": 99,
      "metadata": {
        "id": "WVVVafBFRT6i",
        "outputId": "b58cc0fc-1b7f-4f1b-cfff-0668ac4737e3",
        "colab": {
          "base_uri": "https://localhost:8080/"
        }
      },
      "outputs": [
        {
          "output_type": "stream",
          "name": "stdout",
          "text": [
            "Entra al menos una vez\n",
            "Entra al menos una vez\n",
            "3\n",
            "Entra al menos una vez\n",
            "Entra al menos una vez\n",
            "Entra al menos una vez\n",
            "6\n",
            "Entra al menos una vez\n",
            "Entra al menos una vez\n",
            "Entra al menos una vez\n",
            "9\n",
            "Entra al menos una vez\n",
            "Entra al menos una vez\n",
            "Entra al menos una vez\n",
            "12\n",
            "Entra al menos una vez\n",
            "Entra al menos una vez\n",
            "Entra al menos una vez\n",
            "15\n",
            "Entra al menos una vez\n",
            "Entra al menos una vez\n",
            "Entra al menos una vez\n",
            "18\n",
            "Entra al menos una vez\n",
            "20\n",
            "código después del while\n"
          ]
        }
      ],
      "source": [
        "a = 2\n",
        "\n",
        "while (True):\n",
        "    print(\"Entra al menos una vez\")\n",
        "    if(a%3 == 0):\n",
        "        print(a)\n",
        "    a = a+1\n",
        "    if(a >= 20):\n",
        "        break\n",
        "print(a)\n",
        "print(\"código después del while\")"
      ]
    }
  ],
  "metadata": {
    "kernelspec": {
      "display_name": "Python 3",
      "language": "python",
      "name": "python3"
    },
    "language_info": {
      "codemirror_mode": {
        "name": "ipython",
        "version": 3
      },
      "file_extension": ".py",
      "mimetype": "text/x-python",
      "name": "python",
      "nbconvert_exporter": "python",
      "pygments_lexer": "ipython3",
      "version": "3.7.6"
    },
    "colab": {
      "provenance": []
    }
  },
  "nbformat": 4,
  "nbformat_minor": 0
}