{
  "nbformat": 4,
  "nbformat_minor": 0,
  "metadata": {
    "colab": {
      "provenance": []
    },
    "kernelspec": {
      "name": "python3",
      "display_name": "Python 3"
    }
  },
  "cells": [
    {
      "cell_type": "markdown",
      "metadata": {
        "id": "9lhzZWMv2Z_-"
      },
      "source": [
        "# Matrices en Numpy"
      ]
    },
    {
      "cell_type": "markdown",
      "metadata": {
        "id": "v_oPB-tD32ju"
      },
      "source": [
        "Basado en documento de la libreria [Numpy](https://docs.scipy.org/doc/scipy/reference/tutorial/linalg.html)"
      ]
    },
    {
      "cell_type": "markdown",
      "metadata": {
        "id": "sGX9onUt2lLI"
      },
      "source": [
        "Importamos la librería Numpy con nombre \"np\"."
      ]
    },
    {
      "cell_type": "code",
      "metadata": {
        "id": "ZQWbAkRIcw2t"
      },
      "source": [
        "import numpy as np"
      ],
      "execution_count": null,
      "outputs": []
    },
    {
      "cell_type": "markdown",
      "metadata": {
        "id": "IhmszfJI8mcy"
      },
      "source": [
        "## Matriz por filas"
      ]
    },
    {
      "cell_type": "markdown",
      "metadata": {
        "id": "4YucWNEU2tgw"
      },
      "source": [
        "Para crear un arreglo en forma de matriz de 2 dimensiones (filas y columnas), se realiza así"
      ]
    },
    {
      "cell_type": "code",
      "metadata": {
        "id": "FzycxHSKc3T1"
      },
      "source": [
        "A = np.array([[1,2,3],[4,5,6]])\n",
        "print(A, A.shape)"
      ],
      "execution_count": null,
      "outputs": []
    },
    {
      "cell_type": "code",
      "metadata": {
        "id": "HxEmdE2o_y82"
      },
      "source": [
        "A2 = np.asarray([[1,2,3],[4,5,6]])\n",
        "print(A2, A2.shape)"
      ],
      "execution_count": null,
      "outputs": []
    },
    {
      "cell_type": "markdown",
      "metadata": {
        "id": "6uaH3iB9HrG7"
      },
      "source": [
        "# Ampliando la matriz"
      ]
    },
    {
      "cell_type": "markdown",
      "metadata": {
        "id": "FNcIi2NI8sQq"
      },
      "source": [
        "## Agregando filas a una matriz\n"
      ]
    },
    {
      "cell_type": "markdown",
      "metadata": {
        "id": "gac-ynnc3LVL"
      },
      "source": [
        "Si quiere agregar una nueva fila a una matriz:"
      ]
    },
    {
      "cell_type": "code",
      "metadata": {
        "id": "HFG-VbrYc84e"
      },
      "source": [
        "b = np.array([[7,8,9]])\n",
        "# axis=0 - concatena a lo largo de las filas\n",
        "print(np.concatenate((A, b), axis=0))"
      ],
      "execution_count": null,
      "outputs": []
    },
    {
      "cell_type": "code",
      "metadata": {
        "id": "fnLXaDe7D-0Y"
      },
      "source": [
        "print(np.vstack((A, b)))"
      ],
      "execution_count": null,
      "outputs": []
    },
    {
      "cell_type": "code",
      "metadata": {
        "id": "MuQ5xvfKFeDW"
      },
      "source": [
        "# axis=0 - concatenate a lo largo de las filas\n",
        "np.append(A, b, axis=0)"
      ],
      "execution_count": null,
      "outputs": []
    },
    {
      "cell_type": "markdown",
      "metadata": {
        "id": "G2KzzK9VH1uG"
      },
      "source": [
        "## Agregando Columnas a una matriz\n"
      ]
    },
    {
      "cell_type": "code",
      "metadata": {
        "id": "G1R4pNyBJC3R"
      },
      "source": [
        "c = np.array([[7],[8]])\n",
        "# c = np.array([[7,8]]).T\n",
        "# axis=0 - concatena a lo largo de las columnas\n",
        "print(np.concatenate((A, c), axis=1))"
      ],
      "execution_count": null,
      "outputs": []
    },
    {
      "cell_type": "code",
      "metadata": {
        "id": "H7zRadrkJC3p"
      },
      "source": [
        "print(np.hstack((A,c)))"
      ],
      "execution_count": null,
      "outputs": []
    },
    {
      "cell_type": "code",
      "metadata": {
        "id": "L6mKcNhv4OVd"
      },
      "source": [
        "# axis=0 - concatena a lo largo de las columnas\n",
        "print(np.append(A, c, axis=1))"
      ],
      "execution_count": null,
      "outputs": []
    },
    {
      "cell_type": "markdown",
      "metadata": {
        "id": "PMWnaF3K8x4T"
      },
      "source": [
        "# Medidas sobre matrices $R^{N\\times N}\\rightarrow R$\n",
        "\n"
      ]
    },
    {
      "cell_type": "markdown",
      "metadata": {
        "id": "U3oBZRU5KFyL"
      },
      "source": [
        "## Determinante"
      ]
    },
    {
      "cell_type": "code",
      "metadata": {
        "id": "XAdAOeBL0zA-"
      },
      "source": [
        "Ac = np.append(A, b, axis=0)\n",
        "np.linalg.det(Ac)"
      ],
      "execution_count": null,
      "outputs": []
    },
    {
      "cell_type": "markdown",
      "metadata": {
        "id": "I_WVBE2s2ELT"
      },
      "source": [
        "## Rango"
      ]
    },
    {
      "cell_type": "code",
      "metadata": {
        "id": "Bz4Z50tg1pNL"
      },
      "source": [
        "np.linalg.matrix_rank(Ac)"
      ],
      "execution_count": null,
      "outputs": []
    },
    {
      "cell_type": "markdown",
      "metadata": {
        "id": "4B60qRNi2ChC"
      },
      "source": [
        "## Norma"
      ]
    },
    {
      "cell_type": "code",
      "metadata": {
        "id": "gSreefzo2Ddx"
      },
      "source": [
        "np.linalg.norm(Ac)"
      ],
      "execution_count": null,
      "outputs": []
    },
    {
      "cell_type": "code",
      "metadata": {
        "id": "Ie9RqVmW2HiL"
      },
      "source": [
        "np.sqrt(np.sum(Ac**2))"
      ],
      "execution_count": null,
      "outputs": []
    },
    {
      "cell_type": "markdown",
      "metadata": {
        "id": "W4gHbzJ52g76"
      },
      "source": [
        "# Solucion a sistemas de ecuaciones"
      ]
    },
    {
      "cell_type": "markdown",
      "metadata": {
        "id": "9vF9MmvD2k-4"
      },
      "source": [
        "Sunpoga que se tiene el siguiente sistemas de ecuaciones: <br>\n",
        "$x+3y+5z=10,$ <br>\n",
        "$2x+5y+z=8,$ <br>\n",
        "$2x+3y+8z=13$."
      ]
    },
    {
      "cell_type": "code",
      "metadata": {
        "id": "qZKfcSh32kZK"
      },
      "source": [
        "A = np.array([[1, 3, 5],[2, 5, 1],[2,3,8]])\n",
        "b = np.array([[10, 8, 13]]).T"
      ],
      "execution_count": null,
      "outputs": []
    },
    {
      "cell_type": "code",
      "metadata": {
        "id": "Jrq8nRGo3O3d"
      },
      "source": [
        "x1 = np.linalg.inv(A)@b\n",
        "print(x1)"
      ],
      "execution_count": null,
      "outputs": []
    },
    {
      "cell_type": "code",
      "metadata": {
        "id": "3oV5uzci3m00"
      },
      "source": [
        "x2 = np.linalg.inv(A).dot(b)\n",
        "print(x2)"
      ],
      "execution_count": null,
      "outputs": []
    },
    {
      "cell_type": "code",
      "metadata": {
        "id": "mRh1nhb53THr"
      },
      "source": [
        "x2 = np.linalg.solve(A,b)\n",
        "print(x2)"
      ],
      "execution_count": null,
      "outputs": []
    },
    {
      "cell_type": "markdown",
      "metadata": {
        "id": "_CzUCS7O7-PT"
      },
      "source": [
        "# Productos entre matrices"
      ]
    },
    {
      "cell_type": "code",
      "metadata": {
        "id": "obYNZSuE8AkT"
      },
      "source": [
        "A = np.array([[1, 3, 5],[2, 5, 1],[2,3,8]])\n",
        "B = np.array([[2, 4, 1],[3, 6, 2],[7,2,5]])"
      ],
      "execution_count": null,
      "outputs": []
    },
    {
      "cell_type": "code",
      "metadata": {
        "id": "JoBUbphA8Iv7"
      },
      "source": [
        "A@B"
      ],
      "execution_count": null,
      "outputs": []
    },
    {
      "cell_type": "code",
      "metadata": {
        "id": "zDojNCTj8K7T"
      },
      "source": [
        "B@A"
      ],
      "execution_count": null,
      "outputs": []
    },
    {
      "cell_type": "code",
      "metadata": {
        "id": "Z58eW00_8MpD"
      },
      "source": [
        "A.dot(B)"
      ],
      "execution_count": null,
      "outputs": []
    },
    {
      "cell_type": "code",
      "metadata": {
        "id": "tdYyIMwg8Tbg"
      },
      "source": [
        "np.linalg.inv(A).dot(B) #A^(-1)B"
      ],
      "execution_count": null,
      "outputs": []
    },
    {
      "cell_type": "code",
      "metadata": {
        "id": "GK1MKF6r8XSE"
      },
      "source": [
        "np.linalg.solve(A,B)"
      ],
      "execution_count": null,
      "outputs": []
    },
    {
      "cell_type": "markdown",
      "source": [
        "Ejercicios:\n",
        "Solucionar el siguiente circuito [enlace](http://hyperphysics.phy-astr.gsu.edu/hbasees/electric/imgele/dcx7.gif).\n",
        "\n",
        "\n"
      ],
      "metadata": {
        "id": "ozHXWSgFaaTV"
      }
    },
    {
      "cell_type": "code",
      "source": [
        "#Hacer codigo aqui"
      ],
      "metadata": {
        "id": "4pBP98_obHsK"
      },
      "execution_count": null,
      "outputs": []
    },
    {
      "cell_type": "markdown",
      "source": [
        "## Funciones y Señales a partir de vectores"
      ],
      "metadata": {
        "id": "JEQ0g8T_0eOQ"
      }
    },
    {
      "cell_type": "markdown",
      "source": [
        "Numpy se emplea para hacer broadcasting sobre funciones de una forma vectorial, por ejemplo, si se tiene el vector x=[1,2,3,4], se puede obtener el cuadrado de cada elemento asi, x**2."
      ],
      "metadata": {
        "id": "CFUxfurG01uq"
      }
    },
    {
      "cell_type": "code",
      "source": [
        "x = np.array([1,2,3,4])\n",
        "x2 = x**2\n",
        "print(x2)"
      ],
      "metadata": {
        "id": "AQSm4g9p1GnK"
      },
      "execution_count": null,
      "outputs": []
    },
    {
      "cell_type": "markdown",
      "source": [
        "Ejercicio: realizar el problema de conversion de grados a Farenheit, donde los grados estan guardados en un arreglo de numpy usando la funcion arange."
      ],
      "metadata": {
        "id": "S8o1kzaU1QeS"
      }
    },
    {
      "cell_type": "code",
      "source": [
        "#Hacer codigo aqui"
      ],
      "metadata": {
        "id": "6GjYY2nN1cUS"
      },
      "execution_count": null,
      "outputs": []
    },
    {
      "cell_type": "markdown",
      "source": [
        "Numpy tambien se emplea para graficar vectores de funciones trigonometricas o señales en el tiempo. Por ejemplo:\n",
        "$$\n",
        "y(t) = A\\cos(\\omega t + \\theta)\n",
        "$$\n",
        "donde $t$ es un vector en el tiempo."
      ],
      "metadata": {
        "id": "z00faS2g0k0g"
      }
    },
    {
      "cell_type": "code",
      "source": [
        "A = 10\n",
        "w = 60\n",
        "theta = np.radians(45)\n",
        "t = np.linspace(0,1,100) # arreglo\n",
        "y = A*np.cos(w*t+theta)"
      ],
      "metadata": {
        "id": "UqOYbCF10jj_"
      },
      "execution_count": null,
      "outputs": []
    },
    {
      "cell_type": "code",
      "source": [
        "import matplotlib.pyplot as plt"
      ],
      "metadata": {
        "id": "oXZRIGLU1oe6"
      },
      "execution_count": null,
      "outputs": []
    },
    {
      "cell_type": "code",
      "source": [
        "plt.plot(t,y)"
      ],
      "metadata": {
        "id": "dVvqjkN21y-2"
      },
      "execution_count": null,
      "outputs": []
    },
    {
      "cell_type": "markdown",
      "source": [
        "Ejercicio: realizar el grafico de\n",
        "$$\n",
        " f(t) = \\exp(2*t)\\sin(2\\pi t)\n",
        "$$\n",
        "para $t$ entre [0,1] con 1000 valores."
      ],
      "metadata": {
        "id": "D19B5vOy13Ek"
      }
    },
    {
      "cell_type": "code",
      "source": [],
      "metadata": {
        "id": "xr4o4YRj100c"
      },
      "execution_count": null,
      "outputs": []
    },
    {
      "cell_type": "code",
      "source": [],
      "metadata": {
        "id": "NhVPSrIvjpyY"
      },
      "execution_count": null,
      "outputs": []
    },
    {
      "cell_type": "markdown",
      "source": [],
      "metadata": {
        "id": "SDeVJOPmjqdf"
      }
    },
    {
      "cell_type": "markdown",
      "source": [
        "## Vectorizando funciones\n",
        "Numpy permite vectorizar las funciones de python, para que puedan recibir vectores"
      ],
      "metadata": {
        "id": "Ahmem9sXjqfe"
      }
    },
    {
      "cell_type": "code",
      "source": [
        "import numpy as np"
      ],
      "metadata": {
        "id": "f-ouELgDkMAY"
      },
      "execution_count": null,
      "outputs": []
    },
    {
      "cell_type": "code",
      "source": [
        "def ecuacion(x):\n",
        "  if x < 0:\n",
        "    return x**2+2*x+1\n",
        "  else:\n",
        "    return x**2-2*x+1"
      ],
      "metadata": {
        "id": "9OPpBt2Ij-Gf"
      },
      "execution_count": null,
      "outputs": []
    },
    {
      "cell_type": "code",
      "source": [
        "ecuacion_vec = np.vectorize(ecuacion)"
      ],
      "metadata": {
        "id": "Mguo2A2GkPP4"
      },
      "execution_count": null,
      "outputs": []
    },
    {
      "cell_type": "code",
      "source": [
        "x = np.linspace(-10,10,100)\n",
        "res = ecuacion_vec(x)"
      ],
      "metadata": {
        "id": "esjtZL31kT4R"
      },
      "execution_count": null,
      "outputs": []
    },
    {
      "cell_type": "code",
      "source": [
        "plt.plot(x,res)"
      ],
      "metadata": {
        "id": "_t760Pxgkb_5"
      },
      "execution_count": null,
      "outputs": []
    },
    {
      "cell_type": "markdown",
      "source": [
        "## Aplicando matrices para evaluar funciones multivariadas"
      ],
      "metadata": {
        "id": "3SwlBHT5k9St"
      }
    },
    {
      "cell_type": "markdown",
      "source": [
        "Numpy tiene funciones que permiten evaluar una funcion de este tipo\n",
        "$$ f(x_1,x_2) = x_1^2+x_1x_2\n",
        "$$"
      ],
      "metadata": {
        "id": "EYtdmDCglCbk"
      }
    },
    {
      "cell_type": "code",
      "source": [
        "def f(x):\n",
        "  return x[0]**2+x[0]*x[1]"
      ],
      "metadata": {
        "id": "sh5ZwxQTlSpm"
      },
      "execution_count": null,
      "outputs": []
    },
    {
      "cell_type": "code",
      "source": [
        "X = np.array([[0,0],[0,1],[1,0],[1,1]])\n",
        "\n",
        "print(\"Eje 0: \", np.apply_along_axis(f,0,X))\n",
        "print(\"Eje 1: \", np.apply_along_axis(f,1,X))"
      ],
      "metadata": {
        "id": "S84Zvf14lhV4"
      },
      "execution_count": null,
      "outputs": []
    },
    {
      "cell_type": "markdown",
      "source": [
        "## Ecuaciones diferenciales"
      ],
      "metadata": {
        "id": "_2gPc4bRMUCo"
      }
    },
    {
      "cell_type": "markdown",
      "source": [
        "Usando la libreria Scipy podemos simular ecuaciones diferenciales ordinarias y no-lineales. Para los ODEs (ecuaciones diferenciales ordinarias) empleamos la funcion `odeint`. Como ejemplo queremos simular la siguiente ODE\n",
        "$$\n",
        "\\frac{dy(t)}{dt} = -k \\; y(t)\n",
        "$$"
      ],
      "metadata": {
        "id": "86UMcoXIMYG2"
      }
    },
    {
      "cell_type": "code",
      "source": [
        "import numpy as np\n",
        "from scipy.integrate import odeint\n",
        "import matplotlib.pyplot as plt"
      ],
      "metadata": {
        "id": "LtX9LvWiMVxh"
      },
      "execution_count": null,
      "outputs": []
    },
    {
      "cell_type": "code",
      "source": [
        "# Funcio que retorna dy/dt\n",
        "def model(y,t):\n",
        "    k = 0.3\n",
        "    dydt = -k * y\n",
        "    return dydt"
      ],
      "metadata": {
        "id": "ij-xFBnmNF__"
      },
      "execution_count": null,
      "outputs": []
    },
    {
      "cell_type": "code",
      "source": [
        "# condicion inicial\n",
        "y0 = 5\n",
        "\n",
        "# vector de tiempos\n",
        "t = np.linspace(0,20)\n",
        "\n",
        "# solucion de la ODE\n",
        "y = odeint(model,y0,t)"
      ],
      "metadata": {
        "id": "lgH6QBlRNL1N"
      },
      "execution_count": null,
      "outputs": []
    },
    {
      "cell_type": "code",
      "source": [
        "# plot resultados\n",
        "plt.plot(t,y)\n",
        "plt.xlabel('time')\n",
        "plt.ylabel('y(t)')\n",
        "plt.show()"
      ],
      "metadata": {
        "id": "GsFCpm0KNS7Q"
      },
      "execution_count": null,
      "outputs": []
    },
    {
      "cell_type": "markdown",
      "source": [
        "Podemos manejar el parametro `k` como un argumento de entrada a la ecuacion diferencial, asi"
      ],
      "metadata": {
        "id": "bfjFZcsIOTks"
      }
    },
    {
      "cell_type": "code",
      "source": [
        "def model(y,t,k):\n",
        "    dydt = -k * y\n",
        "    return dydt\n",
        "\n",
        "# solucionar ODEs\n",
        "k = 0.1\n",
        "y1 = odeint(model,y0,t,args=(k,))\n",
        "k = 0.2\n",
        "y2 = odeint(model,y0,t,args=(k,))\n",
        "k = 0.5\n",
        "y3 = odeint(model,y0,t,args=(k,))\n",
        "\n",
        "# plot resultados\n",
        "plt.plot(t,y1,'r-',linewidth=2,label='k=0.1')\n",
        "plt.plot(t,y2,'b--',linewidth=2,label='k=0.2')\n",
        "plt.plot(t,y3,'g:',linewidth=2,label='k=0.5')\n",
        "plt.xlabel('time')\n",
        "plt.ylabel('y(t)')\n",
        "plt.legend()\n",
        "plt.show()"
      ],
      "metadata": {
        "id": "DxWWVZOFOZuS"
      },
      "execution_count": null,
      "outputs": []
    },
    {
      "cell_type": "markdown",
      "source": [
        "Para ecuacion diferenciales de mayor orden, se requiere usar vectores"
      ],
      "metadata": {
        "id": "-yumRs9ERb2T"
      }
    },
    {
      "cell_type": "markdown",
      "source": [
        "$ \\frac{\\operatorname{d}^3 y}{\\operatorname{d} t^3} + a \\frac{\\operatorname{d}^2 y}{\\operatorname{d} t^2} + b\\frac{\\operatorname{d} y}{\\operatorname{d} t}+c y = u(t)$"
      ],
      "metadata": {
        "id": "N1mER2p7RaSt"
      }
    },
    {
      "cell_type": "code",
      "source": [
        "# funcion que recibe y,dy/dt,d2y/dt2\n",
        "# funcion que retorna dy/dt,d2y/dt2,d3y/dt3\n",
        "def model(x,t,u): #x is a vector of 3 dimensions\n",
        "    a = 1\n",
        "    b = 2\n",
        "    c = 3\n",
        "\n",
        "    y = x[0]\n",
        "    dydt = x[1]\n",
        "    d2ydt2 = x[2]\n",
        "\n",
        "    d3ydt3 = - a*d2ydt2 - b*dydt - c*y + u #Derivada de mayor orden\n",
        "\n",
        "    return np.array([dydt,d2ydt2,d3ydt3])"
      ],
      "metadata": {
        "id": "OLWuX8NxRape"
      },
      "execution_count": null,
      "outputs": []
    },
    {
      "cell_type": "markdown",
      "source": [
        "## Ejercicios"
      ],
      "metadata": {
        "id": "DhIoL1xo9m7l"
      }
    },
    {
      "cell_type": "markdown",
      "source": [
        "1.1. Para la ecuación diferencial de segundo orden, analizar la respuesta al escalon ($u(0) = 0$, y para $t>0$ $u(t)=1$), para cuando las raices del polinomia $ax^2+bx+c$ son:\n",
        "* Reales.\n",
        "* Complejas.\n",
        "Pista: hacer uso de la funcion `roots` de NumPy.\n",
        "https://math.libretexts.org/Bookshelves/Differential_Equations/Introduction_to_Partial_Differential_Equations_(Herman)/12%3A_B_-_Ordinary_Differential_Equations_Review/12.02%3A_Second_Order_Linear_Differential_Equations"
      ],
      "metadata": {
        "id": "zBr8WpJJ9pd1"
      }
    },
    {
      "cell_type": "code",
      "source": [
        "#Hacer codigo aqui\n"
      ],
      "metadata": {
        "id": "xOhnNbGm9mY4"
      },
      "execution_count": null,
      "outputs": []
    },
    {
      "cell_type": "markdown",
      "source": [
        "1.2. Programar la version multidimensional del metodo de Newton para solucionar un sistemas de ecuaciones no lineales. https://en.wikipedia.org/wiki/Newton%27s_method\n",
        "\n",
        "![](https://www.brnt.eu/phd/img190.png)"
      ],
      "metadata": {
        "id": "IeUX9S_d_HDS"
      }
    },
    {
      "cell_type": "code",
      "source": [
        "#Hacer codigo aqui\n"
      ],
      "metadata": {
        "id": "hXrM78gq_Ti8"
      },
      "execution_count": null,
      "outputs": []
    }
  ]
}