{
  "nbformat": 4,
  "nbformat_minor": 0,
  "metadata": {
    "colab": {
      "provenance": []
    },
    "kernelspec": {
      "name": "python3",
      "display_name": "Python 3"
    }
  },
  "cells": [
    {
      "cell_type": "markdown",
      "metadata": {
        "id": "9lhzZWMv2Z_-"
      },
      "source": [
        "# Matrices en Numpy"
      ]
    },
    {
      "cell_type": "markdown",
      "metadata": {
        "id": "v_oPB-tD32ju"
      },
      "source": [
        "Basado en documento de la libreria [Numpy](https://docs.scipy.org/doc/scipy/reference/tutorial/linalg.html)"
      ]
    },
    {
      "cell_type": "markdown",
      "metadata": {
        "id": "sGX9onUt2lLI"
      },
      "source": [
        "Importamos la librería Numpy con nombre \"np\"."
      ]
    },
    {
      "cell_type": "code",
      "metadata": {
        "id": "ZQWbAkRIcw2t"
      },
      "source": [
        "import numpy as np"
      ],
      "execution_count": null,
      "outputs": []
    },
    {
      "cell_type": "markdown",
      "metadata": {
        "id": "IhmszfJI8mcy"
      },
      "source": [
        "## Matriz por filas"
      ]
    },
    {
      "cell_type": "markdown",
      "metadata": {
        "id": "4YucWNEU2tgw"
      },
      "source": [
        "Para crear un arreglo en forma de matriz de 2 dimensiones (filas y columnas), se realiza así"
      ]
    },
    {
      "cell_type": "code",
      "metadata": {
        "id": "FzycxHSKc3T1",
        "colab": {
          "base_uri": "https://localhost:8080/"
        },
        "outputId": "a5167c0c-ef0d-4606-a8bc-3c73478ce931"
      },
      "source": [
        "A = np.array([[1,2,3],[4,5,6]])\n",
        "print(A, A.shape)"
      ],
      "execution_count": null,
      "outputs": [
        {
          "output_type": "stream",
          "name": "stdout",
          "text": [
            "[[1 2 3]\n",
            " [4 5 6]] (2, 3)\n"
          ]
        }
      ]
    },
    {
      "cell_type": "code",
      "metadata": {
        "id": "HxEmdE2o_y82",
        "colab": {
          "base_uri": "https://localhost:8080/"
        },
        "outputId": "4f94ef6c-f192-439c-f82c-41a56aecf65d"
      },
      "source": [
        "A2 = np.asarray([[1,2,3],[4,5,6]])\n",
        "print(A2, A2.shape)"
      ],
      "execution_count": null,
      "outputs": [
        {
          "output_type": "stream",
          "name": "stdout",
          "text": [
            "[[1 2 3]\n",
            " [4 5 6]] (2, 3)\n"
          ]
        }
      ]
    },
    {
      "cell_type": "markdown",
      "metadata": {
        "id": "6uaH3iB9HrG7"
      },
      "source": [
        "# Ampliando la matriz"
      ]
    },
    {
      "cell_type": "markdown",
      "metadata": {
        "id": "FNcIi2NI8sQq"
      },
      "source": [
        "## Agregando filas a una matriz\n"
      ]
    },
    {
      "cell_type": "markdown",
      "metadata": {
        "id": "gac-ynnc3LVL"
      },
      "source": [
        "Si quiere agregar una nueva fila a una matriz:"
      ]
    },
    {
      "cell_type": "code",
      "metadata": {
        "id": "HFG-VbrYc84e",
        "colab": {
          "base_uri": "https://localhost:8080/"
        },
        "outputId": "f91cb965-3fc1-4639-e8c0-bbd80955e19f"
      },
      "source": [
        "b = np.array([[7,8,9]])\n",
        "# axis=0 - concatena a lo largo de las filas\n",
        "print(np.concatenate((A, b), axis=0))"
      ],
      "execution_count": null,
      "outputs": [
        {
          "output_type": "stream",
          "name": "stdout",
          "text": [
            "[[1 2 3]\n",
            " [4 5 6]\n",
            " [7 8 9]]\n"
          ]
        }
      ]
    },
    {
      "cell_type": "code",
      "metadata": {
        "id": "fnLXaDe7D-0Y",
        "colab": {
          "base_uri": "https://localhost:8080/"
        },
        "outputId": "1f3eba0e-7fc6-4363-8055-2cad938dba40"
      },
      "source": [
        "print(np.vstack((A, b)))"
      ],
      "execution_count": null,
      "outputs": [
        {
          "output_type": "stream",
          "name": "stdout",
          "text": [
            "[[1 2 3]\n",
            " [4 5 6]\n",
            " [7 8 9]]\n"
          ]
        }
      ]
    },
    {
      "cell_type": "code",
      "metadata": {
        "id": "MuQ5xvfKFeDW",
        "colab": {
          "base_uri": "https://localhost:8080/"
        },
        "outputId": "8cd512a1-489f-44ef-befc-fa55bbe1e5c7"
      },
      "source": [
        "# axis=0 - concatenate a lo largo de las filas\n",
        "np.append(A, b, axis=0)"
      ],
      "execution_count": null,
      "outputs": [
        {
          "output_type": "execute_result",
          "data": {
            "text/plain": [
              "array([[1, 2, 3],\n",
              "       [4, 5, 6],\n",
              "       [7, 8, 9]])"
            ]
          },
          "metadata": {},
          "execution_count": 6
        }
      ]
    },
    {
      "cell_type": "markdown",
      "metadata": {
        "id": "G2KzzK9VH1uG"
      },
      "source": [
        "## Agregando Columnas a una matriz\n"
      ]
    },
    {
      "cell_type": "code",
      "metadata": {
        "id": "G1R4pNyBJC3R",
        "colab": {
          "base_uri": "https://localhost:8080/"
        },
        "outputId": "890190d5-0c14-4b32-f222-af86c1bd9fd2"
      },
      "source": [
        "c = np.array([[7],[8]])\n",
        "# c = np.array([[7,8]]).T\n",
        "# axis=0 - concatena a lo largo de las columnas\n",
        "print(np.concatenate((A, c), axis=1))"
      ],
      "execution_count": null,
      "outputs": [
        {
          "output_type": "stream",
          "name": "stdout",
          "text": [
            "[[1 2 3 7]\n",
            " [4 5 6 8]]\n"
          ]
        }
      ]
    },
    {
      "cell_type": "code",
      "metadata": {
        "id": "H7zRadrkJC3p",
        "colab": {
          "base_uri": "https://localhost:8080/"
        },
        "outputId": "ff7f988f-c2a2-4c79-fddd-0dc19cedfba6"
      },
      "source": [
        "print(np.hstack((A,c)))"
      ],
      "execution_count": null,
      "outputs": [
        {
          "output_type": "stream",
          "name": "stdout",
          "text": [
            "[[1 2 3 7]\n",
            " [4 5 6 8]]\n"
          ]
        }
      ]
    },
    {
      "cell_type": "code",
      "metadata": {
        "id": "L6mKcNhv4OVd",
        "colab": {
          "base_uri": "https://localhost:8080/"
        },
        "outputId": "102d7c18-784a-493a-e39a-f345c1b6f989"
      },
      "source": [
        "# axis=0 - concatena a lo largo de las columnas\n",
        "print(np.append(A, c, axis=1))"
      ],
      "execution_count": null,
      "outputs": [
        {
          "output_type": "stream",
          "name": "stdout",
          "text": [
            "[[1 2 3 7]\n",
            " [4 5 6 8]]\n"
          ]
        }
      ]
    },
    {
      "cell_type": "markdown",
      "metadata": {
        "id": "PMWnaF3K8x4T"
      },
      "source": [
        "# Medidas sobre matrices $R^{N\\times N}\\rightarrow R$ \n",
        "\n"
      ]
    },
    {
      "cell_type": "markdown",
      "metadata": {
        "id": "U3oBZRU5KFyL"
      },
      "source": [
        "## Determinante"
      ]
    },
    {
      "cell_type": "code",
      "metadata": {
        "id": "XAdAOeBL0zA-",
        "colab": {
          "base_uri": "https://localhost:8080/"
        },
        "outputId": "2c919eb6-6f20-49ff-db7e-4207ef329587"
      },
      "source": [
        "Ac = np.append(A, b, axis=0)\n",
        "np.linalg.det(Ac)"
      ],
      "execution_count": null,
      "outputs": [
        {
          "output_type": "execute_result",
          "data": {
            "text/plain": [
              "0.0"
            ]
          },
          "metadata": {},
          "execution_count": 10
        }
      ]
    },
    {
      "cell_type": "markdown",
      "metadata": {
        "id": "I_WVBE2s2ELT"
      },
      "source": [
        "## Rango"
      ]
    },
    {
      "cell_type": "code",
      "metadata": {
        "id": "Bz4Z50tg1pNL",
        "colab": {
          "base_uri": "https://localhost:8080/"
        },
        "outputId": "935edcbd-aa84-4b66-d03f-07a0d69b596c"
      },
      "source": [
        "np.linalg.matrix_rank(Ac)"
      ],
      "execution_count": null,
      "outputs": [
        {
          "output_type": "execute_result",
          "data": {
            "text/plain": [
              "2"
            ]
          },
          "metadata": {},
          "execution_count": 11
        }
      ]
    },
    {
      "cell_type": "markdown",
      "metadata": {
        "id": "4B60qRNi2ChC"
      },
      "source": [
        "## Norma"
      ]
    },
    {
      "cell_type": "code",
      "metadata": {
        "id": "gSreefzo2Ddx",
        "colab": {
          "base_uri": "https://localhost:8080/"
        },
        "outputId": "45aedfde-d97b-4192-97d6-f854b31546b0"
      },
      "source": [
        "np.linalg.norm(Ac)"
      ],
      "execution_count": null,
      "outputs": [
        {
          "output_type": "execute_result",
          "data": {
            "text/plain": [
              "16.881943016134134"
            ]
          },
          "metadata": {},
          "execution_count": 12
        }
      ]
    },
    {
      "cell_type": "code",
      "metadata": {
        "id": "Ie9RqVmW2HiL",
        "colab": {
          "base_uri": "https://localhost:8080/"
        },
        "outputId": "ba437678-621d-4a77-c4c4-21c0f2cef054"
      },
      "source": [
        "np.sqrt(np.sum(Ac**2))"
      ],
      "execution_count": null,
      "outputs": [
        {
          "output_type": "execute_result",
          "data": {
            "text/plain": [
              "16.881943016134134"
            ]
          },
          "metadata": {},
          "execution_count": 13
        }
      ]
    },
    {
      "cell_type": "markdown",
      "metadata": {
        "id": "vE8E2DKM7kp7"
      },
      "source": [
        "## Traza de una matriz"
      ]
    },
    {
      "cell_type": "code",
      "metadata": {
        "id": "1GLhF7PTBGE1",
        "colab": {
          "base_uri": "https://localhost:8080/"
        },
        "outputId": "b0ebb418-45c6-4a4d-df34-fa0031690f96"
      },
      "source": [
        "Ac"
      ],
      "execution_count": null,
      "outputs": [
        {
          "output_type": "execute_result",
          "data": {
            "text/plain": [
              "array([[1, 2, 3],\n",
              "       [4, 5, 6],\n",
              "       [7, 8, 9]])"
            ]
          },
          "metadata": {},
          "execution_count": 14
        }
      ]
    },
    {
      "cell_type": "code",
      "metadata": {
        "id": "OpkXrcg87nCT",
        "colab": {
          "base_uri": "https://localhost:8080/"
        },
        "outputId": "8ea09b73-11a0-4bc8-90dc-2e3588130027"
      },
      "source": [
        "np.trace(Ac)"
      ],
      "execution_count": null,
      "outputs": [
        {
          "output_type": "execute_result",
          "data": {
            "text/plain": [
              "15"
            ]
          },
          "metadata": {},
          "execution_count": 15
        }
      ]
    },
    {
      "cell_type": "markdown",
      "metadata": {
        "id": "W4gHbzJ52g76"
      },
      "source": [
        "# Solucion a sistemas de ecuaciones"
      ]
    },
    {
      "cell_type": "markdown",
      "metadata": {
        "id": "9vF9MmvD2k-4"
      },
      "source": [
        "Sunpoga que se tiene el siguiente sistemas de ecuaciones: <br>\n",
        "$x+3y+5z=10,$ <br>\n",
        "$2x+5y+z=8,$ <br>\n",
        "$2x+3y+8z=13$."
      ]
    },
    {
      "cell_type": "code",
      "metadata": {
        "id": "qZKfcSh32kZK"
      },
      "source": [
        "A = np.array([[1, 3, 5],[2, 5, 1],[2,3,8]])\n",
        "b = np.array([[10, 8, 13]]).T"
      ],
      "execution_count": null,
      "outputs": []
    },
    {
      "cell_type": "code",
      "metadata": {
        "id": "Jrq8nRGo3O3d",
        "colab": {
          "base_uri": "https://localhost:8080/"
        },
        "outputId": "1bb4a6db-c162-4ae9-c68a-f2b12dfd8c70"
      },
      "source": [
        "x1 = np.linalg.inv(A)@b\n",
        "print(x1)"
      ],
      "execution_count": null,
      "outputs": [
        {
          "output_type": "stream",
          "name": "stdout",
          "text": [
            "[[-0.48]\n",
            " [ 1.56]\n",
            " [ 1.16]]\n"
          ]
        }
      ]
    },
    {
      "cell_type": "code",
      "metadata": {
        "id": "3oV5uzci3m00",
        "colab": {
          "base_uri": "https://localhost:8080/"
        },
        "outputId": "1de7d1c8-8370-499c-c3ae-0ed2bb40689d"
      },
      "source": [
        "x2 = np.linalg.inv(A).dot(b)\n",
        "print(x2)"
      ],
      "execution_count": null,
      "outputs": [
        {
          "output_type": "stream",
          "name": "stdout",
          "text": [
            "[[-0.48]\n",
            " [ 1.56]\n",
            " [ 1.16]]\n"
          ]
        }
      ]
    },
    {
      "cell_type": "code",
      "metadata": {
        "id": "mRh1nhb53THr",
        "colab": {
          "base_uri": "https://localhost:8080/"
        },
        "outputId": "5178c681-d4cc-43b8-c6f7-485f68222399"
      },
      "source": [
        "x2 = np.linalg.solve(A,b)\n",
        "print(x2)"
      ],
      "execution_count": null,
      "outputs": [
        {
          "output_type": "stream",
          "name": "stdout",
          "text": [
            "[[-0.48]\n",
            " [ 1.56]\n",
            " [ 1.16]]\n"
          ]
        }
      ]
    },
    {
      "cell_type": "markdown",
      "metadata": {
        "id": "_CzUCS7O7-PT"
      },
      "source": [
        "# Productos entre matrices"
      ]
    },
    {
      "cell_type": "code",
      "metadata": {
        "id": "obYNZSuE8AkT"
      },
      "source": [
        "A = np.array([[1, 3, 5],[2, 5, 1],[2,3,8]])\n",
        "B = np.array([[2, 4, 1],[3, 6, 2],[7,2,5]])"
      ],
      "execution_count": null,
      "outputs": []
    },
    {
      "cell_type": "code",
      "metadata": {
        "id": "JoBUbphA8Iv7",
        "colab": {
          "base_uri": "https://localhost:8080/"
        },
        "outputId": "e4028fbe-59a8-47b3-ae98-4b13069db218"
      },
      "source": [
        "A@B"
      ],
      "execution_count": null,
      "outputs": [
        {
          "output_type": "execute_result",
          "data": {
            "text/plain": [
              "array([[46, 32, 32],\n",
              "       [26, 40, 17],\n",
              "       [69, 42, 48]])"
            ]
          },
          "metadata": {},
          "execution_count": 21
        }
      ]
    },
    {
      "cell_type": "code",
      "metadata": {
        "id": "zDojNCTj8K7T",
        "colab": {
          "base_uri": "https://localhost:8080/"
        },
        "outputId": "315aff1e-9c7a-4b49-9f4a-b529b1b48cf3"
      },
      "source": [
        "B@A"
      ],
      "execution_count": null,
      "outputs": [
        {
          "output_type": "execute_result",
          "data": {
            "text/plain": [
              "array([[12, 29, 22],\n",
              "       [19, 45, 37],\n",
              "       [21, 46, 77]])"
            ]
          },
          "metadata": {},
          "execution_count": 22
        }
      ]
    },
    {
      "cell_type": "code",
      "metadata": {
        "id": "Z58eW00_8MpD",
        "colab": {
          "base_uri": "https://localhost:8080/"
        },
        "outputId": "a6ab1540-4426-4aa6-8d46-8b59f7f325ad"
      },
      "source": [
        "A.dot(B)"
      ],
      "execution_count": null,
      "outputs": [
        {
          "output_type": "execute_result",
          "data": {
            "text/plain": [
              "array([[46, 32, 32],\n",
              "       [26, 40, 17],\n",
              "       [69, 42, 48]])"
            ]
          },
          "metadata": {},
          "execution_count": 23
        }
      ]
    },
    {
      "cell_type": "code",
      "metadata": {
        "id": "tdYyIMwg8Tbg",
        "colab": {
          "base_uri": "https://localhost:8080/"
        },
        "outputId": "77dd7abd-0159-424e-eb8c-54252423c261"
      },
      "source": [
        "np.linalg.inv(A).dot(B) #A^(-1)B"
      ],
      "execution_count": null,
      "outputs": [
        {
          "output_type": "execute_result",
          "data": {
            "text/plain": [
              "array([[ 4.28000000e+00, -2.00000000e+00,  3.64000000e+00],\n",
              "       [-1.16000000e+00,  2.00000000e+00, -1.08000000e+00],\n",
              "       [ 2.40000000e-01,  4.16333634e-17,  1.20000000e-01]])"
            ]
          },
          "metadata": {},
          "execution_count": 24
        }
      ]
    },
    {
      "cell_type": "code",
      "metadata": {
        "id": "GK1MKF6r8XSE",
        "colab": {
          "base_uri": "https://localhost:8080/"
        },
        "outputId": "a768e351-5504-4440-9d13-5539c5934f6e"
      },
      "source": [
        "np.linalg.solve(A,B)"
      ],
      "execution_count": null,
      "outputs": [
        {
          "output_type": "execute_result",
          "data": {
            "text/plain": [
              "array([[ 4.28, -2.  ,  3.64],\n",
              "       [-1.16,  2.  , -1.08],\n",
              "       [ 0.24,  0.  ,  0.12]])"
            ]
          },
          "metadata": {},
          "execution_count": 25
        }
      ]
    },
    {
      "cell_type": "markdown",
      "source": [
        "Ejercicios:\n",
        "Solucionar el siguiente circuito [enlace](http://hyperphysics.phy-astr.gsu.edu/hbasees/electric/imgele/dcx7.gif).\n",
        "\n",
        "\n"
      ],
      "metadata": {
        "id": "ozHXWSgFaaTV"
      }
    },
    {
      "cell_type": "code",
      "source": [],
      "metadata": {
        "id": "4pBP98_obHsK"
      },
      "execution_count": null,
      "outputs": []
    }
  ]
}