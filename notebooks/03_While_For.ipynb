{
  "cells": [
    {
      "cell_type": "markdown",
      "metadata": {
        "id": "UEZiXS5pwCvh"
      },
      "source": [
        "# Clase 3: ciclos\n",
        "Notebook diseñado por los docentes Andres Castro y Leonardo Duque.\n",
        "Modificado por Cristian Guarnizo.\n",
        "\n",
        "### 1. Estructuras repetitivas (ciclos):\n",
        "\n",
        "- <font color=\"#130eb3\">__While__</font>\n",
        "- <font color=\"#130eb3\">__For__</font>"
      ]
    },
    {
      "cell_type": "markdown",
      "metadata": {
        "id": "8Um9cjVVwCvn"
      },
      "source": [
        "\n",
        "# Estructuras repetitivas\n",
        "\n",
        "\n",
        "## Ciclo While\n",
        "\n",
        "Se utiliza para repetir un conjunto de operaciones o instrucciones mientras una condición sea verdadera. La sintaxis en Python es la siguente:\n",
        "\n",
        "<br>\n",
        "\n",
        "<font color=\"#130eb3\" size=5>__while__</font> <font size=5>(condición)</font> <font color=\"blue\" size=5>__:__</font>\n",
        "\n",
        "$\\qquad$ instrucción 1\n",
        "    \n",
        "$\\qquad$ instrucción 2\n",
        "    \n",
        "$\\qquad$ ...\n",
        "    \n",
        "$\\qquad$ instrucción n\n",
        "\n",
        "\n"
      ]
    },
    {
      "cell_type": "code",
      "execution_count": null,
      "metadata": {
        "scrolled": true,
        "id": "p8f6pr31wCvq"
      },
      "outputs": [],
      "source": [
        "a = 10\n",
        "#Iteración\n",
        "while (a >= 0): #mientras a sea mayor que cero\n",
        "    print(a, end= \" \") #instruccion 1\n",
        "    a = a - 1 #instruccion 2"
      ]
    },
    {
      "cell_type": "code",
      "execution_count": null,
      "metadata": {
        "id": "v0iXJ-WywCvr"
      },
      "outputs": [],
      "source": [
        "a = 0\n",
        "while(a <= 10):\n",
        "    print(a, end=' ')\n",
        "    a = a + 1"
      ]
    },
    {
      "cell_type": "markdown",
      "metadata": {
        "id": "XBjrcW1SwCvs"
      },
      "source": [
        "\n",
        "## 1.2. Ciclo For\n",
        "\n",
        "Se utiliza para iterar sobre un conjunto de elementos que hagan parte de un objeto iterable. La sintaxis en Python es la siguente:\n",
        "\n",
        "<br>\n",
        "\n",
        "<font color=\"#130eb3\" size=5>__for__ </font>\n",
        "<font size=5> elemento </font>\n",
        "<font color=\"#130eb3\" size=5>__in__ </font>\n",
        "<font size=5> objeto_iterable </font>\n",
        "<font color=\"#130eb3\" size=5>__:__</font>\n",
        "\n",
        "$\\qquad$ instrucción 1\n",
        "\n",
        "$\\qquad$ instrucción 2\n",
        "\n",
        "$\\qquad$ ...\n",
        "\n",
        "$\\qquad$ instrucción n\n",
        "\n",
        "En la sintaxis anterior, __objeto_iterable__ se refiere a algun objeto de Python que contenga una serie de elementos, por ejemplo, una cadena de caracteres o un arreglo de datos"
      ]
    },
    {
      "cell_type": "code",
      "execution_count": null,
      "metadata": {
        "id": "zCFBYgoCwCvt"
      },
      "outputs": [],
      "source": [
        "frase = \"Lorem ipsum dolor sit amet.\"\n",
        "\n",
        "i = 0\n",
        "\n",
        "for ch in frase: #por cada caracter del texto\n",
        "    print(f\"Letra en la posición {i} es {ch}\")\n",
        "    i = i+1\n",
        "\n",
        "print(f\"Frase tiene {len(frase)} letras\")"
      ]
    },
    {
      "cell_type": "markdown",
      "metadata": {
        "id": "zSE3EGyFwCvu"
      },
      "source": [
        "### for + range\n",
        "\n",
        "Combinando __for__ y __range__ tenemos un for que itera en los valores dados:"
      ]
    },
    {
      "cell_type": "markdown",
      "metadata": {
        "id": "UVTpe__-wCvv"
      },
      "source": [
        "En el caso de que deseemos realizar un bucle o ciclo definido en un rango $[a, b)$, podemos utilizar la función <font color=\"#130eb3\">range</font>, la cual nos retorna un objeto iterable en dicho rango:"
      ]
    },
    {
      "cell_type": "code",
      "execution_count": null,
      "metadata": {
        "id": "4eekj_o2wCvw"
      },
      "outputs": [],
      "source": [
        "help(range)"
      ]
    },
    {
      "cell_type": "code",
      "execution_count": null,
      "metadata": {
        "scrolled": false,
        "id": "hAXfOO4UwCvx"
      },
      "outputs": [],
      "source": [
        "#Realizar ciclo de 5 iteraciones para i = 0..4\n",
        "for i in range(5): #for(int i=0; i<5; i++){}\n",
        "    print(i)"
      ]
    },
    {
      "cell_type": "code",
      "execution_count": null,
      "metadata": {
        "id": "mZp0k_b0wCvx"
      },
      "outputs": [],
      "source": [
        "#Realizar ciclo de #Iteraciones iteraciones para i = 10..?\n",
        "for var in range(10,35):\n",
        "    print(var,end=' ')"
      ]
    },
    {
      "cell_type": "markdown",
      "metadata": {
        "id": "JetamDKDwCvy"
      },
      "source": [
        "También podemos utilizar la sintaxis $range(a, b, paso)$:"
      ]
    },
    {
      "cell_type": "code",
      "execution_count": null,
      "metadata": {
        "id": "atTeGpuawCvy"
      },
      "outputs": [],
      "source": [
        "a = -11 #desde 1\n",
        "b = 11 #hasta 11 - 1 = 10\n",
        "paso = 2 #de 2 en 2\n",
        "\n",
        "for a in range(a,b,paso):\n",
        "    print(a, end = \" \")"
      ]
    },
    {
      "cell_type": "code",
      "execution_count": null,
      "metadata": {
        "id": "7-aflbwhwCvz"
      },
      "outputs": [],
      "source": [
        "a = 1 #desde 1\n",
        "b = 11 #hasta 11 - 1 = 10\n",
        "paso = 2 #de 2 en 2\n",
        "\n",
        "rango = range(a, b, paso)\n",
        "print(rango)\n",
        "print(type(rango))\n",
        "for i in rango:\n",
        "    print(f\"Elemento: {i}\")"
      ]
    },
    {
      "cell_type": "code",
      "execution_count": null,
      "metadata": {
        "id": "-wAEK_f9wCv0"
      },
      "outputs": [],
      "source": [
        "#For que cuente desde 20 hasta -10 en pasos de 5\n",
        "for i in range(20,-11,-5):\n",
        "    print(i, end=' ')"
      ]
    },
    {
      "cell_type": "markdown",
      "metadata": {
        "id": "rSqIaeMwY__c"
      },
      "source": [
        "\n",
        "## Ejercicio\n",
        "\n",
        "Escribir un programa que imprima únicamente lo múltiplos de 3 desde 1 hasta 50.\n",
        "1. Usando el paso en range.\n",
        "2. Usando el modulo o residuo."
      ]
    },
    {
      "cell_type": "code",
      "execution_count": null,
      "metadata": {
        "id": "jaGVeeMbwCvz"
      },
      "outputs": [],
      "source": [
        "#imprimir únicamente lo múltiplos de 3 desde 1 hasta 50\n",
        "# Usando el paso en range\n"
      ]
    },
    {
      "cell_type": "code",
      "execution_count": null,
      "metadata": {
        "id": "tVSlQDbowCv0"
      },
      "outputs": [],
      "source": [
        "# imprimir únicamente lo múltiplos de 3 desde 1 hasta 50\n",
        "# Usando el modulo o residuo.\n"
      ]
    },
    {
      "cell_type": "markdown",
      "metadata": {
        "id": "75rHEq9twCv1"
      },
      "source": [
        "\n",
        "## Ejercicio\n",
        "\n",
        "Generemos una tabla de conversión de grados Celsius a Farenheit en el rango $[-20, 40]$ con __paso=5__, utilizando ciclo while y for:\n",
        "\n",
        "## $$\\left(\\frac{9}{5} °C\\right) + 32$$"
      ]
    },
    {
      "cell_type": "code",
      "execution_count": null,
      "metadata": {
        "id": "HQTJFKFzwCv1"
      },
      "outputs": [],
      "source": [
        "#Ciclo While\n"
      ]
    },
    {
      "cell_type": "code",
      "execution_count": null,
      "metadata": {
        "id": "cfy4jtY2wCv2"
      },
      "outputs": [],
      "source": [
        "#Ciclo for\n"
      ]
    },
    {
      "cell_type": "markdown",
      "metadata": {
        "id": "U74h-CSIwCv3"
      },
      "source": [
        "## Ejercicios\n",
        "\n",
        "### 1.  Crear un programa que permita adivinar un número. Se debe generar un número aleatorio del 1 al 100. A continuación va pidiendo números y va respondiendo si el número a adivinar es mayor o menor que el introducido, además de los intentos que quedan (máximo 10 intentos). El programa termina cuando se acierta el número o cuando se termine el número máximo de intentos."
      ]
    },
    {
      "cell_type": "code",
      "execution_count": null,
      "metadata": {
        "id": "QUauFRQjwCv3"
      },
      "outputs": [],
      "source": [
        "## Celda para hacer el ejercicio\n",
        "import random\n",
        "print(random.randint(0,100))\n",
        "\n"
      ]
    },
    {
      "cell_type": "markdown",
      "metadata": {
        "id": "6UbSXEkiwCv4"
      },
      "source": [
        "### 2. Escribir un programa que solicite ingresar números hasta que se introduzca un cero. Debe imprimir la suma y el promedio de todos los números ingresados."
      ]
    },
    {
      "cell_type": "code",
      "execution_count": null,
      "metadata": {
        "id": "0jJIoJjAwCv4"
      },
      "outputs": [],
      "source": [
        "#ciclo while\n"
      ]
    },
    {
      "cell_type": "code",
      "execution_count": null,
      "metadata": {
        "id": "0ybJwwD2wCv5"
      },
      "outputs": [],
      "source": [
        "# ciclo for\n"
      ]
    },
    {
      "cell_type": "markdown",
      "metadata": {
        "id": "FfpMtPgawCv5"
      },
      "source": [
        "50, 42, 17, 9 --> suma = 118, promedio = 29.5"
      ]
    },
    {
      "cell_type": "markdown",
      "metadata": {
        "id": "HKkA16kVwCv5"
      },
      "source": [
        "### 3. Escribir un programa que imprima todos los números pares entre dos números que se le pidan al usuario, [A, B] con $$A < B$$"
      ]
    },
    {
      "cell_type": "code",
      "execution_count": null,
      "metadata": {
        "id": "YBHgeJfqwCv6"
      },
      "outputs": [],
      "source": [
        "A = int(input(\"ingrese un número: \"))\n",
        "B = int(input(\"ingrese otro número: \"))"
      ]
    },
    {
      "cell_type": "markdown",
      "source": [
        "## Control en ciclos\n",
        "Python cuenta con comandos que permiten alterar el funcionamiento de los ciclos.\n",
        "\n",
        "| Comando    | Descripción |\n",
        "| -------- | ------- |\n",
        "| pass  | No hace nada. Comando utilizado para crear los metodos de las clases.   |\n",
        "| break  | Rompe el ciclo. Se termina el proceso iterativo.   |\n",
        "| continue | Salta a la siguiente iteracion, no se ejecuta el codigo que este debajo del Continue dentro del bloque ciclico.  |\n"
      ],
      "metadata": {
        "id": "OEfwS-EJJG0h"
      }
    },
    {
      "cell_type": "code",
      "source": [
        "for k in range(10):\n",
        "  if k == 1:\n",
        "    continue\n",
        "  if k <= 1:\n",
        "    print(\"Iteracion menor e igual 1.\")\n",
        "  if k == 3:\n",
        "    pass\n",
        "  if k == 5:\n",
        "    break\n",
        "  print(\"Iteracion: \",k)"
      ],
      "metadata": {
        "id": "PZj16LuwKDvS"
      },
      "execution_count": null,
      "outputs": []
    },
    {
      "cell_type": "markdown",
      "source": [
        "Aicionalmente, cuando un ciclo se rompe por medio de `break` no podemos ejecutar el condicional `else`. Pero si el ciclo termina correctamente entra al bloque `else`."
      ],
      "metadata": {
        "id": "6S7MuXj8NH_L"
      }
    },
    {
      "cell_type": "code",
      "source": [
        "for k in range(10):\n",
        "  if k == 1:\n",
        "    continue\n",
        "  if k <= 1:\n",
        "    print(\"Iteracion menor e igual 1.\")\n",
        "  if k == 3:\n",
        "    pass\n",
        "  if k == 5:\n",
        "    pass\n",
        "    #break\n",
        "  print(\"Iteracion: \",k)\n",
        "else:\n",
        "  print(\"Entra al else\")"
      ],
      "metadata": {
        "id": "obnza7gwNHcs"
      },
      "execution_count": null,
      "outputs": []
    },
    {
      "cell_type": "code",
      "source": [],
      "metadata": {
        "id": "ngYEzBcHNfLO"
      },
      "execution_count": null,
      "outputs": []
    }
  ],
  "metadata": {
    "kernelspec": {
      "display_name": "Python 3",
      "language": "python",
      "name": "python3"
    },
    "language_info": {
      "codemirror_mode": {
        "name": "ipython",
        "version": 3
      },
      "file_extension": ".py",
      "mimetype": "text/x-python",
      "name": "python",
      "nbconvert_exporter": "python",
      "pygments_lexer": "ipython3",
      "version": "3.7.6"
    },
    "colab": {
      "provenance": []
    }
  },
  "nbformat": 4,
  "nbformat_minor": 0
}