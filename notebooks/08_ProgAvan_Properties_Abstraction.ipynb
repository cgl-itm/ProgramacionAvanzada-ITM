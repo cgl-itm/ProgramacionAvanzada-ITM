{
  "nbformat": 4,
  "nbformat_minor": 0,
  "metadata": {
    "colab": {
      "provenance": []
    },
    "kernelspec": {
      "name": "python3",
      "display_name": "Python 3"
    },
    "language_info": {
      "name": "python"
    }
  },
  "cells": [
    {
      "cell_type": "markdown",
      "source": [
        "# Programacion orientada a Objetos"
      ],
      "metadata": {
        "id": "zgjy-ysHBQCQ"
      }
    },
    {
      "cell_type": "markdown",
      "source": [
        "## 1. Propiedades (Properties)\n",
        "Son decoradores de Python que permiten volver un metodo de una clase en una especie de atributo. Se usa principalmente para transormar los setters y getters como atributos."
      ],
      "metadata": {
        "id": "9geeeUkKBhMO"
      }
    },
    {
      "cell_type": "code",
      "execution_count": 4,
      "metadata": {
        "colab": {
          "base_uri": "https://localhost:8080/"
        },
        "id": "GSFLFhSp64FM",
        "outputId": "fd9a8e5f-e3e9-492a-9a9c-3d720df03dc6"
      },
      "outputs": [
        {
          "output_type": "stream",
          "name": "stdout",
          "text": [
            "Esteban\n"
          ]
        }
      ],
      "source": [
        "class Person:\n",
        "  def __init__(self, name, age):\n",
        "    self.__name = name\n",
        "    self._age = age\n",
        "\n",
        "  @property\n",
        "  def get_name(self):\n",
        "    return self.__name\n",
        "\n",
        "Esteban = Person('Esteban', '22')\n",
        "nombre = Esteban.get_name\n",
        "print(nombre)"
      ]
    },
    {
      "cell_type": "markdown",
      "source": [
        "Ahora, usamos la propiedad que creamos antes, para definir el setter."
      ],
      "metadata": {
        "id": "DOyh_CtQEIDF"
      }
    },
    {
      "cell_type": "code",
      "source": [
        "class Person:\n",
        "  def __init__(self, name, age):\n",
        "    self.__name = name\n",
        "    self._age = age\n",
        "\n",
        "  @property\n",
        "  def name(self):\n",
        "    return self.__name\n",
        "\n",
        "  @name.setter\n",
        "  def name(self, new_name):\n",
        "    self.__name = new_name\n",
        "\n",
        "Esteban = Person('Esteban', '22')\n",
        "nombre = Esteban.name\n",
        "print(nombre)\n",
        "Esteban.name = 'ESTEBAN'\n",
        "print(Esteban.name)"
      ],
      "metadata": {
        "colab": {
          "base_uri": "https://localhost:8080/"
        },
        "id": "UIWSlRt4DKog",
        "outputId": "e9ecc7e9-c7f8-4efa-9d9d-d68ed7ebea0d"
      },
      "execution_count": 7,
      "outputs": [
        {
          "output_type": "stream",
          "name": "stdout",
          "text": [
            "Esteban\n",
            "ESTEBAN\n"
          ]
        }
      ]
    },
    {
      "cell_type": "code",
      "source": [
        "del Esteban.name"
      ],
      "metadata": {
        "colab": {
          "base_uri": "https://localhost:8080/",
          "height": 176
        },
        "id": "gHGNbExCEVgJ",
        "outputId": "f16e3af7-4b44-433e-e007-f446c7a370bb"
      },
      "execution_count": 8,
      "outputs": [
        {
          "output_type": "error",
          "ename": "AttributeError",
          "evalue": "ignored",
          "traceback": [
            "\u001b[0;31m---------------------------------------------------------------------------\u001b[0m",
            "\u001b[0;31mAttributeError\u001b[0m                            Traceback (most recent call last)",
            "\u001b[0;32m<ipython-input-8-0c2aa5da46bb>\u001b[0m in \u001b[0;36m<cell line: 1>\u001b[0;34m()\u001b[0m\n\u001b[0;32m----> 1\u001b[0;31m \u001b[0;32mdel\u001b[0m \u001b[0mEsteban\u001b[0m\u001b[0;34m.\u001b[0m\u001b[0mname\u001b[0m\u001b[0;34m\u001b[0m\u001b[0;34m\u001b[0m\u001b[0m\n\u001b[0m",
            "\u001b[0;31mAttributeError\u001b[0m: can't delete attribute 'name'"
          ]
        }
      ]
    },
    {
      "cell_type": "markdown",
      "source": [
        "Como se puede observar este atributo encapsulado no se puede eliminar, a menos que definamos el metodo `deleter`, asi"
      ],
      "metadata": {
        "id": "09X2JAiWFPtp"
      }
    },
    {
      "cell_type": "code",
      "source": [
        "from os import isatty\n",
        "class Person:\n",
        "  def __init__(self, name, age):\n",
        "    self.__name = name\n",
        "    self._age = age\n",
        "\n",
        "  @property\n",
        "  def name(self):\n",
        "    return self.__name\n",
        "\n",
        "  @name.setter\n",
        "  def name(self, new_name):\n",
        "    self.__name = new_name\n",
        "\n",
        "  @name.deleter\n",
        "  def name(self):\n",
        "    del self.__name\n",
        "\n",
        "Esteban = Person('Esteban', '22')\n",
        "nombre = Esteban.name\n",
        "print(hasattr(Esteban, 'name'))\n",
        "\n",
        "del Esteban.name\n",
        "print(hasattr(Esteban, 'name'))"
      ],
      "metadata": {
        "colab": {
          "base_uri": "https://localhost:8080/"
        },
        "id": "NJxFY7p0FOG8",
        "outputId": "778bb471-ac81-441d-e61e-c0a4b1ab5154"
      },
      "execution_count": 14,
      "outputs": [
        {
          "output_type": "stream",
          "name": "stdout",
          "text": [
            "True\n",
            "False\n"
          ]
        }
      ]
    },
    {
      "cell_type": "markdown",
      "source": [
        "## 2. Abstraccion (Abstraction)"
      ],
      "metadata": {
        "id": "ftP3rHgyG4h9"
      }
    },
    {
      "cell_type": "markdown",
      "source": [
        "La abstracción en python se define como un proceso de manejo de la complejidad mediante la ocultación de información innecesaria al usuario. Este es uno de los conceptos centrales de los lenguajes de programación orientada a objetos (POO). Esto permite al usuario implementar una lógica aún más compleja en la parte superior de la abstracción proporcionada sin entender o incluso pensar en toda la complejidad oculta de fondo / back-end."
      ],
      "metadata": {
        "id": "vouov0RhJX50"
      }
    },
    {
      "cell_type": "markdown",
      "source": [
        "En Python tenemos clases Abstractas por medio del decorador `abstractclassmethod`"
      ],
      "metadata": {
        "id": "CxKu98RPMLsS"
      }
    },
    {
      "cell_type": "code",
      "source": [
        "from abc import ABC, abstractclassmethod"
      ],
      "metadata": {
        "id": "Ef1mVPU7G7YA"
      },
      "execution_count": 15,
      "outputs": []
    },
    {
      "cell_type": "code",
      "source": [
        "class Persona(ABC):\n",
        "  @abstractclassmethod\n",
        "  def __init__(self, nombre, edad, genero, actividad):\n",
        "    self.nombre = nombre\n",
        "    self.edad = edad\n",
        "    self.genero = genero\n",
        "    self.actividad = actividad\n",
        "\n",
        "  @abstractclassmethod\n",
        "  def actividad(self):\n",
        "    pass\n",
        "\n",
        "  def presentarse(self):\n",
        "    print(f\"Hola, me llamo: {self.nombre} y tengo {self.edad} años\")\n"
      ],
      "metadata": {
        "id": "JrUmeIS1MVOE"
      },
      "execution_count": 27,
      "outputs": []
    },
    {
      "cell_type": "markdown",
      "source": [
        "No se pueden crear instancias de la clase (objetos) con metodos abstractos"
      ],
      "metadata": {
        "id": "EzBlU48LP_Ji"
      }
    },
    {
      "cell_type": "code",
      "source": [
        "melany = Persona(\"Melany\", 21, \"Femenino\", \"Programadora Front-End\")"
      ],
      "metadata": {
        "colab": {
          "base_uri": "https://localhost:8080/",
          "height": 176
        },
        "id": "bgStbA7eP9Mx",
        "outputId": "06cb2f9a-459e-41c9-c2f8-87f4b15b64cd"
      },
      "execution_count": 28,
      "outputs": [
        {
          "output_type": "error",
          "ename": "TypeError",
          "evalue": "ignored",
          "traceback": [
            "\u001b[0;31m---------------------------------------------------------------------------\u001b[0m",
            "\u001b[0;31mTypeError\u001b[0m                                 Traceback (most recent call last)",
            "\u001b[0;32m<ipython-input-28-3f0855dcb1fc>\u001b[0m in \u001b[0;36m<cell line: 1>\u001b[0;34m()\u001b[0m\n\u001b[0;32m----> 1\u001b[0;31m \u001b[0mmelany\u001b[0m \u001b[0;34m=\u001b[0m \u001b[0mPersona\u001b[0m\u001b[0;34m(\u001b[0m\u001b[0;34m\"Melany\"\u001b[0m\u001b[0;34m,\u001b[0m \u001b[0;36m21\u001b[0m\u001b[0;34m,\u001b[0m \u001b[0;34m\"Femenino\"\u001b[0m\u001b[0;34m,\u001b[0m \u001b[0;34m\"Programadora Front-End\"\u001b[0m\u001b[0;34m)\u001b[0m\u001b[0;34m\u001b[0m\u001b[0;34m\u001b[0m\u001b[0m\n\u001b[0m",
            "\u001b[0;31mTypeError\u001b[0m: Can't instantiate abstract class Persona with abstract methods __init__, actividad"
          ]
        }
      ]
    },
    {
      "cell_type": "markdown",
      "source": [
        "Pero podemos crear nuevas clases a partir de la clase con metodos abstractos"
      ],
      "metadata": {
        "id": "gWQ2S0F0QSUI"
      }
    },
    {
      "cell_type": "code",
      "source": [
        "class Estudiante(Persona):\n",
        "  def __init__(self, nombre, edad, genero, actividad):\n",
        "    super().__init__(nombre, edad, genero, actividad)\n",
        "\n",
        "  def actividad(self):\n",
        "    print(f\"Estoy estudiando: {self.actividad}\")"
      ],
      "metadata": {
        "id": "kQEGNF9vQWeb"
      },
      "execution_count": 29,
      "outputs": []
    },
    {
      "cell_type": "code",
      "source": [
        "melany = Estudiante(\"Melany\", 21, \"Femenino\", \"Programadora Front-End\")"
      ],
      "metadata": {
        "id": "s6PvORl7UCyR"
      },
      "execution_count": 30,
      "outputs": []
    },
    {
      "cell_type": "code",
      "source": [],
      "metadata": {
        "id": "9dGaQ8krUFJv"
      },
      "execution_count": null,
      "outputs": []
    }
  ]
}