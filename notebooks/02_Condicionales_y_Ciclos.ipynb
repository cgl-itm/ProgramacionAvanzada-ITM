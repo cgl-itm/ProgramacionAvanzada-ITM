{
  "cells": [
    {
      "cell_type": "markdown",
      "metadata": {
        "id": "3iar3V6PRT6Q"
      },
      "source": [
        "# Clase 2: Estructuras condicionales y ciclos\n",
        "Notebook desarrollado por los docentes Andres Castro y Leonardo Duque. Modificado por Cristian Guarnizo.\n",
        "### 1. Operadores de Asignación\n",
        "\n",
        "### 2. Operadores Relacionales y Operadores Lógicos\n",
        "\n",
        "### 3. Estructuras condicionales:\n",
        "\n",
        "- <font color=\"#130eb3\">__if__</font>\n",
        "- <font color=\"#130eb3\">__if__ __else__</font>\n",
        "- <font color=\"#130eb3\">__elif__</font>\n",
        "- <font color=\"#130eb3\">__if__</font> anidados\n",
        "\n",
        "### 4. Estructuras repetitivas (ciclos):\n",
        "\n",
        "- <font color=\"#130eb3\">__While__</font>\n",
        "\n",
        "\n"
      ]
    },
    {
      "cell_type": "markdown",
      "metadata": {
        "id": "9l7eXbZpRT6V"
      },
      "source": [
        "\n",
        "# Operadores de Asignación"
      ]
    },
    {
      "cell_type": "code",
      "execution_count": null,
      "metadata": {
        "colab": {
          "base_uri": "https://localhost:8080/"
        },
        "id": "nM8yFHZaRT6V",
        "outputId": "dc30c201-f522-497b-9a66-2dbc2953e4ac"
      },
      "outputs": [
        {
          "output_type": "stream",
          "name": "stdout",
          "text": [
            "valor de a = 1.0\n"
          ]
        }
      ],
      "source": [
        "# +=\n",
        "# -=\n",
        "# *=\n",
        "# /=\n",
        "# **=\n",
        "# %=\n",
        "\n",
        "a = 10\n",
        "\n",
        "a += 7 #a = a + 7\n",
        "a -= 12 # a = a - 12\n",
        "a *= 6 # a = a * 6\n",
        "a /= 10 # a = a / 10\n",
        "a **= 5 # a = a ** 5\n",
        "a %= 2 # a = a % 2\n",
        "\n",
        "print(f\"valor de a = {a}\")"
      ]
    },
    {
      "cell_type": "markdown",
      "metadata": {
        "id": "GYwRgT9yRT6X"
      },
      "source": [
        "\n",
        "# Estructura condicional\n",
        "\n",
        "## Operadores Relacionales en Python\n",
        "\n",
        "- Se usan para establecer relación entre valores (variables)\n",
        "- Producen un resultado booleano (True o False):\n",
        "\n",
        "Una expresión Booleana se puede definir como toda expresión que retorna un valor falso o verdadero:\n",
        "     \n",
        "$ expresion \\rightarrow [True, False] $\n",
        "\n",
        "- Todos tienen el mismo nivel de precedencia (prioridad), pero son de menor prioridad que los operadores aritméticos\n",
        "\n",
        "| Operador | Operación |\n",
        "| --- | --- | \n",
        "| > | Mayor que | \n",
        "| < | Menor que | \n",
        "| >= | Mayor o igual que | \n",
        "| <= | Menor o igual que | \n",
        "| != | Diferente | \n",
        "| == | Igual | "
      ]
    },
    {
      "cell_type": "code",
      "execution_count": null,
      "metadata": {
        "colab": {
          "base_uri": "https://localhost:8080/"
        },
        "id": "DtWy4h5gRT6Y",
        "outputId": "55aed0fa-bb1a-4d3d-ba82-68608e76556b"
      },
      "outputs": [
        {
          "output_type": "stream",
          "name": "stdout",
          "text": [
            "True\n",
            "<class 'bool'>\n"
          ]
        }
      ],
      "source": [
        "# Celda para ejemplos de operadores relacionales\n",
        "\n",
        "a = 10\n",
        "b = 3\n",
        "\n",
        "variable = a >= b\n",
        "\n",
        "print(variable)\n",
        "print(type(variable))"
      ]
    },
    {
      "cell_type": "markdown",
      "metadata": {
        "id": "vrb9051jRT6Y"
      },
      "source": [
        "\n",
        "# IF\n",
        "\n",
        "En Python contamos con tres elementos condicionales de la siguiente forma:\n",
        "\n",
        "1. **if**(_expresion booleana_)**:** --> Si se cumple la expresión booleana.\n",
        "2. **else:** --> en caso contrario.\n",
        "3. **elif**(_expresion booleana_)**:** --> Si no se cumple la expresión anterior y se cumple esta. Viene a reemplazar el if anidado de un nivel.\n",
        "\n",
        "<br>\n",
        "\n",
        "<font color=\"#130eb3\" size=5>__if__</font> <font size=5>(condición)</font> <font color=\"#130eb3\" size=5>__:__</font>\n",
        "\n",
        "    instrucción 1\n",
        "    \n",
        "    instrucción 2\n",
        "    \n",
        "    ...\n",
        "    \n",
        "    instrucción n\n"
      ]
    },
    {
      "cell_type": "code",
      "execution_count": null,
      "metadata": {
        "colab": {
          "base_uri": "https://localhost:8080/"
        },
        "id": "9yxbqzwQRT6Z",
        "outputId": "f50ff4ee-d84b-4209-8166-31e054bf5bc4"
      },
      "outputs": [
        {
          "output_type": "stream",
          "name": "stdout",
          "text": [
            "Eres mayor de edad\n",
            "instruccion 2\n",
            "Esto es fuera del if\n"
          ]
        }
      ],
      "source": [
        "#Ejemplo if\n",
        "\n",
        "edad = 26\n",
        "\n",
        "if(edad > 18):\n",
        "    print(\"Eres mayor de edad\")\n",
        "    print(\"instruccion 2\")\n",
        "    \n",
        "print(\"Esto es fuera del if\")"
      ]
    },
    {
      "cell_type": "markdown",
      "metadata": {
        "id": "6vH2ZajiRT6Z"
      },
      "source": [
        "\n",
        "# IF - ELSE\n",
        "\n",
        "<br>\n",
        "\n",
        "<font color=\"#130eb3\" size=5>__if__</font> <font size=5>(condición)</font> <font color=\"#130eb3\" size=5>__:__</font>\n",
        "\n",
        "    instrucción 1\n",
        "    \n",
        "    instrucción 2\n",
        "    \n",
        "    ...\n",
        "    \n",
        "    instrucción n\n",
        "    \n",
        "<font color=\"#130eb3\" size=5>__else:__</font>\n",
        "\n",
        "    instrucción sino 1\n",
        "    \n",
        "    instrucción sino 2\n",
        "    \n",
        "    ...\n",
        "    \n",
        "    instrucción sino n"
      ]
    },
    {
      "cell_type": "code",
      "execution_count": null,
      "metadata": {
        "colab": {
          "base_uri": "https://localhost:8080/"
        },
        "id": "tIH86lfqRT6a",
        "outputId": "d08da21f-081d-4c98-f593-54ff650490f8"
      },
      "outputs": [
        {
          "output_type": "stream",
          "name": "stdout",
          "text": [
            "Eres mayor de edad\n",
            "Esto es fuera del if-else\n"
          ]
        }
      ],
      "source": [
        "#Ejemplo if - else\n",
        "\n",
        "Edad = 28\n",
        "\n",
        "if (Edad >= 18):\n",
        "    print(\"Eres mayor de edad\")\n",
        "else:\n",
        "    print(\"No eres mayor de edad\")\n",
        "\n",
        "print(\"Esto es fuera del if-else\")"
      ]
    },
    {
      "cell_type": "markdown",
      "metadata": {
        "id": "hxmlVTV9RT6b"
      },
      "source": [
        "# ELSE - IF (ELIF)\n",
        "\n",
        "<br>\n",
        "\n",
        "<font color=\"#130eb3\" size=5>__if__</font> <font size=5>(condición)</font> <font color=\"#130eb3\" size=5>__:__</font>\n",
        "\n",
        "    instrucción 1\n",
        "    \n",
        "    instrucción 2\n",
        "    \n",
        "    ...\n",
        "    \n",
        "    instrucción n\n",
        "    \n",
        "<font color=\"#130eb3\" size=5>__elif__</font> <font size=5>(condición2)</font> <font color=\"#130eb3\" size=5>__:__</font>\n",
        "\n",
        "    instrucción condición2 1\n",
        "    \n",
        "    instrucción condición2 2\n",
        "    \n",
        "    ...\n",
        "    \n",
        "    instrucción condición2 n\n",
        "    \n",
        "<font color=\"#130eb3\" size=5>__else:__</font>\n",
        "\n",
        "    instrucción sino 1\n",
        "    \n",
        "    instrucción sino 2\n",
        "    \n",
        "    ...\n",
        "    \n",
        "    instrucción sino n"
      ]
    },
    {
      "cell_type": "code",
      "execution_count": null,
      "metadata": {
        "colab": {
          "base_uri": "https://localhost:8080/"
        },
        "id": "ZPH9u7HDRT6c",
        "outputId": "b29f361c-ec5c-446c-bcc2-c89d24c921c5"
      },
      "outputs": [
        {
          "output_type": "stream",
          "name": "stdout",
          "text": [
            "ingrese el valor de x: -1\n",
            "ingrese el valor de y: -2\n",
            "El punto está en el cuadrante 3\n"
          ]
        }
      ],
      "source": [
        "# Ejemplo if-elif-else\n",
        "# Solicitar coordenadas de un punto y decir en qué cuadrante del plano cartesiano se encuentra\n",
        "# (x, y)\n",
        "\n",
        "x = float(input(\"ingrese el valor de x: \"))\n",
        "y = float(input(\"ingrese el valor de y: \"))\n",
        "\n",
        "if (x>0):\n",
        "    if (y<0):\n",
        "        print(\"El punto está en el cuadrante 4\")\n",
        "    else:\n",
        "        print(\"El punto está en el cuadrante 1\")\n",
        "else:\n",
        "    if (y<0):\n",
        "        print(\"El punto está en el cuadrante 3\")\n",
        "    else:\n",
        "        print(\"El punto está en el cuadrante 2\")\n"
      ]
    },
    {
      "cell_type": "code",
      "execution_count": null,
      "metadata": {
        "colab": {
          "base_uri": "https://localhost:8080/"
        },
        "id": "KTr1nVCvRT6c",
        "outputId": "ee3b18a1-4796-4262-f0b2-ea0ce8205990"
      },
      "outputs": [
        {
          "output_type": "stream",
          "name": "stdout",
          "text": [
            "ingrese el valor de x: -1\n",
            "ingrese el valor de y: -2\n",
            "El punto está en el cuadrante 3\n"
          ]
        }
      ],
      "source": [
        "# Ejemplo if-elif-else\n",
        "# Solicitar coordenadas de un punto y decir en qué cuadrante del plano cartesiano se encuentra\n",
        "# (x, y)\n",
        "\n",
        "x = float(input(\"ingrese el valor de x: \"))\n",
        "y = float(input(\"ingrese el valor de y: \"))\n",
        "\n",
        "if (x > 0 and y > 0):\n",
        "    print(\"El punto está en el cuadrante 1\")\n",
        "elif (x < 0 and y > 0):\n",
        "    print(\"El punto está en el cuadrante 2\")\n",
        "elif (x < 0 and y < 0):\n",
        "    print(\"El punto está en el cuadrante 3\")\n",
        "elif (x == 0 and y == 0):\n",
        "    print(\"El punto está en el origen\")\n",
        "else:\n",
        "    print(\"El punto está en el cuadrante 4\")"
      ]
    },
    {
      "cell_type": "code",
      "execution_count": null,
      "metadata": {
        "scrolled": true,
        "colab": {
          "base_uri": "https://localhost:8080/"
        },
        "id": "_6qlbEhKRT6d",
        "outputId": "c1341698-83f6-4325-a3ef-289978a6e36a"
      },
      "outputs": [
        {
          "output_type": "stream",
          "name": "stdout",
          "text": [
            "ingrese un número: 3\n",
            "el número es positivo\n"
          ]
        }
      ],
      "source": [
        "# ingresar un numero por consola, decir si es positivo, negativo o cero\n",
        "num = float(input(\"ingrese un número: \"))\n",
        "if(num==0):\n",
        "    print(\"es cero\")\n",
        "elif(num<0):\n",
        "    print(\"el número es negativo\")\n",
        "else:\n",
        "    print(\"el número es positivo\")"
      ]
    },
    {
      "cell_type": "code",
      "execution_count": null,
      "metadata": {
        "id": "cyafTAmvRT6d"
      },
      "outputs": [],
      "source": [
        "num = float(input(\"ingrese un numero: \"))\n",
        "\n",
        "if(num >0):\n",
        "    print(\"el número es positivo\")\n",
        "elif(num<0):\n",
        "    print(\"el número es negativo\")\n",
        "elif(num==0):\n",
        "    print(\"el número es cero\")"
      ]
    },
    {
      "cell_type": "code",
      "execution_count": null,
      "metadata": {
        "id": "A9RW-5pURT6e"
      },
      "outputs": [],
      "source": [
        "#Error con los if\n",
        "\n",
        "num = float(input(\"ingrese un numero: \"))\n",
        "\n",
        "if(num > 20):\n",
        "    print(\"el número es mayor que 20\")\n",
        "if(num > 10):\n",
        "    print(\"el número es mayor que 10 pero menor o igual a 20\")\n",
        "if(num > 0):\n",
        "    print(\"el número es mayor a 0 pero menor o igual a 10\")"
      ]
    },
    {
      "cell_type": "markdown",
      "metadata": {
        "id": "1dHyqG_LRT6e"
      },
      "source": [
        "# 1.3. Inline IF\n",
        "\n",
        "Se utiliza para asignar el resultado de una selección condicional a una variable."
      ]
    },
    {
      "cell_type": "code",
      "execution_count": null,
      "metadata": {
        "id": "lgqEvUesRT6e"
      },
      "outputs": [],
      "source": [
        "num = 88\n",
        "\n",
        "# if num%2 == 0: \n",
        "#     print('numero par')\n",
        "# else: \n",
        "#     print('numero impar')\n",
        "    \n",
        "#Inline if\n",
        "print('numero par') if num%2 == 0 else print(\"numero impar\")"
      ]
    },
    {
      "cell_type": "code",
      "execution_count": null,
      "metadata": {
        "id": "D_It3LJaRT6e"
      },
      "outputs": [],
      "source": [
        "x = 100\n",
        "\n",
        "'''\n",
        "Si x es menor que 10, asigne x al cuadrado a la variable msg, \n",
        "en caso contrario, asigne el valor 1 sobre x a la variable msg\n",
        "'''\n",
        "\n",
        "# if (x < 10):\n",
        "#     msg = x*x #x**2\n",
        "# else:\n",
        "#     msg = 1/x\n",
        "\n",
        "# print(msg)\n",
        "\n",
        "msg = x*x if(x < 10) else 1/x\n",
        "\n",
        "print(msg)"
      ]
    },
    {
      "cell_type": "code",
      "execution_count": null,
      "metadata": {
        "id": "7weLNYoxRT6f"
      },
      "outputs": [],
      "source": [
        "# Solicitar un valor e imprimir el valor absoluto de él\n",
        "num = float(input(\"Ingrese un número: \"))\n",
        "\n",
        "# if (num > 0):\n",
        "#     print(num)\n",
        "# else:\n",
        "#     print(num*-1)\n",
        "    \n",
        "#inline if\n",
        "print(num) if(num>0) else print(-1*num)"
      ]
    },
    {
      "cell_type": "markdown",
      "metadata": {
        "id": "xl5szsEvRT6f"
      },
      "source": [
        "## Operadores Lógicos\n",
        "\n",
        "- Producen un resultado booleano (True o False) a partir de expresiones lógicas\n",
        "\n",
        "- Prioridad:\n",
        "    1. not\n",
        "    2. and\n",
        "    3. or\n",
        "\n",
        "| Operador | Operación |\n",
        "| --- | --- | \n",
        "| and | y (conjunción) | \n",
        "| or | o (disyunción) | \n",
        "| not | no (Negación) | "
      ]
    },
    {
      "cell_type": "code",
      "execution_count": null,
      "metadata": {
        "id": "AtDltwMxRT6f"
      },
      "outputs": [],
      "source": [
        "#El mayor de tres números\n",
        "a = 10\n",
        "b = 100\n",
        "c = 10\n",
        "\n",
        "if(a>=b and a>=c):\n",
        "    print(\"El mayor es a\")\n",
        "    if(a==b or a == c):\n",
        "        print(\"Y está repetido\")\n",
        "elif(b>=c and b>=a):\n",
        "    print(\"El mayor es b\")\n",
        "    if(b==c or b == a):\n",
        "        print(\"Y está repetido\")\n",
        "else:\n",
        "    print(\"El mayor es c\")\n",
        "    if(b==c or c == a):\n",
        "        print(\"Y está repetido\")\n"
      ]
    },
    {
      "cell_type": "markdown",
      "metadata": {
        "id": "_HIwcMOeRT6g"
      },
      "source": [
        "**Solicitar tres números e imprimir el menor**\n"
      ]
    },
    {
      "cell_type": "code",
      "execution_count": null,
      "metadata": {
        "id": "SOfFervlRT6g"
      },
      "outputs": [],
      "source": [
        "num1 = float(input(\"Ingrese un número: \"))\n",
        "num2 = float(input(\"Ingrese un segundo número: \"))\n",
        "num3 = float(input(\"Ingrese un tercer número: \"))\n",
        "\n"
      ]
    },
    {
      "cell_type": "code",
      "execution_count": null,
      "metadata": {
        "colab": {
          "base_uri": "https://localhost:8080/"
        },
        "id": "dbVnjhD1hq8w",
        "outputId": "33cc477c-12ff-495d-b4fa-24165552d74a"
      },
      "outputs": [
        {
          "output_type": "stream",
          "name": "stdout",
          "text": [
            "El menor es a\n",
            "Y está repetido\n"
          ]
        }
      ],
      "source": [
        "#El mayor de tres números\n",
        "a = 10\n",
        "b = 100\n",
        "c = 10\n",
        "\n",
        "if(a<=b and a<=c):\n",
        "    print(\"El menor es a\")\n",
        "    if(a==b or a == c):\n",
        "        print(\"Y está repetido\")\n",
        "elif(b<=c and b<=a):\n",
        "    print(\"El menor es b\")\n",
        "    if(b==c or b == a):\n",
        "        print(\"Y está repetido\")\n",
        "else:\n",
        "    print(\"El menor es c\")\n",
        "    if(b==c or c == a):\n",
        "        print(\"Y está repetido\")\n"
      ]
    },
    {
      "cell_type": "markdown",
      "metadata": {
        "id": "sqe2CkSmRT6g"
      },
      "source": [
        "## Precedencia de operadores\n",
        "\n",
        "__Recordemos__ que la jerarquía de operadores aritméticos es la siguiente:\n",
        "\n",
        "1. $()$: parentesis.\n",
        "2. $**$ : potencia.\n",
        "3. $* /$ % not : multiplicación, división, módulo, negación (not).\n",
        "4. $+ -$ and : suma, resta, conjunción (and).\n",
        "5. $>,<,==,>=,<=,!=,$ or : mayor que, menor que, igual, mayor o igual que, menor o igual que, diferenet, disyunción (or)"
      ]
    },
    {
      "cell_type": "markdown",
      "source": [
        "## Ejercicios:\n",
        "1.  Escriba el codigo que a partir de un numero entero devuelva el dia de la semana (0 - 6, de Domingo - Sabado).\n",
        "2. Diseñar un progrma que reciba 3 variables numericas y devuelva cuantas son positivas, iguales a 0, o negativas."
      ],
      "metadata": {
        "id": "lyoLPYWLDy0Y"
      }
    },
    {
      "cell_type": "markdown",
      "metadata": {
        "id": "JtxNyGsxRT6g"
      },
      "source": [
        "<hr>\n",
        "\n",
        "# Estructuras repetitivas\n",
        "\n",
        "<hr>\n",
        "\n",
        "## Ciclo While \n",
        "\n",
        "Se utiliza para repetir un conjunto de operaciones o instrucciones mientras una condición sea verdadera. La sintaxis en Python es la siguente:\n",
        "\n",
        "<br>\n",
        "\n",
        "<font color=\"#130eb3\" size=5>__while__</font> <font size=5>(condición)</font> <font color=\"blue\" size=5>__:__</font>\n",
        "\n",
        "    instrucción 1\n",
        "    \n",
        "    instrucción 2\n",
        "    \n",
        "    ...\n",
        "    \n",
        "    instrucción n\n"
      ]
    },
    {
      "cell_type": "code",
      "execution_count": null,
      "metadata": {
        "id": "YyH-OgXoRT6h"
      },
      "outputs": [],
      "source": [
        "a = 10\n",
        "\n",
        "while (a >= 0): #mientras a sea mayor que cero\n",
        "    print(a) #instruccion 1\n",
        "    a = a - 1 #instruccion 2 es igual a -= 1\n",
        "    \n",
        "print(\"Esto está fuera del while\")"
      ]
    },
    {
      "cell_type": "code",
      "execution_count": null,
      "metadata": {
        "id": "UHc5cN7DRT6h"
      },
      "outputs": [],
      "source": [
        "import time\n",
        "\n",
        "time.sleep(5)"
      ]
    },
    {
      "cell_type": "code",
      "execution_count": null,
      "metadata": {
        "id": "bRZcYeo_RT6h"
      },
      "outputs": [],
      "source": [
        "a = 0\n",
        "\n",
        "while(a <= 10):\n",
        "    print(a)\n",
        "    a = a + 1\n",
        "    \n",
        "print(\"Esto está fuera del while\")"
      ]
    },
    {
      "cell_type": "code",
      "execution_count": null,
      "metadata": {
        "id": "Oru6Cf54RT6h"
      },
      "outputs": [],
      "source": [
        "a = 10\n",
        "flag = True\n",
        "\n",
        "while (flag): #mientras a sea mayor que cero\n",
        "    print(a) #instruccion 1\n",
        "    a = a - 1 #instruccion 2 es igual a -= 1\n",
        "    if (a <= 0):\n",
        "        flag = False\n",
        "    \n",
        "print(\"Esto está fuera del while\")"
      ]
    },
    {
      "cell_type": "markdown",
      "metadata": {
        "id": "cdaG1x1uRT6h"
      },
      "source": [
        "### Imprimir los números múltiplos de 3 que existan entre 0 y 20"
      ]
    },
    {
      "cell_type": "code",
      "execution_count": null,
      "metadata": {
        "id": "4ifkV8l9RT6h"
      },
      "outputs": [],
      "source": [
        "num=0\n",
        " \n",
        "while(num<=20):\n",
        "    print(num)\n",
        "    num=num+3"
      ]
    },
    {
      "cell_type": "code",
      "execution_count": null,
      "metadata": {
        "id": "AWd_3mMyRT6i"
      },
      "outputs": [],
      "source": [
        "m=0\n",
        "\n",
        "while(m<=20):\n",
        "    if(m%3==0):\n",
        "        print(m)\n",
        "\n",
        "    m+=1"
      ]
    },
    {
      "cell_type": "markdown",
      "metadata": {
        "id": "6HDc2mxjRT6i"
      },
      "source": [
        "## Algo como un \"do-while\""
      ]
    },
    {
      "cell_type": "code",
      "execution_count": null,
      "metadata": {
        "colab": {
          "base_uri": "https://localhost:8080/"
        },
        "id": "WVVVafBFRT6i",
        "outputId": "e817964b-7f8f-4e15-8b69-c61ca78b581f"
      },
      "outputs": [
        {
          "output_type": "stream",
          "name": "stdout",
          "text": [
            "Entra al menos una vez\n",
            "51\n",
            "código después del while\n"
          ]
        }
      ],
      "source": [
        "a = 50\n",
        "\n",
        "while (True):\n",
        "    print(\"Entra al menos una vez\")\n",
        "    if(a%3 == 0):\n",
        "        print(a)\n",
        "    a = a+1\n",
        "    if(a >= 20):\n",
        "        break\n",
        "print(a)\n",
        "print(\"código después del while\")"
      ]
    },
    {
      "cell_type": "code",
      "source": [
        "suma = 0\n",
        "for i in range(0,100):\n",
        "  suma += i\n",
        "print(suma)"
      ],
      "metadata": {
        "colab": {
          "base_uri": "https://localhost:8080/"
        },
        "id": "GloOtKIelhCW",
        "outputId": "15055b26-75f1-4121-afe0-14d9065d820c"
      },
      "execution_count": null,
      "outputs": [
        {
          "output_type": "stream",
          "name": "stdout",
          "text": [
            "4950\n"
          ]
        }
      ]
    },
    {
      "cell_type": "code",
      "source": [],
      "metadata": {
        "id": "ZGCReSHxp8xW"
      },
      "execution_count": null,
      "outputs": []
    }
  ],
  "metadata": {
    "kernelspec": {
      "display_name": "Python 3",
      "language": "python",
      "name": "python3"
    },
    "language_info": {
      "codemirror_mode": {
        "name": "ipython",
        "version": 3
      },
      "file_extension": ".py",
      "mimetype": "text/x-python",
      "name": "python",
      "nbconvert_exporter": "python",
      "pygments_lexer": "ipython3",
      "version": "3.7.6"
    },
    "colab": {
      "provenance": []
    }
  },
  "nbformat": 4,
  "nbformat_minor": 0
}