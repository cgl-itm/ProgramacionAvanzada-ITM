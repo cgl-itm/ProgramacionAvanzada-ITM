{
  "cells": [
    {
      "cell_type": "markdown",
      "metadata": {
        "id": "UEZiXS5pwCvh"
      },
      "source": [
        "# Clase 3: ciclos\n",
        "Notebook diseñado por los docentes Andres Castro y Leonardo Duque.\n",
        "Modificado por Cristian Guarnizo.\n",
        "\n",
        "### 1. Estructuras repetitivas (ciclos):\n",
        "\n",
        "- <font color=\"#130eb3\">__While__</font>\n",
        "- <font color=\"#130eb3\">__For__</font>"
      ]
    },
    {
      "cell_type": "markdown",
      "metadata": {
        "id": "8Um9cjVVwCvn"
      },
      "source": [
        "\n",
        "# Estructuras repetitivas\n",
        "\n",
        "\n",
        "## Ciclo While\n",
        "\n",
        "Se utiliza para repetir un conjunto de operaciones o instrucciones mientras una condición sea verdadera. La sintaxis en Python es la siguente:\n",
        "\n",
        "<br>\n",
        "\n",
        "<font color=\"#130eb3\" size=5>__while__</font> <font size=5>(condición)</font> <font color=\"blue\" size=5>__:__</font>\n",
        "\n",
        "$\\qquad$ instrucción 1\n",
        "    \n",
        "$\\qquad$ instrucción 2\n",
        "    \n",
        "$\\qquad$ ...\n",
        "    \n",
        "$\\qquad$ instrucción n\n",
        "\n",
        "\n"
      ]
    },
    {
      "cell_type": "code",
      "execution_count": null,
      "metadata": {
        "scrolled": true,
        "id": "p8f6pr31wCvq",
        "outputId": "945e109c-96b8-4b64-f2c9-86ff61a09d4e",
        "colab": {
          "base_uri": "https://localhost:8080/"
        }
      },
      "outputs": [
        {
          "output_type": "stream",
          "name": "stdout",
          "text": [
            "10 9 8 7 6 5 4 3 2 1 0 "
          ]
        }
      ],
      "source": [
        "a = 10\n",
        "#Iteración\n",
        "while (a >= 0): #mientras a sea mayor que cero\n",
        "    print(a, end= \" \") #instruccion 1\n",
        "    a = a - 1 #instruccion 2"
      ]
    },
    {
      "cell_type": "code",
      "execution_count": null,
      "metadata": {
        "colab": {
          "base_uri": "https://localhost:8080/"
        },
        "id": "v0iXJ-WywCvr",
        "outputId": "b9de9ae8-1e6f-473b-b1ab-350dc542c8ae"
      },
      "outputs": [
        {
          "output_type": "stream",
          "name": "stdout",
          "text": [
            "0 1 2 3 4 5 6 7 8 9 10 "
          ]
        }
      ],
      "source": [
        "a = 0\n",
        "while(a <= 10):\n",
        "    print(a, end=' ')\n",
        "    a = a + 1"
      ]
    },
    {
      "cell_type": "markdown",
      "metadata": {
        "id": "XBjrcW1SwCvs"
      },
      "source": [
        "\n",
        "## 1.2. Ciclo For\n",
        "\n",
        "Se utiliza para iterar sobre un conjunto de elementos que hagan parte de un objeto iterable. La sintaxis en Python es la siguente:\n",
        "\n",
        "<br>\n",
        "\n",
        "<font color=\"#130eb3\" size=5>__for__ </font>\n",
        "<font size=5> elemento </font>\n",
        "<font color=\"#130eb3\" size=5>__in__ </font>\n",
        "<font size=5> objeto_iterable </font>\n",
        "<font color=\"#130eb3\" size=5>__:__</font>\n",
        "\n",
        "$\\qquad$ instrucción 1\n",
        "\n",
        "$\\qquad$ instrucción 2\n",
        "\n",
        "$\\qquad$ ...\n",
        "\n",
        "$\\qquad$ instrucción n\n",
        "\n",
        "En la sintaxis anterior, __objeto_iterable__ se refiere a algun objeto de Python que contenga una serie de elementos, por ejemplo, una cadena de caracteres o un arreglo de datos"
      ]
    },
    {
      "cell_type": "code",
      "execution_count": null,
      "metadata": {
        "colab": {
          "base_uri": "https://localhost:8080/"
        },
        "id": "zCFBYgoCwCvt",
        "outputId": "176fe9fd-db26-45d9-9ed9-741b3d4e1801"
      },
      "outputs": [
        {
          "output_type": "stream",
          "name": "stdout",
          "text": [
            "Letra en la posición 0 es L\n",
            "Letra en la posición 1 es o\n",
            "Letra en la posición 2 es r\n",
            "Letra en la posición 3 es e\n",
            "Letra en la posición 4 es m\n",
            "Letra en la posición 5 es  \n",
            "Letra en la posición 6 es i\n",
            "Letra en la posición 7 es p\n",
            "Letra en la posición 8 es s\n",
            "Letra en la posición 9 es u\n",
            "Letra en la posición 10 es m\n",
            "Letra en la posición 11 es  \n",
            "Letra en la posición 12 es d\n",
            "Letra en la posición 13 es o\n",
            "Letra en la posición 14 es l\n",
            "Letra en la posición 15 es o\n",
            "Letra en la posición 16 es r\n",
            "Letra en la posición 17 es  \n",
            "Letra en la posición 18 es s\n",
            "Letra en la posición 19 es i\n",
            "Letra en la posición 20 es t\n",
            "Letra en la posición 21 es  \n",
            "Letra en la posición 22 es a\n",
            "Letra en la posición 23 es m\n",
            "Letra en la posición 24 es e\n",
            "Letra en la posición 25 es t\n",
            "Letra en la posición 26 es .\n",
            "Frase tiene 27 letras\n"
          ]
        }
      ],
      "source": [
        "frase = \"Lorem ipsum dolor sit amet.\"\n",
        "\n",
        "i = 0\n",
        "\n",
        "for letra in frase: #por cada caracter del texto\n",
        "    print(f\"Letra en la posición {i} es {letra}\")\n",
        "    #print(\"Letra en la posición \", i, \" es \", letra)\n",
        "    i = i+1\n",
        "\n",
        "print(f\"Frase tiene {len(frase)} letras\")"
      ]
    },
    {
      "cell_type": "code",
      "source": [
        "i=0\n",
        "while (i<=26):\n",
        "  print(f\"Letra en la posición {i} es {frase[i]}\")\n",
        "  i = i+1"
      ],
      "metadata": {
        "id": "mGLfR-RoekQ1",
        "outputId": "892df7fe-c9ef-4897-8a6f-f95eb962056f",
        "colab": {
          "base_uri": "https://localhost:8080/"
        }
      },
      "execution_count": null,
      "outputs": [
        {
          "output_type": "stream",
          "name": "stdout",
          "text": [
            "Letra en la posición 0 es L\n",
            "Letra en la posición 1 es o\n",
            "Letra en la posición 2 es r\n",
            "Letra en la posición 3 es e\n",
            "Letra en la posición 4 es m\n",
            "Letra en la posición 5 es  \n",
            "Letra en la posición 6 es i\n",
            "Letra en la posición 7 es p\n",
            "Letra en la posición 8 es s\n",
            "Letra en la posición 9 es u\n",
            "Letra en la posición 10 es m\n",
            "Letra en la posición 11 es  \n",
            "Letra en la posición 12 es d\n",
            "Letra en la posición 13 es o\n",
            "Letra en la posición 14 es l\n",
            "Letra en la posición 15 es o\n",
            "Letra en la posición 16 es r\n",
            "Letra en la posición 17 es  \n",
            "Letra en la posición 18 es s\n",
            "Letra en la posición 19 es i\n",
            "Letra en la posición 20 es t\n",
            "Letra en la posición 21 es  \n",
            "Letra en la posición 22 es a\n",
            "Letra en la posición 23 es m\n",
            "Letra en la posición 24 es e\n",
            "Letra en la posición 25 es t\n",
            "Letra en la posición 26 es .\n"
          ]
        }
      ]
    },
    {
      "cell_type": "markdown",
      "metadata": {
        "id": "zSE3EGyFwCvu"
      },
      "source": [
        "### for + range\n",
        "\n",
        "Combinando __for__ y __range__ tenemos un for que itera en los valores dados:"
      ]
    },
    {
      "cell_type": "markdown",
      "metadata": {
        "id": "UVTpe__-wCvv"
      },
      "source": [
        "En el caso de que deseemos realizar un bucle o ciclo definido en un rango $[a, b)$, podemos utilizar la función <font color=\"#130eb3\">range</font>, la cual nos retorna un objeto iterable en dicho rango:"
      ]
    },
    {
      "cell_type": "code",
      "execution_count": null,
      "metadata": {
        "id": "4eekj_o2wCvw",
        "outputId": "f7100833-7fc4-438c-a1bc-53ff24fc60e8",
        "colab": {
          "base_uri": "https://localhost:8080/"
        }
      },
      "outputs": [
        {
          "output_type": "stream",
          "name": "stdout",
          "text": [
            "Help on class range in module builtins:\n",
            "\n",
            "class range(object)\n",
            " |  range(stop) -> range object\n",
            " |  range(start, stop[, step]) -> range object\n",
            " |  \n",
            " |  Return an object that produces a sequence of integers from start (inclusive)\n",
            " |  to stop (exclusive) by step.  range(i, j) produces i, i+1, i+2, ..., j-1.\n",
            " |  start defaults to 0, and stop is omitted!  range(4) produces 0, 1, 2, 3.\n",
            " |  These are exactly the valid indices for a list of 4 elements.\n",
            " |  When step is given, it specifies the increment (or decrement).\n",
            " |  \n",
            " |  Methods defined here:\n",
            " |  \n",
            " |  __bool__(self, /)\n",
            " |      True if self else False\n",
            " |  \n",
            " |  __contains__(self, key, /)\n",
            " |      Return key in self.\n",
            " |  \n",
            " |  __eq__(self, value, /)\n",
            " |      Return self==value.\n",
            " |  \n",
            " |  __ge__(self, value, /)\n",
            " |      Return self>=value.\n",
            " |  \n",
            " |  __getattribute__(self, name, /)\n",
            " |      Return getattr(self, name).\n",
            " |  \n",
            " |  __getitem__(self, key, /)\n",
            " |      Return self[key].\n",
            " |  \n",
            " |  __gt__(self, value, /)\n",
            " |      Return self>value.\n",
            " |  \n",
            " |  __hash__(self, /)\n",
            " |      Return hash(self).\n",
            " |  \n",
            " |  __iter__(self, /)\n",
            " |      Implement iter(self).\n",
            " |  \n",
            " |  __le__(self, value, /)\n",
            " |      Return self<=value.\n",
            " |  \n",
            " |  __len__(self, /)\n",
            " |      Return len(self).\n",
            " |  \n",
            " |  __lt__(self, value, /)\n",
            " |      Return self<value.\n",
            " |  \n",
            " |  __ne__(self, value, /)\n",
            " |      Return self!=value.\n",
            " |  \n",
            " |  __reduce__(...)\n",
            " |      Helper for pickle.\n",
            " |  \n",
            " |  __repr__(self, /)\n",
            " |      Return repr(self).\n",
            " |  \n",
            " |  __reversed__(...)\n",
            " |      Return a reverse iterator.\n",
            " |  \n",
            " |  count(...)\n",
            " |      rangeobject.count(value) -> integer -- return number of occurrences of value\n",
            " |  \n",
            " |  index(...)\n",
            " |      rangeobject.index(value) -> integer -- return index of value.\n",
            " |      Raise ValueError if the value is not present.\n",
            " |  \n",
            " |  ----------------------------------------------------------------------\n",
            " |  Static methods defined here:\n",
            " |  \n",
            " |  __new__(*args, **kwargs) from builtins.type\n",
            " |      Create and return a new object.  See help(type) for accurate signature.\n",
            " |  \n",
            " |  ----------------------------------------------------------------------\n",
            " |  Data descriptors defined here:\n",
            " |  \n",
            " |  start\n",
            " |  \n",
            " |  step\n",
            " |  \n",
            " |  stop\n",
            "\n"
          ]
        }
      ],
      "source": [
        "help(range)"
      ]
    },
    {
      "cell_type": "code",
      "execution_count": null,
      "metadata": {
        "scrolled": false,
        "id": "hAXfOO4UwCvx",
        "colab": {
          "base_uri": "https://localhost:8080/"
        },
        "outputId": "a8405f35-9e46-4369-d261-d186e71a4f04"
      },
      "outputs": [
        {
          "output_type": "stream",
          "name": "stdout",
          "text": [
            "0\n",
            "2\n",
            "4\n"
          ]
        }
      ],
      "source": [
        "for i in range(0,5,2): #for(int i=0; i<5; i=i+2){}\n",
        "    print(i)"
      ]
    },
    {
      "cell_type": "code",
      "source": [
        "list(rango)"
      ],
      "metadata": {
        "id": "AMk0WcC3gTwq",
        "outputId": "76bdf090-8bde-4375-be76-355fc7b7830a",
        "colab": {
          "base_uri": "https://localhost:8080/"
        }
      },
      "execution_count": null,
      "outputs": [
        {
          "output_type": "execute_result",
          "data": {
            "text/plain": [
              "[0,\n",
              " 2,\n",
              " 4,\n",
              " 6,\n",
              " 8,\n",
              " 10,\n",
              " 12,\n",
              " 14,\n",
              " 16,\n",
              " 18,\n",
              " 20,\n",
              " 22,\n",
              " 24,\n",
              " 26,\n",
              " 28,\n",
              " 30,\n",
              " 32,\n",
              " 34,\n",
              " 36,\n",
              " 38,\n",
              " 40,\n",
              " 42,\n",
              " 44,\n",
              " 46,\n",
              " 48,\n",
              " 50,\n",
              " 52,\n",
              " 54,\n",
              " 56,\n",
              " 58,\n",
              " 60,\n",
              " 62,\n",
              " 64,\n",
              " 66,\n",
              " 68,\n",
              " 70,\n",
              " 72,\n",
              " 74,\n",
              " 76,\n",
              " 78,\n",
              " 80,\n",
              " 82,\n",
              " 84,\n",
              " 86,\n",
              " 88,\n",
              " 90,\n",
              " 92,\n",
              " 94,\n",
              " 96,\n",
              " 98,\n",
              " 100,\n",
              " 102,\n",
              " 104,\n",
              " 106,\n",
              " 108,\n",
              " 110,\n",
              " 112,\n",
              " 114,\n",
              " 116,\n",
              " 118,\n",
              " 120,\n",
              " 122,\n",
              " 124,\n",
              " 126,\n",
              " 128,\n",
              " 130,\n",
              " 132,\n",
              " 134,\n",
              " 136,\n",
              " 138,\n",
              " 140,\n",
              " 142,\n",
              " 144,\n",
              " 146,\n",
              " 148,\n",
              " 150,\n",
              " 152,\n",
              " 154,\n",
              " 156,\n",
              " 158,\n",
              " 160,\n",
              " 162,\n",
              " 164,\n",
              " 166,\n",
              " 168,\n",
              " 170,\n",
              " 172,\n",
              " 174,\n",
              " 176,\n",
              " 178,\n",
              " 180,\n",
              " 182,\n",
              " 184,\n",
              " 186,\n",
              " 188,\n",
              " 190,\n",
              " 192,\n",
              " 194,\n",
              " 196,\n",
              " 198,\n",
              " 200,\n",
              " 202,\n",
              " 204,\n",
              " 206,\n",
              " 208,\n",
              " 210,\n",
              " 212,\n",
              " 214,\n",
              " 216,\n",
              " 218,\n",
              " 220,\n",
              " 222,\n",
              " 224,\n",
              " 226,\n",
              " 228,\n",
              " 230,\n",
              " 232,\n",
              " 234,\n",
              " 236,\n",
              " 238,\n",
              " 240,\n",
              " 242,\n",
              " 244,\n",
              " 246,\n",
              " 248,\n",
              " 250,\n",
              " 252,\n",
              " 254,\n",
              " 256,\n",
              " 258,\n",
              " 260,\n",
              " 262,\n",
              " 264,\n",
              " 266,\n",
              " 268,\n",
              " 270,\n",
              " 272,\n",
              " 274,\n",
              " 276,\n",
              " 278,\n",
              " 280,\n",
              " 282,\n",
              " 284,\n",
              " 286,\n",
              " 288,\n",
              " 290,\n",
              " 292,\n",
              " 294,\n",
              " 296,\n",
              " 298,\n",
              " 300,\n",
              " 302,\n",
              " 304,\n",
              " 306,\n",
              " 308,\n",
              " 310,\n",
              " 312,\n",
              " 314,\n",
              " 316,\n",
              " 318,\n",
              " 320,\n",
              " 322,\n",
              " 324,\n",
              " 326,\n",
              " 328,\n",
              " 330,\n",
              " 332,\n",
              " 334,\n",
              " 336,\n",
              " 338,\n",
              " 340,\n",
              " 342,\n",
              " 344,\n",
              " 346,\n",
              " 348,\n",
              " 350,\n",
              " 352,\n",
              " 354,\n",
              " 356,\n",
              " 358,\n",
              " 360,\n",
              " 362,\n",
              " 364,\n",
              " 366,\n",
              " 368,\n",
              " 370,\n",
              " 372,\n",
              " 374,\n",
              " 376,\n",
              " 378,\n",
              " 380,\n",
              " 382,\n",
              " 384,\n",
              " 386,\n",
              " 388,\n",
              " 390,\n",
              " 392,\n",
              " 394,\n",
              " 396,\n",
              " 398,\n",
              " 400,\n",
              " 402,\n",
              " 404,\n",
              " 406,\n",
              " 408,\n",
              " 410,\n",
              " 412,\n",
              " 414,\n",
              " 416,\n",
              " 418,\n",
              " 420,\n",
              " 422,\n",
              " 424,\n",
              " 426,\n",
              " 428,\n",
              " 430,\n",
              " 432,\n",
              " 434,\n",
              " 436,\n",
              " 438,\n",
              " 440,\n",
              " 442,\n",
              " 444,\n",
              " 446,\n",
              " 448,\n",
              " 450,\n",
              " 452,\n",
              " 454,\n",
              " 456,\n",
              " 458,\n",
              " 460,\n",
              " 462,\n",
              " 464,\n",
              " 466,\n",
              " 468,\n",
              " 470,\n",
              " 472,\n",
              " 474,\n",
              " 476,\n",
              " 478,\n",
              " 480,\n",
              " 482,\n",
              " 484,\n",
              " 486,\n",
              " 488,\n",
              " 490,\n",
              " 492,\n",
              " 494,\n",
              " 496,\n",
              " 498,\n",
              " 500,\n",
              " 502,\n",
              " 504,\n",
              " 506,\n",
              " 508,\n",
              " 510,\n",
              " 512,\n",
              " 514,\n",
              " 516,\n",
              " 518,\n",
              " 520,\n",
              " 522,\n",
              " 524,\n",
              " 526,\n",
              " 528,\n",
              " 530,\n",
              " 532,\n",
              " 534,\n",
              " 536,\n",
              " 538,\n",
              " 540,\n",
              " 542,\n",
              " 544,\n",
              " 546,\n",
              " 548,\n",
              " 550,\n",
              " 552,\n",
              " 554,\n",
              " 556,\n",
              " 558,\n",
              " 560,\n",
              " 562,\n",
              " 564,\n",
              " 566,\n",
              " 568,\n",
              " 570,\n",
              " 572,\n",
              " 574,\n",
              " 576,\n",
              " 578,\n",
              " 580,\n",
              " 582,\n",
              " 584,\n",
              " 586,\n",
              " 588,\n",
              " 590,\n",
              " 592,\n",
              " 594,\n",
              " 596,\n",
              " 598,\n",
              " 600,\n",
              " 602,\n",
              " 604,\n",
              " 606,\n",
              " 608,\n",
              " 610,\n",
              " 612,\n",
              " 614,\n",
              " 616,\n",
              " 618,\n",
              " 620,\n",
              " 622,\n",
              " 624,\n",
              " 626,\n",
              " 628,\n",
              " 630,\n",
              " 632,\n",
              " 634,\n",
              " 636,\n",
              " 638,\n",
              " 640,\n",
              " 642,\n",
              " 644,\n",
              " 646,\n",
              " 648,\n",
              " 650,\n",
              " 652,\n",
              " 654,\n",
              " 656,\n",
              " 658,\n",
              " 660,\n",
              " 662,\n",
              " 664,\n",
              " 666,\n",
              " 668,\n",
              " 670,\n",
              " 672,\n",
              " 674,\n",
              " 676,\n",
              " 678,\n",
              " 680,\n",
              " 682,\n",
              " 684,\n",
              " 686,\n",
              " 688,\n",
              " 690,\n",
              " 692,\n",
              " 694,\n",
              " 696,\n",
              " 698,\n",
              " 700,\n",
              " 702,\n",
              " 704,\n",
              " 706,\n",
              " 708,\n",
              " 710,\n",
              " 712,\n",
              " 714,\n",
              " 716,\n",
              " 718,\n",
              " 720,\n",
              " 722,\n",
              " 724,\n",
              " 726,\n",
              " 728,\n",
              " 730,\n",
              " 732,\n",
              " 734,\n",
              " 736,\n",
              " 738,\n",
              " 740,\n",
              " 742,\n",
              " 744,\n",
              " 746,\n",
              " 748,\n",
              " 750,\n",
              " 752,\n",
              " 754,\n",
              " 756,\n",
              " 758,\n",
              " 760,\n",
              " 762,\n",
              " 764,\n",
              " 766,\n",
              " 768,\n",
              " 770,\n",
              " 772,\n",
              " 774,\n",
              " 776,\n",
              " 778,\n",
              " 780,\n",
              " 782,\n",
              " 784,\n",
              " 786,\n",
              " 788,\n",
              " 790,\n",
              " 792,\n",
              " 794,\n",
              " 796,\n",
              " 798,\n",
              " 800,\n",
              " 802,\n",
              " 804,\n",
              " 806,\n",
              " 808,\n",
              " 810,\n",
              " 812,\n",
              " 814,\n",
              " 816,\n",
              " 818,\n",
              " 820,\n",
              " 822,\n",
              " 824,\n",
              " 826,\n",
              " 828,\n",
              " 830,\n",
              " 832,\n",
              " 834,\n",
              " 836,\n",
              " 838,\n",
              " 840,\n",
              " 842,\n",
              " 844,\n",
              " 846,\n",
              " 848,\n",
              " 850,\n",
              " 852,\n",
              " 854,\n",
              " 856,\n",
              " 858,\n",
              " 860,\n",
              " 862,\n",
              " 864,\n",
              " 866,\n",
              " 868,\n",
              " 870,\n",
              " 872,\n",
              " 874,\n",
              " 876,\n",
              " 878,\n",
              " 880,\n",
              " 882,\n",
              " 884,\n",
              " 886,\n",
              " 888,\n",
              " 890,\n",
              " 892,\n",
              " 894,\n",
              " 896,\n",
              " 898,\n",
              " 900,\n",
              " 902,\n",
              " 904,\n",
              " 906,\n",
              " 908,\n",
              " 910,\n",
              " 912,\n",
              " 914,\n",
              " 916,\n",
              " 918,\n",
              " 920,\n",
              " 922,\n",
              " 924,\n",
              " 926,\n",
              " 928,\n",
              " 930,\n",
              " 932,\n",
              " 934,\n",
              " 936,\n",
              " 938,\n",
              " 940,\n",
              " 942,\n",
              " 944,\n",
              " 946,\n",
              " 948,\n",
              " 950,\n",
              " 952,\n",
              " 954,\n",
              " 956,\n",
              " 958,\n",
              " 960,\n",
              " 962,\n",
              " 964,\n",
              " 966,\n",
              " 968,\n",
              " 970,\n",
              " 972,\n",
              " 974,\n",
              " 976,\n",
              " 978,\n",
              " 980,\n",
              " 982,\n",
              " 984,\n",
              " 986,\n",
              " 988,\n",
              " 990,\n",
              " 992,\n",
              " 994,\n",
              " 996,\n",
              " 998]"
            ]
          },
          "metadata": {},
          "execution_count": 12
        }
      ]
    },
    {
      "cell_type": "code",
      "execution_count": null,
      "metadata": {
        "id": "mZp0k_b0wCvx",
        "colab": {
          "base_uri": "https://localhost:8080/"
        },
        "outputId": "383c1ae6-db68-457f-f17b-82178de56929"
      },
      "outputs": [
        {
          "output_type": "stream",
          "name": "stdout",
          "text": [
            "10 11 12 13 14 15 16 17 18 19 20 21 22 23 24 25 26 27 28 29 30 31 32 33 34 "
          ]
        }
      ],
      "source": [
        "for var in range(10,35):\n",
        "    print(var,end=' ')"
      ]
    },
    {
      "cell_type": "markdown",
      "metadata": {
        "id": "JetamDKDwCvy"
      },
      "source": [
        "También podemos utilizar la sintaxis range$(inicio, final-1, paso)$:"
      ]
    },
    {
      "cell_type": "code",
      "execution_count": null,
      "metadata": {
        "id": "atTeGpuawCvy",
        "colab": {
          "base_uri": "https://localhost:8080/"
        },
        "outputId": "5eb73407-3477-4a9e-c840-0f23dcd938ea"
      },
      "outputs": [
        {
          "output_type": "stream",
          "name": "stdout",
          "text": [
            "-11 -9 -7 -5 -3 -1 1 3 5 7 9 11 "
          ]
        }
      ],
      "source": [
        "a = -11 #desde 1\n",
        "b = 11 #hasta 11 - 1 = 10\n",
        "paso = 2 #de 2 en 2\n",
        "\n",
        "for a in range(a,b+1,paso):\n",
        "    print(a, end = \" \")\n",
        "\n"
      ]
    },
    {
      "cell_type": "code",
      "execution_count": null,
      "metadata": {
        "id": "7-aflbwhwCvz",
        "colab": {
          "base_uri": "https://localhost:8080/"
        },
        "outputId": "1fcec82a-7a18-4d83-a878-53ab2d03e601"
      },
      "outputs": [
        {
          "output_type": "stream",
          "name": "stdout",
          "text": [
            "range(1, 11, 2)\n",
            "<class 'range'>\n",
            "Elemento: 1\n",
            "Elemento: 3\n",
            "Elemento: 5\n",
            "Elemento: 7\n",
            "Elemento: 9\n"
          ]
        }
      ],
      "source": [
        "a = 1 #desde 1\n",
        "b = 11 #hasta 11 - 1 = 10\n",
        "paso = 2 #de 2 en 2\n",
        "\n",
        "rango = range(a, b, paso)\n",
        "print(rango)\n",
        "print(type(rango))\n",
        "for i in rango:\n",
        "    print(f\"Elemento: {i}\")"
      ]
    },
    {
      "cell_type": "code",
      "execution_count": null,
      "metadata": {
        "id": "jaGVeeMbwCvz",
        "outputId": "9bb7c2b6-963b-4faa-bf6a-d316c3d9b41a",
        "colab": {
          "base_uri": "https://localhost:8080/"
        }
      },
      "outputs": [
        {
          "output_type": "stream",
          "name": "stdout",
          "text": [
            "3 6 9 12 15 18 21 24 27 30 33 36 39 42 45 48 "
          ]
        }
      ],
      "source": [
        "#imprimir únicamente lo múltiplos de 3 desde 1 hasta 50\n",
        "for i in range(3,51,3):\n",
        "    print(i, end=' ')\n"
      ]
    },
    {
      "cell_type": "code",
      "execution_count": null,
      "metadata": {
        "id": "tVSlQDbowCv0",
        "outputId": "64e0c4b0-82e0-435d-f112-53e30d46ba5a",
        "colab": {
          "base_uri": "https://localhost:8080/"
        }
      },
      "outputs": [
        {
          "output_type": "stream",
          "name": "stdout",
          "text": [
            "3 6 9 12 15 18 21 24 27 30 33 36 39 42 45 48 "
          ]
        }
      ],
      "source": [
        "for i in range(1,51,1):\n",
        "    if(i%3==0):\n",
        "        print(i, end=' ')"
      ]
    },
    {
      "cell_type": "code",
      "execution_count": null,
      "metadata": {
        "id": "-wAEK_f9wCv0",
        "outputId": "a733de13-ffa7-4001-8bf7-435a405219c9",
        "colab": {
          "base_uri": "https://localhost:8080/"
        }
      },
      "outputs": [
        {
          "output_type": "stream",
          "name": "stdout",
          "text": [
            "20 19 18 17 16 15 14 13 12 11 10 9 8 7 6 5 4 3 2 1 0 -1 -2 -3 -4 -5 -6 -7 -8 -9 -10 "
          ]
        }
      ],
      "source": [
        "#For que cuente desde 20 hasta -10 en pasos de 5\n",
        "for i in range(20,-11,-1):\n",
        "    print(i, end=' ')"
      ]
    },
    {
      "cell_type": "markdown",
      "metadata": {
        "id": "75rHEq9twCv1"
      },
      "source": [
        "\n",
        "## Ejercicio en clase\n",
        "\n",
        "Generemos una tabla de conversión de grados Celsius a Farenheit en el rango $[-20, 40]$ con __paso=5__, utilizando ciclo while y for:\n",
        "\n",
        "## $$\\left(\\frac{9}{5} °C\\right) + 32$$"
      ]
    },
    {
      "cell_type": "code",
      "execution_count": null,
      "metadata": {
        "id": "HQTJFKFzwCv1",
        "outputId": "9fa9a75c-29ba-4549-b5bf-e0387f1f2f9d",
        "colab": {
          "base_uri": "https://localhost:8080/"
        }
      },
      "outputs": [
        {
          "output_type": "stream",
          "name": "stdout",
          "text": [
            "El valor de -20º en Farenheit es -4.0\n",
            "El valor de -15º en Farenheit es 5.0\n",
            "El valor de -10º en Farenheit es 14.0\n",
            "El valor de -5º en Farenheit es 23.0\n",
            "El valor de 0º en Farenheit es 32.0\n",
            "El valor de 5º en Farenheit es 41.0\n",
            "El valor de 10º en Farenheit es 50.0\n",
            "El valor de 15º en Farenheit es 59.0\n",
            "El valor de 20º en Farenheit es 68.0\n",
            "El valor de 25º en Farenheit es 77.0\n",
            "El valor de 30º en Farenheit es 86.0\n",
            "El valor de 35º en Farenheit es 95.0\n",
            "El valor de 40º en Farenheit es 104.0\n"
          ]
        }
      ],
      "source": [
        "#Ciclo While\n",
        "C = -20\n",
        "paso = 5\n",
        "\n",
        "while (C <= 40):\n",
        "  F = (9/5*C) + 32\n",
        "  print(f\"El valor de {C}º en Farenheit es {F}\")\n",
        "  C += paso"
      ]
    },
    {
      "cell_type": "code",
      "execution_count": null,
      "metadata": {
        "id": "cfy4jtY2wCv2",
        "outputId": "71edb8d1-3e19-492a-9065-e26ea24d4a9a",
        "colab": {
          "base_uri": "https://localhost:8080/"
        }
      },
      "outputs": [
        {
          "output_type": "stream",
          "name": "stdout",
          "text": [
            "El valor de -20º en Farenheit es -4.0\n",
            "El valor de -15º en Farenheit es 5.0\n",
            "El valor de -10º en Farenheit es 14.0\n",
            "El valor de -5º en Farenheit es 23.0\n",
            "El valor de 0º en Farenheit es 32.0\n",
            "El valor de 5º en Farenheit es 41.0\n",
            "El valor de 10º en Farenheit es 50.0\n",
            "El valor de 15º en Farenheit es 59.0\n",
            "El valor de 20º en Farenheit es 68.0\n",
            "El valor de 25º en Farenheit es 77.0\n",
            "El valor de 30º en Farenheit es 86.0\n",
            "El valor de 35º en Farenheit es 95.0\n",
            "El valor de 40º en Farenheit es 104.0\n"
          ]
        }
      ],
      "source": [
        "#Ciclo for\n",
        "for C in range(-20,41,5):\n",
        "  F = (9/5*C) + 32\n",
        "  print(f\"El valor de {C}º en Farenheit es {F}\")"
      ]
    },
    {
      "cell_type": "markdown",
      "metadata": {
        "id": "U74h-CSIwCv3"
      },
      "source": [
        "## Ejercicios\n",
        "\n",
        "### 1.  Crear un programa que permita adivinar un número. Se debe generar un número aleatorio del 1 al 100. A continuación va pidiendo números y va respondiendo si el número a adivinar es mayor o menor que el introducido, además de los intentos que quedan (máximo 10 intentos). El programa termina cuando se acierta el número o cuando se termine el número máximo de intentos."
      ]
    },
    {
      "cell_type": "code",
      "execution_count": null,
      "metadata": {
        "id": "QUauFRQjwCv3",
        "colab": {
          "base_uri": "https://localhost:8080/",
          "height": 455
        },
        "outputId": "5c457187-9940-4059-a4d8-d2ccb90e80dd"
      },
      "outputs": [
        {
          "output_type": "stream",
          "name": "stdout",
          "text": [
            "Tienes 10 intentos\n",
            "Ingrese un numero entero del 0 al 100: 1000\n",
            "Numero aleatorio buscado es menor.\n",
            "Tienes 9 intentos\n"
          ]
        },
        {
          "output_type": "error",
          "ename": "KeyboardInterrupt",
          "evalue": "Interrupted by user",
          "traceback": [
            "\u001b[0;31m---------------------------------------------------------------------------\u001b[0m",
            "\u001b[0;31mKeyboardInterrupt\u001b[0m                         Traceback (most recent call last)",
            "\u001b[0;32m<ipython-input-28-e6bb8cae4671>\u001b[0m in \u001b[0;36m<cell line: 6>\u001b[0;34m()\u001b[0m\n\u001b[1;32m      6\u001b[0m \u001b[0;32mwhile\u001b[0m \u001b[0mflag\u001b[0m\u001b[0;34m:\u001b[0m\u001b[0;34m\u001b[0m\u001b[0;34m\u001b[0m\u001b[0m\n\u001b[1;32m      7\u001b[0m   \u001b[0mprint\u001b[0m\u001b[0;34m(\u001b[0m\u001b[0;34mf\"Tienes {Intentos} intentos\"\u001b[0m\u001b[0;34m)\u001b[0m\u001b[0;34m\u001b[0m\u001b[0;34m\u001b[0m\u001b[0m\n\u001b[0;32m----> 8\u001b[0;31m   \u001b[0mnumIngresado\u001b[0m \u001b[0;34m=\u001b[0m \u001b[0mint\u001b[0m\u001b[0;34m(\u001b[0m\u001b[0minput\u001b[0m\u001b[0;34m(\u001b[0m\u001b[0;34m\"Ingrese un numero entero del 0 al 100: \"\u001b[0m\u001b[0;34m)\u001b[0m\u001b[0;34m)\u001b[0m\u001b[0;34m\u001b[0m\u001b[0;34m\u001b[0m\u001b[0m\n\u001b[0m\u001b[1;32m      9\u001b[0m   \u001b[0;32mif\u001b[0m \u001b[0;34m(\u001b[0m\u001b[0mnumAleatorio\u001b[0m \u001b[0;34m>\u001b[0m \u001b[0mnumIngresado\u001b[0m\u001b[0;34m)\u001b[0m\u001b[0;34m:\u001b[0m\u001b[0;34m\u001b[0m\u001b[0;34m\u001b[0m\u001b[0m\n\u001b[1;32m     10\u001b[0m     \u001b[0mprint\u001b[0m\u001b[0;34m(\u001b[0m\u001b[0;34m\"Numero aleatorio buscado es mayor.\"\u001b[0m\u001b[0;34m)\u001b[0m\u001b[0;34m\u001b[0m\u001b[0;34m\u001b[0m\u001b[0m\n",
            "\u001b[0;32m/usr/local/lib/python3.10/dist-packages/ipykernel/kernelbase.py\u001b[0m in \u001b[0;36mraw_input\u001b[0;34m(self, prompt)\u001b[0m\n\u001b[1;32m    849\u001b[0m                 \u001b[0;34m\"raw_input was called, but this frontend does not support input requests.\"\u001b[0m\u001b[0;34m\u001b[0m\u001b[0;34m\u001b[0m\u001b[0m\n\u001b[1;32m    850\u001b[0m             )\n\u001b[0;32m--> 851\u001b[0;31m         return self._input_request(str(prompt),\n\u001b[0m\u001b[1;32m    852\u001b[0m             \u001b[0mself\u001b[0m\u001b[0;34m.\u001b[0m\u001b[0m_parent_ident\u001b[0m\u001b[0;34m,\u001b[0m\u001b[0;34m\u001b[0m\u001b[0;34m\u001b[0m\u001b[0m\n\u001b[1;32m    853\u001b[0m             \u001b[0mself\u001b[0m\u001b[0;34m.\u001b[0m\u001b[0m_parent_header\u001b[0m\u001b[0;34m,\u001b[0m\u001b[0;34m\u001b[0m\u001b[0;34m\u001b[0m\u001b[0m\n",
            "\u001b[0;32m/usr/local/lib/python3.10/dist-packages/ipykernel/kernelbase.py\u001b[0m in \u001b[0;36m_input_request\u001b[0;34m(self, prompt, ident, parent, password)\u001b[0m\n\u001b[1;32m    893\u001b[0m             \u001b[0;32mexcept\u001b[0m \u001b[0mKeyboardInterrupt\u001b[0m\u001b[0;34m:\u001b[0m\u001b[0;34m\u001b[0m\u001b[0;34m\u001b[0m\u001b[0m\n\u001b[1;32m    894\u001b[0m                 \u001b[0;31m# re-raise KeyboardInterrupt, to truncate traceback\u001b[0m\u001b[0;34m\u001b[0m\u001b[0;34m\u001b[0m\u001b[0m\n\u001b[0;32m--> 895\u001b[0;31m                 \u001b[0;32mraise\u001b[0m \u001b[0mKeyboardInterrupt\u001b[0m\u001b[0;34m(\u001b[0m\u001b[0;34m\"Interrupted by user\"\u001b[0m\u001b[0;34m)\u001b[0m \u001b[0;32mfrom\u001b[0m \u001b[0;32mNone\u001b[0m\u001b[0;34m\u001b[0m\u001b[0;34m\u001b[0m\u001b[0m\n\u001b[0m\u001b[1;32m    896\u001b[0m             \u001b[0;32mexcept\u001b[0m \u001b[0mException\u001b[0m \u001b[0;32mas\u001b[0m \u001b[0me\u001b[0m\u001b[0;34m:\u001b[0m\u001b[0;34m\u001b[0m\u001b[0;34m\u001b[0m\u001b[0m\n\u001b[1;32m    897\u001b[0m                 \u001b[0mself\u001b[0m\u001b[0;34m.\u001b[0m\u001b[0mlog\u001b[0m\u001b[0;34m.\u001b[0m\u001b[0mwarning\u001b[0m\u001b[0;34m(\u001b[0m\u001b[0;34m\"Invalid Message:\"\u001b[0m\u001b[0;34m,\u001b[0m \u001b[0mexc_info\u001b[0m\u001b[0;34m=\u001b[0m\u001b[0;32mTrue\u001b[0m\u001b[0;34m)\u001b[0m\u001b[0;34m\u001b[0m\u001b[0;34m\u001b[0m\u001b[0m\n",
            "\u001b[0;31mKeyboardInterrupt\u001b[0m: Interrupted by user"
          ]
        }
      ],
      "source": [
        "## Celda para hacer el ejercicio\n",
        "import random\n",
        "numAleatorio = random.randint(0,100)\n",
        "Intentos = 10\n",
        "flag = True\n",
        "while flag:\n",
        "  print(f\"Tienes {Intentos} intentos\")\n",
        "  numIngresado = int(input(\"Ingrese un numero entero del 0 al 100: \"))\n",
        "  if (numAleatorio > numIngresado):\n",
        "    print(\"Numero aleatorio buscado es mayor.\")\n",
        "  elif (numAleatorio < numIngresado):\n",
        "    print(\"Numero aleatorio buscado es menor.\")\n",
        "  else:\n",
        "    print(\"Adivinaste!!!\")\n",
        "    flag = False\n",
        "  Intentos -= 1\n",
        "  if Intentos == 0:\n",
        "    flag = False\n",
        "    print(\"Se acabaron los intentos, mejor suerte la proxima vez.\")\n"
      ]
    },
    {
      "cell_type": "code",
      "source": [
        "numAleatorio = random.randint(0,100)\n",
        "cantidadIntentos = 10\n",
        "for Intentos in range(cantidadIntentos):\n",
        "  print(f\"Tienes {cantidadIntentos-Intentos} intentos\")\n",
        "  numIngresado = int(input(\"Ingrese un numero entero del 0 al 100: \"))\n",
        "  if (numAleatorio > numIngresado):\n",
        "    print(\"Numero aleatorio buscado es mayor.\")\n",
        "  elif (numAleatorio < numIngresado):\n",
        "    print(\"Numero aleatorio buscado es menor.\")\n",
        "  else:\n",
        "    print(\"Adivinaste!!!\")\n",
        "    break\n",
        "else:\n",
        "    print(\"Se acabaron los intentos, mejor suerte la proxima vez.\")\n"
      ],
      "metadata": {
        "id": "xQHWgJd2prDq",
        "outputId": "2f698c58-9117-45e1-99ae-d6c0a8a36fc5",
        "colab": {
          "base_uri": "https://localhost:8080/"
        }
      },
      "execution_count": null,
      "outputs": [
        {
          "output_type": "stream",
          "name": "stdout",
          "text": [
            "Tienes 10 intentos\n",
            "Ingrese un numero entero del 0 al 100: 1\n",
            "Numero aleatorio buscado es mayor.\n",
            "Tienes 9 intentos\n",
            "Ingrese un numero entero del 0 al 100: 1\n",
            "Numero aleatorio buscado es mayor.\n",
            "Tienes 8 intentos\n",
            "Ingrese un numero entero del 0 al 100: 1\n",
            "Numero aleatorio buscado es mayor.\n",
            "Tienes 7 intentos\n",
            "Ingrese un numero entero del 0 al 100: 1\n",
            "Numero aleatorio buscado es mayor.\n",
            "Tienes 6 intentos\n",
            "Ingrese un numero entero del 0 al 100: 1\n",
            "Numero aleatorio buscado es mayor.\n",
            "Tienes 5 intentos\n",
            "Ingrese un numero entero del 0 al 100: 1\n",
            "Numero aleatorio buscado es mayor.\n",
            "Tienes 4 intentos\n",
            "Ingrese un numero entero del 0 al 100: 1\n",
            "Numero aleatorio buscado es mayor.\n",
            "Tienes 3 intentos\n",
            "Ingrese un numero entero del 0 al 100: 1\n",
            "Numero aleatorio buscado es mayor.\n",
            "Tienes 2 intentos\n",
            "Ingrese un numero entero del 0 al 100: 1\n",
            "Numero aleatorio buscado es mayor.\n",
            "Tienes 1 intentos\n",
            "Ingrese un numero entero del 0 al 100: 1\n",
            "Numero aleatorio buscado es mayor.\n",
            "Se acabaron los intentos, mejor suerte la proxima vez.\n"
          ]
        }
      ]
    },
    {
      "cell_type": "markdown",
      "metadata": {
        "id": "6UbSXEkiwCv4"
      },
      "source": [
        "### 2. Escribir un programa que solicite ingresar números hasta que se introduzca un cero. Debe imprimir la suma y el promedio de todos los números ingresados."
      ]
    },
    {
      "cell_type": "code",
      "execution_count": null,
      "metadata": {
        "id": "0jJIoJjAwCv4",
        "outputId": "cafa1ad5-d8bc-4108-ffc9-52bc177b70de",
        "colab": {
          "base_uri": "https://localhost:8080/"
        }
      },
      "outputs": [
        {
          "output_type": "stream",
          "name": "stdout",
          "text": [
            "Ingrese un numero: 50\n",
            "Ingrese un numero: 42\n",
            "Ingrese un numero: 17\n",
            "Ingrese un numero: 9\n",
            "Ingrese un numero: 0\n",
            "La suma de los numeros es 118 y el promedio de los 4 numeros es 29.5 \n"
          ]
        }
      ],
      "source": [
        "#ciclo while\n",
        "con, suma, flag = 0,0,True\n",
        "\n",
        "while flag:\n",
        "  numero = int(input(\"Ingrese un numero: \"))\n",
        "  if numero == 0:\n",
        "    flag = False\n",
        "  else:\n",
        "    con += 1\n",
        "    suma += numero\n",
        "\n",
        "if con:\n",
        "  promedio = suma/con\n",
        "else:\n",
        "  promedio = 0\n",
        "\n",
        "print(f\"La suma de los numeros es {suma} y el promedio de los {con} numeros es\\\n",
        " {promedio} \")"
      ]
    },
    {
      "cell_type": "markdown",
      "metadata": {
        "id": "FfpMtPgawCv5"
      },
      "source": [
        "50, 42, 17, 9 --> suma = 118, promedio = 29.5"
      ]
    },
    {
      "cell_type": "markdown",
      "metadata": {
        "id": "HKkA16kVwCv5"
      },
      "source": [
        "### 3. Escribir un programa que imprima todos los números pares entre dos números que se le pidan al usuario, [A, B] con $$A < B$$"
      ]
    },
    {
      "cell_type": "code",
      "execution_count": null,
      "metadata": {
        "id": "YBHgeJfqwCv6",
        "outputId": "5937199b-43f4-434e-8122-241240b5a703",
        "colab": {
          "base_uri": "https://localhost:8080/"
        }
      },
      "outputs": [
        {
          "output_type": "stream",
          "name": "stdout",
          "text": [
            "ingrese un número: 10\n",
            "ingrese otro número: 20\n",
            "10 12 14 16 18 20 "
          ]
        }
      ],
      "source": [
        "A = int(input(\"ingrese un número: \"))\n",
        "B = int(input(\"ingrese otro número: \"))\n",
        "\n",
        "if A<B:\n",
        "  for numero in range(A,B+1):\n",
        "    if numero%2==0:\n",
        "      print(numero, end= ' ')"
      ]
    },
    {
      "cell_type": "markdown",
      "source": [
        "## Control en ciclos\n",
        "Python cuenta con comandos que permiten alterar el funcionamiento de los ciclos.\n",
        "\n",
        "| Comando    | Descripción |\n",
        "| -------- | ------- |\n",
        "| pass  | No hace nada. Comando utilizado para crear los metodos de las clases.   |\n",
        "| break  | Rompe el ciclo. Se termina el proceso iterativo.   |\n",
        "| continue | Salta a la siguiente iteracion, no se ejecuta el codigo que este debajo del Continue dentro del bloque ciclico.  |\n"
      ],
      "metadata": {
        "id": "OEfwS-EJJG0h"
      }
    },
    {
      "cell_type": "code",
      "source": [
        "for k in range(10):\n",
        "  if k == 1:\n",
        "    continue\n",
        "  if k <= 1:\n",
        "    print(\"Iteracion menor e igual 1.\")\n",
        "  if k == 3:\n",
        "    pass\n",
        "  if k == 5:\n",
        "    break\n",
        "  print(\"Iteracion: \",k)"
      ],
      "metadata": {
        "id": "PZj16LuwKDvS",
        "outputId": "68fa48a2-bd08-4bb8-98a1-6a38dc41e44a",
        "colab": {
          "base_uri": "https://localhost:8080/"
        }
      },
      "execution_count": null,
      "outputs": [
        {
          "output_type": "stream",
          "name": "stdout",
          "text": [
            "Iteracion menor e igual 1.\n",
            "Iteracion:  0\n",
            "Iteracion:  2\n",
            "Iteracion:  3\n",
            "Iteracion:  4\n"
          ]
        }
      ]
    },
    {
      "cell_type": "markdown",
      "source": [
        "Adicionalmente, cuando un ciclo se rompe por medio de `break` no podemos ejecutar el condicional `else`. Pero si el ciclo termina correctamente entra al bloque `else`."
      ],
      "metadata": {
        "id": "6S7MuXj8NH_L"
      }
    },
    {
      "cell_type": "code",
      "source": [
        "for k in range(10):\n",
        "  if k == 1:\n",
        "    continue\n",
        "  if k <= 1:\n",
        "    print(\"Iteracion menor e igual 1.\")\n",
        "  if k == 3:\n",
        "    pass\n",
        "  if k == 5:\n",
        "    pass\n",
        "    break\n",
        "  print(\"Iteracion: \",k)\n",
        "else:\n",
        "  print(\"Entra al else\")"
      ],
      "metadata": {
        "colab": {
          "base_uri": "https://localhost:8080/"
        },
        "id": "obnza7gwNHcs",
        "outputId": "9383e082-5626-40d5-e42b-d2f1beb00406"
      },
      "execution_count": null,
      "outputs": [
        {
          "output_type": "stream",
          "name": "stdout",
          "text": [
            "Iteracion menor e igual 1.\n",
            "Iteracion:  0\n",
            "Iteracion:  2\n",
            "Iteracion:  3\n",
            "Iteracion:  4\n"
          ]
        }
      ]
    },
    {
      "cell_type": "code",
      "source": [
        "#ciclo while\n",
        "con, suma, flag = 0,0,True\n",
        "numero = int(input(\"Ingrese un numero: \"))\n",
        "numeros = []\n",
        "while numero:\n",
        "  con += 1\n",
        "  suma += numero\n",
        "  numeros.append(numero)\n",
        "  numero = int(input(\"Ingrese un numero: \"))\n",
        "\n",
        "if con:\n",
        "  promedio = suma/len(numeros)\n",
        "else:\n",
        "  promedio = 0\n",
        "print(f\"Los numero ingresado son {numeros}\")\n",
        "print(f\"La suma de los numeros es {suma} y el promedio de los {con} numeros es\\\n",
        " {promedio} \")"
      ],
      "metadata": {
        "id": "ngYEzBcHNfLO",
        "outputId": "da439b8d-0697-41be-af20-f8c095bb76ce",
        "colab": {
          "base_uri": "https://localhost:8080/"
        }
      },
      "execution_count": null,
      "outputs": [
        {
          "output_type": "stream",
          "name": "stdout",
          "text": [
            "Ingrese un numero: 1\n",
            "Ingrese un numero: 2\n",
            "Ingrese un numero: 3\n",
            "Ingrese un numero: 4\n",
            "Ingrese un numero: 5\n",
            "Ingrese un numero: 0\n",
            "Los numero ingresado son [1, 2, 3, 4, 5]\n",
            "La suma de los numeros es 15 y el promedio de los 5 numeros es 3.0 \n"
          ]
        }
      ]
    },
    {
      "cell_type": "code",
      "source": [
        "len(numeros)"
      ],
      "metadata": {
        "id": "k9rS9CwIzZVZ",
        "outputId": "51aefff8-9d93-4c82-f48f-46f2fdfbd4d0",
        "colab": {
          "base_uri": "https://localhost:8080/"
        }
      },
      "execution_count": null,
      "outputs": [
        {
          "output_type": "execute_result",
          "data": {
            "text/plain": [
              "5"
            ]
          },
          "metadata": {},
          "execution_count": 48
        }
      ]
    },
    {
      "cell_type": "code",
      "source": [
        "lista = ['texto',1,1.0,range(4),[[1,2,3],2,3]]"
      ],
      "metadata": {
        "id": "hdphF9aWzajc"
      },
      "execution_count": null,
      "outputs": []
    },
    {
      "cell_type": "code",
      "source": [
        "lista[4][0][1]"
      ],
      "metadata": {
        "id": "nKYPKmO6zkoQ",
        "outputId": "1e0f0270-7e2d-4e34-a39c-5f3bd79835d4",
        "colab": {
          "base_uri": "https://localhost:8080/"
        }
      },
      "execution_count": null,
      "outputs": [
        {
          "output_type": "execute_result",
          "data": {
            "text/plain": [
              "2"
            ]
          },
          "metadata": {},
          "execution_count": 59
        }
      ]
    },
    {
      "cell_type": "code",
      "source": [
        "tupla = (1,2,3)"
      ],
      "metadata": {
        "id": "XK5DqtrYzvcx"
      },
      "execution_count": null,
      "outputs": []
    },
    {
      "cell_type": "code",
      "source": [
        "tupla[0] = 2"
      ],
      "metadata": {
        "id": "VoFaxXdv0s4i",
        "outputId": "c32f2a16-6d68-4063-aad9-77a9bba2f249",
        "colab": {
          "base_uri": "https://localhost:8080/",
          "height": 144
        }
      },
      "execution_count": null,
      "outputs": [
        {
          "output_type": "error",
          "ename": "TypeError",
          "evalue": "'tuple' object does not support item assignment",
          "traceback": [
            "\u001b[0;31m---------------------------------------------------------------------------\u001b[0m",
            "\u001b[0;31mTypeError\u001b[0m                                 Traceback (most recent call last)",
            "\u001b[0;32m<ipython-input-62-63912eb62050>\u001b[0m in \u001b[0;36m<cell line: 1>\u001b[0;34m()\u001b[0m\n\u001b[0;32m----> 1\u001b[0;31m \u001b[0mtupla\u001b[0m\u001b[0;34m[\u001b[0m\u001b[0;36m0\u001b[0m\u001b[0;34m]\u001b[0m \u001b[0;34m=\u001b[0m \u001b[0;36m2\u001b[0m\u001b[0;34m\u001b[0m\u001b[0;34m\u001b[0m\u001b[0m\n\u001b[0m",
            "\u001b[0;31mTypeError\u001b[0m: 'tuple' object does not support item assignment"
          ]
        }
      ]
    },
    {
      "cell_type": "code",
      "source": [
        "lista"
      ],
      "metadata": {
        "id": "JIK8d_cJ0uQ_",
        "outputId": "10eec872-6f55-4836-f44a-ccbb1b6509c0",
        "colab": {
          "base_uri": "https://localhost:8080/"
        }
      },
      "execution_count": null,
      "outputs": [
        {
          "output_type": "execute_result",
          "data": {
            "text/plain": [
              "['texto', 1, 1.0, range(0, 4), [[1, 2, 3], 2, 3]]"
            ]
          },
          "metadata": {},
          "execution_count": 63
        }
      ]
    },
    {
      "cell_type": "code",
      "source": [
        "lista[0] = 'Hola'"
      ],
      "metadata": {
        "id": "jmhfBCn_0xGp"
      },
      "execution_count": null,
      "outputs": []
    },
    {
      "cell_type": "code",
      "source": [
        "lista"
      ],
      "metadata": {
        "id": "rZw5l5SF0y2I",
        "outputId": "ed0f4bb6-465e-49e5-d7d3-837a36dfaa94",
        "colab": {
          "base_uri": "https://localhost:8080/"
        }
      },
      "execution_count": null,
      "outputs": [
        {
          "output_type": "execute_result",
          "data": {
            "text/plain": [
              "['Hola', 1, 1.0, range(0, 4), [[1, 2, 3], 2, 3]]"
            ]
          },
          "metadata": {},
          "execution_count": 65
        }
      ]
    },
    {
      "cell_type": "code",
      "source": [],
      "metadata": {
        "id": "xGcfQR_b0zbA"
      },
      "execution_count": null,
      "outputs": []
    }
  ],
  "metadata": {
    "kernelspec": {
      "display_name": "Python 3",
      "language": "python",
      "name": "python3"
    },
    "language_info": {
      "codemirror_mode": {
        "name": "ipython",
        "version": 3
      },
      "file_extension": ".py",
      "mimetype": "text/x-python",
      "name": "python",
      "nbconvert_exporter": "python",
      "pygments_lexer": "ipython3",
      "version": "3.7.6"
    },
    "colab": {
      "provenance": []
    }
  },
  "nbformat": 4,
  "nbformat_minor": 0
}