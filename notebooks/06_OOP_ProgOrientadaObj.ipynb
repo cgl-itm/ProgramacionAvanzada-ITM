{
  "cells": [
    {
      "cell_type": "markdown",
      "metadata": {
        "id": "iUXxr1rRi1WJ"
      },
      "source": [
        "# Programación Orientada a Objetos (POO) u Object Oriented Programming (OOP)\n",
        "Fuentes: <br>\n",
        "https://realpython.com/python3-object-oriented-programming/ <br>\n",
        "https://ellibrodepython.com/programacion-orientada-a-objetos <br>\n",
        "https://medium.com/@LuisMBaezCo/overloading-sobrecargar-operadores-en-python-5d7a75e2bfdf"
      ]
    },
    {
      "cell_type": "markdown",
      "metadata": {
        "id": "pmeEmgpGi1WP"
      },
      "source": [
        "## 1. Todo en python es un objeto"
      ]
    },
    {
      "cell_type": "code",
      "execution_count": null,
      "metadata": {
        "colab": {
          "base_uri": "https://localhost:8080/"
        },
        "id": "IlOrT_jxi1WP",
        "outputId": "5db2070b-f0a1-45f8-f94e-943645321f0b"
      },
      "outputs": [
        {
          "output_type": "execute_result",
          "data": {
            "text/plain": [
              "10"
            ]
          },
          "metadata": {},
          "execution_count": 1
        }
      ],
      "source": [
        "n = 10\n",
        "n"
      ]
    },
    {
      "cell_type": "code",
      "execution_count": null,
      "metadata": {
        "colab": {
          "base_uri": "https://localhost:8080/"
        },
        "id": "5Q8IyNpxi1WR",
        "outputId": "94baf2ef-6c0e-43da-b12e-14442f1c138d"
      },
      "outputs": [
        {
          "output_type": "execute_result",
          "data": {
            "text/plain": [
              "int"
            ]
          },
          "metadata": {},
          "execution_count": 2
        }
      ],
      "source": [
        "type(n)"
      ]
    },
    {
      "cell_type": "code",
      "execution_count": null,
      "metadata": {
        "colab": {
          "base_uri": "https://localhost:8080/"
        },
        "id": "FW3xyKHZi1WS",
        "outputId": "b65844ca-11c3-4a23-f185-f5452622ad92"
      },
      "outputs": [
        {
          "output_type": "stream",
          "name": "stdout",
          "text": [
            "<class 'int'>\n"
          ]
        }
      ],
      "source": [
        "print(type(n))"
      ]
    },
    {
      "cell_type": "code",
      "source": [
        "n.__ceil__()"
      ],
      "metadata": {
        "colab": {
          "base_uri": "https://localhost:8080/"
        },
        "id": "F2JJI9yiZuHp",
        "outputId": "56877901-39a5-4445-c161-409c4998fd7c"
      },
      "execution_count": null,
      "outputs": [
        {
          "output_type": "execute_result",
          "data": {
            "text/plain": [
              "10"
            ]
          },
          "metadata": {},
          "execution_count": 4
        }
      ]
    },
    {
      "cell_type": "code",
      "execution_count": null,
      "metadata": {
        "colab": {
          "base_uri": "https://localhost:8080/"
        },
        "id": "gIDZkqLci1WS",
        "outputId": "e6e812eb-cfb6-4540-95f6-f33d8a8db0b9"
      },
      "outputs": [
        {
          "output_type": "execute_result",
          "data": {
            "text/plain": [
              "['__abs__',\n",
              " '__add__',\n",
              " '__bool__',\n",
              " '__class__',\n",
              " '__delattr__',\n",
              " '__dir__',\n",
              " '__divmod__',\n",
              " '__doc__',\n",
              " '__eq__',\n",
              " '__float__',\n",
              " '__floordiv__',\n",
              " '__format__',\n",
              " '__ge__',\n",
              " '__getattribute__',\n",
              " '__getformat__',\n",
              " '__getnewargs__',\n",
              " '__gt__',\n",
              " '__hash__',\n",
              " '__init__',\n",
              " '__init_subclass__',\n",
              " '__int__',\n",
              " '__le__',\n",
              " '__lt__',\n",
              " '__mod__',\n",
              " '__mul__',\n",
              " '__ne__',\n",
              " '__neg__',\n",
              " '__new__',\n",
              " '__pos__',\n",
              " '__pow__',\n",
              " '__radd__',\n",
              " '__rdivmod__',\n",
              " '__reduce__',\n",
              " '__reduce_ex__',\n",
              " '__repr__',\n",
              " '__rfloordiv__',\n",
              " '__rmod__',\n",
              " '__rmul__',\n",
              " '__round__',\n",
              " '__rpow__',\n",
              " '__rsub__',\n",
              " '__rtruediv__',\n",
              " '__set_format__',\n",
              " '__setattr__',\n",
              " '__sizeof__',\n",
              " '__str__',\n",
              " '__sub__',\n",
              " '__subclasshook__',\n",
              " '__truediv__',\n",
              " '__trunc__',\n",
              " 'as_integer_ratio',\n",
              " 'conjugate',\n",
              " 'fromhex',\n",
              " 'hex',\n",
              " 'imag',\n",
              " 'is_integer',\n",
              " 'real']"
            ]
          },
          "metadata": {},
          "execution_count": 5
        }
      ],
      "source": [
        "dir(float)"
      ]
    },
    {
      "cell_type": "code",
      "execution_count": null,
      "metadata": {
        "colab": {
          "base_uri": "https://localhost:8080/"
        },
        "id": "3wwABJAKi1WT",
        "outputId": "3c41d95a-744d-41ea-bd70-d511da0fb10d"
      },
      "outputs": [
        {
          "output_type": "execute_result",
          "data": {
            "text/plain": [
              "(5+4j)"
            ]
          },
          "metadata": {},
          "execution_count": 6
        }
      ],
      "source": [
        "c = 5 + 4j\n",
        "c"
      ]
    },
    {
      "cell_type": "code",
      "execution_count": null,
      "metadata": {
        "colab": {
          "base_uri": "https://localhost:8080/"
        },
        "id": "2GtSO1Uxi1WU",
        "outputId": "1fa6a6fa-2aa1-40aa-b464-feb8adcca0fd"
      },
      "outputs": [
        {
          "output_type": "execute_result",
          "data": {
            "text/plain": [
              "complex"
            ]
          },
          "metadata": {},
          "execution_count": 7
        }
      ],
      "source": [
        "type(c)"
      ]
    },
    {
      "cell_type": "code",
      "execution_count": null,
      "metadata": {
        "colab": {
          "base_uri": "https://localhost:8080/"
        },
        "id": "V1iN_DLJi1WV",
        "outputId": "e9358b56-7938-4cb1-e855-b13a69738f7a"
      },
      "outputs": [
        {
          "output_type": "stream",
          "name": "stdout",
          "text": [
            "<class 'complex'>\n"
          ]
        }
      ],
      "source": [
        "print(type(c))"
      ]
    },
    {
      "cell_type": "code",
      "execution_count": null,
      "metadata": {
        "colab": {
          "base_uri": "https://localhost:8080/"
        },
        "id": "BPwNwHefi1WW",
        "outputId": "8af6ec2b-8871-46c4-a6fd-1cb0f8ccbe2b"
      },
      "outputs": [
        {
          "output_type": "execute_result",
          "data": {
            "text/plain": [
              "['__abs__',\n",
              " '__add__',\n",
              " '__bool__',\n",
              " '__class__',\n",
              " '__delattr__',\n",
              " '__dir__',\n",
              " '__divmod__',\n",
              " '__doc__',\n",
              " '__eq__',\n",
              " '__float__',\n",
              " '__floordiv__',\n",
              " '__format__',\n",
              " '__ge__',\n",
              " '__getattribute__',\n",
              " '__getnewargs__',\n",
              " '__gt__',\n",
              " '__hash__',\n",
              " '__init__',\n",
              " '__init_subclass__',\n",
              " '__int__',\n",
              " '__le__',\n",
              " '__lt__',\n",
              " '__mod__',\n",
              " '__mul__',\n",
              " '__ne__',\n",
              " '__neg__',\n",
              " '__new__',\n",
              " '__pos__',\n",
              " '__pow__',\n",
              " '__radd__',\n",
              " '__rdivmod__',\n",
              " '__reduce__',\n",
              " '__reduce_ex__',\n",
              " '__repr__',\n",
              " '__rfloordiv__',\n",
              " '__rmod__',\n",
              " '__rmul__',\n",
              " '__rpow__',\n",
              " '__rsub__',\n",
              " '__rtruediv__',\n",
              " '__setattr__',\n",
              " '__sizeof__',\n",
              " '__str__',\n",
              " '__sub__',\n",
              " '__subclasshook__',\n",
              " '__truediv__',\n",
              " 'conjugate',\n",
              " 'imag',\n",
              " 'real']"
            ]
          },
          "metadata": {},
          "execution_count": 9
        }
      ],
      "source": [
        "dir(complex)"
      ]
    },
    {
      "cell_type": "code",
      "execution_count": null,
      "metadata": {
        "colab": {
          "base_uri": "https://localhost:8080/"
        },
        "id": "p7MNkOYci1WX",
        "outputId": "75ddffc0-d7a1-4bc3-a313-8faba242132d"
      },
      "outputs": [
        {
          "output_type": "execute_result",
          "data": {
            "text/plain": [
              "(5+4j)"
            ]
          },
          "metadata": {},
          "execution_count": 10
        }
      ],
      "source": [
        "c"
      ]
    },
    {
      "cell_type": "code",
      "execution_count": null,
      "metadata": {
        "colab": {
          "base_uri": "https://localhost:8080/"
        },
        "id": "fmohuLwZi1WY",
        "outputId": "729de692-c0d6-463d-c99e-c3d84d8d1c9f"
      },
      "outputs": [
        {
          "output_type": "execute_result",
          "data": {
            "text/plain": [
              "4.0"
            ]
          },
          "metadata": {},
          "execution_count": 11
        }
      ],
      "source": [
        "c.imag"
      ]
    },
    {
      "cell_type": "code",
      "execution_count": null,
      "metadata": {
        "colab": {
          "base_uri": "https://localhost:8080/"
        },
        "id": "oOP3bMnli1WY",
        "outputId": "64326ad5-c085-4ffb-8484-5671da72a806"
      },
      "outputs": [
        {
          "output_type": "execute_result",
          "data": {
            "text/plain": [
              "5.0"
            ]
          },
          "metadata": {},
          "execution_count": 12
        }
      ],
      "source": [
        "c.real"
      ]
    },
    {
      "cell_type": "code",
      "execution_count": null,
      "metadata": {
        "colab": {
          "base_uri": "https://localhost:8080/"
        },
        "id": "PfDQreuNi1WZ",
        "outputId": "81e0ac0e-315e-4a62-b442-b3186b898b10"
      },
      "outputs": [
        {
          "output_type": "execute_result",
          "data": {
            "text/plain": [
              "(5-4j)"
            ]
          },
          "metadata": {},
          "execution_count": 13
        }
      ],
      "source": [
        "c.conjugate()"
      ]
    },
    {
      "cell_type": "code",
      "execution_count": null,
      "metadata": {
        "colab": {
          "base_uri": "https://localhost:8080/"
        },
        "id": "N89hpXZii1WZ",
        "outputId": "b49c54c9-f9ed-465c-ce27-c9f6afa9d737"
      },
      "outputs": [
        {
          "output_type": "stream",
          "name": "stdout",
          "text": [
            "Help on built-in function conjugate:\n",
            "\n",
            "conjugate(...) method of builtins.complex instance\n",
            "    complex.conjugate() -> complex\n",
            "    \n",
            "    Return the complex conjugate of its argument. (3-4j).conjugate() == 3+4j.\n",
            "\n"
          ]
        }
      ],
      "source": [
        "help(c.conjugate)"
      ]
    },
    {
      "cell_type": "code",
      "execution_count": null,
      "metadata": {
        "id": "dpW7Hzd1i1Wa"
      },
      "outputs": [],
      "source": [
        "s = 'Programacion orientada a objetos'"
      ]
    },
    {
      "cell_type": "code",
      "execution_count": null,
      "metadata": {
        "colab": {
          "base_uri": "https://localhost:8080/",
          "height": 35
        },
        "id": "VmXeKo_8i1Wa",
        "outputId": "6517452e-87a9-4203-c049-e04ad8749ae3"
      },
      "outputs": [
        {
          "output_type": "execute_result",
          "data": {
            "text/plain": [
              "'PROGRAMACION ORIENTADA A OBJETOS'"
            ],
            "application/vnd.google.colaboratory.intrinsic+json": {
              "type": "string"
            }
          },
          "metadata": {},
          "execution_count": 16
        }
      ],
      "source": [
        "s.upper()"
      ]
    },
    {
      "cell_type": "code",
      "execution_count": null,
      "metadata": {
        "colab": {
          "base_uri": "https://localhost:8080/"
        },
        "id": "wTyGR3i9i1Wa",
        "outputId": "44bb22c6-2095-456f-fc8a-affeae62a4f8"
      },
      "outputs": [
        {
          "output_type": "execute_result",
          "data": {
            "text/plain": [
              "2"
            ]
          },
          "metadata": {},
          "execution_count": 17
        }
      ],
      "source": [
        "s.count('a ')"
      ]
    },
    {
      "cell_type": "markdown",
      "metadata": {
        "id": "v66igwb4i1Wb"
      },
      "source": [
        "## 2. Sintaxis en Python\n",
        "\n",
        "<br>\n",
        "\n",
        "<font color=\"#130eb3\" size=5>__class__</font> <font size=5>NombreClase(ClasePadre)</font> <font color=\"#130eb3\" size=5>__:__</font>\n",
        "\n",
        "    Cuerpo"
      ]
    },
    {
      "cell_type": "markdown",
      "source": [
        "Empezamos creando una clase sin ningun metodo o atributos."
      ],
      "metadata": {
        "id": "3GSpdQ5jsv6U"
      }
    },
    {
      "cell_type": "code",
      "execution_count": null,
      "metadata": {
        "id": "BThcnBhwi1Wb"
      },
      "outputs": [],
      "source": [
        "class LPW:\n",
        "    pass"
      ]
    },
    {
      "cell_type": "markdown",
      "source": [
        "A continuacion creamos una instancia de la clase LPW:"
      ],
      "metadata": {
        "id": "z91JXXDrs3ha"
      }
    },
    {
      "cell_type": "code",
      "execution_count": null,
      "metadata": {
        "id": "BPFGZb8Mi1Wc"
      },
      "outputs": [],
      "source": [
        "Leng = LPW()"
      ]
    },
    {
      "cell_type": "code",
      "execution_count": null,
      "metadata": {
        "colab": {
          "base_uri": "https://localhost:8080/"
        },
        "id": "il306JV_i1Wc",
        "outputId": "03fb244b-5891-401d-cf29-87b37f9b7560"
      },
      "outputs": [
        {
          "output_type": "stream",
          "name": "stdout",
          "text": [
            "<class '__main__.LPW'>\n"
          ]
        }
      ],
      "source": [
        "print(type(Leng))"
      ]
    },
    {
      "cell_type": "markdown",
      "source": [
        "Podemos observar los metodos con los que se inicia una clase en Python."
      ],
      "metadata": {
        "id": "Q4iIL3u1qv-o"
      }
    },
    {
      "cell_type": "code",
      "source": [
        "print(dir(Leng))"
      ],
      "metadata": {
        "colab": {
          "base_uri": "https://localhost:8080/"
        },
        "id": "VcckWkvRqXYi",
        "outputId": "54a0b475-60dd-4528-fbf9-17dd4633ea5b"
      },
      "execution_count": null,
      "outputs": [
        {
          "output_type": "stream",
          "name": "stdout",
          "text": [
            "['__class__', '__delattr__', '__dict__', '__dir__', '__doc__', '__eq__', '__format__', '__ge__', '__getattribute__', '__gt__', '__hash__', '__init__', '__init_subclass__', '__le__', '__lt__', '__module__', '__ne__', '__new__', '__reduce__', '__reduce_ex__', '__repr__', '__setattr__', '__sizeof__', '__str__', '__subclasshook__', '__weakref__']\n"
          ]
        }
      ]
    },
    {
      "cell_type": "markdown",
      "source": [
        "Podemos crear un objecto en python, y observar que es similar a una clase de Python."
      ],
      "metadata": {
        "id": "2X1FPtWvqKnc"
      }
    },
    {
      "cell_type": "code",
      "source": [
        "a2 = object()\n",
        "print(dir(a2))"
      ],
      "metadata": {
        "colab": {
          "base_uri": "https://localhost:8080/"
        },
        "id": "CAqFOSfiq2x6",
        "outputId": "ad5f16f1-763a-4827-bdfb-b87067e43b9f"
      },
      "execution_count": null,
      "outputs": [
        {
          "output_type": "stream",
          "name": "stdout",
          "text": [
            "['__class__', '__delattr__', '__dir__', '__doc__', '__eq__', '__format__', '__ge__', '__getattribute__', '__gt__', '__hash__', '__init__', '__init_subclass__', '__le__', '__lt__', '__ne__', '__new__', '__reduce__', '__reduce_ex__', '__repr__', '__setattr__', '__sizeof__', '__str__', '__subclasshook__']\n"
          ]
        }
      ]
    },
    {
      "cell_type": "markdown",
      "source": [
        "## 3. Atributos y su inicialización\n",
        "Todas variables o atributos de la clase, se guardan dentro de la clase por medio del objeto self (en español \"uno mismo\"). Tambien se pueden definir los atributos inmediatamente despues de definir el nombre de la clase y su tipo. "
      ],
      "metadata": {
        "id": "92QNzacV52lA"
      }
    },
    {
      "cell_type": "code",
      "source": [
        "class Clase:\n",
        "  x = 2\n",
        "  def __init__(self):\n",
        "    self.y = self.x + 1"
      ],
      "metadata": {
        "id": "dqjJG5mo5dbL"
      },
      "execution_count": null,
      "outputs": []
    },
    {
      "cell_type": "code",
      "source": [
        "clase = Clase()\n",
        "print(clase.x, clase.y)"
      ],
      "metadata": {
        "colab": {
          "base_uri": "https://localhost:8080/"
        },
        "id": "2qtWw35666mH",
        "outputId": "d3494378-501d-4581-c037-84794ce384ba"
      },
      "execution_count": null,
      "outputs": [
        {
          "output_type": "stream",
          "name": "stdout",
          "text": [
            "2 3\n"
          ]
        }
      ]
    },
    {
      "cell_type": "code",
      "source": [
        "clase.x = 4\n",
        "print(clase.x,clase.y)"
      ],
      "metadata": {
        "colab": {
          "base_uri": "https://localhost:8080/"
        },
        "id": "jiJUoOJhdnBG",
        "outputId": "8bde0ea6-90d0-4612-8f2f-d5f02bea1923"
      },
      "execution_count": null,
      "outputs": [
        {
          "output_type": "stream",
          "name": "stdout",
          "text": [
            "4 3\n"
          ]
        }
      ]
    },
    {
      "cell_type": "markdown",
      "source": [
        "### 3.1 Ejercicios"
      ],
      "metadata": {
        "id": "KJWhkDdG7Wtn"
      }
    },
    {
      "cell_type": "markdown",
      "source": [
        "Crear una clase para manejar Usuarios, debe tener propiedades como: nombre, edad, sexo, fecha de nacimiento. Mínimo para crear una instancia de la clase se necesita que la clase reciba como parámetro de entrada el nombre de la persona."
      ],
      "metadata": {
        "id": "Hu_6CnhA7ZWg"
      }
    },
    {
      "cell_type": "code",
      "source": [
        "class Fecha:\n",
        "  def __init__(self, dia=1, mes=1, ano=1900):\n",
        "    self.dia = dia\n",
        "    self.mes = mes\n",
        "    self.ano = ano\n",
        "  def __str__(self):\n",
        "    return str(self.dia)+'-'+str(self.mes)+'-'+str(self.ano)\n",
        "    #f\"{self.dia}-{self.mes}-{self.ano}\"\n",
        "\n",
        "class Usuario:\n",
        "  def __init__(self, nombre='Pepito'):\n",
        "    self.nombre = nombre\n",
        "    self.edad = 100\n",
        "    self.sexo = 'no binario'\n",
        "    self.birthday = Fecha()\n",
        "  def __str__(self):\n",
        "    return ' nombre: '+self.nombre+'\\n Edad: '+str(self.edad)+'\\n Sexo: '+str(self.sexo)+\\\n",
        "        '\\n Fecha de nacimiento: '+str(self.birthday)"
      ],
      "metadata": {
        "id": "aHwANyfK8BSA"
      },
      "execution_count": null,
      "outputs": []
    },
    {
      "cell_type": "code",
      "source": [
        "Juancho = Usuario('Juan Sebastian')\n",
        "Juancho.edad = 21\n",
        "Juancho.sexo = 'H'\n",
        "Juancho.birthday = Fecha(20,7,2001)\n",
        "print(Juancho.edad)"
      ],
      "metadata": {
        "colab": {
          "base_uri": "https://localhost:8080/"
        },
        "id": "479TMwtBe1ob",
        "outputId": "8ec3de5a-0abb-4e2c-bcb4-b5c9133ecdc5"
      },
      "execution_count": null,
      "outputs": [
        {
          "output_type": "stream",
          "name": "stdout",
          "text": [
            "21\n"
          ]
        }
      ]
    },
    {
      "cell_type": "code",
      "source": [
        "Usuario().edad"
      ],
      "metadata": {
        "colab": {
          "base_uri": "https://localhost:8080/"
        },
        "id": "GjPntPMlm8R5",
        "outputId": "c66b8eca-1fc0-4f80-9c89-48a670137efd"
      },
      "execution_count": null,
      "outputs": [
        {
          "output_type": "execute_result",
          "data": {
            "text/plain": [
              "100"
            ]
          },
          "metadata": {},
          "execution_count": 28
        }
      ]
    },
    {
      "cell_type": "code",
      "source": [
        "print(Juancho)"
      ],
      "metadata": {
        "colab": {
          "base_uri": "https://localhost:8080/"
        },
        "id": "PDkVDXa6gLAZ",
        "outputId": "2b51beb7-1472-4ccd-f8e3-94ae0ef38111"
      },
      "execution_count": null,
      "outputs": [
        {
          "output_type": "stream",
          "name": "stdout",
          "text": [
            " nombre: Juan Sebastian\n",
            " Edad: 21\n",
            " Sexo: H\n",
            " Fecha de nacimiento: 20-7-2001\n"
          ]
        }
      ]
    },
    {
      "cell_type": "markdown",
      "source": [
        "## 4. Argumentos de entrada\n",
        "Funcionan igual a las funciones."
      ],
      "metadata": {
        "id": "fFfFXpDI-_F5"
      }
    },
    {
      "cell_type": "code",
      "source": [
        "class Clase:\n",
        "  y = 2\n",
        "  def __init__(self, x=0):\n",
        "    self.z = x + 1"
      ],
      "metadata": {
        "id": "yh7_j2Qw_IFP"
      },
      "execution_count": null,
      "outputs": []
    },
    {
      "cell_type": "code",
      "source": [
        "b = Clase(x=10)\n",
        "print(b.y, b.z)"
      ],
      "metadata": {
        "colab": {
          "base_uri": "https://localhost:8080/"
        },
        "id": "1YyQNJi8_UMv",
        "outputId": "9f20701e-1803-41df-ec60-f5fe10c2abaf"
      },
      "execution_count": null,
      "outputs": [
        {
          "output_type": "stream",
          "name": "stdout",
          "text": [
            "2 11\n"
          ]
        }
      ]
    },
    {
      "cell_type": "code",
      "source": [],
      "metadata": {
        "id": "sEJHxYmU_rs4"
      },
      "execution_count": null,
      "outputs": []
    },
    {
      "cell_type": "markdown",
      "source": [
        "## 5. Tipos de Metodos\n",
        "Los metodos o funciones de la clase, se pueden definir con la palabra reservada \"def\" pero debe incluir la estructura self, que contiene todos los atributos y metodos de la clase. Se puede hacer uso de los decoradores para modificar el tipo del metodo.\n",
        "\n",
        "- Métodos de clase usando el decorador @classmethod\n",
        "- Métodos estáticos por medeio del decorador @staticmethod"
      ],
      "metadata": {
        "id": "uMyg7FO7t_69"
      }
    },
    {
      "cell_type": "code",
      "source": [
        "class Clase:\n",
        "    def metodo(self):\n",
        "        return 'forma normal', self\n",
        "\n",
        "    @classmethod\n",
        "    def metododeclase(cls):\n",
        "        return 'metodo tipo clase', cls\n",
        "\n",
        "    @staticmethod\n",
        "    def metodoestatico():\n",
        "        return \"metodo tipo estático\""
      ],
      "metadata": {
        "id": "6N_UwviJv0ju"
      },
      "execution_count": null,
      "outputs": []
    },
    {
      "cell_type": "markdown",
      "source": [
        "### 5.1 Metodos de instancia\n",
        "\n",
        "Los métodos de instancia tienen las siguientes propiedades:\n",
        "\n",
        "- Pueden acceder y modificar los atributos del objeto.\n",
        "- Pueden acceder a los otros métodos de la clase.\n",
        "- Dado que desde el objeto _self_ se puede acceder a la clase con `self.class`, también pueden modificar el estado de la clase."
      ],
      "metadata": {
        "id": "JRjqdM3byenm"
      }
    },
    {
      "cell_type": "code",
      "source": [
        "class Usuario:\n",
        "  def __init__(self, nombre='Pepito'):\n",
        "    self.nombre = nombre\n",
        "    self.edad = 100\n",
        "    self.sexo = 'no binario'\n",
        "    self.birthday = Fecha()\n",
        "  def __str__(self):\n",
        "    return ' nombre: '+self.nombre+'\\n Edad: '+str(self.edad)+'\\n Sexo: '+str(self.sexo)+\\\n",
        "        '\\n Fecha de nacimiento: '+str(self.birthday)\n",
        "  def metodo(self):\n",
        "    return self\n",
        "  "
      ],
      "metadata": {
        "id": "wGLEV-IL2f6V"
      },
      "execution_count": null,
      "outputs": []
    },
    {
      "cell_type": "code",
      "source": [
        "JuanSe = Usuario('Juan Sebastian')\n",
        "JuanSeClon = JuanSe.metodo()"
      ],
      "metadata": {
        "id": "-Tn8mHt3nsoe"
      },
      "execution_count": null,
      "outputs": []
    },
    {
      "cell_type": "code",
      "source": [
        "print(id(JuanSeClon),id(JuanSe))"
      ],
      "metadata": {
        "colab": {
          "base_uri": "https://localhost:8080/"
        },
        "id": "VlUcf1Ban_3B",
        "outputId": "69484e6e-b24f-4b9e-97d6-baa96e835d42"
      },
      "execution_count": null,
      "outputs": [
        {
          "output_type": "stream",
          "name": "stdout",
          "text": [
            "139748948386576 139748948386576\n"
          ]
        }
      ]
    },
    {
      "cell_type": "markdown",
      "source": [
        "### 5.2 Metodos de tipo clase\n",
        "Se definen a partir del decorador `@classmethod`. A diferencia de los métodos de instancia, estos métodos de clase reciben como argumento _cls_, que hace referencia a la clase. Por lo tanto, pueden acceder a la clase pero no a la instancia. Dicho de otra forma, no pueden acceder a los atributos de la instancia ya que no reciben `self`, pero si pueden recibir y posteriormente modificar los atributos de la clase."
      ],
      "metadata": {
        "id": "Fr8J6Nray_Tm"
      }
    },
    {
      "cell_type": "code",
      "source": [
        "class Usuario:\n",
        "  def __init__(self, nombre='Pepito'):\n",
        "    self.nombre = nombre\n",
        "    self.edad = 100\n",
        "    self.sexo = 'no binario'\n",
        "    self.birthday = Fecha()\n",
        "  def __str__(self):\n",
        "    return ' nombre: '+self.nombre+'\\n Edad: '+str(self.edad)+'\\n Sexo: '+str(self.sexo)+\\\n",
        "        '\\n Fecha de nacimiento: '+str(self.birthday)\n",
        "  def EdadInstancia(self):\n",
        "    return self.edad\n",
        "  @classmethod\n",
        "  def EdadClase(cls):\n",
        "    return cls().edad"
      ],
      "metadata": {
        "id": "dTB4nLmV2hfG"
      },
      "execution_count": null,
      "outputs": []
    },
    {
      "cell_type": "code",
      "source": [
        "JuanSe = Usuario()\n",
        "JuanSe.edad = 21\n",
        "JuanSeClonEdad = JuanSe.EdadInstancia()\n",
        "UsuarioEdad = JuanSe.EdadClase()\n",
        "#Pepito = JuanSeClase()"
      ],
      "metadata": {
        "id": "H4oVaw0jpQ1j"
      },
      "execution_count": null,
      "outputs": []
    },
    {
      "cell_type": "code",
      "source": [
        "print(JuanSe.EdadInstancia(), JuanSe.EdadClase())\n",
        "print(JuanSeClonEdad,UsuarioEdad)"
      ],
      "metadata": {
        "colab": {
          "base_uri": "https://localhost:8080/"
        },
        "id": "bXRwu-ZRpUex",
        "outputId": "33437122-f06f-4b43-cdd5-fefd34648a10"
      },
      "execution_count": null,
      "outputs": [
        {
          "output_type": "stream",
          "name": "stdout",
          "text": [
            "21 100\n",
            "21 100\n"
          ]
        }
      ]
    },
    {
      "cell_type": "markdown",
      "source": [
        "### 5.3 Metodos estaticos\n",
        "Se definen a partir del decorador @staticmethod. No reciben como argumento de entrada ni la clase ni la instancia. Por tal motivo no pueden modificar el estado de la clase ni de la instancia."
      ],
      "metadata": {
        "id": "cdP1gpgM1qZY"
      }
    },
    {
      "cell_type": "code",
      "source": [
        "class Usuario:\n",
        "  def __init__(self, nombre='Pepito'):\n",
        "    self.nombre = nombre\n",
        "    self.edad = 100\n",
        "    self.sexo = 'no binario'\n",
        "    self.birthday = Fecha()\n",
        "  def __str__(self):\n",
        "    return ' nombre: '+self.nombre+'\\n Edad: '+str(self.edad)+'\\n Sexo: '+str(self.sexo)+\\\n",
        "        '\\n Fecha de nacimiento: '+str(self.birthday)\n",
        "  @staticmethod\n",
        "  def metodoestatico(x,y):\n",
        "    return \"Soy independiente de la instancia y de la clase, soy un \"+str(x+y)"
      ],
      "metadata": {
        "id": "KeakAwQt2krl"
      },
      "execution_count": null,
      "outputs": []
    },
    {
      "cell_type": "code",
      "source": [
        "Samuel = Usuario()\n",
        "print(Samuel.metodoestatico(5,5))"
      ],
      "metadata": {
        "colab": {
          "base_uri": "https://localhost:8080/"
        },
        "id": "4SD28ow2uzyQ",
        "outputId": "9565ecaa-63eb-4485-f774-d9e13512cedd"
      },
      "execution_count": null,
      "outputs": [
        {
          "output_type": "stream",
          "name": "stdout",
          "text": [
            "Soy independiente de la instancia y de la clase, soy un 10\n"
          ]
        }
      ]
    },
    {
      "cell_type": "markdown",
      "source": [
        "## 6. Herencia\n",
        "Es un concepto fundamental en la programacion orientada a objetos. La idea es crear clases u objetos a partir de otra clase, y heredar los atributos y metodos de la clase madre/padre. Como ejemplo creamos una clase animal y una subclase Perro:"
      ],
      "metadata": {
        "id": "zx-ISJal2veA"
      }
    },
    {
      "cell_type": "code",
      "source": [
        "# Definimos una clase padre\n",
        "class Animal:\n",
        "    pass\n",
        "\n",
        "# Creamos una clase hija que hereda de la padre\n",
        "class Perro(Animal):\n",
        "    pass"
      ],
      "metadata": {
        "id": "q8YmA3FU4VVW"
      },
      "execution_count": null,
      "outputs": []
    },
    {
      "cell_type": "markdown",
      "source": [
        "Podemos ver sí la clase `Perro` es subclase de la clase `Animal`:"
      ],
      "metadata": {
        "id": "RB3zCO3O4mNe"
      }
    },
    {
      "cell_type": "code",
      "source": [
        "print(Perro.__bases__)"
      ],
      "metadata": {
        "colab": {
          "base_uri": "https://localhost:8080/"
        },
        "id": "-AFC5L4B4ZQm",
        "outputId": "874212db-5411-46b6-a006-28deaab9e30b"
      },
      "execution_count": null,
      "outputs": [
        {
          "output_type": "stream",
          "name": "stdout",
          "text": [
            "(<class '__main__.Animal'>,)\n"
          ]
        }
      ]
    },
    {
      "cell_type": "markdown",
      "source": [
        "Y podemos imprimir las subclases asociadas a la clase `Animal`"
      ],
      "metadata": {
        "id": "2DhG4DOQ4y93"
      }
    },
    {
      "cell_type": "code",
      "source": [
        "print(Animal.__subclasses__())"
      ],
      "metadata": {
        "colab": {
          "base_uri": "https://localhost:8080/"
        },
        "id": "xcbYtPQD4bWe",
        "outputId": "f074607a-544c-4e61-9f3d-cf5634028ea1"
      },
      "execution_count": null,
      "outputs": [
        {
          "output_type": "stream",
          "name": "stdout",
          "text": [
            "[<class '__main__.Perro'>]\n"
          ]
        }
      ]
    },
    {
      "cell_type": "markdown",
      "source": [
        "### 6.1 Extensión y modificación de métodos de una clase padre\n",
        "\n",
        "Creamos la clase general para los animales, con atributos `specie` y `age` para el tipo de especie y la edad del animal. Adicionalmente, los metodos `speak`, `move` y `describe`, como se define a continuación: "
      ],
      "metadata": {
        "id": "yEbzKhkhLixK"
      }
    },
    {
      "cell_type": "code",
      "source": [
        "class Animal:\n",
        "    def __init__(self, specie, age):\n",
        "        self.specie = specie\n",
        "        self.age = age\n",
        "\n",
        "    # Método genérico pero con implementación particular\n",
        "    def speak(self):\n",
        "        # Método vacío\n",
        "        pass\n",
        "\n",
        "    # Método genérico pero con implementación particular\n",
        "    def move(self):\n",
        "        # Método vacío\n",
        "        pass\n",
        "\n",
        "    # Método genérico con la misma implementación\n",
        "    def describe(self):\n",
        "        print(\"Soy un Animal del tipo\", type(self).__name__)"
      ],
      "metadata": {
        "id": "AnnfpgNBMsBe"
      },
      "execution_count": null,
      "outputs": []
    },
    {
      "cell_type": "markdown",
      "source": [
        "Ahora creamos dos clases hijas a partir del padre `Animal` y modificamos los metodos:"
      ],
      "metadata": {
        "id": "ZQia5_Q4NTWl"
      }
    },
    {
      "cell_type": "code",
      "source": [
        "class Perro(Animal):\n",
        "    def hablar(self):\n",
        "        print(\"Guau!\")\n",
        "    def moverse(self):\n",
        "        print(\"Caminando con 4 patas\")\n",
        "\n",
        "class Pollo(Animal):\n",
        "    def hablar(self):\n",
        "        print(\"Pio! Pio!\")\n",
        "    def moverse(self):\n",
        "        print(\"Caminando con 2 patas\")"
      ],
      "metadata": {
        "id": "OdhHZws-Njst"
      },
      "execution_count": null,
      "outputs": []
    },
    {
      "cell_type": "code",
      "source": [
        "chiguagua = Perro('mamimefero',11)\n",
        "Claudio = Pollo('Oviparo',2)"
      ],
      "metadata": {
        "id": "i-J-3ZY3NxOk"
      },
      "execution_count": null,
      "outputs": []
    },
    {
      "cell_type": "code",
      "source": [
        "print(chiguagua.specie)"
      ],
      "metadata": {
        "colab": {
          "base_uri": "https://localhost:8080/"
        },
        "id": "uLymDYJXL_5u",
        "outputId": "c7e048be-0f60-46c8-9fed-d5706f8cb12e"
      },
      "execution_count": null,
      "outputs": [
        {
          "output_type": "stream",
          "name": "stdout",
          "text": [
            "mamimefero\n"
          ]
        }
      ]
    },
    {
      "cell_type": "code",
      "source": [
        "chiguagua.hablar()\n",
        "Claudio.hablar()"
      ],
      "metadata": {
        "colab": {
          "base_uri": "https://localhost:8080/"
        },
        "id": "55BYfgNTOEWF",
        "outputId": "c924d821-d0f1-45df-9b69-579fd8b26df9"
      },
      "execution_count": null,
      "outputs": [
        {
          "output_type": "stream",
          "name": "stdout",
          "text": [
            "Guau!\n",
            "Pio! Pio!\n"
          ]
        }
      ]
    },
    {
      "cell_type": "markdown",
      "source": [
        "### Uso de `super()`\n",
        "\n",
        "El uso de `super()` nos permite acceder a los metodos de la clase padre desde una clase hija. \n"
      ],
      "metadata": {
        "id": "CreRFIQVOL2E"
      }
    },
    {
      "cell_type": "code",
      "source": [
        "class Animal:\n",
        "    def __init__(self, especie, edad):\n",
        "        self.especie = especie\n",
        "        self.edad = edad        \n",
        "    def hablar(self):\n",
        "        pass\n",
        "\n",
        "    def moverse(self):\n",
        "        pass\n",
        "\n",
        "    def describeme(self):\n",
        "        print(\"Soy un Animal del tipo\", type(self).__name__)"
      ],
      "metadata": {
        "id": "30fFcfpTPnDu"
      },
      "execution_count": null,
      "outputs": []
    },
    {
      "cell_type": "markdown",
      "source": [
        "Tal vez queramos que nuestro Perro tenga un parámetro extra en el constructor, como podría ser el dueño. Para realizar esto tenemos dos alternativas:\n",
        "- Podemos crear un nuevo `init` y guardar todas las variables una a una.\n",
        "- O podemos usar super() para llamar al `init` de la clase padre que ya aceptaba la especie y edad, y sólo asignar la variable nueva manualmente."
      ],
      "metadata": {
        "id": "yQ933D0xP2k2"
      }
    },
    {
      "cell_type": "code",
      "source": [
        "class Perro(Animal):\n",
        "  def __init__(self, especie, edad, dueño=Usuario()):\n",
        "    # Alternativa 1\n",
        "    self.especie = especie\n",
        "    self.edad = edad\n",
        "    self.dueño = dueño\n",
        "\n",
        "class Perro2(Animal):\n",
        "  def __init__(self, especie, edad, dueño):\n",
        "    # Alternativa 2\n",
        "    super().__init__(especie, edad)\n",
        "    self.dueño = dueño"
      ],
      "metadata": {
        "id": "rkGm1oVUQSv3"
      },
      "execution_count": null,
      "outputs": []
    },
    {
      "cell_type": "code",
      "source": [
        "streeter = Perro('mamifero',5)"
      ],
      "metadata": {
        "id": "9VgZH8f0PBcA"
      },
      "execution_count": null,
      "outputs": []
    },
    {
      "cell_type": "code",
      "source": [
        "print(streeter.dueño)"
      ],
      "metadata": {
        "colab": {
          "base_uri": "https://localhost:8080/"
        },
        "id": "WE6_zajUPUDg",
        "outputId": "17d26af7-44c3-41dc-b3c4-585d8cc9cf4a"
      },
      "execution_count": null,
      "outputs": [
        {
          "output_type": "stream",
          "name": "stdout",
          "text": [
            " nombre: Pepito\n",
            " Edad: 100\n",
            " Sexo: no binario\n",
            " Fecha de nacimiento: 1-1-1900\n"
          ]
        }
      ]
    },
    {
      "cell_type": "markdown",
      "source": [
        "## 7. Sobrecarga de operadores\n",
        "Podemos definir que operacion realizar de acuerdo a la operacion que se este realizando con una instancia de la clase. Por ejemplo definir que pasa con b + c, si las variables b y c son de una clase nueva. <br>\n"
      ],
      "metadata": {
        "id": "3X_10grc_3kC"
      }
    },
    {
      "cell_type": "code",
      "source": [
        "class vector2d:\n",
        "  def __init__(self, x, y):\n",
        "    self.x = x\n",
        "    self.y = y\n",
        "  def __add__ (self, vector):\n",
        "    # Sumar dos Vectores\n",
        "    return vector2d(self.x + vector.x, self.y + vector.y)\n",
        "    "
      ],
      "metadata": {
        "id": "RwzOFeaW_5ll"
      },
      "execution_count": null,
      "outputs": []
    },
    {
      "cell_type": "code",
      "source": [
        "a = vector2d(2,3)\n",
        "b = vector2d(4,5)\n",
        "c = a+b\n",
        "print(c.x,', ',c.y)"
      ],
      "metadata": {
        "colab": {
          "base_uri": "https://localhost:8080/"
        },
        "id": "OHBaBqD5AzOK",
        "outputId": "d0b53d27-837c-4ec8-ba92-a0ec434e1391"
      },
      "execution_count": null,
      "outputs": [
        {
          "output_type": "stream",
          "name": "stdout",
          "text": [
            "6 ,  8\n"
          ]
        }
      ]
    },
    {
      "cell_type": "code",
      "source": [
        "dir(a)"
      ],
      "metadata": {
        "colab": {
          "base_uri": "https://localhost:8080/"
        },
        "id": "cTIzuBpbR83P",
        "outputId": "9e641e70-bc9d-4915-d053-bcc5223b3dde"
      },
      "execution_count": null,
      "outputs": [
        {
          "output_type": "execute_result",
          "data": {
            "text/plain": [
              "['__add__',\n",
              " '__class__',\n",
              " '__delattr__',\n",
              " '__dict__',\n",
              " '__dir__',\n",
              " '__doc__',\n",
              " '__eq__',\n",
              " '__format__',\n",
              " '__ge__',\n",
              " '__getattribute__',\n",
              " '__gt__',\n",
              " '__hash__',\n",
              " '__init__',\n",
              " '__init_subclass__',\n",
              " '__le__',\n",
              " '__lt__',\n",
              " '__module__',\n",
              " '__ne__',\n",
              " '__new__',\n",
              " '__reduce__',\n",
              " '__reduce_ex__',\n",
              " '__repr__',\n",
              " '__setattr__',\n",
              " '__sizeof__',\n",
              " '__str__',\n",
              " '__subclasshook__',\n",
              " '__weakref__',\n",
              " 'x',\n",
              " 'y']"
            ]
          },
          "metadata": {},
          "execution_count": 55
        }
      ]
    },
    {
      "cell_type": "markdown",
      "source": [
        "Ejercicio: Averiguar mas metodos que se peuden sobrecargar, como"
      ],
      "metadata": {
        "id": "kbB7RmI7RVnT"
      }
    },
    {
      "cell_type": "code",
      "source": [
        "#__sub__, __repr__, __str__, __rmul__, __mul__"
      ],
      "metadata": {
        "id": "j15CMK3bA5yf"
      },
      "execution_count": null,
      "outputs": []
    },
    {
      "cell_type": "markdown",
      "source": [
        "## Ejercicio\n",
        "- Diseñar una clase para modelar vectores de n-dimensiones, por medio de listas. Debe tener como atributos, el tamaño del vector. Sobrecargar la clase de tal manera que se puede realizar la suma entre vectores elemento a elemento. Tambien sobrecargar la resta y la multiplicacion."
      ],
      "metadata": {
        "id": "89C96Ng3Q24u"
      }
    },
    {
      "cell_type": "code",
      "source": [],
      "metadata": {
        "id": "GH-p6eVBSKuK"
      },
      "execution_count": null,
      "outputs": []
    },
    {
      "cell_type": "code",
      "source": [
        "class Vector:\n",
        "  def __init__(self, values):\n",
        "    self.values = values\n",
        "    self.size = len(values)\n",
        "\n",
        "  def __add__ (self, vector):\n",
        "    # Sumar dos Vectores\n",
        "    c = Vector(self.values.copy())\n",
        "    for i in range(self.size):\n",
        "      c.values[i] = self.values[i]+vector.values[i]\n",
        "    print(self.values)\n",
        "    return c    "
      ],
      "metadata": {
        "id": "a0yedPSRV_xZ"
      },
      "execution_count": null,
      "outputs": []
    },
    {
      "cell_type": "code",
      "source": [
        "x = Vector([1,2,3,4])\n",
        "y = Vector([4,5,6,7,8])\n",
        "z=x+y\n",
        "print(z.values)\n",
        "print(x.values)"
      ],
      "metadata": {
        "colab": {
          "base_uri": "https://localhost:8080/"
        },
        "id": "pAMDcigVX3a0",
        "outputId": "548ec81f-a97b-4c1d-b1b6-5a63aba6f1f8"
      },
      "execution_count": null,
      "outputs": [
        {
          "output_type": "stream",
          "name": "stdout",
          "text": [
            "[1, 2, 3, 4]\n",
            "[5, 7, 9, 11]\n",
            "[1, 2, 3, 4]\n"
          ]
        }
      ]
    },
    {
      "cell_type": "code",
      "source": [
        "class Vector:\n",
        "  def __init__(self, values):\n",
        "    self.values = values\n",
        "    self.size = len(values)\n",
        "\n",
        "  def __add__ (self, vector):\n",
        "    # Sumar dos Vectores\n",
        "    c = self.values\n",
        "    for i in range(self.size):\n",
        "      c[i] = self.values[i]+vector.values[i]\n",
        "    return Vector(c)    "
      ],
      "metadata": {
        "id": "-RQrGQ50Zt6d"
      },
      "execution_count": null,
      "outputs": []
    },
    {
      "cell_type": "code",
      "source": [
        "x = Vector([1,2,3,4])\n",
        "y = Vector([4,5,6,7])\n",
        "z=x+y\n",
        "print(z.values)"
      ],
      "metadata": {
        "id": "xQ7dyJASaA8K",
        "colab": {
          "base_uri": "https://localhost:8080/"
        },
        "outputId": "f324469d-6ac1-4197-9b3b-d1cf30027e8e"
      },
      "execution_count": null,
      "outputs": [
        {
          "output_type": "stream",
          "name": "stdout",
          "text": [
            "[5, 7, 9, 11]\n"
          ]
        }
      ]
    },
    {
      "cell_type": "code",
      "source": [],
      "metadata": {
        "id": "SwyoduH_aFZQ"
      },
      "execution_count": null,
      "outputs": []
    }
  ],
  "metadata": {
    "kernelspec": {
      "display_name": "Python 3",
      "language": "python",
      "name": "python3"
    },
    "language_info": {
      "codemirror_mode": {
        "name": "ipython",
        "version": 3
      },
      "file_extension": ".py",
      "mimetype": "text/x-python",
      "name": "python",
      "nbconvert_exporter": "python",
      "pygments_lexer": "ipython3",
      "version": "3.7.6"
    },
    "colab": {
      "provenance": []
    }
  },
  "nbformat": 4,
  "nbformat_minor": 0
}