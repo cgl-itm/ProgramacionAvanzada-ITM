{
  "cells": [
    {
      "cell_type": "markdown",
      "metadata": {
        "id": "iUXxr1rRi1WJ"
      },
      "source": [
        "# Programación Orientada a Objetos (POO) u Object Oriented Programming (OOP)\n",
        "Fuentes: <br>\n",
        "https://realpython.com/python3-object-oriented-programming/ <br>\n",
        "https://ellibrodepython.com/programacion-orientada-a-objetos <br>\n",
        "https://medium.com/@LuisMBaezCo/overloading-sobrecargar-operadores-en-python-5d7a75e2bfdf <br>\n",
        "https://www.youtube.com/watch?v=HtKqSJX7VoM"
      ]
    },
    {
      "cell_type": "markdown",
      "metadata": {
        "id": "pmeEmgpGi1WP"
      },
      "source": [
        "## 1. Todo en python es un objeto"
      ]
    },
    {
      "cell_type": "code",
      "execution_count": null,
      "metadata": {
        "id": "IlOrT_jxi1WP"
      },
      "outputs": [],
      "source": [
        "n = 10\n",
        "n"
      ]
    },
    {
      "cell_type": "code",
      "execution_count": null,
      "metadata": {
        "id": "5Q8IyNpxi1WR"
      },
      "outputs": [],
      "source": [
        "type(n)"
      ]
    },
    {
      "cell_type": "code",
      "execution_count": null,
      "metadata": {
        "id": "FW3xyKHZi1WS"
      },
      "outputs": [],
      "source": [
        "print(type(n))"
      ]
    },
    {
      "cell_type": "code",
      "source": [
        "n.__ceil__()"
      ],
      "metadata": {
        "id": "F2JJI9yiZuHp"
      },
      "execution_count": null,
      "outputs": []
    },
    {
      "cell_type": "code",
      "execution_count": null,
      "metadata": {
        "id": "gIDZkqLci1WS"
      },
      "outputs": [],
      "source": [
        "dir(float)"
      ]
    },
    {
      "cell_type": "code",
      "execution_count": null,
      "metadata": {
        "id": "3wwABJAKi1WT"
      },
      "outputs": [],
      "source": [
        "c = 5 + 4j\n",
        "c"
      ]
    },
    {
      "cell_type": "code",
      "execution_count": null,
      "metadata": {
        "id": "2GtSO1Uxi1WU"
      },
      "outputs": [],
      "source": [
        "type(c)"
      ]
    },
    {
      "cell_type": "code",
      "execution_count": null,
      "metadata": {
        "id": "V1iN_DLJi1WV"
      },
      "outputs": [],
      "source": [
        "print(type(c))"
      ]
    },
    {
      "cell_type": "code",
      "execution_count": null,
      "metadata": {
        "id": "BPwNwHefi1WW"
      },
      "outputs": [],
      "source": [
        "dir(complex)"
      ]
    },
    {
      "cell_type": "code",
      "execution_count": null,
      "metadata": {
        "id": "p7MNkOYci1WX"
      },
      "outputs": [],
      "source": [
        "c"
      ]
    },
    {
      "cell_type": "code",
      "execution_count": null,
      "metadata": {
        "id": "fmohuLwZi1WY"
      },
      "outputs": [],
      "source": [
        "c.imag"
      ]
    },
    {
      "cell_type": "code",
      "execution_count": null,
      "metadata": {
        "id": "oOP3bMnli1WY"
      },
      "outputs": [],
      "source": [
        "c.real"
      ]
    },
    {
      "cell_type": "code",
      "execution_count": null,
      "metadata": {
        "id": "PfDQreuNi1WZ"
      },
      "outputs": [],
      "source": [
        "c.conjugate()"
      ]
    },
    {
      "cell_type": "code",
      "execution_count": null,
      "metadata": {
        "id": "N89hpXZii1WZ"
      },
      "outputs": [],
      "source": [
        "help(c.conjugate)"
      ]
    },
    {
      "cell_type": "code",
      "execution_count": null,
      "metadata": {
        "id": "dpW7Hzd1i1Wa"
      },
      "outputs": [],
      "source": [
        "s = 'Programacion orientada a objetos'"
      ]
    },
    {
      "cell_type": "code",
      "execution_count": null,
      "metadata": {
        "id": "VmXeKo_8i1Wa"
      },
      "outputs": [],
      "source": [
        "s.upper()"
      ]
    },
    {
      "cell_type": "code",
      "execution_count": null,
      "metadata": {
        "id": "wTyGR3i9i1Wa"
      },
      "outputs": [],
      "source": [
        "s.count('a ')"
      ]
    },
    {
      "cell_type": "markdown",
      "metadata": {
        "id": "v66igwb4i1Wb"
      },
      "source": [
        "## 2. Sintaxis en Python\n",
        "\n",
        "<br>\n",
        "\n",
        "<font color=\"#130eb3\" size=5>__class__</font> <font size=5>NombreClase(ClasePadre)</font> <font color=\"#130eb3\" size=5>__:__</font>\n",
        "\n",
        "    Cuerpo"
      ]
    },
    {
      "cell_type": "markdown",
      "source": [
        "Empezamos creando una clase sin ningun metodo o atributos."
      ],
      "metadata": {
        "id": "3GSpdQ5jsv6U"
      }
    },
    {
      "cell_type": "code",
      "execution_count": null,
      "metadata": {
        "id": "BThcnBhwi1Wb"
      },
      "outputs": [],
      "source": [
        "class ProgAvanzada:\n",
        "    pass"
      ]
    },
    {
      "cell_type": "markdown",
      "source": [
        "A continuacion creamos una instancia de la clase LPW:"
      ],
      "metadata": {
        "id": "z91JXXDrs3ha"
      }
    },
    {
      "cell_type": "code",
      "execution_count": null,
      "metadata": {
        "id": "BPFGZb8Mi1Wc"
      },
      "outputs": [],
      "source": [
        "asignatura = ProgAvanzada()"
      ]
    },
    {
      "cell_type": "code",
      "execution_count": null,
      "metadata": {
        "id": "il306JV_i1Wc"
      },
      "outputs": [],
      "source": [
        "print(type(asignatura))"
      ]
    },
    {
      "cell_type": "markdown",
      "source": [
        "Podemos observar los metodos con los que se inicia una clase en Python."
      ],
      "metadata": {
        "id": "Q4iIL3u1qv-o"
      }
    },
    {
      "cell_type": "code",
      "source": [
        "print(dir(asignatura))"
      ],
      "metadata": {
        "id": "VcckWkvRqXYi"
      },
      "execution_count": null,
      "outputs": []
    },
    {
      "cell_type": "markdown",
      "source": [
        "Podemos crear un objecto en python, y observar que es similar a una clase de Python."
      ],
      "metadata": {
        "id": "2X1FPtWvqKnc"
      }
    },
    {
      "cell_type": "code",
      "source": [
        "a2 = object()\n",
        "print(dir(a2))"
      ],
      "metadata": {
        "id": "CAqFOSfiq2x6"
      },
      "execution_count": null,
      "outputs": []
    },
    {
      "cell_type": "markdown",
      "source": [
        "## 3. Atributos y su inicialización\n",
        "Todas variables o atributos de la clase, se guardan dentro de la clase por medio del objeto self (en español \"uno mismo\"). Tambien se pueden definir los atributos inmediatamente despues de definir el nombre de la clase y su tipo."
      ],
      "metadata": {
        "id": "92QNzacV52lA"
      }
    },
    {
      "cell_type": "code",
      "source": [
        "class Clase:\n",
        "  x = 2\n",
        "  def __init__(self):\n",
        "    self.y = self.x + 1"
      ],
      "metadata": {
        "id": "dqjJG5mo5dbL"
      },
      "execution_count": null,
      "outputs": []
    },
    {
      "cell_type": "code",
      "source": [
        "clase = Clase()\n",
        "print(clase.x, clase.y)"
      ],
      "metadata": {
        "id": "2qtWw35666mH"
      },
      "execution_count": null,
      "outputs": []
    },
    {
      "cell_type": "code",
      "source": [
        "clase.x = 4\n",
        "print(clase.x,clase.y)"
      ],
      "metadata": {
        "id": "jiJUoOJhdnBG"
      },
      "execution_count": null,
      "outputs": []
    },
    {
      "cell_type": "markdown",
      "source": [
        "### 3.1 Ejemplos"
      ],
      "metadata": {
        "id": "KJWhkDdG7Wtn"
      }
    },
    {
      "cell_type": "markdown",
      "source": [
        "Crear una clase para manejar Usuarios, debe tener propiedades como: nombre, edad, sexo, fecha de nacimiento. Mínimo para crear una instancia de la clase se necesita que la clase reciba como parámetro de entrada el nombre de la persona."
      ],
      "metadata": {
        "id": "Hu_6CnhA7ZWg"
      }
    },
    {
      "cell_type": "code",
      "source": [
        "class Fecha:\n",
        "  def __init__(self, dia=1, mes=1, ano=1900):\n",
        "    self.dia = dia\n",
        "    self.mes = mes\n",
        "    self.ano = ano\n",
        "  def __str__(self):\n",
        "    return str(self.dia)+'-'+str(self.mes)+'-'+str(self.ano)\n",
        "    #f\"{self.dia}-{self.mes}-{self.ano}\"\n",
        "\n",
        "class Usuario:\n",
        "  def __init__(self, nombre='Pepito'):\n",
        "    self.nombre = nombre\n",
        "    self.edad = 100\n",
        "    self.sexo = 'no binario'\n",
        "    self.birthday = Fecha()\n",
        "  def __str__(self):\n",
        "    return ' nombre: '+self.nombre+'\\n Edad: '+str(self.edad)+'\\n Sexo: '+str(self.sexo)+\\\n",
        "        '\\n Fecha de nacimiento: '+str(self.birthday)"
      ],
      "metadata": {
        "id": "aHwANyfK8BSA"
      },
      "execution_count": null,
      "outputs": []
    },
    {
      "cell_type": "code",
      "source": [
        "Juancho = Usuario('Juan Sebastian')\n",
        "Juancho.edad = 21\n",
        "Juancho.sexo = 'H'\n",
        "Juancho.birthday = Fecha(20,7,2001)\n",
        "print(Juancho.edad)"
      ],
      "metadata": {
        "id": "479TMwtBe1ob"
      },
      "execution_count": null,
      "outputs": []
    },
    {
      "cell_type": "code",
      "source": [
        "Usuario().edad"
      ],
      "metadata": {
        "id": "GjPntPMlm8R5"
      },
      "execution_count": null,
      "outputs": []
    },
    {
      "cell_type": "code",
      "source": [
        "print(Juancho)"
      ],
      "metadata": {
        "id": "PDkVDXa6gLAZ"
      },
      "execution_count": null,
      "outputs": []
    },
    {
      "cell_type": "markdown",
      "source": [
        "## 4. Argumentos de entrada\n",
        "Funcionan igual a las funciones."
      ],
      "metadata": {
        "id": "fFfFXpDI-_F5"
      }
    },
    {
      "cell_type": "code",
      "source": [
        "class Clase:\n",
        "  y = 2\n",
        "  def __init__(self, x=0):\n",
        "    self.z = x + 1"
      ],
      "metadata": {
        "id": "yh7_j2Qw_IFP"
      },
      "execution_count": null,
      "outputs": []
    },
    {
      "cell_type": "code",
      "source": [
        "b = Clase(x=10)\n",
        "print(b.y, b.z)"
      ],
      "metadata": {
        "id": "1YyQNJi8_UMv"
      },
      "execution_count": null,
      "outputs": []
    },
    {
      "cell_type": "markdown",
      "source": [
        "## 5. Tipos de Metodos\n",
        "Los metodos o funciones de la clase, se pueden definir con la palabra reservada \"def\" pero debe incluir la estructura self, que contiene todos los atributos y metodos de la clase. Se puede hacer uso de los decoradores para modificar el tipo del metodo.\n",
        "\n",
        "- Métodos de clase usando el decorador @classmethod\n",
        "- Métodos estáticos por medeio del decorador @staticmethod"
      ],
      "metadata": {
        "id": "uMyg7FO7t_69"
      }
    },
    {
      "cell_type": "code",
      "source": [
        "class Clase:\n",
        "    def metodo(self):\n",
        "        return 'forma normal', self\n",
        "\n",
        "    @classmethod\n",
        "    def metododeclase(cls):\n",
        "        return 'metodo tipo clase', cls\n",
        "\n",
        "    @staticmethod\n",
        "    def metodoestatico():\n",
        "        return \"metodo tipo estático\""
      ],
      "metadata": {
        "id": "6N_UwviJv0ju"
      },
      "execution_count": null,
      "outputs": []
    },
    {
      "cell_type": "markdown",
      "source": [
        "### 5.1 Metodos de instancia\n",
        "\n",
        "Los métodos de instancia tienen las siguientes propiedades:\n",
        "\n",
        "- Pueden acceder y modificar los atributos del objeto.\n",
        "- Pueden acceder a los otros métodos de la clase.\n",
        "- Dado que desde el objeto _self_ se puede acceder a la clase con `self.class`, también pueden modificar el estado de la clase."
      ],
      "metadata": {
        "id": "JRjqdM3byenm"
      }
    },
    {
      "cell_type": "code",
      "source": [
        "class Usuario:\n",
        "  def __init__(self, nombre='Pepito'):\n",
        "    self.nombre = nombre\n",
        "    self.edad = 100\n",
        "    self.sexo = 'no binario'\n",
        "    self.birthday = Fecha()\n",
        "  def __str__(self):\n",
        "    return ' nombre: '+self.nombre+'\\n Edad: '+str(self.edad)+'\\n Sexo: '+str(self.sexo)+\\\n",
        "        '\\n Fecha de nacimiento: '+str(self.birthday)\n",
        "  def metodo(self):\n",
        "    return self\n"
      ],
      "metadata": {
        "id": "wGLEV-IL2f6V"
      },
      "execution_count": null,
      "outputs": []
    },
    {
      "cell_type": "code",
      "source": [
        "JuanSe = Usuario('Juan Sebastian')\n",
        "JuanSeClon = JuanSe.metodo()"
      ],
      "metadata": {
        "id": "-Tn8mHt3nsoe"
      },
      "execution_count": null,
      "outputs": []
    },
    {
      "cell_type": "code",
      "source": [
        "print(id(JuanSeClon),id(JuanSe))"
      ],
      "metadata": {
        "id": "VlUcf1Ban_3B"
      },
      "execution_count": null,
      "outputs": []
    },
    {
      "cell_type": "markdown",
      "source": [
        "### 5.2 Metodos de tipo clase\n",
        "Se definen a partir del decorador `@classmethod`. A diferencia de los métodos de instancia, estos métodos de clase reciben como argumento _cls_, que hace referencia a la clase. Por lo tanto, pueden acceder a la clase pero no a la instancia. Dicho de otra forma, no pueden acceder a los atributos de la instancia ya que no reciben `self`, pero si pueden recibir y posteriormente modificar los atributos de la clase."
      ],
      "metadata": {
        "id": "Fr8J6Nray_Tm"
      }
    },
    {
      "cell_type": "code",
      "source": [
        "class Usuario:\n",
        "  def __init__(self, nombre='Pepito'):\n",
        "    self.nombre = nombre\n",
        "    self.edad = 100\n",
        "    self.sexo = 'no binario'\n",
        "    self.birthday = Fecha()\n",
        "  def __str__(self):\n",
        "    return ' nombre: '+self.nombre+'\\n Edad: '+str(self.edad)+'\\n Sexo: '+str(self.sexo)+\\\n",
        "        '\\n Fecha de nacimiento: '+str(self.birthday)\n",
        "  def EdadInstancia(self):\n",
        "    return self.edad\n",
        "  @classmethod\n",
        "  def EdadClase(cls):\n",
        "    return cls().edad"
      ],
      "metadata": {
        "id": "dTB4nLmV2hfG"
      },
      "execution_count": null,
      "outputs": []
    },
    {
      "cell_type": "code",
      "source": [
        "JuanSe = Usuario()\n",
        "JuanSe.edad = 21\n",
        "JuanSeClonEdad = JuanSe.EdadInstancia()\n",
        "UsuarioEdad = JuanSe.EdadClase()\n",
        "#Pepito = JuanSeClase()"
      ],
      "metadata": {
        "id": "H4oVaw0jpQ1j"
      },
      "execution_count": null,
      "outputs": []
    },
    {
      "cell_type": "code",
      "source": [
        "print(JuanSe.EdadInstancia(), JuanSe.EdadClase())\n",
        "print(JuanSeClonEdad,UsuarioEdad)"
      ],
      "metadata": {
        "id": "bXRwu-ZRpUex"
      },
      "execution_count": null,
      "outputs": []
    },
    {
      "cell_type": "markdown",
      "source": [
        "### 5.3 Metodos estaticos\n",
        "Se definen a partir del decorador @staticmethod. No reciben como argumento de entrada ni la clase ni la instancia. Por tal motivo no pueden modificar el estado de la clase ni de la instancia."
      ],
      "metadata": {
        "id": "cdP1gpgM1qZY"
      }
    },
    {
      "cell_type": "code",
      "source": [
        "class Usuario:\n",
        "  def __init__(self, nombre='Pepito'):\n",
        "    self.nombre = nombre\n",
        "    self.edad = 100\n",
        "    self.sexo = 'no binario'\n",
        "    self.birthday = Fecha()\n",
        "  def __str__(self):\n",
        "    return ' nombre: '+self.nombre+'\\n Edad: '+str(self.edad)+'\\n Sexo: '+str(self.sexo)+\\\n",
        "        '\\n Fecha de nacimiento: '+str(self.birthday)\n",
        "  @staticmethod\n",
        "  def metodoestatico(x,y):\n",
        "    return \"Soy independiente de la instancia y de la clase, soy un \"+str(x+y)"
      ],
      "metadata": {
        "id": "KeakAwQt2krl"
      },
      "execution_count": null,
      "outputs": []
    },
    {
      "cell_type": "code",
      "source": [
        "Samuel = Usuario()\n",
        "print(Samuel.metodoestatico(5,5))"
      ],
      "metadata": {
        "id": "4SD28ow2uzyQ"
      },
      "execution_count": null,
      "outputs": []
    },
    {
      "cell_type": "markdown",
      "source": [
        "## 6. Herencia\n",
        "Es un concepto fundamental en la programacion orientada a objetos. La idea es crear clases u objetos a partir de otra clase, y heredar los atributos y metodos de la clase madre/padre. Como ejemplo creamos una clase animal y una subclase Perro:"
      ],
      "metadata": {
        "id": "zx-ISJal2veA"
      }
    },
    {
      "cell_type": "code",
      "source": [
        "# Definimos una clase padre\n",
        "class Animal:\n",
        "    pass\n",
        "\n",
        "# Creamos una clase hija que hereda de la padre\n",
        "class Perro(Animal):\n",
        "    pass"
      ],
      "metadata": {
        "id": "q8YmA3FU4VVW"
      },
      "execution_count": null,
      "outputs": []
    },
    {
      "cell_type": "markdown",
      "source": [
        "Podemos ver sí la clase `Perro` es subclase de la clase `Animal`:"
      ],
      "metadata": {
        "id": "RB3zCO3O4mNe"
      }
    },
    {
      "cell_type": "code",
      "source": [
        "print(Perro.__bases__)"
      ],
      "metadata": {
        "id": "-AFC5L4B4ZQm"
      },
      "execution_count": null,
      "outputs": []
    },
    {
      "cell_type": "markdown",
      "source": [
        "Y podemos imprimir las subclases asociadas a la clase `Animal`"
      ],
      "metadata": {
        "id": "2DhG4DOQ4y93"
      }
    },
    {
      "cell_type": "code",
      "source": [
        "print(Animal.__subclasses__())"
      ],
      "metadata": {
        "id": "xcbYtPQD4bWe"
      },
      "execution_count": null,
      "outputs": []
    },
    {
      "cell_type": "markdown",
      "source": [
        "### 6.1 Extensión y modificación de métodos de una clase padre\n",
        "\n",
        "Creamos la clase general para los animales, con atributos `specie` y `age` para el tipo de especie y la edad del animal. Adicionalmente, los metodos `speak`, `move` y `describe`, como se define a continuación:"
      ],
      "metadata": {
        "id": "yEbzKhkhLixK"
      }
    },
    {
      "cell_type": "code",
      "source": [
        "class Animal:\n",
        "    def __init__(self, specie, age):\n",
        "        self.specie = specie\n",
        "        self.age = age\n",
        "\n",
        "    # Método genérico pero con implementación particular\n",
        "    def speak(self):\n",
        "        # Método vacío\n",
        "        pass\n",
        "\n",
        "    # Método genérico pero con implementación particular\n",
        "    def move(self):\n",
        "        # Método vacío\n",
        "        pass\n",
        "\n",
        "    # Método genérico con la misma implementación\n",
        "    def describe(self):\n",
        "        print(\"Soy un Animal del tipo\", type(self).__name__)"
      ],
      "metadata": {
        "id": "AnnfpgNBMsBe"
      },
      "execution_count": null,
      "outputs": []
    },
    {
      "cell_type": "markdown",
      "source": [
        "Ahora creamos dos clases hijas a partir del padre `Animal` y modificamos los metodos:"
      ],
      "metadata": {
        "id": "ZQia5_Q4NTWl"
      }
    },
    {
      "cell_type": "code",
      "source": [
        "class Perro(Animal):\n",
        "    def hablar(self):\n",
        "        print(\"Guau!\")\n",
        "    def moverse(self):\n",
        "        print(\"Caminando con 4 patas\")\n",
        "\n",
        "class Pollo(Animal):\n",
        "    def hablar(self):\n",
        "        print(\"Pio! Pio!\")\n",
        "    def moverse(self):\n",
        "        print(\"Caminando con 2 patas\")"
      ],
      "metadata": {
        "id": "OdhHZws-Njst"
      },
      "execution_count": null,
      "outputs": []
    },
    {
      "cell_type": "code",
      "source": [
        "chiguagua = Perro('mamimefero',11)\n",
        "Claudio = Pollo('Oviparo',2)"
      ],
      "metadata": {
        "id": "i-J-3ZY3NxOk"
      },
      "execution_count": null,
      "outputs": []
    },
    {
      "cell_type": "code",
      "source": [
        "print(chiguagua.specie)"
      ],
      "metadata": {
        "id": "uLymDYJXL_5u"
      },
      "execution_count": null,
      "outputs": []
    },
    {
      "cell_type": "code",
      "source": [
        "chiguagua.hablar()\n",
        "Claudio.hablar()"
      ],
      "metadata": {
        "id": "55BYfgNTOEWF"
      },
      "execution_count": null,
      "outputs": []
    },
    {
      "cell_type": "markdown",
      "source": [
        "### 6.2 Uso de `super()`\n",
        "\n",
        "El uso de `super()` nos permite acceder a los metodos de la clase padre desde una clase hija.\n"
      ],
      "metadata": {
        "id": "CreRFIQVOL2E"
      }
    },
    {
      "cell_type": "code",
      "source": [
        "class Animal:\n",
        "    def __init__(self, especie, edad):\n",
        "        self.especie = especie\n",
        "        self.edad = edad\n",
        "    def hablar(self):\n",
        "        pass\n",
        "\n",
        "    def moverse(self):\n",
        "        pass\n",
        "\n",
        "    def describeme(self):\n",
        "        print(\"Soy un Animal del tipo\", type(self).__name__)"
      ],
      "metadata": {
        "id": "30fFcfpTPnDu"
      },
      "execution_count": null,
      "outputs": []
    },
    {
      "cell_type": "markdown",
      "source": [
        "Tal vez queramos que nuestro Perro tenga un parámetro extra en el constructor, como podría ser el dueño. Para realizar esto tenemos dos alternativas:\n",
        "- Podemos crear un nuevo `init` y guardar todas las variables una a una.\n",
        "- O podemos usar super() para llamar al `init` de la clase padre que ya aceptaba la especie y edad, y sólo asignar la variable nueva manualmente."
      ],
      "metadata": {
        "id": "yQ933D0xP2k2"
      }
    },
    {
      "cell_type": "code",
      "source": [
        "class Perro(Animal):\n",
        "  def __init__(self, especie, edad, dueño=Usuario()):\n",
        "    # Alternativa 1\n",
        "    self.especie = especie\n",
        "    self.edad = edad\n",
        "    self.dueño = dueño\n",
        "\n",
        "class Perro2(Animal):\n",
        "  def __init__(self, especie, edad, dueño):\n",
        "    # Alternativa 2\n",
        "    super().__init__(especie, edad)\n",
        "    self.dueño = dueño"
      ],
      "metadata": {
        "id": "rkGm1oVUQSv3"
      },
      "execution_count": null,
      "outputs": []
    },
    {
      "cell_type": "code",
      "source": [
        "streeter = Perro('mamifero',5)"
      ],
      "metadata": {
        "id": "9VgZH8f0PBcA"
      },
      "execution_count": null,
      "outputs": []
    },
    {
      "cell_type": "code",
      "source": [
        "print(streeter.dueño)"
      ],
      "metadata": {
        "id": "WE6_zajUPUDg"
      },
      "execution_count": null,
      "outputs": []
    },
    {
      "cell_type": "markdown",
      "source": [
        "### 6.3 Herencia multiple"
      ],
      "metadata": {
        "id": "0I0vY98b-Q0b"
      }
    },
    {
      "cell_type": "markdown",
      "source": [
        "Tambien se puede realizar herencia a partir de mas de una clase. Por ejemplo,  creamos la clase Padre y Madre, y construimos una clase Hijo que herede los metodos y atributos de Padre y Madre."
      ],
      "metadata": {
        "id": "HWA0SpvkAA9T"
      }
    },
    {
      "cell_type": "code",
      "source": [
        "# Definicion clase para Padre\n",
        "class Padre():\n",
        "\t# Metodo de la clase Padre\n",
        "\tdef canta(self):\n",
        "\t\tprint(\"Papá canta bien.\")\n",
        "\n",
        "# Definicion clase para Madre\n",
        "class Madre():\n",
        "\t# Metodo de la clase Madre\n",
        "\tdef programa(self):\n",
        "\t\tprint(\"Mamá programa bien.\")\n",
        "\n",
        "# Definicion de la clase derivada\n",
        "class Hijo(Padre, Madre):\n",
        "\tdef jugar(self):\n",
        "\t\tprint(\"Al niño le encanta jugar\")\n",
        "\n",
        "# creando un objeto de la clase derivada\n",
        "niño = Hijo()\n",
        "# llamando a los metodos de las clases padres y la derivada\n",
        "niño.canta()\n",
        "niño.programa()\n",
        "niño.jugar()\n"
      ],
      "metadata": {
        "id": "2_joPYPj-T2q"
      },
      "execution_count": null,
      "outputs": []
    },
    {
      "cell_type": "markdown",
      "source": [
        "### Multi resolution order"
      ],
      "metadata": {
        "id": "D2CPH_pUGcfY"
      }
    },
    {
      "cell_type": "markdown",
      "source": [
        "El problema del diamente: consiste en realizar multiple herencia de clases con padre comun.\n",
        "<img src=\"https://cdn-media-1.freecodecamp.org/images/1*QVZomxLNxnRYhm9gGIfYyw.png\">"
      ],
      "metadata": {
        "id": "iSskZvMaF_Y-"
      }
    },
    {
      "cell_type": "code",
      "source": [
        "class Person:\n",
        "\tdef display(self):\n",
        "\t\tprint(\"Person called\")\n",
        "\n",
        "class Father(Person):\n",
        "\tdef display(self):\n",
        "\t\tprint(\"Father called\")\n",
        "\n",
        "class Mother(Person):\n",
        "\tdef display(self):\n",
        "\t\tprint(\"Mother called\")\n",
        "\n",
        "class Child(Father, Mother):\n",
        "\tpass\n",
        "\n",
        "child_obj = Child()\n",
        "child_obj.display()"
      ],
      "metadata": {
        "id": "82ljEkrqGHbV"
      },
      "execution_count": null,
      "outputs": []
    },
    {
      "cell_type": "markdown",
      "source": [
        "Como hacemos para saber quien tiene mas jerarquia o de cual padre se usan los metodos, si tienen igual nombre, en este caso el metodo `display`."
      ],
      "metadata": {
        "id": "EiUYe-jqGjOw"
      }
    },
    {
      "cell_type": "code",
      "source": [
        "Child.__mro__"
      ],
      "metadata": {
        "id": "L5fH3AznGfeQ"
      },
      "execution_count": null,
      "outputs": []
    },
    {
      "cell_type": "markdown",
      "source": [
        "Ejercicio Herencia Multiple:\n",
        "* Diseñar una clase Persona que reciba los parametros de nombre, edad y nacionalidad, con metodo hablar el cual retorna el texto \"Hola mundo!\". Definir la clase artista que reciba el parametro habilidad y metodo mostrarHabilidad que retorne el texto \"Mi hablidad es {habilidad}\". Finalmente diseñar la clase PersonaArtista que reciba nombre, edad, nacionalidad, habilidad, empresa, salario, emplear los constructores de las clases Persona y Artista, y agregar las propiedades de salario y empresa; definir un metodo de presentacion de la PersonaArtista, donde se retorne un texto \"Hola soy {nombre}, mi habilidad es {habilidad} y gano {salario}\".\n",
        "* Analizar para que sirven las funciones `isinstance` y `issublcass`."
      ],
      "metadata": {
        "id": "EMy8j_aCH1xG"
      }
    },
    {
      "cell_type": "markdown",
      "source": [
        "## 8. Sobrecarga de operadores\n",
        "Podemos definir que operacion realizar de acuerdo a la operacion que se este realizando con una instancia de la clase. Por ejemplo definir que pasa con b + c, si las variables b y c son de una clase nueva. <br>\n"
      ],
      "metadata": {
        "id": "3X_10grc_3kC"
      }
    },
    {
      "cell_type": "code",
      "source": [
        "class vector2d:\n",
        "  def __init__(self, x, y):\n",
        "    self.x = x\n",
        "    self.y = y\n",
        "  def __add__ (self, vector):\n",
        "    # Sumar dos Vectores\n",
        "    return vector2d(self.x + vector.x, self.y + vector.y)\n"
      ],
      "metadata": {
        "id": "RwzOFeaW_5ll"
      },
      "execution_count": null,
      "outputs": []
    },
    {
      "cell_type": "code",
      "source": [
        "a = vector2d(2,3)\n",
        "b = vector2d(4,5)\n",
        "c = a+b\n",
        "print(c.x,', ',c.y)"
      ],
      "metadata": {
        "id": "OHBaBqD5AzOK"
      },
      "execution_count": null,
      "outputs": []
    },
    {
      "cell_type": "code",
      "source": [
        "dir(a)"
      ],
      "metadata": {
        "id": "cTIzuBpbR83P"
      },
      "execution_count": null,
      "outputs": []
    },
    {
      "cell_type": "markdown",
      "source": [
        "Ejercicio: Averiguar mas metodos que se peuden sobrecargar, como"
      ],
      "metadata": {
        "id": "kbB7RmI7RVnT"
      }
    },
    {
      "cell_type": "code",
      "source": [
        "#__sub__, __repr__, __str__, __rmul__, __mul__"
      ],
      "metadata": {
        "id": "j15CMK3bA5yf"
      },
      "execution_count": null,
      "outputs": []
    },
    {
      "cell_type": "markdown",
      "source": [
        "## Ejercicio 1\n",
        "- Diseñar una clase para modelar vectores de n-dimensiones, por medio de listas. Debe tener como atributos: los valores y el tamaño del vector. Sobrecargar la clase de tal manera que se puede realizar la suma entre vectores elemento a elemento. Tambien sobrecargar la resta y la multiplicacion."
      ],
      "metadata": {
        "id": "89C96Ng3Q24u"
      }
    },
    {
      "cell_type": "code",
      "source": [
        "class Vector:\n",
        "  def __init__(self, values):\n",
        "    self.values = values\n",
        "    self.size = len(values)\n",
        "\n",
        "  def __add__ (self, vector): #Sumar dos Vectores\n",
        "    #Hacer codigo aqui\n",
        "    pass"
      ],
      "metadata": {
        "id": "a0yedPSRV_xZ"
      },
      "execution_count": null,
      "outputs": []
    },
    {
      "cell_type": "markdown",
      "source": [
        "## Ejercicio 2\n",
        "Diseñar una clase para modelar puntos en dos dimensiones [x,y]:\n",
        "- Cuando se imprima alguna instancia de la clase, se debe devolver \"(x: valor, y: valor)\".\n",
        "- Sobrecargar el operador de suma para hacer sumas entre instancias de la misma clase. Retornar una instancia de la clase con la suma de los elementos.\n",
        "- Sobrecargar la resta, la multiplicacion.\n",
        "- Sobrecargar las operaciones >, <, >=, <= (GT, lt, ge, le)"
      ],
      "metadata": {
        "id": "8w3RqmuNTUVS"
      }
    },
    {
      "cell_type": "code",
      "source": [],
      "metadata": {
        "id": "iwPo4M8hUNVY"
      },
      "execution_count": null,
      "outputs": []
    }
  ],
  "metadata": {
    "kernelspec": {
      "display_name": "Python 3",
      "language": "python",
      "name": "python3"
    },
    "language_info": {
      "codemirror_mode": {
        "name": "ipython",
        "version": 3
      },
      "file_extension": ".py",
      "mimetype": "text/x-python",
      "name": "python",
      "nbconvert_exporter": "python",
      "pygments_lexer": "ipython3",
      "version": "3.7.6"
    },
    "colab": {
      "provenance": []
    }
  },
  "nbformat": 4,
  "nbformat_minor": 0
}