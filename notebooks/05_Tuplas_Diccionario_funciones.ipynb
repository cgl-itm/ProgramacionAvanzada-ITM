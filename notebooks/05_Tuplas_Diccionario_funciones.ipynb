{
  "cells": [
    {
      "cell_type": "markdown",
      "metadata": {
        "id": "OvinR0gHEIzi"
      },
      "source": [
        "# Clase 5: \n",
        "Notebook creado por los docentes Andres Castro y Leonardo Duque. Modificado por Cristian Guarnizo.\n",
        "\n",
        "### 1. Estructuras de datos:\n",
        "\n",
        "#### &nbsp;&nbsp;&nbsp;&nbsp;&nbsp;&nbsp;     1.1 Tuplas\n",
        "####  &nbsp;&nbsp;&nbsp;&nbsp;&nbsp;&nbsp;    1.2 Diccionarios\n",
        "\n",
        "### 2. Funciones"
      ]
    },
    {
      "cell_type": "markdown",
      "metadata": {
        "id": "ugnec1X2EIzo"
      },
      "source": [
        "## Tuplas\n",
        "\n",
        "\n",
        "Similar a las listas, con la diferencia que las tuplas son inmutables, es decir, una tupla no puede ser modificada.\n",
        "\n",
        "Se crean con la siguiente sintaxis:\n",
        "\n",
        "$tupla$ = <font color=\"blue\" size=5>(</font> $elemento_1$, $elemento_2$, $elemento_3$,...,$elemento_n$ <font color=\"blue\" size=5>)</font>\n",
        "\n",
        "Ejemplo:"
      ]
    },
    {
      "cell_type": "code",
      "execution_count": null,
      "metadata": {
        "id": "2oyKh_2wEIzp",
        "outputId": "61ea1d02-ff91-4e19-d5d0-1f9612251858",
        "colab": {
          "base_uri": "https://localhost:8080/"
        }
      },
      "outputs": [
        {
          "output_type": "stream",
          "name": "stdout",
          "text": [
            "[9, 4, 21, 6]\n",
            "<class 'list'>\n",
            "[9, 4, 21, 43]\n",
            "(9, 4, 21, 6)\n",
            "<class 'tuple'>\n",
            "6\n",
            "9\n",
            "21\n",
            "(9, 6)\n",
            "(9, 4)\n"
          ]
        }
      ],
      "source": [
        "#Crear lista, modificar. Crear tupla, modificar\n",
        "lista = [9,4,21,6]\n",
        "print(lista)\n",
        "print(type(lista))\n",
        "\n",
        "lista[3] = 43\n",
        "print(lista)\n",
        "\n",
        "\n",
        "tupla = (9,4,21,6)\n",
        "print(tupla)\n",
        "print(type(tupla))\n",
        "\n",
        "# tupla[3] = 43\n",
        "# tupla.append(5)\n",
        "# print(tupla)\n",
        "\n",
        "#Imprimir elementos\n",
        "print(tupla[3])\n",
        "print(tupla[0])\n",
        "print(tupla[-2])\n",
        "\n",
        "#slicing de tupla\n",
        "# print(tupla[0:3])\n",
        "print(tupla[::3])\n",
        "#print(tupla[::-1])\n",
        "print(tupla[:2])\n",
        "#print(tupla[2:])"
      ]
    },
    {
      "cell_type": "code",
      "execution_count": null,
      "metadata": {
        "id": "I0FjdxErEIzr",
        "outputId": "92dd4fdb-7cf2-46a0-edd7-3de1c2f67369"
      },
      "outputs": [
        {
          "data": {
            "text/plain": [
              "['__add__',\n",
              " '__class__',\n",
              " '__contains__',\n",
              " '__delattr__',\n",
              " '__dir__',\n",
              " '__doc__',\n",
              " '__eq__',\n",
              " '__format__',\n",
              " '__ge__',\n",
              " '__getattribute__',\n",
              " '__getitem__',\n",
              " '__getnewargs__',\n",
              " '__gt__',\n",
              " '__hash__',\n",
              " '__init__',\n",
              " '__init_subclass__',\n",
              " '__iter__',\n",
              " '__le__',\n",
              " '__len__',\n",
              " '__lt__',\n",
              " '__mul__',\n",
              " '__ne__',\n",
              " '__new__',\n",
              " '__reduce__',\n",
              " '__reduce_ex__',\n",
              " '__repr__',\n",
              " '__rmul__',\n",
              " '__setattr__',\n",
              " '__sizeof__',\n",
              " '__str__',\n",
              " '__subclasshook__',\n",
              " 'count',\n",
              " 'index']"
            ]
          },
          "execution_count": 17,
          "metadata": {},
          "output_type": "execute_result"
        }
      ],
      "source": [
        "dir(tuple)"
      ]
    },
    {
      "cell_type": "code",
      "source": [
        "tupla = tupla*2"
      ],
      "metadata": {
        "id": "Ob2LpBACGVBw"
      },
      "execution_count": null,
      "outputs": []
    },
    {
      "cell_type": "code",
      "source": [
        "print(tupla)"
      ],
      "metadata": {
        "colab": {
          "base_uri": "https://localhost:8080/"
        },
        "id": "WxTPKjSKGoGG",
        "outputId": "5295ab60-f50a-419e-c582-21430cf7a4ab"
      },
      "execution_count": null,
      "outputs": [
        {
          "output_type": "stream",
          "name": "stdout",
          "text": [
            "(9, 4, 21, 6, 9, 4, 21, 6)\n"
          ]
        }
      ]
    },
    {
      "cell_type": "code",
      "execution_count": null,
      "metadata": {
        "id": "gKRg1zUWEIzs"
      },
      "outputs": [],
      "source": [
        "tuple.index?"
      ]
    },
    {
      "cell_type": "code",
      "execution_count": 3,
      "metadata": {
        "id": "_ztG9BN2EIzt",
        "outputId": "ddb7efc2-d382-43f3-c2cc-fe3c2372900f",
        "colab": {
          "base_uri": "https://localhost:8080/"
        }
      },
      "outputs": [
        {
          "output_type": "stream",
          "name": "stdout",
          "text": [
            "2\n",
            "0\n",
            "3\n"
          ]
        }
      ],
      "source": [
        "#tuple.count?\n",
        "tupla = (1,1,4,5,2,123,55,12,3,45,5,3,2,3,1,1,1,1)\n",
        "print(tupla.count(2))\n",
        "print(tupla.count(20))\n",
        "\n",
        "print(tupla.index(5,3))"
      ]
    },
    {
      "cell_type": "code",
      "execution_count": 4,
      "metadata": {
        "id": "LEbJMUUBEIzu",
        "outputId": "86b21f3e-7433-4732-a50a-537227abff1f",
        "colab": {
          "base_uri": "https://localhost:8080/"
        }
      },
      "outputs": [
        {
          "output_type": "stream",
          "name": "stdout",
          "text": [
            "Hay un 5 en la posición 3\n",
            "Hay un 5 en la posición 10\n",
            "Funcionó hasta acá\n"
          ]
        }
      ],
      "source": [
        "idx = -1\n",
        "while(5 in tupla[idx+1:]):\n",
        "    try:\n",
        "        idx = tupla.index(5, idx+1)\n",
        "        print(f\"Hay un 5 en la posición {idx}\")\n",
        "    except:\n",
        "        break\n",
        "\n",
        "print(\"Funcionó hasta acá\")\n",
        "#Exception handling (Manejo de excepciones)"
      ]
    },
    {
      "cell_type": "code",
      "source": [
        "idx = tupla.index(5, 11)"
      ],
      "metadata": {
        "colab": {
          "base_uri": "https://localhost:8080/",
          "height": 165
        },
        "id": "uq0ayEP_Ixo3",
        "outputId": "c932b623-77cd-48c1-be6c-302a95d7ef68"
      },
      "execution_count": 5,
      "outputs": [
        {
          "output_type": "error",
          "ename": "ValueError",
          "evalue": "ignored",
          "traceback": [
            "\u001b[0;31m---------------------------------------------------------------------------\u001b[0m",
            "\u001b[0;31mValueError\u001b[0m                                Traceback (most recent call last)",
            "\u001b[0;32m<ipython-input-5-82017ca6795c>\u001b[0m in \u001b[0;36m<module>\u001b[0;34m\u001b[0m\n\u001b[0;32m----> 1\u001b[0;31m \u001b[0midx\u001b[0m \u001b[0;34m=\u001b[0m \u001b[0mtupla\u001b[0m\u001b[0;34m.\u001b[0m\u001b[0mindex\u001b[0m\u001b[0;34m(\u001b[0m\u001b[0;36m5\u001b[0m\u001b[0;34m,\u001b[0m \u001b[0;36m11\u001b[0m\u001b[0;34m)\u001b[0m\u001b[0;34m\u001b[0m\u001b[0;34m\u001b[0m\u001b[0m\n\u001b[0m",
            "\u001b[0;31mValueError\u001b[0m: tuple.index(x): x not in tuple"
          ]
        }
      ]
    },
    {
      "cell_type": "code",
      "execution_count": null,
      "metadata": {
        "id": "HCYDZNrWEIzv",
        "outputId": "f7d5afaf-fbd4-4c4e-a018-8a3b38e9eadc"
      },
      "outputs": [
        {
          "name": "stdout",
          "output_type": "stream",
          "text": [
            "[9, 4, 21, 43]\n"
          ]
        }
      ],
      "source": [
        "print(lista)"
      ]
    },
    {
      "cell_type": "code",
      "execution_count": null,
      "metadata": {
        "id": "jB2vPiLdEIzw",
        "outputId": "dee22c90-f758-4694-a6ca-75e9cbfb1d06",
        "colab": {
          "base_uri": "https://localhost:8080/"
        }
      },
      "outputs": [
        {
          "output_type": "stream",
          "name": "stdout",
          "text": [
            "(0, 9)\n",
            "<class 'tuple'>\n",
            "(1, 4)\n",
            "<class 'tuple'>\n",
            "(2, 21)\n",
            "<class 'tuple'>\n",
            "(3, 43)\n",
            "<class 'tuple'>\n"
          ]
        }
      ],
      "source": [
        "for i in enumerate(lista): #Las funciones que retornan dos o más valores en una sola variable\n",
        "                           # los retorna como una tupla\n",
        "    print(i)\n",
        "    print(type(i))"
      ]
    },
    {
      "cell_type": "code",
      "execution_count": null,
      "metadata": {
        "id": "X_fMICgMEIzx",
        "outputId": "3fdce215-b665-4031-aecb-4c36fc512274"
      },
      "outputs": [
        {
          "name": "stdout",
          "output_type": "stream",
          "text": [
            "(9, 4, 21, 6)\n",
            "9\n",
            "4\n",
            "21\n",
            "6\n"
          ]
        }
      ],
      "source": [
        "tupla = (9,4,21,6) #unpacking\n",
        "print(tupla)\n",
        "\n",
        "a,b,c,d = tupla\n",
        "\n",
        "print(a,b,c,d,sep='\\n')\n"
      ]
    },
    {
      "cell_type": "code",
      "execution_count": null,
      "metadata": {
        "id": "QWjpgwvTEIzx",
        "outputId": "366c39bc-4f46-4443-c66c-2f6c36afb47f"
      },
      "outputs": [
        {
          "name": "stdout",
          "output_type": "stream",
          "text": [
            "(9, 4, 21, 6)\n",
            "9\n",
            "4\n",
            "[21, 6]\n"
          ]
        }
      ],
      "source": [
        "tupla = (9,4,21,6) #unpacking\n",
        "print(tupla)\n",
        "\n",
        "a,b,*c = tupla\n",
        "\n",
        "print(a,b,c,sep='\\n')"
      ]
    },
    {
      "cell_type": "markdown",
      "metadata": {
        "collapsed": true,
        "id": "OF_ndCorEIzy"
      },
      "source": [
        "## Diccionarios\n",
        "\n",
        "Una estructura de datos muy útil en Python es el diccionario, con la siguiente sintaxis:\n",
        "\n",
        "$diccionario$ = <font color=\"blue\" size=5>{</font> $key_1:elemento_1$, $key_2:elemento_2$, $key_3:elemento_3$,...,$key_n:elemento_n$ <font color=\"blue\" size=5>}</font>\n",
        "\n",
        "Donde $key_i$ se refiere a un indicador, llave o clave única para el elemento $i$. Observemos el siguiente ejemplo:"
      ]
    },
    {
      "cell_type": "code",
      "execution_count": null,
      "metadata": {
        "id": "WHWnTAfgEIzz",
        "outputId": "bd7c1ac6-5aa5-42c0-f81c-c4eeb61c67f3"
      },
      "outputs": [
        {
          "data": {
            "text/plain": [
              "['__class__',\n",
              " '__contains__',\n",
              " '__delattr__',\n",
              " '__delitem__',\n",
              " '__dir__',\n",
              " '__doc__',\n",
              " '__eq__',\n",
              " '__format__',\n",
              " '__ge__',\n",
              " '__getattribute__',\n",
              " '__getitem__',\n",
              " '__gt__',\n",
              " '__hash__',\n",
              " '__init__',\n",
              " '__init_subclass__',\n",
              " '__iter__',\n",
              " '__le__',\n",
              " '__len__',\n",
              " '__lt__',\n",
              " '__ne__',\n",
              " '__new__',\n",
              " '__reduce__',\n",
              " '__reduce_ex__',\n",
              " '__repr__',\n",
              " '__setattr__',\n",
              " '__setitem__',\n",
              " '__sizeof__',\n",
              " '__str__',\n",
              " '__subclasshook__',\n",
              " 'clear',\n",
              " 'copy',\n",
              " 'fromkeys',\n",
              " 'get',\n",
              " 'items',\n",
              " 'keys',\n",
              " 'pop',\n",
              " 'popitem',\n",
              " 'setdefault',\n",
              " 'update',\n",
              " 'values']"
            ]
          },
          "execution_count": 49,
          "metadata": {},
          "output_type": "execute_result"
        }
      ],
      "source": [
        "dir(dict)"
      ]
    },
    {
      "cell_type": "code",
      "execution_count": null,
      "metadata": {
        "scrolled": true,
        "id": "lwlswYvBEIzz",
        "outputId": "857cf97b-f152-45ec-9351-81092174f0a6",
        "colab": {
          "base_uri": "https://localhost:8080/"
        }
      },
      "outputs": [
        {
          "output_type": "stream",
          "name": "stdout",
          "text": [
            "<class 'dict'>\n",
            "{'primero': 1, 'segundo': 2, 'letra': 'a', 5.1: [50, 5, 2, 1, 6]}\n",
            "1\n",
            "a\n",
            "dict_keys(['primero', 'segundo', 'letra', 5.1])\n",
            "dict_values([1, 2, 'a', [50, 5, 2, 1, 6]])\n",
            "dict_items([('primero', 1), ('segundo', 2), ('letra', 'a'), (5.1, [50, 5, 2, 1, 6])])\n"
          ]
        }
      ],
      "source": [
        "Dic = {\"primero\":1,\"segundo\": 2, \"letra\": 'a', 5.1 : [50,5,2,1,6]}\n",
        "\n",
        "print(type(Dic))\n",
        "print(Dic)\n",
        "\n",
        "print(Dic['primero'])\n",
        "print(Dic['letra'])\n",
        "\n",
        "print(Dic.keys())\n",
        "print(Dic.values())\n",
        "print(Dic.items())"
      ]
    },
    {
      "cell_type": "code",
      "source": [
        "Dic.setdefault?"
      ],
      "metadata": {
        "id": "LiWkyrCONroh"
      },
      "execution_count": null,
      "outputs": []
    },
    {
      "cell_type": "code",
      "source": [
        "key = 5.1\n",
        "if key in Dic.keys():\n",
        "    print(\"Si existe!\")"
      ],
      "metadata": {
        "colab": {
          "base_uri": "https://localhost:8080/"
        },
        "id": "ylQnZJgFPoxB",
        "outputId": "8c17326e-db65-4227-dbb8-7fa3f4eec303"
      },
      "execution_count": null,
      "outputs": [
        {
          "output_type": "stream",
          "name": "stdout",
          "text": [
            "Si existe!\n"
          ]
        }
      ]
    },
    {
      "cell_type": "code",
      "execution_count": null,
      "metadata": {
        "id": "UtSR9PJvEIz0",
        "outputId": "204c004f-bcfb-4b3f-deb3-311c48dac16c",
        "colab": {
          "base_uri": "https://localhost:8080/"
        }
      },
      "outputs": [
        {
          "output_type": "stream",
          "name": "stdout",
          "text": [
            "{'primero': 1, 'segundo': 2, 'letra': 'a', 5.1: [50, 5, 2, 1, 6]}\n",
            "None\n",
            "[50, 5, 2, 1, 6]\n",
            "fin de la celda\n"
          ]
        }
      ],
      "source": [
        "print(Dic)\n",
        "# print(Dic[4])\n",
        "\n",
        "print(Dic.get(4))\n",
        "print(Dic.get(5.1,\"No existe\"))\n",
        "\n",
        "print(\"fin de la celda\")"
      ]
    },
    {
      "cell_type": "code",
      "execution_count": null,
      "metadata": {
        "id": "YOaeAhhWEIz1",
        "outputId": "a4b6dfc7-62f5-4cea-e317-3177973568ed"
      },
      "outputs": [
        {
          "name": "stdout",
          "output_type": "stream",
          "text": [
            "5\n",
            "{'primero': 1, 'segundo': 2, 'letra': 'a', 5.1: [50, 5, 2, 1, 6], 8: 5}\n",
            "1\n",
            "{'primero': 1, 'segundo': 2, 'letra': 'a', 5.1: [50, 5, 2, 1, 6], 8: 5}\n"
          ]
        }
      ],
      "source": [
        "print(Dic.setdefault(8,5))\n",
        "print(Dic)\n",
        "print(Dic.setdefault(\"primero\",100))\n",
        "print(Dic)"
      ]
    },
    {
      "cell_type": "code",
      "execution_count": null,
      "metadata": {
        "id": "NnNTrDYNEIz1",
        "outputId": "0e26a00e-2017-4faa-8ad5-ce56355898d1"
      },
      "outputs": [
        {
          "name": "stdout",
          "output_type": "stream",
          "text": [
            "{'primero': 1, 'segundo': 2, 'letra': 'a', 5.1: [50, 5, 2, 1, 6], 8: 5, 10: [1, 2, 3, 4, 5]}\n"
          ]
        }
      ],
      "source": [
        "Dic[10] = [1,2,3,4,5]\n",
        "print(Dic)"
      ]
    },
    {
      "cell_type": "code",
      "execution_count": null,
      "metadata": {
        "id": "4xFpL74zEIz2",
        "outputId": "1ca8d2af-fd38-4e47-9cb2-7d12228d186c"
      },
      "outputs": [
        {
          "name": "stdout",
          "output_type": "stream",
          "text": [
            "{}\n"
          ]
        }
      ],
      "source": [
        "Dic.clear()\n",
        "print(Dic)"
      ]
    },
    {
      "cell_type": "code",
      "execution_count": null,
      "metadata": {
        "id": "9PhL2JEmEIz2",
        "outputId": "44a60ba0-0799-4ed1-fab6-9e2521c8c5c1"
      },
      "outputs": [
        {
          "name": "stdout",
          "output_type": "stream",
          "text": [
            "Help on built-in function fromkeys:\n",
            "\n",
            "fromkeys(iterable, value=None, /) method of builtins.type instance\n",
            "    Create a new dictionary with keys from iterable and values set to value.\n",
            "\n"
          ]
        }
      ],
      "source": [
        "help(dict.fromkeys)"
      ]
    },
    {
      "cell_type": "code",
      "execution_count": null,
      "metadata": {
        "id": "HmlFfyvHEIz3",
        "outputId": "088adb84-2dbb-44dc-8ab4-495d18bd4a0b"
      },
      "outputs": [
        {
          "name": "stdout",
          "output_type": "stream",
          "text": [
            "{'a': 0, 'e': 0, 'i': 0, 'o': 0, 'u': 0}\n"
          ]
        }
      ],
      "source": [
        "Dic = Dic.fromkeys('aeiou',0)\n",
        "print(Dic)"
      ]
    },
    {
      "cell_type": "code",
      "execution_count": null,
      "metadata": {
        "id": "0fp1OVGREIz3",
        "outputId": "752cde10-4e04-4a74-9d9e-82775c837fad",
        "colab": {
          "base_uri": "https://localhost:8080/"
        }
      },
      "outputs": [
        {
          "output_type": "stream",
          "name": "stdout",
          "text": [
            "{0: 0, 10: 0, 20: 0, 30: 0, 40: 0, 50: 0, 60: 0, 70: 0}\n"
          ]
        }
      ],
      "source": [
        "Dic = Dic.fromkeys([0,10,20,30,40,50,60,70],0)\n",
        "print(Dic)"
      ]
    },
    {
      "cell_type": "code",
      "execution_count": null,
      "metadata": {
        "id": "tJeDdntKEIz3",
        "outputId": "ecd9155a-7599-4828-ce03-c6a53446c2ad"
      },
      "outputs": [
        {
          "name": "stdout",
          "output_type": "stream",
          "text": [
            "{0: 0, 10: 1000, 20: 0, 30: 0, 40: 0, 50: 0, 60: 0, 70: 0}\n"
          ]
        }
      ],
      "source": [
        "Dic[10] = 1000\n",
        "print(Dic)"
      ]
    },
    {
      "cell_type": "code",
      "execution_count": null,
      "metadata": {
        "scrolled": true,
        "id": "or-Xtr1pEIz4",
        "outputId": "8083ab8a-f5c0-4e63-cefb-937af87441bb",
        "colab": {
          "base_uri": "https://localhost:8080/"
        }
      },
      "outputs": [
        {
          "output_type": "stream",
          "name": "stdout",
          "text": [
            "{'Juan': [44, 'Vanegas', 'Colegio Mayor', '1234'], 'Pedro': [23, 'Lopez', 'Pascual Bravo'], 'Andres': [30, 'Castro', 'ITM'], 'Lizeth': [20, 'Verdugo', 'ITM']}\n"
          ]
        }
      ],
      "source": [
        "estudiantes = {\"Juan\":[22, \"Casas\", \"ITM\"], \"Pedro\":[23, \"Lopez\", \"Pascual Bravo\"]}\n",
        "estudiantes2 = {\"Juan\":[22, \"Casas\", \"ITM\"], \"Pedro\":[23, \"Lopez\", \"Pascual Bravo\"]}\n",
        "#Acceso al diccionario <estudiantes> en la llave \"Juan\"\n",
        "\n",
        "\n",
        "estudiantes[\"Andres\"] = [30,'Castro','ITM']\n",
        "estudiantes[\"Lizeth\"] = [20,'Verdugo','ITM']\n",
        "estudiantes[\"Juan\"] = [44,'Vanegas','Colegio Mayor','1234']\n",
        "\n",
        "print(estudiantes)\n"
      ]
    },
    {
      "cell_type": "code",
      "source": [
        "print(estudiantes.keys())"
      ],
      "metadata": {
        "colab": {
          "base_uri": "https://localhost:8080/"
        },
        "id": "bZYEYXVIWFb0",
        "outputId": "27876835-2dc5-45a3-cec3-9b92c96e2042"
      },
      "execution_count": null,
      "outputs": [
        {
          "output_type": "stream",
          "name": "stdout",
          "text": [
            "dict_keys(['Juan', 'Pedro', 'Andres', 'Lizeth'])\n"
          ]
        }
      ]
    },
    {
      "cell_type": "code",
      "source": [
        "estudiantes.update?"
      ],
      "metadata": {
        "id": "vOngi5N2Rzz_"
      },
      "execution_count": null,
      "outputs": []
    },
    {
      "cell_type": "code",
      "execution_count": null,
      "metadata": {
        "id": "-WETLjwOEIz4",
        "outputId": "f53f21f7-64d7-4549-a786-18686c35ef80",
        "colab": {
          "base_uri": "https://localhost:8080/"
        }
      },
      "outputs": [
        {
          "output_type": "stream",
          "name": "stdout",
          "text": [
            "{'Juan': [22, 'Casas', 'ITM'], 'Pedro': [23, 'Lopez', 'Pascual Bravo']}\n",
            "{'Juan': [44, 'Vanegas', 'Colegio Mayor', '1234'], 'Pedro': [23, 'Lopez', 'Pascual Bravo'], 'Andres': [30, 'Castro', 'ITM']}\n"
          ]
        }
      ],
      "source": [
        "print(estudiantes2)\n",
        "estudiantes2.update(estudiantes)\n",
        "print(estudiantes2)"
      ]
    },
    {
      "cell_type": "code",
      "execution_count": null,
      "metadata": {
        "id": "uf5jWj2jEIz5",
        "outputId": "7283fbf8-7a50-4a42-eab4-5569ac197aff"
      },
      "outputs": [
        {
          "name": "stdout",
          "output_type": "stream",
          "text": [
            "Help on method_descriptor:\n",
            "\n",
            "pop(...)\n",
            "    D.pop(k[,d]) -> v, remove specified key and return the corresponding value.\n",
            "    If key is not found, d is returned if given, otherwise KeyError is raised\n",
            "\n"
          ]
        }
      ],
      "source": [
        "help(dict.pop)"
      ]
    },
    {
      "cell_type": "code",
      "execution_count": null,
      "metadata": {
        "id": "169KsERVEIz5",
        "outputId": "2053e961-f1c1-4359-94e1-b0e34985bd63",
        "colab": {
          "base_uri": "https://localhost:8080/"
        }
      },
      "outputs": [
        {
          "output_type": "stream",
          "name": "stdout",
          "text": [
            "[44, 'Vanegas', 'Colegio Mayor', '1234']\n",
            "{'Pedro': [23, 'Lopez', 'Pascual Bravo'], 'Andres': [30, 'Castro', 'ITM']}\n"
          ]
        }
      ],
      "source": [
        "T = estudiantes.pop('Juan')\n",
        "print(T)\n",
        "print(estudiantes)"
      ]
    },
    {
      "cell_type": "code",
      "execution_count": null,
      "metadata": {
        "id": "rZu5lJ0MEIz5",
        "outputId": "4a43a860-981c-418e-988e-a2ccafb84072",
        "colab": {
          "base_uri": "https://localhost:8080/"
        }
      },
      "outputs": [
        {
          "output_type": "stream",
          "name": "stdout",
          "text": [
            "0\n",
            "{'Pedro': [23, 'Lopez', 'Pascual Bravo'], 'Andres': [30, 'Castro', 'ITM']}\n"
          ]
        }
      ],
      "source": [
        "T = estudiantes.pop('Jose',0)\n",
        "print(T)\n",
        "print(estudiantes)"
      ]
    },
    {
      "cell_type": "code",
      "execution_count": null,
      "metadata": {
        "id": "wYxhtRtxEIz6",
        "outputId": "26be78cf-934f-4ac8-8697-9642d550f5be"
      },
      "outputs": [
        {
          "name": "stdout",
          "output_type": "stream",
          "text": [
            "Help on built-in function popitem:\n",
            "\n",
            "popitem(...) method of builtins.dict instance\n",
            "    D.popitem() -> (k, v), remove and return some (key, value) pair as a\n",
            "    2-tuple; but raise KeyError if D is empty.\n",
            "\n"
          ]
        }
      ],
      "source": [
        "help(estudiantes.popitem)"
      ]
    },
    {
      "cell_type": "code",
      "execution_count": null,
      "metadata": {
        "id": "B9DFufXJEIz6",
        "outputId": "cda9c99c-2fd4-4d61-fa1e-965f50f7ebcb",
        "colab": {
          "base_uri": "https://localhost:8080/"
        }
      },
      "outputs": [
        {
          "output_type": "stream",
          "name": "stdout",
          "text": [
            "Andres [30, 'Castro', 'ITM']\n",
            "{'Juan': [44, 'Vanegas', 'Colegio Mayor', '1234'], 'Pedro': [23, 'Lopez', 'Pascual Bravo']}\n"
          ]
        }
      ],
      "source": [
        "k,v = estudiantes.popitem()\n",
        "print(k,v)\n",
        "print(estudiantes)"
      ]
    },
    {
      "cell_type": "markdown",
      "metadata": {
        "id": "oS4tynGDEIz6"
      },
      "source": [
        "## Iterar Diccionarios"
      ]
    },
    {
      "cell_type": "code",
      "execution_count": null,
      "metadata": {
        "id": "VuM8pGmrEIz7",
        "outputId": "3a3d4a39-33b3-45dc-ae24-e62a53e5df54",
        "colab": {
          "base_uri": "https://localhost:8080/"
        }
      },
      "outputs": [
        {
          "output_type": "stream",
          "name": "stdout",
          "text": [
            "Llave: Juan tiene valor [44, 'Vanegas', 'Colegio Mayor', '1234']\n",
            "Llave: Pedro tiene valor [23, 'Lopez', 'Pascual Bravo']\n",
            "Llave: Andres tiene valor [30, 'Castro', 'ITM']\n",
            "Llave: Lizeth tiene valor [20, 'Verdugo', 'ITM']\n"
          ]
        }
      ],
      "source": [
        "for k,v in estudiantes.items():\n",
        "    print(f\"Llave: {k} tiene valor {v}\")"
      ]
    },
    {
      "cell_type": "code",
      "execution_count": null,
      "metadata": {
        "id": "yvq7fUKtEIz7",
        "outputId": "94ccf53c-3ffc-45c1-d473-d0141fea543b",
        "colab": {
          "base_uri": "https://localhost:8080/"
        }
      },
      "outputs": [
        {
          "output_type": "stream",
          "name": "stdout",
          "text": [
            "llave: Juan, tiene valor: [44, 'Vanegas', 'Colegio Mayor', '1234']\n",
            "llave: Pedro, tiene valor: [23, 'Lopez', 'Pascual Bravo']\n",
            "llave: Andres, tiene valor: [30, 'Castro', 'ITM']\n",
            "llave: Lizeth, tiene valor: [20, 'Verdugo', 'ITM']\n"
          ]
        }
      ],
      "source": [
        "#llaves = estudiantes.keys()\n",
        "\n",
        "for key in estudiantes.keys():\n",
        "#     print(key)\n",
        "    print(f\"llave: {key}, tiene valor: {estudiantes[key]}\")"
      ]
    },
    {
      "cell_type": "code",
      "execution_count": null,
      "metadata": {
        "id": "g1efuFoAEIz7",
        "outputId": "942770f5-195c-4536-dbbd-dbde74978309",
        "colab": {
          "base_uri": "https://localhost:8080/"
        }
      },
      "outputs": [
        {
          "output_type": "stream",
          "name": "stdout",
          "text": [
            "[44, 'Vanegas', 'Colegio Mayor', '1234']\n",
            "[23, 'Lopez', 'Pascual Bravo']\n",
            "[30, 'Castro', 'ITM']\n",
            "[20, 'Verdugo', 'ITM']\n"
          ]
        }
      ],
      "source": [
        "for v in estudiantes.values():\n",
        "    print(v)"
      ]
    },
    {
      "cell_type": "markdown",
      "metadata": {
        "id": "jCSy9NNrEIz8"
      },
      "source": [
        "### Llenando un diccionario\n",
        "\n",
        "Para ello analicemos el siguiente ejemplo:"
      ]
    },
    {
      "cell_type": "code",
      "execution_count": null,
      "metadata": {
        "id": "fiIMyG3LEIz8",
        "outputId": "1f39518c-f758-4034-8951-d0b5bfbbf9b8",
        "colab": {
          "base_uri": "https://localhost:8080/"
        }
      },
      "outputs": [
        {
          "output_type": "stream",
          "name": "stdout",
          "text": [
            "{}\n",
            "{0: 1, 1: 1, 2: 2, 3: 6, 4: 24, 5: 120, 6: 720, 7: 5040, 8: 40320, 9: 362880, 10: 3628800, 11: 39916800, 12: 479001600, 13: 6227020800, 14: 87178291200}\n"
          ]
        }
      ],
      "source": [
        "import math\n",
        "\n",
        "tabla_factorial = {} #diccionario vacio\n",
        "# tabla_factorial = dict()\n",
        "print(tabla_factorial)\n",
        "\n",
        "for i in range(15):\n",
        "    tabla_factorial[i] = math.factorial(i)\n",
        "\n",
        "print(tabla_factorial)"
      ]
    },
    {
      "cell_type": "code",
      "source": [
        "math.factorial(1000000)"
      ],
      "metadata": {
        "colab": {
          "base_uri": "https://localhost:8080/",
          "height": 345
        },
        "id": "6kbCwVBcYS_t",
        "outputId": "40607bfa-4b4b-4dd0-ded5-4a638280afb4"
      },
      "execution_count": null,
      "outputs": [
        {
          "output_type": "error",
          "ename": "KeyboardInterrupt",
          "evalue": "ignored",
          "traceback": [
            "\u001b[0;31m---------------------------------------------------------------------------\u001b[0m",
            "\u001b[0;31mKeyboardInterrupt\u001b[0m                         Traceback (most recent call last)",
            "\u001b[0;32m<ipython-input-79-e466bc1b3506>\u001b[0m in \u001b[0;36m<module>\u001b[0;34m\u001b[0m\n\u001b[0;32m----> 1\u001b[0;31m \u001b[0mmath\u001b[0m\u001b[0;34m.\u001b[0m\u001b[0mfactorial\u001b[0m\u001b[0;34m(\u001b[0m\u001b[0;36m1000000\u001b[0m\u001b[0;34m)\u001b[0m\u001b[0;34m\u001b[0m\u001b[0;34m\u001b[0m\u001b[0m\n\u001b[0m",
            "\u001b[0;32m/usr/local/lib/python3.7/dist-packages/IPython/core/displayhook.py\u001b[0m in \u001b[0;36m__call__\u001b[0;34m(self, result)\u001b[0m\n\u001b[1;32m    260\u001b[0m             \u001b[0mself\u001b[0m\u001b[0;34m.\u001b[0m\u001b[0mstart_displayhook\u001b[0m\u001b[0;34m(\u001b[0m\u001b[0;34m)\u001b[0m\u001b[0;34m\u001b[0m\u001b[0;34m\u001b[0m\u001b[0m\n\u001b[1;32m    261\u001b[0m             \u001b[0mself\u001b[0m\u001b[0;34m.\u001b[0m\u001b[0mwrite_output_prompt\u001b[0m\u001b[0;34m(\u001b[0m\u001b[0;34m)\u001b[0m\u001b[0;34m\u001b[0m\u001b[0;34m\u001b[0m\u001b[0m\n\u001b[0;32m--> 262\u001b[0;31m             \u001b[0mformat_dict\u001b[0m\u001b[0;34m,\u001b[0m \u001b[0mmd_dict\u001b[0m \u001b[0;34m=\u001b[0m \u001b[0mself\u001b[0m\u001b[0;34m.\u001b[0m\u001b[0mcompute_format_data\u001b[0m\u001b[0;34m(\u001b[0m\u001b[0mresult\u001b[0m\u001b[0;34m)\u001b[0m\u001b[0;34m\u001b[0m\u001b[0;34m\u001b[0m\u001b[0m\n\u001b[0m\u001b[1;32m    263\u001b[0m             \u001b[0mself\u001b[0m\u001b[0;34m.\u001b[0m\u001b[0mupdate_user_ns\u001b[0m\u001b[0;34m(\u001b[0m\u001b[0mresult\u001b[0m\u001b[0;34m)\u001b[0m\u001b[0;34m\u001b[0m\u001b[0;34m\u001b[0m\u001b[0m\n\u001b[1;32m    264\u001b[0m             \u001b[0mself\u001b[0m\u001b[0;34m.\u001b[0m\u001b[0mfill_exec_result\u001b[0m\u001b[0;34m(\u001b[0m\u001b[0mresult\u001b[0m\u001b[0;34m)\u001b[0m\u001b[0;34m\u001b[0m\u001b[0;34m\u001b[0m\u001b[0m\n",
            "\u001b[0;32m/usr/local/lib/python3.7/dist-packages/IPython/core/displayhook.py\u001b[0m in \u001b[0;36mcompute_format_data\u001b[0;34m(self, result)\u001b[0m\n\u001b[1;32m    149\u001b[0m \u001b[0;34m\u001b[0m\u001b[0m\n\u001b[1;32m    150\u001b[0m         \"\"\"\n\u001b[0;32m--> 151\u001b[0;31m         \u001b[0;32mreturn\u001b[0m \u001b[0mself\u001b[0m\u001b[0;34m.\u001b[0m\u001b[0mshell\u001b[0m\u001b[0;34m.\u001b[0m\u001b[0mdisplay_formatter\u001b[0m\u001b[0;34m.\u001b[0m\u001b[0mformat\u001b[0m\u001b[0;34m(\u001b[0m\u001b[0mresult\u001b[0m\u001b[0;34m)\u001b[0m\u001b[0;34m\u001b[0m\u001b[0;34m\u001b[0m\u001b[0m\n\u001b[0m\u001b[1;32m    152\u001b[0m \u001b[0;34m\u001b[0m\u001b[0m\n\u001b[1;32m    153\u001b[0m     \u001b[0;31m# This can be set to True by the write_output_prompt method in a subclass\u001b[0m\u001b[0;34m\u001b[0m\u001b[0;34m\u001b[0m\u001b[0;34m\u001b[0m\u001b[0m\n",
            "\u001b[0;32m/usr/local/lib/python3.7/dist-packages/IPython/core/formatters.py\u001b[0m in \u001b[0;36mformat\u001b[0;34m(self, obj, include, exclude)\u001b[0m\n\u001b[1;32m    178\u001b[0m             \u001b[0mmd\u001b[0m \u001b[0;34m=\u001b[0m \u001b[0;32mNone\u001b[0m\u001b[0;34m\u001b[0m\u001b[0;34m\u001b[0m\u001b[0m\n\u001b[1;32m    179\u001b[0m             \u001b[0;32mtry\u001b[0m\u001b[0;34m:\u001b[0m\u001b[0;34m\u001b[0m\u001b[0;34m\u001b[0m\u001b[0m\n\u001b[0;32m--> 180\u001b[0;31m                 \u001b[0mdata\u001b[0m \u001b[0;34m=\u001b[0m \u001b[0mformatter\u001b[0m\u001b[0;34m(\u001b[0m\u001b[0mobj\u001b[0m\u001b[0;34m)\u001b[0m\u001b[0;34m\u001b[0m\u001b[0;34m\u001b[0m\u001b[0m\n\u001b[0m\u001b[1;32m    181\u001b[0m             \u001b[0;32mexcept\u001b[0m\u001b[0;34m:\u001b[0m\u001b[0;34m\u001b[0m\u001b[0;34m\u001b[0m\u001b[0m\n\u001b[1;32m    182\u001b[0m                 \u001b[0;31m# FIXME: log the exception\u001b[0m\u001b[0;34m\u001b[0m\u001b[0;34m\u001b[0m\u001b[0;34m\u001b[0m\u001b[0m\n",
            "\u001b[0;32m<decorator-gen-3>\u001b[0m in \u001b[0;36m__call__\u001b[0;34m(self, obj)\u001b[0m\n",
            "\u001b[0;32m/usr/local/lib/python3.7/dist-packages/IPython/core/formatters.py\u001b[0m in \u001b[0;36mcatch_format_error\u001b[0;34m(method, self, *args, **kwargs)\u001b[0m\n\u001b[1;32m    222\u001b[0m     \u001b[0;34m\"\"\"show traceback on failed format call\"\"\"\u001b[0m\u001b[0;34m\u001b[0m\u001b[0;34m\u001b[0m\u001b[0m\n\u001b[1;32m    223\u001b[0m     \u001b[0;32mtry\u001b[0m\u001b[0;34m:\u001b[0m\u001b[0;34m\u001b[0m\u001b[0;34m\u001b[0m\u001b[0m\n\u001b[0;32m--> 224\u001b[0;31m         \u001b[0mr\u001b[0m \u001b[0;34m=\u001b[0m \u001b[0mmethod\u001b[0m\u001b[0;34m(\u001b[0m\u001b[0mself\u001b[0m\u001b[0;34m,\u001b[0m \u001b[0;34m*\u001b[0m\u001b[0margs\u001b[0m\u001b[0;34m,\u001b[0m \u001b[0;34m**\u001b[0m\u001b[0mkwargs\u001b[0m\u001b[0;34m)\u001b[0m\u001b[0;34m\u001b[0m\u001b[0;34m\u001b[0m\u001b[0m\n\u001b[0m\u001b[1;32m    225\u001b[0m     \u001b[0;32mexcept\u001b[0m \u001b[0mNotImplementedError\u001b[0m\u001b[0;34m:\u001b[0m\u001b[0;34m\u001b[0m\u001b[0;34m\u001b[0m\u001b[0m\n\u001b[1;32m    226\u001b[0m         \u001b[0;31m# don't warn on NotImplementedErrors\u001b[0m\u001b[0;34m\u001b[0m\u001b[0;34m\u001b[0m\u001b[0;34m\u001b[0m\u001b[0m\n",
            "\u001b[0;32m/usr/local/lib/python3.7/dist-packages/IPython/core/formatters.py\u001b[0m in \u001b[0;36m__call__\u001b[0;34m(self, obj)\u001b[0m\n\u001b[1;32m    700\u001b[0m                 \u001b[0mtype_pprinters\u001b[0m\u001b[0;34m=\u001b[0m\u001b[0mself\u001b[0m\u001b[0;34m.\u001b[0m\u001b[0mtype_printers\u001b[0m\u001b[0;34m,\u001b[0m\u001b[0;34m\u001b[0m\u001b[0;34m\u001b[0m\u001b[0m\n\u001b[1;32m    701\u001b[0m                 deferred_pprinters=self.deferred_printers)\n\u001b[0;32m--> 702\u001b[0;31m             \u001b[0mprinter\u001b[0m\u001b[0;34m.\u001b[0m\u001b[0mpretty\u001b[0m\u001b[0;34m(\u001b[0m\u001b[0mobj\u001b[0m\u001b[0;34m)\u001b[0m\u001b[0;34m\u001b[0m\u001b[0;34m\u001b[0m\u001b[0m\n\u001b[0m\u001b[1;32m    703\u001b[0m             \u001b[0mprinter\u001b[0m\u001b[0;34m.\u001b[0m\u001b[0mflush\u001b[0m\u001b[0;34m(\u001b[0m\u001b[0;34m)\u001b[0m\u001b[0;34m\u001b[0m\u001b[0;34m\u001b[0m\u001b[0m\n\u001b[1;32m    704\u001b[0m             \u001b[0;32mreturn\u001b[0m \u001b[0mstream\u001b[0m\u001b[0;34m.\u001b[0m\u001b[0mgetvalue\u001b[0m\u001b[0;34m(\u001b[0m\u001b[0;34m)\u001b[0m\u001b[0;34m\u001b[0m\u001b[0;34m\u001b[0m\u001b[0m\n",
            "\u001b[0;32m/usr/local/lib/python3.7/dist-packages/IPython/lib/pretty.py\u001b[0m in \u001b[0;36mpretty\u001b[0;34m(self, obj)\u001b[0m\n\u001b[1;32m    383\u001b[0m                 \u001b[0;32mif\u001b[0m \u001b[0mcls\u001b[0m \u001b[0;32min\u001b[0m \u001b[0mself\u001b[0m\u001b[0;34m.\u001b[0m\u001b[0mtype_pprinters\u001b[0m\u001b[0;34m:\u001b[0m\u001b[0;34m\u001b[0m\u001b[0;34m\u001b[0m\u001b[0m\n\u001b[1;32m    384\u001b[0m                     \u001b[0;31m# printer registered in self.type_pprinters\u001b[0m\u001b[0;34m\u001b[0m\u001b[0;34m\u001b[0m\u001b[0;34m\u001b[0m\u001b[0m\n\u001b[0;32m--> 385\u001b[0;31m                     \u001b[0;32mreturn\u001b[0m \u001b[0mself\u001b[0m\u001b[0;34m.\u001b[0m\u001b[0mtype_pprinters\u001b[0m\u001b[0;34m[\u001b[0m\u001b[0mcls\u001b[0m\u001b[0;34m]\u001b[0m\u001b[0;34m(\u001b[0m\u001b[0mobj\u001b[0m\u001b[0;34m,\u001b[0m \u001b[0mself\u001b[0m\u001b[0;34m,\u001b[0m \u001b[0mcycle\u001b[0m\u001b[0;34m)\u001b[0m\u001b[0;34m\u001b[0m\u001b[0;34m\u001b[0m\u001b[0m\n\u001b[0m\u001b[1;32m    386\u001b[0m                 \u001b[0;32melse\u001b[0m\u001b[0;34m:\u001b[0m\u001b[0;34m\u001b[0m\u001b[0;34m\u001b[0m\u001b[0m\n\u001b[1;32m    387\u001b[0m                     \u001b[0;31m# deferred printer\u001b[0m\u001b[0;34m\u001b[0m\u001b[0;34m\u001b[0m\u001b[0;34m\u001b[0m\u001b[0m\n",
            "\u001b[0;32m/usr/local/lib/python3.7/dist-packages/IPython/lib/pretty.py\u001b[0m in \u001b[0;36m_repr_pprint\u001b[0;34m(obj, p, cycle)\u001b[0m\n\u001b[1;32m    695\u001b[0m     \u001b[0;34m\"\"\"A pprint that just redirects to the normal repr function.\"\"\"\u001b[0m\u001b[0;34m\u001b[0m\u001b[0;34m\u001b[0m\u001b[0m\n\u001b[1;32m    696\u001b[0m     \u001b[0;31m# Find newlines and replace them with p.break_()\u001b[0m\u001b[0;34m\u001b[0m\u001b[0;34m\u001b[0m\u001b[0;34m\u001b[0m\u001b[0m\n\u001b[0;32m--> 697\u001b[0;31m     \u001b[0moutput\u001b[0m \u001b[0;34m=\u001b[0m \u001b[0mrepr\u001b[0m\u001b[0;34m(\u001b[0m\u001b[0mobj\u001b[0m\u001b[0;34m)\u001b[0m\u001b[0;34m\u001b[0m\u001b[0;34m\u001b[0m\u001b[0m\n\u001b[0m\u001b[1;32m    698\u001b[0m     \u001b[0;32mfor\u001b[0m \u001b[0midx\u001b[0m\u001b[0;34m,\u001b[0m\u001b[0moutput_line\u001b[0m \u001b[0;32min\u001b[0m \u001b[0menumerate\u001b[0m\u001b[0;34m(\u001b[0m\u001b[0moutput\u001b[0m\u001b[0;34m.\u001b[0m\u001b[0msplitlines\u001b[0m\u001b[0;34m(\u001b[0m\u001b[0;34m)\u001b[0m\u001b[0;34m)\u001b[0m\u001b[0;34m:\u001b[0m\u001b[0;34m\u001b[0m\u001b[0;34m\u001b[0m\u001b[0m\n\u001b[1;32m    699\u001b[0m         \u001b[0;32mif\u001b[0m \u001b[0midx\u001b[0m\u001b[0;34m:\u001b[0m\u001b[0;34m\u001b[0m\u001b[0;34m\u001b[0m\u001b[0m\n",
            "\u001b[0;31mKeyboardInterrupt\u001b[0m: "
          ]
        }
      ]
    },
    {
      "cell_type": "code",
      "execution_count": null,
      "metadata": {
        "id": "lEbY4CyLEIz8",
        "outputId": "f1d3d002-f24a-4b79-87b4-e4d7e12d1501",
        "colab": {
          "base_uri": "https://localhost:8080/"
        }
      },
      "outputs": [
        {
          "output_type": "stream",
          "name": "stdout",
          "text": [
            "40320\n"
          ]
        }
      ],
      "source": [
        "print(tabla_factorial[8])"
      ]
    },
    {
      "cell_type": "code",
      "execution_count": null,
      "metadata": {
        "id": "pFUinpG-EIz9",
        "outputId": "5d774faa-56b0-4192-9d34-7403c33a66ce",
        "colab": {
          "base_uri": "https://localhost:8080/"
        }
      },
      "outputs": [
        {
          "output_type": "stream",
          "name": "stdout",
          "text": [
            "factorial de 0 es 1\n",
            "factorial de 1 es 1\n",
            "factorial de 2 es 2\n",
            "factorial de 3 es 6\n",
            "factorial de 4 es 24\n",
            "factorial de 5 es 120\n",
            "factorial de 6 es 720\n",
            "factorial de 7 es 5040\n",
            "factorial de 8 es 40320\n",
            "factorial de 9 es 362880\n",
            "factorial de 10 es 3628800\n",
            "factorial de 11 es 39916800\n",
            "factorial de 12 es 479001600\n",
            "factorial de 13 es 6227020800\n",
            "factorial de 14 es 87178291200\n"
          ]
        }
      ],
      "source": [
        "for key, valor in tabla_factorial.items():\n",
        "    print(f\"factorial de {key} es {valor}\")"
      ]
    },
    {
      "cell_type": "markdown",
      "metadata": {
        "id": "AQd278prEIz9"
      },
      "source": [
        "## Ejercicios\n",
        "\n",
        "1. Itere una tupla de datos mixtos e imprima únicamente los valores enteros\n",
        "\n",
        "2. Imprima cada una de las claves de un diccionario \n",
        "\n",
        "3. Imprima cada uno de los valores de un diccionario\n",
        "\n",
        "4. Imprima ambas, clave y valor de un diccionario\n",
        "\n",
        "5. Estime el promedio de todos los valores en un diccionario\n",
        "\n",
        "6. Actualice los valores de un diccionario reduciendo un 25% de cada valor"
      ]
    },
    {
      "cell_type": "code",
      "execution_count": null,
      "metadata": {
        "id": "J0Mk3qzLEIz9",
        "outputId": "d7ded742-7f6a-4a56-e31c-ea2f11a97ea3"
      },
      "outputs": [
        {
          "name": "stdout",
          "output_type": "stream",
          "text": [
            "(1, 3, 67, 7.6, 0.4, 'd', 'F', 100, 'Hola', 8.9, (7+7j), 7, 1.4)\n",
            "1\n",
            "3\n",
            "67\n",
            "100\n",
            "7\n"
          ]
        }
      ],
      "source": [
        "t = (1,3,67,7.6,0.4,'d','F', 100, 'Hola', 8.9, 7+7j,7,1.4)\n",
        "print(t)\n",
        "\n",
        "#1. Itere una tupla de datos mixtos e imprima únicamente los valores enteros\n",
        "\n",
        "for i in t:\n",
        "    if type(i) == int:\n",
        "        print(i)"
      ]
    },
    {
      "cell_type": "code",
      "execution_count": null,
      "metadata": {
        "id": "bFqVxMLOEIz-",
        "outputId": "ba5c7c6b-c6ed-455d-eb9c-96cb4cd53631"
      },
      "outputs": [
        {
          "name": "stdout",
          "output_type": "stream",
          "text": [
            "{'L': 0, 'P': 0, 'W': 0, '7': 0, '2': 0}\n",
            "dict_keys(['L', 'P', 'W', '7', '2'])\n",
            "L\n",
            "P\n",
            "W\n",
            "7\n",
            "2\n",
            "dict_values([0, 0, 0, 0, 0])\n",
            "0\n",
            "0\n",
            "0\n",
            "0\n",
            "0\n",
            "Llave=L, valor=0\n",
            "Llave=P, valor=0\n",
            "Llave=W, valor=0\n",
            "Llave=7, valor=0\n",
            "Llave=2, valor=0\n",
            "\n",
            "Otra forma \n",
            "\n",
            "Llave=L, valor=0\n",
            "Llave=P, valor=0\n",
            "Llave=W, valor=0\n",
            "Llave=7, valor=0\n",
            "Llave=2, valor=0\n"
          ]
        }
      ],
      "source": [
        "D = dict.fromkeys('LPW72',0)\n",
        "print(D)\n",
        "\n",
        "# 2. Imprima cada una de las claves de un diccionario\n",
        "print(D.keys())\n",
        "\n",
        "for i in D.keys():\n",
        "    print(i)\n",
        "\n",
        "# 3. Imprima cada uno de los valores de un diccionario\n",
        "print(D.values())\n",
        "\n",
        "for i in D.values():\n",
        "    print(i)\n",
        "\n",
        "# 4. Imprima ambas, clave y valor de un diccionario\n",
        "for llave, valor in D.items():\n",
        "    print(f\"Llave={llave}, valor={valor}\")\n",
        "\n",
        "print(\"\\nOtra forma \\n\")\n",
        "for i in D.keys():\n",
        "    print(f\"Llave={i}, valor={D[i]}\")"
      ]
    },
    {
      "cell_type": "code",
      "execution_count": null,
      "metadata": {
        "id": "DBIhEIr3EIz-",
        "outputId": "9179ab2a-96f6-4db3-e5bf-497e19c76763"
      },
      "outputs": [
        {
          "name": "stdout",
          "output_type": "stream",
          "text": [
            "{'elem1': 500, 'elem2': 1200, 'elem3': 700, 'elem4': 800, 'elem5': 200}\n",
            "Promedio=680.0\n"
          ]
        }
      ],
      "source": [
        "# 5. Estime el promedio de todos los valores en un diccionario\n",
        "\n",
        "D5 = {'elem1': 500, 'elem2': 1200, 'elem3': 700, 'elem4': 800, 'elem5':200}\n",
        "print(D5)\n",
        "\n",
        "suma = 0\n",
        "cont = 0\n",
        "\n",
        "for i in D5.values():\n",
        "    suma = suma + i\n",
        "    cont = cont + 1\n",
        "    \n",
        "print(f\"Promedio={suma/cont}\")"
      ]
    },
    {
      "cell_type": "code",
      "execution_count": null,
      "metadata": {
        "id": "AMSibyzkEIz-",
        "outputId": "7951f17a-31f1-418d-ab82-93a7b1974b91"
      },
      "outputs": [
        {
          "data": {
            "text/plain": [
              "680.0"
            ]
          },
          "execution_count": 96,
          "metadata": {},
          "output_type": "execute_result"
        }
      ],
      "source": [
        "Valores = D5.values()\n",
        "\n",
        "sum(Valores)/len(Valores)"
      ]
    },
    {
      "cell_type": "code",
      "execution_count": null,
      "metadata": {
        "id": "Ff-mu1XlEIz_",
        "outputId": "866629fc-d5a6-401a-a83d-68e979385668"
      },
      "outputs": [
        {
          "name": "stdout",
          "output_type": "stream",
          "text": [
            "{'elem1': 500.0, 'elem2': 1200.0, 'elem3': 700.0, 'elem4': 800.0, 'elem5': 200, 'elem6': 'hola', 'elem7': 200}\n",
            "Promedio=600.0\n"
          ]
        }
      ],
      "source": [
        "# 5. Estime el promedio de todos los valores NUMERICOS en un diccionario\n",
        "D5 = {'elem1': 500.0, 'elem2': 1200.0, 'elem3': 700.0, 'elem4': 800.0, 'elem5':200, \n",
        "     \"elem6\": 'hola', \"elem7\":200}\n",
        "print(D5)\n",
        "\n",
        "suma = 0\n",
        "cont = 0\n",
        "\n",
        "for i in D5.values():\n",
        "    if (type(i) == int or type(i)==float):\n",
        "        suma = suma + i\n",
        "        cont = cont + 1\n",
        "    \n",
        "print(f\"Promedio={suma/cont}\")"
      ]
    },
    {
      "cell_type": "code",
      "execution_count": null,
      "metadata": {
        "id": "tHMItbvwEIz_",
        "outputId": "38dbbc08-f5c1-41f5-fe46-6cb6aceb82f2"
      },
      "outputs": [
        {
          "name": "stdout",
          "output_type": "stream",
          "text": [
            "{'elem1': 375.0, 'elem2': 900.0, 'elem3': 525.0, 'elem4': 600.0, 'elem5': 150.0, 'elem6': 'hola!', 'elem7': 187.875}\n"
          ]
        }
      ],
      "source": [
        "#Actualice los valores de un diccionario reduciendo un 25% de cada valor que sea numérico\n",
        "D5 = {'elem1': 500, 'elem2': 1200, 'elem3': 700, 'elem4': 800, 'elem5':200, \n",
        "      'elem6':'hola!', 'elem7':250.5}\n",
        "\n",
        "for llave,i in D5.items():\n",
        "    if (type(i) == int or type(i)==float):\n",
        "        v = i - i*0.25\n",
        "        D5[llave] = v\n",
        "        \n",
        "print(D5)"
      ]
    },
    {
      "cell_type": "code",
      "execution_count": null,
      "metadata": {
        "id": "Nn9OvfNEEIz_",
        "outputId": "eda52a3e-0e0b-4ce7-b964-7081b3f59152"
      },
      "outputs": [
        {
          "name": "stdout",
          "output_type": "stream",
          "text": [
            "{'elem1': 375.0, 'elem2': 900.0, 'elem3': 525.0, 'elem4': 600.0, 'elem5': 150.0, 'elem6': 'hola!', 'elem7': 187.875}\n"
          ]
        }
      ],
      "source": [
        "#Actualice los valores de un diccionario reduciendo un 25% de cada valor que sea numérico\n",
        "D5 = {'elem1': 500, 'elem2': 1200, 'elem3': 700, 'elem4': 800, 'elem5':200, \n",
        "      'elem6':'hola!', 'elem7':250.5}\n",
        "\n",
        "for llave in D5.keys():\n",
        "    valor = D5[llave]\n",
        "    if (type(valor) == int or type(valor)==float):\n",
        "        valorNuevo = valor - valor*0.25\n",
        "        D5[llave] = valorNuevo\n",
        "        \n",
        "print(D5)"
      ]
    },
    {
      "cell_type": "markdown",
      "metadata": {
        "id": "lrFlKiHxEI0A"
      },
      "source": [
        "# Funciones\n",
        "\n",
        "\n",
        "# Declaración de funciones\n",
        "\n",
        "En Python se utiliza la palabra reservada **def** para definir una función. La sintaxis es la siguiente:\n",
        "\n",
        "<br>\n",
        "\n",
        " **def** _nombreDeLaFuncion_ **(** $parametro_1, parametro_2, ..., parametro_n$ **):** \n",
        "\n",
        "A continuación un ejemplo:"
      ]
    },
    {
      "cell_type": "code",
      "execution_count": null,
      "metadata": {
        "id": "trp8BVpOEI0A"
      },
      "outputs": [],
      "source": [
        "def imprimirMensaje(nombre=\"Samuel\"):\n",
        "    '''\n",
        "    Docstring.\n",
        "    Procedimiento que imprime un mensaje utilizando un valor de entrada.\n",
        "    \n",
        "    INPUT:\n",
        "        nombre: str\n",
        "    OUTPUT:\n",
        "        None\n",
        "    '''\n",
        "    if(type(nombre) != str): #validamos que el argumento <nombre> sea de tipo string\n",
        "        print(\"Error, el parámetro de entrada debe ser un str.\")        \n",
        "    else:\n",
        "        print(f\"Hola {nombre}. Bienvenido al curso\")\n"
      ]
    },
    {
      "cell_type": "code",
      "source": [
        "print(imprimirMensaje())"
      ],
      "metadata": {
        "colab": {
          "base_uri": "https://localhost:8080/"
        },
        "id": "VwFy2Ulpaiba",
        "outputId": "43251eb5-e518-4f5c-bc4e-00e7540353e3"
      },
      "execution_count": null,
      "outputs": [
        {
          "output_type": "stream",
          "name": "stdout",
          "text": [
            "Hola Samuel. Bienvenido al curso\n",
            "None\n"
          ]
        }
      ]
    },
    {
      "cell_type": "code",
      "execution_count": null,
      "metadata": {
        "id": "eLMAWeYGEI0A",
        "outputId": "3a91010b-70a0-4b4d-93ed-ff1d4a2bd90a",
        "colab": {
          "base_uri": "https://localhost:8080/"
        }
      },
      "outputs": [
        {
          "output_type": "stream",
          "name": "stdout",
          "text": [
            "Help on function imprimirMensaje in module __main__:\n",
            "\n",
            "imprimirMensaje(nombre)\n",
            "    Docstring.\n",
            "    Procedimiento que imprime un mensaje utilizando un valor de entrada.\n",
            "    \n",
            "    INPUT:\n",
            "        nombre: str\n",
            "    OUTPUT:\n",
            "        None\n",
            "\n"
          ]
        }
      ],
      "source": [
        "help(imprimirMensaje)\n",
        "# imprimirMensaje?"
      ]
    },
    {
      "cell_type": "code",
      "execution_count": null,
      "metadata": {
        "id": "jhBgVAr5EI0B",
        "outputId": "3428dca9-5ce8-4aae-867f-3525f49d993c",
        "colab": {
          "base_uri": "https://localhost:8080/"
        }
      },
      "outputs": [
        {
          "output_type": "stream",
          "name": "stdout",
          "text": [
            "Hola Miguel. Bienvenido al curso\n",
            "Error, el parámetro de entrada debe ser un str.\n"
          ]
        }
      ],
      "source": [
        "#llamado a la funcion\n",
        "s = 'Miguel'\n",
        "\n",
        "imprimirMensaje(s)\n",
        "imprimirMensaje(98.86)"
      ]
    },
    {
      "cell_type": "markdown",
      "metadata": {
        "id": "34DstFJyEI0B"
      },
      "source": [
        "# Parámetros y argumentos\n",
        "\n",
        "Definiciones:\n",
        "\n",
        "1. **Parámetros**: Variables de la definición de la función y a las que son asignadas un valor al momento de llamar la función.\n",
        "2. **Argumentos**: Valores que son asignados a los parámetros de la función al momento del llamado.\n",
        "\n",
        "El número de parámetros que puede recibir una función es arbitrario, es decir, tantos como se necesiten."
      ]
    },
    {
      "cell_type": "code",
      "execution_count": null,
      "metadata": {
        "id": "5uFB3sfbEI0B",
        "colab": {
          "base_uri": "https://localhost:8080/"
        },
        "outputId": "4f07eb77-dc5e-4ad5-dd82-d0630856ffb2"
      },
      "outputs": [
        {
          "output_type": "stream",
          "name": "stdout",
          "text": [
            "1\n"
          ]
        }
      ],
      "source": [
        "def miFuncion(a,b,c,d): #parametros de la funcion: a, b, c, d\n",
        "    '''\n",
        "    Función que recibe cuatro parámetros y retorna el cuadrado del producto de ellos\n",
        "    '''\n",
        "    f = (a*b*c*d)\n",
        "    \n",
        "    return f**2\n",
        "\n",
        "print(miFuncion(1,1,1,1))"
      ]
    },
    {
      "cell_type": "code",
      "execution_count": null,
      "metadata": {
        "id": "apKEP_vqEI0C",
        "outputId": "170763d3-82ad-4037-f3fb-e25b2a7d647a",
        "colab": {
          "base_uri": "https://localhost:8080/"
        }
      },
      "outputs": [
        {
          "output_type": "stream",
          "name": "stdout",
          "text": [
            "36\n"
          ]
        }
      ],
      "source": [
        "resultado = miFuncion(1,2,3,1) #argumentos de la funcion\n",
        "print(resultado)"
      ]
    },
    {
      "cell_type": "markdown",
      "metadata": {
        "id": "-8_FH1K3EI0C"
      },
      "source": [
        "## Parámetros por defecto\n",
        "\n",
        "Python permite la asignación de valores por defecto a los parámetros de una función. Esto es, es posible asignar un valor por defecto a uno o varios parámetros de la función, de tal forma que si el usuario no ingresa un argumento para un parámetro, se asigna el valor por defecto a este último."
      ]
    },
    {
      "cell_type": "code",
      "execution_count": null,
      "metadata": {
        "id": "xckca_WBEI0C",
        "outputId": "e008ae89-0b22-4e73-c28f-b44cad511aff",
        "colab": {
          "base_uri": "https://localhost:8080/"
        }
      },
      "outputs": [
        {
          "output_type": "stream",
          "name": "stdout",
          "text": [
            "16\n"
          ]
        }
      ],
      "source": [
        "def miFuncion(a,b=1,c=1,d=2): #parametros de la funcion: a, b, c, d\n",
        "    '''\n",
        "    Función que recibe cuatro parámetros y retorna el cuadrado producto de ellos\n",
        "    '''\n",
        "    f = (a*b*c*d)\n",
        "    \n",
        "    return f**2\n",
        "\n",
        "resultado = miFuncion(2) #argumentos de la funcion\n",
        "print(resultado)"
      ]
    },
    {
      "cell_type": "code",
      "execution_count": null,
      "metadata": {
        "id": "BhtQFyylEI0C"
      },
      "outputs": [],
      "source": [
        "def y(v0, t, g=9.8): #valor por defecto para el parámetro g\n",
        "    y = v0*t - 0.5*g*t**2\n",
        "    \n",
        "    return y"
      ]
    },
    {
      "cell_type": "code",
      "execution_count": null,
      "metadata": {
        "id": "1abe-EtZEI0D",
        "outputId": "d6ea520c-5b4f-4da8-d4a6-89d38b30a776",
        "colab": {
          "base_uri": "https://localhost:8080/"
        }
      },
      "outputs": [
        {
          "output_type": "stream",
          "name": "stdout",
          "text": [
            "tiempo: 1 0.09999999999999964\n",
            "tiempo: 2 -9.600000000000001\n",
            "tiempo: 3 -29.1\n",
            "tiempo: 4 -58.400000000000006\n"
          ]
        }
      ],
      "source": [
        "for t in range(1,5):\n",
        "    print(\"tiempo: \"+str(t)+\" \"+str(y(5,t)))\n"
      ]
    },
    {
      "cell_type": "code",
      "execution_count": null,
      "metadata": {
        "id": "bCenhxcBEI0D",
        "outputId": "5ad2337a-1758-4ab2-ac99-7c0c086161dd",
        "colab": {
          "base_uri": "https://localhost:8080/"
        }
      },
      "outputs": [
        {
          "output_type": "stream",
          "name": "stdout",
          "text": [
            "tiempo: 1 0.09999999999999964\n",
            "tiempo: 2 -9.600000000000001\n",
            "tiempo: 3 -29.1\n",
            "tiempo: 4 -58.400000000000006\n"
          ]
        }
      ],
      "source": [
        "for t1 in range(1,5):\n",
        "    print(\"tiempo: \"+str(t1),y(t = t1, v0 = 5)) #llamada a la funcion utilizando el valor por defecto para g"
      ]
    },
    {
      "cell_type": "markdown",
      "source": [
        "## *args y ***kwargs\n",
        "https://python-intermedio.readthedocs.io/es/latest/args_and_kwargs.html"
      ],
      "metadata": {
        "id": "fR-RertVZEpv"
      }
    },
    {
      "cell_type": "code",
      "source": [
        "def test_var_args(f_arg, *argv):\n",
        "    print(\"primer argumento normal:\", f_arg)\n",
        "    print(type(argv))\n",
        "    for arg in argv:\n",
        "        print(\"argumentos de *argv:\", arg)\n",
        "\n",
        "test_var_args('python', 'foo', 'bar')"
      ],
      "metadata": {
        "colab": {
          "base_uri": "https://localhost:8080/"
        },
        "id": "soRzO2nBZt3Z",
        "outputId": "e13f8019-313f-4a66-acd3-51b55ab9009c"
      },
      "execution_count": null,
      "outputs": [
        {
          "output_type": "stream",
          "name": "stdout",
          "text": [
            "primer argumento normal: python\n",
            "<class 'tuple'>\n",
            "argumentos de *argv: foo\n",
            "argumentos de *argv: bar\n"
          ]
        }
      ]
    },
    {
      "cell_type": "code",
      "source": [
        "def saludame(**kwargs):\n",
        "    for key, value in kwargs.items():\n",
        "        print(\"{0} = {1}\".format(key, value))\n",
        "\n",
        "saludame(nombre=\"Covadonga\", apellido = \"Verdugo\")"
      ],
      "metadata": {
        "colab": {
          "base_uri": "https://localhost:8080/"
        },
        "id": "3nrfUkAJZDn5",
        "outputId": "084f3924-5ebd-4866-a29e-38862a62da9c"
      },
      "execution_count": null,
      "outputs": [
        {
          "output_type": "stream",
          "name": "stdout",
          "text": [
            "nombre = Covadonga\n",
            "apellido = Verdugo\n"
          ]
        }
      ]
    },
    {
      "cell_type": "markdown",
      "metadata": {
        "id": "wt1uCgnUEI0D"
      },
      "source": [
        "# 2.3. Valores de retorno\n",
        "\n",
        "Una función puede retornar un valor. En cuyo caso utilizamos la palabra reservada __return__.\n",
        "\n",
        "Sintaxis:\n",
        "    \n",
        "__return__ objeto_a_retornar \n"
      ]
    },
    {
      "cell_type": "code",
      "execution_count": null,
      "metadata": {
        "id": "epMYjJg5EI0E"
      },
      "outputs": [],
      "source": [
        "def cuad(x):\n",
        "    return x**2 #se retorna el valor x al cuadrado"
      ]
    },
    {
      "cell_type": "code",
      "execution_count": null,
      "metadata": {
        "id": "3NIe45VgEI0E",
        "outputId": "de8a14f6-1e1b-4618-eb68-bf45c3e436d7",
        "colab": {
          "base_uri": "https://localhost:8080/"
        }
      },
      "outputs": [
        {
          "output_type": "stream",
          "name": "stdout",
          "text": [
            "225\n",
            "<class 'int'>\n",
            "225\n"
          ]
        }
      ],
      "source": [
        "x = 15\n",
        "\n",
        "Respuesta = cuad(x)\n",
        "\n",
        "print(Respuesta)\n",
        "print(type(Respuesta))\n",
        "print(cuad(x))"
      ]
    },
    {
      "cell_type": "markdown",
      "metadata": {
        "id": "G7X19Bp1EI0E"
      },
      "source": [
        "Una función con valor de retorno, equivale en el momento del llamado, al tipo de dato que retorna. Es decir, una función que devuelve o retorna un valor, soporta todas las operaciones del tipo de dato que retorna."
      ]
    },
    {
      "cell_type": "code",
      "execution_count": null,
      "metadata": {
        "id": "ZBTQxKH0EI0E",
        "outputId": "876257e0-4da2-41de-9a0b-c08bf0d5d8e8",
        "colab": {
          "base_uri": "https://localhost:8080/"
        }
      },
      "outputs": [
        {
          "output_type": "stream",
          "name": "stdout",
          "text": [
            "2.0591260281974\n"
          ]
        }
      ],
      "source": [
        "import math\n",
        "\n",
        "x = 1\n",
        "y = math.sqrt(cuad(x) + 3.24) #estamos utilizando cuad(x) como un flotante\n",
        "\n",
        "print(y)"
      ]
    },
    {
      "cell_type": "markdown",
      "metadata": {
        "id": "6RGiunHYEI0F"
      },
      "source": [
        "## Múltiples valores de retorno\n",
        "\n",
        "En caso de que una funcion deba retornar más de un valor, podemos:\n",
        "\n",
        "1. __Agregar los elementos__ a retornar en una estructura de datos.\n",
        "2. __Retornar los elementos separados por coma (,)__: En este caso, Python se encarga de agregar automáticamente los elementos en una tupla. "
      ]
    },
    {
      "cell_type": "code",
      "execution_count": null,
      "metadata": {
        "id": "NefRrG8eEI0F"
      },
      "outputs": [],
      "source": [
        "## definir una función que reciba dos números como parámetros, debemos\n",
        "## retornar la suma, la resta, el producto y la división de los \n",
        "## dos números\n",
        "\n",
        "def ejemplo(*args):\n",
        "    num1, num2, *_ = args\n",
        "    suma = num1+num2\n",
        "    resta = num1-num2\n",
        "    producto = num1*num2\n",
        "    division = num1/num2\n",
        "\n",
        "    lista = [suma, resta, producto, division]\n",
        "    \n",
        "    return lista"
      ]
    },
    {
      "cell_type": "code",
      "source": [],
      "metadata": {
        "id": "fQaaDcSxicj7"
      },
      "execution_count": null,
      "outputs": []
    },
    {
      "cell_type": "code",
      "execution_count": null,
      "metadata": {
        "id": "bRJq_evWiiI5"
      },
      "outputs": [],
      "source": [
        "## definir una función que reciba dos números como parámetros, debemos\n",
        "## retornar la suma, la resta, el producto y la división de los \n",
        "## dos números\n",
        "\n",
        "def ejemplokwargs(**args):\n",
        "    num1 = args['e1']\n",
        "    num2 = args['e2']\n",
        "    suma = num1+num2\n",
        "    resta = num1-num2\n",
        "    producto = num1*num2\n",
        "    division = num1/num2\n",
        "\n",
        "    lista = [suma, resta, producto, division]\n",
        "    \n",
        "    return lista"
      ]
    },
    {
      "cell_type": "code",
      "source": [
        "ejemplokwargs(e1=1,e2=2)"
      ],
      "metadata": {
        "colab": {
          "base_uri": "https://localhost:8080/"
        },
        "id": "H4p25ZEignOo",
        "outputId": "e71e9a75-9356-47e6-9695-313176828a33"
      },
      "execution_count": null,
      "outputs": [
        {
          "output_type": "execute_result",
          "data": {
            "text/plain": [
              "[3, -1, 2, 0.5]"
            ]
          },
          "metadata": {},
          "execution_count": 20
        }
      ]
    },
    {
      "cell_type": "code",
      "execution_count": null,
      "metadata": {
        "id": "hA6POQArEI0F",
        "outputId": "bdfdec28-1524-45b4-a68a-0241b4c33717",
        "colab": {
          "base_uri": "https://localhost:8080/"
        }
      },
      "outputs": [
        {
          "output_type": "stream",
          "name": "stdout",
          "text": [
            "<class 'list'>\n",
            "[5, 1, 6, 1.5]\n",
            "6\n"
          ]
        }
      ],
      "source": [
        "a = 3\n",
        "b = 2\n",
        "\n",
        "L = ejemplo(a,b)\n",
        "print(type(L))\n",
        "print(L)\n",
        "print(L[2])"
      ]
    },
    {
      "cell_type": "code",
      "execution_count": null,
      "metadata": {
        "id": "o7EzeGKaEI0F"
      },
      "outputs": [],
      "source": [
        "def ejemplo2(num1,num2):\n",
        "    suma = num1+num2\n",
        "    resta = num1-num2\n",
        "    producto = num1*num2\n",
        "    division = num1/num2\n",
        "\n",
        "    dic = {\"s\":suma, \"r\": resta, \"p\":producto, \"div\":division}\n",
        "    \n",
        "    return dic"
      ]
    },
    {
      "cell_type": "code",
      "source": [
        "dic = ejemplo2(1,2)\n",
        "print(dic['s'])"
      ],
      "metadata": {
        "colab": {
          "base_uri": "https://localhost:8080/"
        },
        "id": "I_ZwFL2FlL0i",
        "outputId": "afc712c9-31dd-4c68-c40b-935a15d02f70"
      },
      "execution_count": null,
      "outputs": [
        {
          "output_type": "stream",
          "name": "stdout",
          "text": [
            "3\n"
          ]
        }
      ]
    },
    {
      "cell_type": "code",
      "execution_count": null,
      "metadata": {
        "id": "CdNS27uSEI0G",
        "outputId": "66d9a948-96bd-488e-81db-ec91071507c8"
      },
      "outputs": [
        {
          "name": "stdout",
          "output_type": "stream",
          "text": [
            "<class 'dict'>\n",
            "{'s': 5, 'r': 1, 'p': 6, 'div': 1.5}\n",
            "5\n"
          ]
        }
      ],
      "source": [
        "a = 3\n",
        "\n",
        "L = ejemplo2(a,2)\n",
        "print(type(L))\n",
        "print(L)\n",
        "print(L[\"s\"])"
      ]
    },
    {
      "cell_type": "code",
      "source": [
        "a=3\n",
        "b=1\n",
        "def suma(a):\n",
        "  return a+b\n",
        "\n",
        "print(suma(1))\n",
        "print(a)"
      ],
      "metadata": {
        "colab": {
          "base_uri": "https://localhost:8080/"
        },
        "id": "MBM_29-plrzA",
        "outputId": "c3e5d9e0-7589-46b5-fc64-cd83d9e0c587"
      },
      "execution_count": null,
      "outputs": [
        {
          "output_type": "stream",
          "name": "stdout",
          "text": [
            "2\n",
            "3\n"
          ]
        }
      ]
    },
    {
      "cell_type": "code",
      "execution_count": null,
      "metadata": {
        "id": "PKG5o697EI0G"
      },
      "outputs": [],
      "source": [
        "def ejemplo3(num1,num2):\n",
        "    suma = num1+num2\n",
        "    resta = num1-num2\n",
        "    producto = num1*num2\n",
        "    division = num1/num2\n",
        "    \n",
        "    return suma, resta, producto, division"
      ]
    },
    {
      "cell_type": "code",
      "execution_count": null,
      "metadata": {
        "id": "Qkkd37CKEI0G",
        "outputId": "6263bb20-0287-4b08-dc22-ff5691423575",
        "colab": {
          "base_uri": "https://localhost:8080/"
        }
      },
      "outputs": [
        {
          "output_type": "stream",
          "name": "stdout",
          "text": [
            "5 1 [6, 1.5]\n"
          ]
        }
      ],
      "source": [
        "a = 3\n",
        "b = 2\n",
        "\n",
        "s,r,*c = ejemplo3(a,b)\n",
        "print(s,r,c)"
      ]
    },
    {
      "cell_type": "markdown",
      "metadata": {
        "id": "qY9Zw9QhEI0H"
      },
      "source": [
        "## Los elementos retornados se pueden almacenar de manera independiente"
      ]
    },
    {
      "cell_type": "code",
      "execution_count": null,
      "metadata": {
        "id": "EbyE6wnQEI0H",
        "outputId": "a79b345a-88a1-420a-c602-930a0083c486",
        "colab": {
          "base_uri": "https://localhost:8080/"
        }
      },
      "outputs": [
        {
          "output_type": "stream",
          "name": "stdout",
          "text": [
            "<class 'int'>\n",
            "5\n",
            "<class 'int'>\n",
            "1\n",
            "<class 'int'>\n",
            "6\n",
            "<class 'float'>\n",
            "1.5\n"
          ]
        }
      ],
      "source": [
        "s,r,p,d = ejemplo3(a,b) #unpacking\n",
        "\n",
        "print(type(s))\n",
        "print(s)\n",
        "print(type(r))\n",
        "print(r)\n",
        "print(type(p))\n",
        "print(p)\n",
        "print(type(d))\n",
        "print(d)"
      ]
    },
    {
      "cell_type": "markdown",
      "metadata": {
        "id": "3-dwoe-bEI0H"
      },
      "source": [
        "# Localidad y globalidad de una variable\n",
        "\n",
        "Una variable puede ser local o global respecto a una función, i.e., el valor de la variable puede existir de forma interna o externa a la función. Por definición, todo parámetro de una función es local a la misma."
      ]
    },
    {
      "cell_type": "code",
      "execution_count": null,
      "metadata": {
        "scrolled": true,
        "id": "CCeSkY6dEI0I",
        "outputId": "9b2b3784-096a-42b6-b605-3ac9a0518f65"
      },
      "outputs": [
        {
          "name": "stdout",
          "output_type": "stream",
          "text": [
            "Valor de c dentro de la funcion:  6\n",
            "Valor de c por fuera de la funcion:  10\n"
          ]
        }
      ],
      "source": [
        "c = 10 #c es una variable por fuera de la funcion suma, esto es, c es global\n",
        "\n",
        "def suma(a, b):\n",
        "    c = a + b #la variable c es local respecto a la funcion suma\n",
        "    return c\n",
        "\n",
        "print(\"Valor de c dentro de la funcion: \", suma(2, 4))\n",
        "print(\"Valor de c por fuera de la funcion: \", c)"
      ]
    },
    {
      "cell_type": "code",
      "execution_count": null,
      "metadata": {
        "id": "nUPnPs-cEI0I",
        "outputId": "6edd660f-a121-4ca0-be90-75ca702f84fa"
      },
      "outputs": [
        {
          "name": "stdout",
          "output_type": "stream",
          "text": [
            "10\n"
          ]
        }
      ],
      "source": [
        "print(c)"
      ]
    },
    {
      "cell_type": "code",
      "source": [
        "dir(list)"
      ],
      "metadata": {
        "id": "Nmuw53wSVuJM",
        "outputId": "2d8b3045-775f-41ea-f6ba-86ae34b4ed80",
        "colab": {
          "base_uri": "https://localhost:8080/"
        }
      },
      "execution_count": null,
      "outputs": [
        {
          "output_type": "execute_result",
          "data": {
            "text/plain": [
              "['__add__',\n",
              " '__class__',\n",
              " '__contains__',\n",
              " '__delattr__',\n",
              " '__delitem__',\n",
              " '__dir__',\n",
              " '__doc__',\n",
              " '__eq__',\n",
              " '__format__',\n",
              " '__ge__',\n",
              " '__getattribute__',\n",
              " '__getitem__',\n",
              " '__gt__',\n",
              " '__hash__',\n",
              " '__iadd__',\n",
              " '__imul__',\n",
              " '__init__',\n",
              " '__init_subclass__',\n",
              " '__iter__',\n",
              " '__le__',\n",
              " '__len__',\n",
              " '__lt__',\n",
              " '__mul__',\n",
              " '__ne__',\n",
              " '__new__',\n",
              " '__reduce__',\n",
              " '__reduce_ex__',\n",
              " '__repr__',\n",
              " '__reversed__',\n",
              " '__rmul__',\n",
              " '__setattr__',\n",
              " '__setitem__',\n",
              " '__sizeof__',\n",
              " '__str__',\n",
              " '__subclasshook__',\n",
              " 'append',\n",
              " 'clear',\n",
              " 'copy',\n",
              " 'count',\n",
              " 'extend',\n",
              " 'index',\n",
              " 'insert',\n",
              " 'pop',\n",
              " 'remove',\n",
              " 'reverse',\n",
              " 'sort']"
            ]
          },
          "metadata": {},
          "execution_count": 4
        }
      ]
    },
    {
      "cell_type": "markdown",
      "metadata": {
        "id": "DW-BT362EI0I"
      },
      "source": [
        "# Ejercicios\n",
        "\n",
        "\n",
        "### 1. Escriba un programa que reciba los valores de dos catetos de un triángulo rectángulo y retorne el valor de la hipotenusa del triángulo. \n",
        "\n",
        "### 2. Se debe crear un programa que solicite números enteros a un usuario hasta que ingrese una 'Q'. Los números se deben almacenar en una lista, pero un número solo puede estar únicamente una vez. Es decir, aunque el usuario ingrese números repetidos, estos no se deben almacenar en la lista. \n",
        "\n",
        "### 3. Escribe un programa que lea una cadena y devuelva un diccionario con la cantidad de apariciones de cada caracter en la cadena.\n",
        "\n",
        "### 4. Crea un programa que pida dos número enteros al usuario y diga si alguno de ellos es múltiplo del otro. Crea un programa que reciba los dos números para evaluar si ambos son multiplos, y devuelve un valor booleano.\n",
        "\n",
        "### 5. Crea un programa “calcularMaxMin” que recibe una lista con valores numéricos y devuelve el valor máximo y el mínimo.\n",
        "\n",
        "### 6. Crear una función que reciba un año y retorne un valor booleano (True o False) si el año es bisiesto o no, respectivamente.\n",
        "\n",
        "### 7. Crear un programa que solicite una palabra e imprima el número de veces que aparece cada vocal\n",
        "\n",
        "### 8. Crear un programa que reciba una palabra e indique si es palíndrome"
      ]
    },
    {
      "cell_type": "code",
      "execution_count": null,
      "metadata": {
        "id": "RdX-5GUcEI0I",
        "outputId": "51c18b98-14c2-4c9e-b7c5-be961569993b"
      },
      "outputs": [
        {
          "name": "stdout",
          "output_type": "stream",
          "text": [
            "16.97056274847714\n"
          ]
        }
      ],
      "source": [
        "# 1. Escriba una función que reciba los valores de dos catetos de un triángulo \n",
        "#rectángulo y retorne el valor de la hipotenusa del triángulo.\n",
        "\n",
        "#Como programa:\n",
        "cat1 = 12\n",
        "cat2 = 12\n",
        "\n",
        "hip = (cat1**2 +  cat2**2)**(1/2)\n",
        "print(hip)"
      ]
    },
    {
      "cell_type": "code",
      "execution_count": null,
      "metadata": {
        "id": "ncU-kKiMEI0J"
      },
      "outputs": [],
      "source": [
        "#Como funcion\n",
        "\n",
        "def hipotenusa(cat1, cat2):\n",
        "    return (cat1**2 +  cat2**2)**(1/2)"
      ]
    },
    {
      "cell_type": "code",
      "execution_count": null,
      "metadata": {
        "id": "UcSx5W8tEI0J",
        "outputId": "35f411f5-0c05-48df-9042-f4520f6371ac"
      },
      "outputs": [
        {
          "name": "stdout",
          "output_type": "stream",
          "text": [
            "5.0\n",
            "22.360679774997898\n",
            "16.97056274847714\n"
          ]
        }
      ],
      "source": [
        "print(hipotenusa(4,3))\n",
        "print(hipotenusa(10,20))\n",
        "H5 = hipotenusa(12,12)\n",
        "print(H5)"
      ]
    },
    {
      "cell_type": "code",
      "execution_count": null,
      "metadata": {
        "id": "kulKEIGkvC3Q"
      },
      "outputs": [],
      "source": [
        "# 2. Se debe crear un programa que solicite números enteros a un usuario hasta que \n",
        "#ingrese una 'Q'. Los números se deben almacenar en una lista, pero un número \n",
        "#solo puede estar únicamente una vez. Es decir, aunque el usuario ingrese números \n",
        "#repetidos, estos no se deben almacenar en la lista.\n",
        "\n"
      ]
    },
    {
      "cell_type": "code",
      "execution_count": null,
      "metadata": {
        "id": "X66DFjTSEI0K"
      },
      "outputs": [],
      "source": [
        "#3. Escribe un programa que lea una cadena de caracteres y devuelva un diccionario con la \n",
        "# cantidad de apariciones de cada caracter en la cadena.\n",
        "\n",
        "# si se ingresa 'Holaaaa' --> {'H':1, 'o':1, 'l':1, 'a':4}\n",
        "\n"
      ]
    },
    {
      "cell_type": "code",
      "execution_count": null,
      "metadata": {
        "id": "gxu7HeMhEI0L"
      },
      "outputs": [],
      "source": [
        "# 4. Crea un programa que pida dos número enteros al usuario y diga si alguno de \n",
        "# ellos es múltiplo del otro. Crea una función EsMultiplo que reciba los dos números, \n",
        "# y devuelve un valor booleano.\n"
      ]
    },
    {
      "cell_type": "code",
      "execution_count": null,
      "metadata": {
        "id": "dGeofxu6EI0L"
      },
      "outputs": [],
      "source": [
        "# 5. Crea una función “calcularMaxMin” que recibe una lista con valores numéricos \n",
        "# y devuelve el valor máximo y el mínimo.\n"
      ]
    },
    {
      "cell_type": "code",
      "execution_count": null,
      "metadata": {
        "id": "NQ5_5QbbEI0L"
      },
      "outputs": [],
      "source": [
        "# 6. Crear una función que reciba un año y retorne un valor booleano (True o False) \n",
        "# si el año es bisiesto o no, respectivamente.\n",
        "\n",
        "# Un año es bisiesto si es divisible entre 400 o si\n",
        "# es múltiplo de 4 y no divisible por 100\n"
      ]
    },
    {
      "cell_type": "code",
      "execution_count": null,
      "metadata": {
        "id": "yn66pgyAEI0L"
      },
      "outputs": [],
      "source": [
        "# 7. Crear un programa que solicite una palabra e imprima \n",
        "# el número de veces que aparece cada vocal\n",
        "\n"
      ]
    },
    {
      "cell_type": "code",
      "execution_count": null,
      "metadata": {
        "id": "zrxcEei1EI0L"
      },
      "outputs": [],
      "source": [
        "# 8. Programa que reciba una palabra e indique si es palíndrome\n"
      ]
    }
  ],
  "metadata": {
    "kernelspec": {
      "display_name": "Python 3",
      "language": "python",
      "name": "python3"
    },
    "language_info": {
      "codemirror_mode": {
        "name": "ipython",
        "version": 3
      },
      "file_extension": ".py",
      "mimetype": "text/x-python",
      "name": "python",
      "nbconvert_exporter": "python",
      "pygments_lexer": "ipython3",
      "version": "3.7.6"
    },
    "colab": {
      "provenance": [],
      "collapsed_sections": [
        "oS4tynGDEIz6",
        "jCSy9NNrEIz8",
        "AQd278prEIz9",
        "-8_FH1K3EI0C"
      ]
    }
  },
  "nbformat": 4,
  "nbformat_minor": 0
}