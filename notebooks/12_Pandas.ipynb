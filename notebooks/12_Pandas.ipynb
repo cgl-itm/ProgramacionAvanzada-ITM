{
  "cells": [
    {
      "cell_type": "markdown",
      "metadata": {
        "id": "HYkAORXHLNre"
      },
      "source": [
        "# Pandas\n",
        "\n",
        "Pandas es un módulo de python para análisis de datos. Pandas ofrece una variedad de métodos para manipulación de datos que permite ejecutar tareas complejas con comandos simples (de una línea).\n",
        "\n",
        "Mientras numpy es un módulo construido alrededor de la estructura de una __matriz__ (ndarray), pandas es un módulo construido alrededor de la estructura de un __DataFrame__. Un __DataFrame__ se asemeja a una matriz, con algunas diferencias:\n",
        "\n",
        "* En un DataFrame, las columnas tienen nombres de cabecera\n",
        "* Diferentes tipos de datos (int, str, bool, entre otros) se permiten dentro del mismo __DataFrame__. Cada columna tiene su propio tipo de dato (dtype o type).\n",
        "\n",
        "Pandas está diseñado para trabar en conjunto con numpy y matplotlib, por lo tanto, importemoslos todos."
      ]
    },
    {
      "cell_type": "code",
      "execution_count": null,
      "metadata": {
        "id": "iExY7NoILNrh"
      },
      "outputs": [],
      "source": [
        "import pandas as pd\n",
        "import matplotlib.pyplot as plt #seaborn, plotly, bokeh #pip install pandas_bokeh\n",
        "import numpy as np\n",
        "\n",
        "pd.options.display.float_format = '{:.5f}'.format"
      ]
    },
    {
      "cell_type": "markdown",
      "metadata": {
        "id": "HGbfcVXqLNri"
      },
      "source": [
        "### En caso de no tener instalado pandas:\n",
        "!pip install pandas\n",
        "\n",
        "o \n",
        "\n",
        "!conda install pandas"
      ]
    },
    {
      "cell_type": "code",
      "execution_count": null,
      "metadata": {
        "colab": {
          "base_uri": "https://localhost:8080/"
        },
        "id": "FSTkytyfLNrj",
        "outputId": "85fdb060-92d0-40b2-f22f-39bbb554b5cd"
      },
      "outputs": [],
      "source": [
        "dir(pd)"
      ]
    },
    {
      "cell_type": "code",
      "execution_count": null,
      "metadata": {
        "id": "4s04FB_HLNrk"
      },
      "outputs": [],
      "source": [
        "#df = pd.read_csv(\"Datos.csv\", header=None)\n",
        "#df = pd.read_csv(\"Datos.csv\",names=['Pais','Confirmados','Deaths','Recovered','Active','New cases','New deaths','New recovered','Deaths / 100 Cases','Recovered / 100 Cases','Deaths / 100 Recovered','Confirmed last week','1 week change','1 week % increase','WHO Region']) #comma separated values\n",
        "\n",
        "df = pd.read_csv(\"https://raw.githubusercontent.com/cgl-itm/ProgramacionAvanzada-ITM/main/notebooks/Datos.csv\", index_col=0) #comma separated values"
      ]
    },
    {
      "cell_type": "code",
      "execution_count": null,
      "metadata": {
        "colab": {
          "base_uri": "https://localhost:8080/",
          "height": 455
        },
        "id": "ms6E9Yw8aQB0",
        "outputId": "66b898c0-7293-4e2d-b462-78e82a4598de"
      },
      "outputs": [],
      "source": [
        "df[['Deaths']]"
      ]
    },
    {
      "cell_type": "code",
      "execution_count": null,
      "metadata": {
        "colab": {
          "base_uri": "https://localhost:8080/",
          "height": 568
        },
        "id": "1JwDoN32e4yQ",
        "outputId": "e41f85ff-cf65-4e2e-f3c7-5fcf2d0e9df9"
      },
      "outputs": [],
      "source": [
        "df"
      ]
    },
    {
      "cell_type": "code",
      "execution_count": null,
      "metadata": {
        "colab": {
          "base_uri": "https://localhost:8080/"
        },
        "id": "PV0nJG_zeDXn",
        "outputId": "c8d9e3dd-61ba-4d0b-fe16-506653fc7169"
      },
      "outputs": [],
      "source": [
        "df.columns"
      ]
    },
    {
      "cell_type": "markdown",
      "metadata": {
        "id": "R5fYVBwvLNrl"
      },
      "source": [
        "A menos que se especifique de otra manera, los objetos DataFrame tienen índices que comienzan en 0 y se incrementan monotónicamente a través de los enteros (esto es tanto para filas como para columnas)."
      ]
    },
    {
      "cell_type": "code",
      "execution_count": null,
      "metadata": {
        "colab": {
          "base_uri": "https://localhost:8080/"
        },
        "id": "6PXZ6wXGLNrl",
        "outputId": "33240db6-7c8f-47c3-bc7b-d75b9ca578cb"
      },
      "outputs": [],
      "source": [
        "(df['Deaths']>100).sum()"
      ]
    },
    {
      "cell_type": "code",
      "execution_count": null,
      "metadata": {
        "colab": {
          "base_uri": "https://localhost:8080/"
        },
        "id": "mCsA2fZTLNrm",
        "outputId": "4069cf24-b5b0-4496-f451-3a6beec93120"
      },
      "outputs": [],
      "source": [
        "type(df)\n",
        "#print(df)"
      ]
    },
    {
      "cell_type": "code",
      "execution_count": null,
      "metadata": {
        "colab": {
          "base_uri": "https://localhost:8080/"
        },
        "id": "wIW8-QB6LNrn",
        "outputId": "c42d6582-3b28-46ff-87be-a0777a82bbc9"
      },
      "outputs": [],
      "source": [
        "df.dtypes"
      ]
    },
    {
      "cell_type": "markdown",
      "metadata": {
        "id": "bbbdEfrYLNro"
      },
      "source": [
        "El contenido del archivo _Datos.csv_ se encuentran almacenados en el objeto DataFrame _df_.\n",
        "\n",
        "Existen algunos métodos comunes y atributos disponibles para ojear los datos:\n",
        "\n",
        "1. ```DataFrame.head()```  -> retorna los nombres de las columnas y las primeras 5 filas por defecto\n",
        "2. ```DataFrame.tail()```  -> retorna los nombres de las columnas y las últimos 5 filas por defecto\n",
        "3. ```DataFrame.shape```   -> retorna (num_filas, num_columnas)\n",
        "4. ```DataFrame.columns``` -> retorna los índices de las columnas\n",
        "5. ```DataFrame.index```   -> returns los índices de las filas\n",
        "\n",
        "Recomiendo revisar la [documentación de pandas](https://pandas.pydata.org/pandas-docs/stable/) y explorar los parámetros de estos métodos así como de otros métodos."
      ]
    },
    {
      "cell_type": "code",
      "execution_count": null,
      "metadata": {
        "id": "TqOQzGBDLNrp"
      },
      "outputs": [],
      "source": [
        "# df.head()\n",
        "# df.tail()\n",
        "# df.shape\n",
        "# print(df.columns)\n",
        "#for i in df.columns:\n",
        "#  print(i)\n",
        "#df.index.a"
      ]
    },
    {
      "cell_type": "markdown",
      "metadata": {
        "id": "P7nDhxr8LNrq"
      },
      "source": [
        "## Método describe e info\n",
        "\n",
        "Con estos métodos, Pandas nos brinda un rápido resumen de las estadísticas por columna de una forma muy fácil."
      ]
    },
    {
      "cell_type": "code",
      "execution_count": null,
      "metadata": {
        "colab": {
          "base_uri": "https://localhost:8080/",
          "height": 0
        },
        "id": "xC91vjAnLNrq",
        "outputId": "2f89b44a-1742-428f-9f8a-bf748d7c1ef9"
      },
      "outputs": [],
      "source": [
        "df.describe()"
      ]
    },
    {
      "cell_type": "code",
      "execution_count": null,
      "metadata": {
        "colab": {
          "base_uri": "https://localhost:8080/"
        },
        "id": "ox7cYHgwLNrr",
        "outputId": "c90ae3b1-d7e9-48d8-f0da-95ac6b932b30"
      },
      "outputs": [],
      "source": [
        "df.info()"
      ]
    },
    {
      "cell_type": "markdown",
      "metadata": {
        "id": "wB5dnX7fLNrr"
      },
      "source": [
        "Para referirse a las columnas se pueden llamar como objetos de python. Por ejemplo:\n"
      ]
    },
    {
      "cell_type": "code",
      "execution_count": null,
      "metadata": {
        "colab": {
          "base_uri": "https://localhost:8080/"
        },
        "id": "MoRJb3yHLNrs",
        "outputId": "7877259c-9d17-4c02-a459-dbea39e49e0e"
      },
      "outputs": [],
      "source": [
        "df.columns"
      ]
    },
    {
      "cell_type": "code",
      "execution_count": null,
      "metadata": {
        "colab": {
          "base_uri": "https://localhost:8080/"
        },
        "id": "bX-zrPWcLNrs",
        "outputId": "52f067b2-0566-4983-8363-7f1241549a44"
      },
      "outputs": [],
      "source": [
        "df['1 week change'] #Si una columna tiene un nombre de función (por ejemplo sum o pop),\n",
        "          # Si el nombre de la columna tiene espacios\n",
        "#df.Pais #TAB para autocompletado dinámico\n",
        "# df.Recovered # Lo puedo llamar como un atributo si el nombre no tiene espacios\n",
        "# df['Deaths']"
      ]
    },
    {
      "cell_type": "code",
      "execution_count": null,
      "metadata": {
        "id": "-wRzG4HDLNrt"
      },
      "outputs": [],
      "source": [
        "#Podemos cambiar nombres de columnas (o filas)\n",
        "df.rename(columns = {'Deaths':'Muertos','Active':'Activos', 'Recovered':'Recuperados', 'New cases':'new_cases'}, inplace=True)"
      ]
    },
    {
      "cell_type": "code",
      "execution_count": null,
      "metadata": {
        "colab": {
          "base_uri": "https://localhost:8080/",
          "height": 0
        },
        "id": "XciXPVnNLNrt",
        "outputId": "eaf622bd-9b1d-48ab-a266-b396db3b4482"
      },
      "outputs": [],
      "source": [
        "df"
      ]
    },
    {
      "cell_type": "code",
      "execution_count": null,
      "metadata": {
        "colab": {
          "base_uri": "https://localhost:8080/",
          "height": 0
        },
        "id": "O1cPj4z9LNrt",
        "outputId": "13501f77-aa9b-4871-ca4e-a5b8058208b9"
      },
      "outputs": [],
      "source": [
        "df.head()"
      ]
    },
    {
      "cell_type": "code",
      "execution_count": null,
      "metadata": {
        "colab": {
          "base_uri": "https://localhost:8080/"
        },
        "id": "VOOL4E1VLNru",
        "outputId": "f4f28b73-e068-4445-9c20-d95f7d46ebb4"
      },
      "outputs": [],
      "source": [
        "df.new_cases"
      ]
    },
    {
      "cell_type": "code",
      "execution_count": null,
      "metadata": {
        "id": "zWHLCsW8LNru"
      },
      "outputs": [],
      "source": [
        "nomb = {'Andorra':'andorra'}\n",
        "df.rename(index=nomb,inplace=True)"
      ]
    },
    {
      "cell_type": "code",
      "execution_count": null,
      "metadata": {
        "colab": {
          "base_uri": "https://localhost:8080/"
        },
        "id": "WnK7IYfVLNrv",
        "outputId": "971b6d7d-3c29-4a36-a7bb-65639edd1a62"
      },
      "outputs": [],
      "source": [
        "df.new_cases"
      ]
    },
    {
      "cell_type": "code",
      "execution_count": null,
      "metadata": {
        "colab": {
          "base_uri": "https://localhost:8080/"
        },
        "id": "di6Coxv8LNrv",
        "outputId": "ac843a81-fbea-49ca-f172-f46a95b5c3e0"
      },
      "outputs": [],
      "source": [
        "type(df['new_cases'])"
      ]
    },
    {
      "cell_type": "code",
      "execution_count": null,
      "metadata": {
        "colab": {
          "base_uri": "https://localhost:8080/"
        },
        "id": "Fht0AZqVLNrv",
        "outputId": "9d30f45d-c793-4b46-a772-34fb6f22f5b3"
      },
      "outputs": [],
      "source": [
        "type(df[['new_cases']])"
      ]
    },
    {
      "cell_type": "code",
      "execution_count": null,
      "metadata": {
        "colab": {
          "base_uri": "https://localhost:8080/"
        },
        "id": "g3i4a5evLNrw",
        "outputId": "c81a7352-d123-4d05-8840-2a1f08cf79c9"
      },
      "outputs": [],
      "source": [
        "print(type(df.Muertos))\n",
        "print(type(df['Muertos']))\n",
        "print(type(df[['Muertos']]))\n",
        "print(type(df))"
      ]
    },
    {
      "cell_type": "code",
      "execution_count": null,
      "metadata": {
        "colab": {
          "base_uri": "https://localhost:8080/"
        },
        "id": "Hcd8sF6FjCS7",
        "outputId": "db0cf9ca-f590-4ff2-b21a-8b7243cc8a41"
      },
      "outputs": [],
      "source": [
        "df['Muertos']"
      ]
    },
    {
      "cell_type": "markdown",
      "metadata": {
        "id": "3Crmjo0ELNrw"
      },
      "source": [
        "## Slicing"
      ]
    },
    {
      "cell_type": "markdown",
      "metadata": {
        "id": "kUv-z-9hNjvE"
      },
      "source": [
        "https://towardsdatascience.com/loc-vs-iloc-in-pandas-heres-the-difference-16cd4bcbecab"
      ]
    },
    {
      "cell_type": "markdown",
      "metadata": {
        "id": "GKTUpYedM2Du"
      },
      "source": [
        "![](https://miro.medium.com/max/720/1*bEUFOBKEvgZnmBbEPyK3tg.png)\n",
        "![](https://miro.medium.com/max/720/1*dYtynwab99wnMqfgyPUd3w.png)"
      ]
    },
    {
      "cell_type": "code",
      "execution_count": null,
      "metadata": {
        "colab": {
          "base_uri": "https://localhost:8080/",
          "height": 396
        },
        "id": "cujJqirrLNrw",
        "outputId": "2f77b44e-110d-4eb0-d3a0-1c3a90817249",
        "scrolled": true
      },
      "outputs": [],
      "source": [
        "# De este modo únicamente funciona para filas\n",
        "\n",
        "df[:7] #Similar a numpy"
      ]
    },
    {
      "cell_type": "code",
      "execution_count": null,
      "metadata": {
        "colab": {
          "base_uri": "https://localhost:8080/",
          "height": 206
        },
        "id": "fCne4j4ukk5w",
        "outputId": "d3e2c39d-791c-4d79-f556-27a9df19fbfa"
      },
      "outputs": [],
      "source": [
        "df.loc['Albania':'Angola']"
      ]
    },
    {
      "cell_type": "code",
      "execution_count": null,
      "metadata": {
        "colab": {
          "base_uri": "https://localhost:8080/"
        },
        "id": "PsmBLwr3LNrx",
        "outputId": "d5cf323c-c299-4bf4-cda3-a9d29c89f123"
      },
      "outputs": [],
      "source": [
        "help(df.iloc)"
      ]
    },
    {
      "cell_type": "code",
      "execution_count": null,
      "metadata": {
        "colab": {
          "base_uri": "https://localhost:8080/",
          "height": 455
        },
        "id": "pYPYhC1dLNrx",
        "outputId": "8ab7a457-abff-4064-876b-bbee7289fa13"
      },
      "outputs": [],
      "source": [
        "# Si se desea hacer slicing también por columnas, es mejor usar el atributo \"iloc\" \n",
        "# con índices (posiciones)\n",
        "\n",
        "df.iloc[:,3:]"
      ]
    },
    {
      "cell_type": "code",
      "execution_count": null,
      "metadata": {
        "colab": {
          "base_uri": "https://localhost:8080/",
          "height": 143
        },
        "id": "4pKGAVUMLNrx",
        "outputId": "1b0faf1b-6026-4976-9b8b-25cf9dd30d29"
      },
      "outputs": [],
      "source": [
        "df.iloc[2:5:2,1:8:3]"
      ]
    },
    {
      "cell_type": "code",
      "execution_count": null,
      "metadata": {
        "colab": {
          "base_uri": "https://localhost:8080/"
        },
        "id": "2cIifgrULNry",
        "outputId": "2f344881-49be-4efc-d7b1-a2f56823b178"
      },
      "outputs": [],
      "source": [
        "help(df.loc)"
      ]
    },
    {
      "cell_type": "code",
      "execution_count": null,
      "metadata": {
        "colab": {
          "base_uri": "https://localhost:8080/"
        },
        "id": "wa-M4AOElOYL",
        "outputId": "34bd383d-dbdd-4214-e010-25486d0ef689"
      },
      "outputs": [],
      "source": [
        "df.columns"
      ]
    },
    {
      "cell_type": "code",
      "execution_count": null,
      "metadata": {
        "colab": {
          "base_uri": "https://localhost:8080/",
          "height": 582
        },
        "id": "GP8VVNj6LNry",
        "outputId": "7f5aeca3-5a4d-464d-bb94-671b3eeb1438"
      },
      "outputs": [],
      "source": [
        "# Para hacer slicing también por columnas, se puede usar el atributo \"loc\" \n",
        "# con nombres de columnas\n",
        "\n",
        "df.loc['Albania':'Belgium',['Activos', 'Confirmed', 'new_cases']] #Notar que loc  sí incluye el último valor"
      ]
    },
    {
      "cell_type": "code",
      "execution_count": null,
      "metadata": {
        "colab": {
          "base_uri": "https://localhost:8080/",
          "height": 522
        },
        "id": "znuMCSwBLNry",
        "outputId": "fa178979-d087-4fb3-9605-9c5599d45c7f"
      },
      "outputs": [],
      "source": [
        "df.loc[:'Azerbaijan',:]"
      ]
    },
    {
      "cell_type": "markdown",
      "metadata": {
        "id": "XTCHsP4YLNry"
      },
      "source": [
        "## Slicing con relaciones"
      ]
    },
    {
      "cell_type": "code",
      "execution_count": null,
      "metadata": {
        "colab": {
          "base_uri": "https://localhost:8080/"
        },
        "id": "vpYC998NLNrz",
        "outputId": "1711219f-4242-4a9b-9ae7-922e65186dfc"
      },
      "outputs": [],
      "source": [
        "df['Muertos'] > 400"
      ]
    },
    {
      "cell_type": "code",
      "execution_count": null,
      "metadata": {
        "colab": {
          "base_uri": "https://localhost:8080/",
          "height": 551
        },
        "id": "J5EY5z2BLNrz",
        "outputId": "70372b65-3611-40dd-9e47-0b37dbc87ce2",
        "scrolled": false
      },
      "outputs": [],
      "source": [
        "df[df['Muertos'] > 400]"
      ]
    },
    {
      "cell_type": "code",
      "execution_count": null,
      "metadata": {
        "colab": {
          "base_uri": "https://localhost:8080/",
          "height": 438
        },
        "id": "nwHveS6cLNrz",
        "outputId": "801c6b48-7cb9-4c46-d1cd-99fe84ca3b9e"
      },
      "outputs": [],
      "source": [
        "# Qué paises de América presentaron más de 500 casos nuevos y un porcentaje \n",
        "# de incremento semanal mayor al 10%\n",
        "\n",
        "#Se recomienda separar cada condición con paréntesis para evitar errores\n",
        "df[(df['WHO Region'] == 'Americas') & (df.new_cases > 500) & (df['1 week % increase'] > 10)]\n"
      ]
    },
    {
      "cell_type": "markdown",
      "metadata": {
        "id": "TKQ2cu-lLNr0"
      },
      "source": [
        "## Aritmética Simple\n",
        "\n",
        "Como numpy, los objetos de pandas tienen sobrecargados operaciones aritméticas básicas, como +, -,*, /, ***."
      ]
    },
    {
      "cell_type": "code",
      "execution_count": null,
      "metadata": {
        "colab": {
          "base_uri": "https://localhost:8080/"
        },
        "id": "sD_8jN-FLNr0",
        "outputId": "6cefa64d-11df-4cef-ee3d-94e933a72900"
      },
      "outputs": [],
      "source": [
        "print(df.Muertos[1:5])\n",
        "print(df.Muertos[1:5]*10)\n",
        "print(df.Muertos[1:5]/10)\n",
        "print(df.Muertos[1:5]+df.Muertos[1:5])\n",
        "print(df.Muertos[1:5]**2)"
      ]
    },
    {
      "cell_type": "code",
      "execution_count": null,
      "metadata": {
        "colab": {
          "base_uri": "https://localhost:8080/",
          "height": 0
        },
        "id": "rVzhc8ypLNr0",
        "outputId": "7d0226c6-a6e7-434f-f9ce-7a601dc039db"
      },
      "outputs": [],
      "source": [
        "df.head(2)"
      ]
    },
    {
      "cell_type": "code",
      "execution_count": null,
      "metadata": {
        "id": "SUBiuHeko36T"
      },
      "outputs": [],
      "source": [
        "df.iloc[0,:-1] *= 10"
      ]
    },
    {
      "cell_type": "code",
      "execution_count": null,
      "metadata": {
        "colab": {
          "base_uri": "https://localhost:8080/",
          "height": 0
        },
        "id": "9sfoDck_pEec",
        "outputId": "4701a33b-8435-42e0-d646-fb08ac2551b1"
      },
      "outputs": [],
      "source": [
        "df"
      ]
    },
    {
      "cell_type": "markdown",
      "metadata": {
        "id": "P32XfnLWLNr1"
      },
      "source": [
        "## Crear columnas adicionales"
      ]
    },
    {
      "cell_type": "code",
      "execution_count": null,
      "metadata": {
        "colab": {
          "base_uri": "https://localhost:8080/",
          "height": 568
        },
        "id": "HvrErGxQLNr2",
        "outputId": "541f38f6-65c4-4aa1-d3c1-45c045adbb3a"
      },
      "outputs": [],
      "source": [
        "df"
      ]
    },
    {
      "cell_type": "code",
      "execution_count": null,
      "metadata": {
        "id": "eZ90wGfBLNr2"
      },
      "outputs": [],
      "source": [
        "df['Relacion'] = (df['Confirmed'] - df['Muertos'])*100/df.Confirmed"
      ]
    },
    {
      "cell_type": "code",
      "execution_count": null,
      "metadata": {
        "colab": {
          "base_uri": "https://localhost:8080/",
          "height": 568
        },
        "id": "Ts4Va488LNr2",
        "outputId": "37030fd2-2bfd-4b1f-c719-66b47d4e20a3"
      },
      "outputs": [],
      "source": [
        "df"
      ]
    },
    {
      "cell_type": "markdown",
      "metadata": {
        "id": "WjT-ruIxLNr2"
      },
      "source": [
        "## Remover columnas"
      ]
    },
    {
      "cell_type": "code",
      "execution_count": null,
      "metadata": {
        "colab": {
          "base_uri": "https://localhost:8080/",
          "height": 568
        },
        "id": "-yqQXlpBLNr2",
        "outputId": "ceabaae6-79d4-4b2b-f8ac-f942d924c053"
      },
      "outputs": [],
      "source": [
        "df.drop('Relacion',axis=1)\n",
        "df"
      ]
    },
    {
      "cell_type": "code",
      "execution_count": null,
      "metadata": {
        "colab": {
          "base_uri": "https://localhost:8080/"
        },
        "id": "L3wqo4U8rBNI",
        "outputId": "8facdf17-c979-49a9-d4ec-4dd3af1e36cb"
      },
      "outputs": [],
      "source": [
        "df.Relacion"
      ]
    },
    {
      "cell_type": "code",
      "execution_count": null,
      "metadata": {
        "colab": {
          "base_uri": "https://localhost:8080/",
          "height": 586
        },
        "id": "bcNj-KcdLNr3",
        "outputId": "5b1aa553-d36f-47a9-9c8d-db5ce5ab7c8c"
      },
      "outputs": [],
      "source": [
        "df.drop('andorra',axis=0, inplace=True)\n",
        "df"
      ]
    },
    {
      "cell_type": "code",
      "execution_count": null,
      "metadata": {
        "colab": {
          "base_uri": "https://localhost:8080/",
          "height": 586
        },
        "id": "6PUMbmeuLNr3",
        "outputId": "9c5c65ac-79b7-4216-e57b-40fce0c71103"
      },
      "outputs": [],
      "source": [
        "df.loc['Zimbabwe','Muertos'] = 3500\n",
        "#df2.Muertos = 0\n",
        "df"
      ]
    },
    {
      "cell_type": "markdown",
      "metadata": {
        "id": "XqRUyOzfLNr3"
      },
      "source": [
        "## Estadística Descriptiva\n",
        "\n",
        "Para la mayoría de estadísticas descriptivas, pandas provee métodos:"
      ]
    },
    {
      "cell_type": "code",
      "execution_count": null,
      "metadata": {
        "colab": {
          "base_uri": "https://localhost:8080/"
        },
        "id": "a4R2L8N0LNr3",
        "outputId": "9f878cde-92c3-4c89-92ae-9fc4db112cad"
      },
      "outputs": [],
      "source": [
        "df['new_cases'].sum()"
      ]
    },
    {
      "cell_type": "markdown",
      "metadata": {
        "id": "y6TyAyj2Ak38"
      },
      "source": [
        "## Ejemplo de datos con distribucion Normal"
      ]
    },
    {
      "cell_type": "code",
      "execution_count": null,
      "metadata": {
        "colab": {
          "base_uri": "https://localhost:8080/",
          "height": 447
        },
        "id": "FVq-bS2fz1xT",
        "outputId": "8f14af08-c365-480e-b2c1-544b2a75322b"
      },
      "outputs": [],
      "source": [
        "datos = np.random.randn(1000)\n",
        "datos2 = pd.DataFrame(datos)\n",
        "datos2.boxplot()"
      ]
    },
    {
      "cell_type": "markdown",
      "metadata": {
        "id": "Qe0RHTG4Av08"
      },
      "source": [
        "## Ejercicio\n",
        "Encontrar cual es el pais con la menor y mayor cantidad de Muertos "
      ]
    },
    {
      "cell_type": "code",
      "execution_count": null,
      "metadata": {
        "id": "1hUBQuWVz6rC"
      },
      "outputs": [],
      "source": []
    },
    {
      "cell_type": "markdown",
      "metadata": {
        "id": "z7xdJJkBTuiJ"
      },
      "source": [
        "## Ejercicio"
      ]
    },
    {
      "cell_type": "markdown",
      "metadata": {
        "id": "qK-f7v6JUdho"
      },
      "source": [
        "Encontrar la cantidad de casos confirmados menores a 4 millones"
      ]
    },
    {
      "cell_type": "code",
      "execution_count": null,
      "metadata": {
        "id": "aZzQk65OAto8"
      },
      "outputs": [],
      "source": []
    },
    {
      "cell_type": "markdown",
      "metadata": {
        "id": "VVdOko3C-GYE"
      },
      "source": [
        "## Ejercicio\n",
        "Organizar los datos de acuerdo a la cantidad de Muertos y graficar los primeros 5 paises con la cantidad de Muertos."
      ]
    },
    {
      "cell_type": "code",
      "execution_count": null,
      "metadata": {
        "id": "dsQ8U9Tl8wYj"
      },
      "outputs": [],
      "source": []
    },
    {
      "cell_type": "code",
      "execution_count": null,
      "metadata": {
        "colab": {
          "base_uri": "https://localhost:8080/",
          "height": 725
        },
        "id": "Bknjsp2vVWug",
        "outputId": "5fd9d03d-9dfb-4ef1-be3c-abaf11f272bb"
      },
      "outputs": [],
      "source": [
        "df3 = df.copy()\n",
        "df3['Confirmed'].loc['Holy See'] = 10\n",
        "df3['Muertos'].loc['Holy See'] = 2\n",
        "df3.sort_values(by=['Confirmed','Muertos'])"
      ]
    },
    {
      "cell_type": "code",
      "execution_count": null,
      "metadata": {
        "id": "KZ6RmaBCb2G4"
      },
      "outputs": [],
      "source": [
        "sernueva = df['Confirmed last week'].sort_values(ascending = False)"
      ]
    },
    {
      "cell_type": "code",
      "execution_count": null,
      "metadata": {
        "colab": {
          "base_uri": "https://localhost:8080/",
          "height": 825
        },
        "id": "h6Oaz0rDcgSP",
        "outputId": "7c6a13cd-1fe9-41e6-d11e-62d223a51716"
      },
      "outputs": [],
      "source": [
        "sernueva[:30].plot.bar(figsize = (8,8))"
      ]
    },
    {
      "cell_type": "code",
      "execution_count": null,
      "metadata": {
        "colab": {
          "base_uri": "https://localhost:8080/"
        },
        "id": "XxAhUOSSLNr4",
        "outputId": "1ac924a0-b393-46db-bbdf-ef2376b6d92f",
        "scrolled": true
      },
      "outputs": [],
      "source": [
        "print('Promedio             ', df.Activos.mean())\n",
        "print('Desviación estándar  ', df.Activos.std())\n",
        "print('Mediana              ', df.Activos.median())\n",
        "print('Mínimo               ', df.Activos.min())\n",
        "print('Máximo               ', df.Activos.max())"
      ]
    },
    {
      "cell_type": "markdown",
      "metadata": {
        "id": "351DKCpfLNr4"
      },
      "source": [
        "## Gráficas a partir de DataFrames"
      ]
    },
    {
      "cell_type": "code",
      "execution_count": null,
      "metadata": {
        "colab": {
          "base_uri": "https://localhost:8080/",
          "height": 449
        },
        "id": "3VpnopnpLNr4",
        "outputId": "107aa312-9071-48f1-d538-972c7deab69f"
      },
      "outputs": [],
      "source": [
        "plt.figure()\n",
        "plt.scatter(df['new_cases'], df['New deaths'], color='red', alpha=0.6)\n",
        "plt.ylabel('Nuevas muertes')\n",
        "plt.xlabel('Nuevos Casos')\n",
        "plt.grid()\n",
        "plt.show()"
      ]
    },
    {
      "cell_type": "code",
      "execution_count": null,
      "metadata": {
        "colab": {
          "base_uri": "https://localhost:8080/",
          "height": 466
        },
        "id": "awA31MUUdehH",
        "outputId": "9fb85d80-09bc-4ccf-93ac-0f48d3b88124"
      },
      "outputs": [],
      "source": [
        "plt.figure(figsize=(12,6))\n",
        "ax = df.plot.scatter(x='new_cases',y='New deaths')\n",
        "ax.grid()\n",
        "plt.show()"
      ]
    },
    {
      "cell_type": "code",
      "execution_count": null,
      "metadata": {
        "colab": {
          "base_uri": "https://localhost:8080/",
          "height": 753
        },
        "id": "bcQKlfRcLNr4",
        "outputId": "136f53e4-5d2a-4cd2-a511-32a0bb17c44e"
      },
      "outputs": [],
      "source": [
        "plt.figure(figsize=(16,9))\n",
        "plt.plot(df['Muertos'][:5], color='red', alpha=0.6)\n",
        "plt.ylabel('Muertos')\n",
        "# plt.grid()\n",
        "plt.show()"
      ]
    },
    {
      "cell_type": "code",
      "execution_count": null,
      "metadata": {
        "colab": {
          "base_uri": "https://localhost:8080/",
          "height": 428
        },
        "id": "l1smskYkLNr5",
        "outputId": "9b7bda1f-aa8c-4ee7-fd4d-816205f0d848"
      },
      "outputs": [],
      "source": [
        "plt.figure(figsize=(40,6))\n",
        "plt.plot(np.arange(186),df['new_cases'],'ro')\n",
        "plt.xticks(np.arange(186),df.index,rotation='vertical');"
      ]
    },
    {
      "cell_type": "code",
      "execution_count": null,
      "metadata": {
        "id": "VM4A-VghfLZ-"
      },
      "outputs": [],
      "source": []
    },
    {
      "cell_type": "code",
      "execution_count": null,
      "metadata": {
        "colab": {
          "base_uri": "https://localhost:8080/",
          "height": 598
        },
        "id": "F1Bgl6dLLNr5",
        "outputId": "64a68242-ad34-4ae9-c46a-c24739246039"
      },
      "outputs": [],
      "source": [
        "plt.figure(figsize=(20,4)) \n",
        "ax = df['new_cases'].plot(xticks=np.arange(186)[::3], rot=70)\n",
        "#ax.set_xticklabels(df.index[::3]);"
      ]
    },
    {
      "cell_type": "code",
      "execution_count": null,
      "metadata": {
        "id": "kW5yfOv8LNr5"
      },
      "outputs": [],
      "source": [
        "arreglo = df.loc['Albania':'Belgium',['Activos', 'Confirmed', 'new_cases']].values #Notar que loc  sí incluye el último valor"
      ]
    },
    {
      "cell_type": "code",
      "execution_count": null,
      "metadata": {
        "colab": {
          "base_uri": "https://localhost:8080/"
        },
        "id": "IAo4x3c0iOjW",
        "outputId": "dcb66589-17c1-4520-d395-8d646ea30254"
      },
      "outputs": [],
      "source": [
        "arreglo"
      ]
    },
    {
      "cell_type": "code",
      "execution_count": null,
      "metadata": {
        "id": "y3o2h28pLNr5"
      },
      "outputs": [],
      "source": [
        "df20 = df.loc['Albania':'Belgium',['Activos', 'Confirmed', 'new_cases']]"
      ]
    },
    {
      "cell_type": "code",
      "execution_count": null,
      "metadata": {
        "colab": {
          "base_uri": "https://localhost:8080/"
        },
        "id": "-UNUvCABLNr5",
        "outputId": "cc28dbd0-aa5f-4fb7-f9a8-d8655be982cd"
      },
      "outputs": [],
      "source": [
        "arreglo"
      ]
    },
    {
      "cell_type": "code",
      "execution_count": null,
      "metadata": {
        "colab": {
          "base_uri": "https://localhost:8080/",
          "height": 459
        },
        "id": "_Mt2eVWhLNr6",
        "outputId": "124a5468-55fc-42b3-b1e4-cd33676372a5"
      },
      "outputs": [],
      "source": [
        "df[(df.index > 'T') & (df.index < 'U')] #regex: expresiones regulares"
      ]
    },
    {
      "cell_type": "code",
      "execution_count": null,
      "metadata": {
        "colab": {
          "base_uri": "https://localhost:8080/",
          "height": 459
        },
        "id": "Ql78Uf32LNr6",
        "outputId": "47dd9112-d0c5-4145-d835-eea75c82e37f"
      },
      "outputs": [],
      "source": [
        "df[df.index.str.contains('^T',regex=True)]"
      ]
    },
    {
      "cell_type": "markdown",
      "metadata": {
        "id": "bKrHiNaTLNr6"
      },
      "source": [
        "## Guardar un DataFrame como un archivo csv"
      ]
    },
    {
      "cell_type": "code",
      "execution_count": null,
      "metadata": {
        "colab": {
          "base_uri": "https://localhost:8080/",
          "height": 351
        },
        "id": "R8Fj1E12LNr6",
        "outputId": "2e7fa34b-bbaa-4f8a-9539-02016dfd8445"
      },
      "outputs": [],
      "source": [
        "print(df.shape)\n",
        "df.tail()"
      ]
    },
    {
      "cell_type": "code",
      "execution_count": null,
      "metadata": {
        "id": "hQvz52frLNr7"
      },
      "outputs": [],
      "source": [
        "df.to_csv('clasePandas.csv')"
      ]
    },
    {
      "cell_type": "code",
      "execution_count": null,
      "metadata": {
        "id": "t8g8dApTkMxW"
      },
      "outputs": [],
      "source": [
        "df.loc['Albania':'Belgium',['Activos', 'Confirmed', 'new_cases']].to_html('base.html')"
      ]
    },
    {
      "cell_type": "markdown",
      "metadata": {
        "id": "fH_DoEvQkomF"
      },
      "source": [
        "$ y  = \\frac{1}{2}$"
      ]
    },
    {
      "cell_type": "markdown",
      "metadata": {
        "id": "BXjcl65MLNr7"
      },
      "source": [
        "## O a excel"
      ]
    },
    {
      "cell_type": "code",
      "execution_count": null,
      "metadata": {
        "id": "VhWdcPlPLNr7"
      },
      "outputs": [],
      "source": [
        "df.to_excel?"
      ]
    },
    {
      "cell_type": "code",
      "execution_count": null,
      "metadata": {
        "id": "oe1f5eQ1LNr7"
      },
      "outputs": [],
      "source": [
        "# df.to_excel('archivo.xlsx')\n",
        "df.to_excel('archivo.xlsx', sheet_name='Datos Covid Noviembre')"
      ]
    },
    {
      "cell_type": "markdown",
      "metadata": {
        "id": "53sbEocELNr7"
      },
      "source": [
        "# Ejercicios propuestos\n",
        "\n",
        "1. Encontrar los países que tengan más de 5000 casos activos y calcule el promedio de casos activos para esos países.\n",
        "\n",
        "2. Encontrar el país que tenga la mayor cantidad de casos recuperados (revisar el método idxmax)\n",
        "\n",
        "3. Encontrar el país con el mayor incremento porcentual en 1 semana\n"
      ]
    },
    {
      "cell_type": "code",
      "execution_count": null,
      "metadata": {
        "colab": {
          "base_uri": "https://localhost:8080/"
        },
        "id": "xPtj2URQni3W",
        "outputId": "fb944856-87fe-48dc-8833-441407135a12"
      },
      "outputs": [],
      "source": [
        "print(df[df['Activos']>5000].index)\n",
        "print(df[df['Activos']>5000].Activos.mean())"
      ]
    },
    {
      "cell_type": "code",
      "execution_count": null,
      "metadata": {
        "colab": {
          "base_uri": "https://localhost:8080/",
          "height": 35
        },
        "id": "cW431gtapRZl",
        "outputId": "90ca86b3-755e-48db-b7fc-38163e527645"
      },
      "outputs": [],
      "source": [
        "df['Recuperados'].idxmax()"
      ]
    },
    {
      "cell_type": "code",
      "execution_count": null,
      "metadata": {
        "colab": {
          "base_uri": "https://localhost:8080/",
          "height": 35
        },
        "id": "Gbn7_uNFpuVd",
        "outputId": "fd3d3795-a0b0-4f83-c285-50b334605970"
      },
      "outputs": [],
      "source": [
        "df['1 week % increase'].idxmax()"
      ]
    },
    {
      "cell_type": "markdown",
      "metadata": {
        "id": "QrsqGRfXqW5e"
      },
      "source": [
        "Dentro de los 10 primeros paises con la mayor cantidad de Confirmados, seleccionar el que tenga la menor cantidad de recuperados."
      ]
    },
    {
      "cell_type": "code",
      "execution_count": null,
      "metadata": {
        "colab": {
          "base_uri": "https://localhost:8080/",
          "height": 35
        },
        "id": "8XfAwYrDtdoh",
        "outputId": "834116c5-efe0-4815-d3b4-322cb6379150"
      },
      "outputs": [],
      "source": [
        "#Como no se debe hacer\n",
        "df.sort_values(by='Confirmed', \n",
        "               ascending = False).loc[df.sort_values(by='Confirmed',ascending = False).index[0]:\n",
        "                                      df.sort_values(by='Confirmed', ascending = False).index[10],\n",
        "                                      'Recuperados'].idxmax()"
      ]
    },
    {
      "cell_type": "code",
      "execution_count": null,
      "metadata": {
        "colab": {
          "base_uri": "https://localhost:8080/",
          "height": 35
        },
        "id": "g1N5Ivzoqj6c",
        "outputId": "bf68fb92-721f-4609-ad2a-5f76b780f217"
      },
      "outputs": [],
      "source": [
        "df.sort_values(by='Confirmed', ascending = False)[:10].loc[:,'Recuperados'].idxmax()"
      ]
    },
    {
      "cell_type": "code",
      "execution_count": null,
      "metadata": {
        "colab": {
          "base_uri": "https://localhost:8080/",
          "height": 35
        },
        "id": "dgwIwfsjtIDT",
        "outputId": "de4e73e9-f0dc-4423-92e2-7bbd58d9bd0e"
      },
      "outputs": [],
      "source": [
        "#La columna 2 es la de recuperados\n",
        "df.sort_values(by='Confirmed', ascending = False).iloc[:10,2].idxmax()"
      ]
    },
    {
      "cell_type": "code",
      "execution_count": null,
      "metadata": {
        "colab": {
          "base_uri": "https://localhost:8080/",
          "height": 35
        },
        "id": "uUhJLBctuYY7",
        "outputId": "4ab958ad-40a8-41ec-f236-df3820f8e681"
      },
      "outputs": [],
      "source": [
        "df.sort_values(by='Confirmed', ascending = False).loc[:,'Recuperados'].iloc[:10].idxmax()"
      ]
    },
    {
      "cell_type": "markdown",
      "metadata": {
        "id": "mB8kF6n8LNr8"
      },
      "source": [
        "## Sugerencias:\n",
        "\n",
        "- https://pandas.pydata.org/pandas-docs/stable/user_guide/10min.html\n",
        "- https://www.learndatasci.com/tutorials/python-pandas-tutorial-complete-introduction-for-beginners/"
      ]
    }
  ],
  "metadata": {
    "colab": {
      "collapsed_sections": [
        "P7nDhxr8LNrq",
        "TKQ2cu-lLNr0",
        "mB8kF6n8LNr8"
      ],
      "provenance": []
    },
    "kernelspec": {
      "display_name": "Python 3",
      "language": "python",
      "name": "python3"
    },
    "language_info": {
      "codemirror_mode": {
        "name": "ipython",
        "version": 3
      },
      "file_extension": ".py",
      "mimetype": "text/x-python",
      "name": "python",
      "nbconvert_exporter": "python",
      "pygments_lexer": "ipython3",
      "version": "3.7.6"
    }
  },
  "nbformat": 4,
  "nbformat_minor": 0
}
