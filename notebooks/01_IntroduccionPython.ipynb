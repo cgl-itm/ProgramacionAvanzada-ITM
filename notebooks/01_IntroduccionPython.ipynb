{
  "cells": [
    {
      "cell_type": "markdown",
      "metadata": {
        "id": "7UTw8Cm41_WP"
      },
      "source": [
        "# Clase 1 — Introducción a Python\n",
        "Notebook creado por los docentes Andres Castro-Ospina y Leonardo Duque-Muñoz. <br>\n",
        "Modificado por Cristian Guarnizo-Lemus. <br>\n",
        "- Herramientas y formas de ejecución de programas en Python.\n",
        "    - Ipython + Jupyter notebooks.\n",
        "    - Markdown / Python.\n",
        "- Tipos de datos. \n",
        "- Paso por referencia.\n",
        "- Operadores aritméticos.\n",
        "- Expresiones y variables + Naming conventions.\n",
        "- En Python todos los elementos son objetos.\n",
        "- Palabras reservadas.\n",
        "- Comentarios.\n",
        "- Printing: Estructuración y formato.\n",
        "- Ejercicios."
      ]
    },
    {
      "cell_type": "markdown",
      "metadata": {
        "id": "pJIE6zea1_WX"
      },
      "source": [
        "## Hola Mundo en Python"
      ]
    },
    {
      "cell_type": "code",
      "execution_count": null,
      "metadata": {
        "id": "g07WaK751_WX"
      },
      "outputs": [],
      "source": [
        "# #include<iostream>\n",
        "\n",
        "# using namespace std;\n",
        "\n",
        "# int main(){\n",
        "    \n",
        "#     cout << \"Hola Mundo!\";\n",
        "#     return 0;\n",
        "# }\n",
        "\n",
        "print(\"Hola Mundo!\")"
      ]
    },
    {
      "cell_type": "markdown",
      "metadata": {
        "id": "NEGsXIXg1_WZ"
      },
      "source": [
        "Python es un lenguaje de computación general, interpretado y de tipado dinámico:\n",
        "- **Interpretado**: no se compila a código máquina directamente.\n",
        "- **Tipado dinámico**: No requiere definir el tipo de dato de la variables o constantes que se manejen.\n",
        "\n",
        "## Tipos de datos básicos\n",
        "\n",
        "Los principales tipos de datos básicos son:\n",
        "\n",
        "1. Representacion Hex, Binario, Decimal\n",
        "2. Numéricos\n",
        "    - Entero (int)\n",
        "    - Punto flotante (float) https://es.wikipedia.org/wiki/IEEE_754\n",
        "    - Números complejos (complex)\n",
        "2. Textos\n",
        "    - Cadena de caracteres (str)\n",
        "3. Booleanos\n",
        "    - True o False"
      ]
    },
    {
      "cell_type": "code",
      "execution_count": 5,
      "metadata": {
        "id": "-21aAPfj1_Wa"
      },
      "outputs": [],
      "source": [
        "a = 1 #entero\n",
        "b = 2.45 #flotante\n",
        "c = 2+4j #complejo\n",
        "d = 'a' #String\n",
        "e = 'Hola mundo' #String\n",
        "e1 = \"Hola mundo\" #String\n",
        "f = True\n",
        "g = int(\"1A\", 16) #texto que representa dato en hex\n",
        "h = bin(g).zfill(8)"
      ]
    },
    {
      "cell_type": "markdown",
      "metadata": {
        "id": "H4mDRL5M1_Wa"
      },
      "source": [
        "La función __type__ de Python, nos permite preguntar por el tipo de dato de una variable."
      ]
    },
    {
      "cell_type": "code",
      "execution_count": 6,
      "metadata": {
        "colab": {
          "base_uri": "https://localhost:8080/"
        },
        "id": "UDCfHIih1_Wb",
        "outputId": "4f984f24-fe69-4864-89ff-df981d08e8bb"
      },
      "outputs": [
        {
          "output_type": "stream",
          "name": "stdout",
          "text": [
            "1 <class 'int'>\n",
            "2.45 <class 'float'>\n",
            "(2+4j) <class 'complex'>\n",
            "a <class 'str'>\n",
            "Hola mundo <class 'str'>\n",
            "Hola mundo <class 'str'>\n",
            "True <class 'bool'>\n",
            "26 <class 'int'>\n",
            "00b11010 <class 'str'>\n"
          ]
        }
      ],
      "source": [
        "print(a,type(a))     #a = 1 Built-in\n",
        "print(b,type(b))     #b = 2.45 \n",
        "print(c,type(c))     #c = 2+4j \n",
        "print(d,type(d))     #d = 'a' \n",
        "print(e,type(e))     #e = 'Hola mundo' \n",
        "print(e1,type(e1))    #e1 = \"Hola mundo\"\n",
        "print(f,type(f))     #f = True\n",
        "print(g,type(g))     #g = int(\"1A\", 16)\n",
        "print(h,type(h))     #h = bin(g).zfill(8)"
      ]
    },
    {
      "cell_type": "markdown",
      "metadata": {
        "id": "RynY_qnn1_Wc"
      },
      "source": [
        "## Tipado dinámico"
      ]
    },
    {
      "cell_type": "code",
      "execution_count": null,
      "metadata": {
        "id": "BaWJFv7M1_Wc"
      },
      "outputs": [],
      "source": [
        "numero = 10\n",
        "\n",
        "print(numero)\n",
        "print(type(numero))\n",
        "\n",
        "numero = 3.14\n",
        "print(numero)\n",
        "print(type(numero))\n",
        "\n",
        "numero = 'a'\n",
        "print(numero)\n",
        "print(type(numero))\n",
        "\n",
        "numero = False\n",
        "print(numero)\n",
        "print(type(numero))"
      ]
    },
    {
      "cell_type": "markdown",
      "metadata": {
        "id": "fjBYizBl1_Wd"
      },
      "source": [
        "## Comentarios\n",
        "\n",
        "Los comentarios son útiles para documentar el código. Principalmente:\n",
        "\n",
        "- __Single line__: utilizando el operador #\n",
        "- __Multiple line__: de la forma $\"\"\" lineas comentadas \"\"\"$"
      ]
    },
    {
      "cell_type": "code",
      "execution_count": null,
      "metadata": {
        "scrolled": true,
        "id": "sl2DcJ821_Wd"
      },
      "outputs": [],
      "source": [
        "a = 10 #número de estudiantes\n",
        "\n",
        "'''\n",
        "Esto es\n",
        "un comentario\n",
        "de multiple\n",
        "linea\n",
        "\n",
        "Esto tambien es comentario\n",
        "\n",
        "'''\n",
        "\n",
        "\"\"\"\n",
        "Esto es\n",
        "un comentario\n",
        "de múltiple\n",
        "linea\n",
        "\"\"\""
      ]
    },
    {
      "cell_type": "code",
      "execution_count": null,
      "metadata": {
        "id": "nzfqnLdU1_We"
      },
      "outputs": [],
      "source": [
        "alturaEstudiante = 180 #single line\n",
        "\n",
        "# single line\n",
        "\n",
        "#docstring: estandar de documentacion de codigo"
      ]
    },
    {
      "cell_type": "markdown",
      "metadata": {
        "id": "nTr59PJx1_We"
      },
      "source": [
        "## Todo en Python son objetos\n",
        "\n",
        "Todo en Python es un objeto, esto es, todo dato tiene:\n",
        "\n",
        "1. Atributos.\n",
        "2. Funciones (métodos).\n",
        "\n",
        "Podemos consultar los métodos de un tipo de datos, accediendo a la documentación de Python. Por ejemplo, para los Strings: https://docs.python.org/3.7/library/string.html"
      ]
    },
    {
      "cell_type": "code",
      "execution_count": null,
      "metadata": {
        "id": "wgfdicrE1_Wf"
      },
      "outputs": [],
      "source": [
        "msg = \"Lorem ipsum dolor sit amet, consectetur adipiscing elit. Sed in tortor vitae nisi fermentum porta\"\n",
        "print(msg.replace('i','t'))\n",
        "print(msg.count('1')) #contar las letras a en el string .count es un metodo del tipo de datos String"
      ]
    },
    {
      "cell_type": "code",
      "execution_count": null,
      "metadata": {
        "id": "coAD5T4L1_Wf"
      },
      "outputs": [],
      "source": [
        "help(complex)"
      ]
    },
    {
      "cell_type": "code",
      "execution_count": null,
      "metadata": {
        "id": "wDaQx_1s1_Wf"
      },
      "outputs": [],
      "source": [
        "numComplejo = 4+3j\n",
        "\n",
        "print(numComplejo.real) #.real y .imag son atributos del tipo de datos Complex\n",
        "print(numComplejo.imag)\n",
        "print(numComplejo.conjugate())"
      ]
    },
    {
      "cell_type": "markdown",
      "source": [
        "### Paso por referencia (punteros)\n",
        "\n",
        "Por defecto cuando se realiza una asignacion entre variables en Python, no se crea un espacio nuevo en memoria, sino que la nueva variable `apunta' al mismo espacio de la variable originial."
      ],
      "metadata": {
        "id": "1ZiJfkPq6nC5"
      }
    },
    {
      "cell_type": "code",
      "source": [
        "a = 345\n",
        "b = a\n",
        "print(\"comparacion si estan en el mismo espacio de memoria: \",a is b)\n",
        "print(\"Ids: a:\",id(a),\" b:\",id(b))"
      ],
      "metadata": {
        "colab": {
          "base_uri": "https://localhost:8080/"
        },
        "id": "5WB1hX4B7BQc",
        "outputId": "9a385a94-70c1-4f53-8b93-8885d1482893"
      },
      "execution_count": 10,
      "outputs": [
        {
          "output_type": "stream",
          "name": "stdout",
          "text": [
            "comparacion si estan en el mismo espacio de memoria:  True\n",
            "Ids: a: 139920603166192  b: 139920603166192\n"
          ]
        }
      ]
    },
    {
      "cell_type": "code",
      "source": [
        "a = 345\n",
        "b = 345\n",
        "print(\"comparacion con 'is': \",a is b)\n",
        "print(\"Ids: a:\",id(a),\" b:\",id(b))"
      ],
      "metadata": {
        "colab": {
          "base_uri": "https://localhost:8080/"
        },
        "id": "g_WYm1qt6vhi",
        "outputId": "1e80b716-9bdf-42cc-bb9d-1cbd0c40fa64"
      },
      "execution_count": 11,
      "outputs": [
        {
          "output_type": "stream",
          "name": "stdout",
          "text": [
            "comparacion con 'is':  False\n"
          ]
        }
      ]
    },
    {
      "cell_type": "markdown",
      "metadata": {
        "id": "XFzBT39H1_Wg"
      },
      "source": [
        "## Nombres de variables\n",
        "\n",
        "Por convención (no se requiere, pero la mayoría estamos de acuerdo):\n",
        "\n",
        "- Las constantes se escriben en mayúscula, por ejemplo, PI.\n",
        "- Las variables se escriben utilizando notación <a href=\"https://en.wikipedia.org/wiki/Camel_case \">CamelCase</a>, por ejemplo, estaEsMiVariable."
      ]
    },
    {
      "cell_type": "code",
      "execution_count": null,
      "metadata": {
        "id": "7TkLIIG_1_Wg"
      },
      "outputs": [],
      "source": [
        "#Constantes en mayúsculas\n",
        "PI = 3.1416\n",
        "\n",
        "#Variables: CamelCase\n",
        "estoEsMiVariable = 12.3"
      ]
    },
    {
      "cell_type": "markdown",
      "metadata": {
        "id": "QAADM0Id1_Wg"
      },
      "source": [
        "## Palabras Reservadas\n",
        "\n",
        "Todo lenguaje de programación tiene palabras que son de uso privativo del mismo, es decir, que no es conveniente y en algunos casos es imposible utilizarlas, por ejemplo:\n",
        "\n",
        "- sqrt: raiz cuadrada.\n",
        "- sin, cos, tan, etc.\n",
        "- for, while, if, else, etc.\n",
        "\n",
        "\n",
        "Algunas palabras no pueden/deben ser utilizadas en la definición de elementos dentro del programa, pues Python las conserva reservadas para ciertas funciones. Algunos casos son: *if, for, while, import, from, True, False, etc*: https://www.programiz.com/python-programming/keywords-identifier"
      ]
    },
    {
      "cell_type": "code",
      "execution_count": null,
      "metadata": {
        "scrolled": true,
        "id": "le7Xs4JT1_Wh"
      },
      "outputs": [],
      "source": [
        "True = 4\n",
        "\n",
        "print(True)"
      ]
    },
    {
      "cell_type": "markdown",
      "metadata": {
        "id": "k75TNWWj1_Wh"
      },
      "source": [
        "## Cargar Módulos"
      ]
    },
    {
      "cell_type": "code",
      "execution_count": null,
      "metadata": {
        "id": "rMqpROW11_Wh"
      },
      "outputs": [],
      "source": [
        "import math #include<nombreModulo>\n",
        "\n",
        "dir(math)\n",
        "# print(math.pi)\n",
        "# print(math.sin(3*math.pi/2))\n",
        "# pi = 5\n",
        "\n",
        "# math.factorial(3)\n"
      ]
    },
    {
      "cell_type": "code",
      "execution_count": null,
      "metadata": {
        "id": "gUiSxHru1_Wi"
      },
      "outputs": [],
      "source": [
        "from math import pi, e, tau, sqrt\n",
        "\n",
        "print(pi)\n",
        "print(e)\n",
        "print(tau)\n",
        "\n",
        "pi = 5\n",
        "\n",
        "print(sqrt(17))\n",
        "print(pi)"
      ]
    },
    {
      "cell_type": "code",
      "execution_count": null,
      "metadata": {
        "id": "xzOndhoD1_Wi"
      },
      "outputs": [],
      "source": [
        "sqrt?\n",
        "# help(sqrt)"
      ]
    },
    {
      "cell_type": "code",
      "execution_count": null,
      "metadata": {
        "id": "5d47h8At1_Wi"
      },
      "outputs": [],
      "source": [
        "from math import sqrt\n",
        "\n",
        "# sqrt = 54 #4**(1.0/2.0) #Potencia es ** \n",
        "\n",
        "# print(sqrt)\n",
        "\n",
        "print(sqrt(9)) #error en el llamado de funcion...ahora sqrt es una variable"
      ]
    },
    {
      "cell_type": "code",
      "execution_count": null,
      "metadata": {
        "id": "slGtsiFQ1_Wj"
      },
      "outputs": [],
      "source": [
        "from math import *\n",
        "\n",
        "print(pi)\n",
        "print(nan)\n",
        "print(erf)"
      ]
    },
    {
      "cell_type": "code",
      "execution_count": null,
      "metadata": {
        "id": "KkMauVst1_Wj"
      },
      "outputs": [],
      "source": [
        "import math as mtmtc\n",
        "\n",
        "print(mtmtc.pi)\n",
        "print(mtmtc.tau)\n",
        "print(mtmtc.sqrt(18))\n",
        "print(mtmtc.cos(mtmtc.pi))"
      ]
    },
    {
      "cell_type": "markdown",
      "metadata": {
        "id": "iy6biiNd1_Wj"
      },
      "source": [
        "## Precedencia de operadores\n",
        "\n",
        "__Recordemos__ que la jerarquía de operadores aritméticos es la siguiente:\n",
        "\n",
        "1. $()$: parentesis.\n",
        "2. $**$ : potencia.\n",
        "3. $* /$ % : multiplicación, división y módulo.\n",
        "4. $+ -$ : suma y resta."
      ]
    },
    {
      "cell_type": "code",
      "execution_count": null,
      "metadata": {
        "id": "BmokiUD_1_Wk"
      },
      "outputs": [],
      "source": [
        "help(print)"
      ]
    },
    {
      "cell_type": "code",
      "execution_count": null,
      "metadata": {
        "id": "dI1lyKTw1_Wk"
      },
      "outputs": [],
      "source": [
        "a = -5\n",
        "b = 10\n",
        "c = a + b + 4 #suma de dos variables a y b mas un literal 4\n",
        "print('c es', c, \"esta es la suma de a + b\", a, '+', b, sep=' ')\n",
        "\n",
        "d = a / b #division\n",
        "print('d es',d)\n",
        "\n",
        "e = 2**4 #2^4\n",
        "print('e es',e)\n",
        "\n",
        "f = 17 % 2\n",
        "print('f es',f)\n",
        "\n",
        "a = 2**(2+4)\n",
        "print('a es',a)\n",
        "\n",
        "g= -10//6\n",
        "print('g es',g)\n",
        "\n",
        "h= -10*6.754345678\n",
        "print('h es',h)"
      ]
    },
    {
      "cell_type": "markdown",
      "metadata": {
        "id": "mzw6ZxsV1_Wk"
      },
      "source": [
        "## Entrada de valores e impresión por consola"
      ]
    },
    {
      "cell_type": "code",
      "execution_count": null,
      "metadata": {
        "id": "o3o7av9H1_Wk"
      },
      "outputs": [],
      "source": [
        "a = input(\"ingrese un texto: \") # int num; std::cout << ; std::cin >> num  \n",
        "\n",
        "print('a =', a)\n",
        "print(type(a))\n",
        "print(a*3)"
      ]
    },
    {
      "cell_type": "code",
      "execution_count": null,
      "metadata": {
        "id": "xhHSOFm31_Wl"
      },
      "outputs": [],
      "source": [
        "a = input(\"ingrese un texto: \")\n",
        "\n",
        "print(type(a))\n",
        "print(\"longitud de a\", len(a)) #length\n",
        "print(5 * a)\n",
        "print(a + \" Lenguajes de Programación\")"
      ]
    },
    {
      "cell_type": "markdown",
      "metadata": {
        "id": "j6op21Jw1_Wl"
      },
      "source": [
        "## Conversión entre tipos de datos\n",
        "\n",
        "Python permite convertir entre tipos de datos"
      ]
    },
    {
      "cell_type": "code",
      "execution_count": null,
      "metadata": {
        "id": "kdxvr3Iw1_Wl"
      },
      "outputs": [],
      "source": [
        "help(print)"
      ]
    },
    {
      "cell_type": "code",
      "execution_count": null,
      "metadata": {
        "id": "W7jbQnqo1_Wm"
      },
      "outputs": [],
      "source": [
        "#convertir entre datos\n",
        "a = 5\n",
        "\n",
        "print(a, end = ' ')\n",
        "print(type(a))\n",
        "\n",
        "a = str(a)\n",
        "\n",
        "print(a, end = ' ')\n",
        "print(type(a))\n",
        "\n",
        "a = float(a)\n",
        "\n",
        "print(a, end = ' ')\n",
        "print(type(a))\n",
        "\n",
        "a = complex(a)\n",
        "print(a, end = ' ')\n",
        "print(type(a))\n",
        "\n",
        "a = int(a.real)\n",
        "print(a, end = ' ')\n",
        "print(type(a))\n"
      ]
    },
    {
      "cell_type": "code",
      "execution_count": null,
      "metadata": {
        "id": "xzxkRV011_Wm"
      },
      "outputs": [],
      "source": [
        "a = 6\n",
        "b = 2.5\n",
        "\n",
        "print(type(a))\n",
        "print(type(b))\n",
        "\n",
        "c = a+b\n",
        "print(c)\n",
        "print(type(a))\n",
        "print(type(b))\n",
        "print(type(c))"
      ]
    },
    {
      "cell_type": "code",
      "execution_count": null,
      "metadata": {
        "id": "aj0sTATG1_Wm"
      },
      "outputs": [],
      "source": [
        "PI = 3.1416\n",
        "\n",
        "r = float(input(\"Ingrese el radio \"))\n",
        "\n",
        "# r = input(\"Ingrese el radio \")\n",
        "# r = float(r)\n",
        "print(r)\n",
        "print(type(r))\n",
        "\n",
        "b = PI*r**2\n",
        "\n",
        "print(\"El área del circulo con radio:\",r,\", es:\",b) \n",
        "\n",
        "print(\"El área del circulo con radio: %.1f, es: %.5f\"%(r,b)) #caracteres especiales printf\n",
        "\n",
        "print(\"El área del circulo con radio: {:.1f}, es: {:.3f}\".format(r,b))\n",
        "\n",
        "print(f\"El área del circulo con radio: {r}, es: {b:.3g}\")"
      ]
    },
    {
      "cell_type": "code",
      "execution_count": null,
      "metadata": {
        "id": "U71Se2kn1_Wn"
      },
      "outputs": [],
      "source": [
        "print(\"\"\"\n",
        "Esto \n",
        "es un\n",
        "mensaje\n",
        "multilinea\n",
        "%.3f\n",
        "\"\"\"%(b))"
      ]
    },
    {
      "cell_type": "code",
      "execution_count": null,
      "metadata": {
        "id": "ulz5ruNJ1_Wn"
      },
      "outputs": [],
      "source": [
        "a = 1.232432556234234324\n",
        "b = 0.0012344352565352434434\n",
        "\n",
        "print(\"%.2f\"%(a))\n",
        "print(\"%.2g\"%(b))\n",
        "\n",
        "print(\"El resultado final de a+b es:\", a+b)\n",
        "print(\"El resultado final de a+b es: \"+str(a+b))\n",
        "\n",
        "print(\"El resultado final de a+b es: \\n\"+str(a+b)) #new line operator \\n\n",
        "\n",
        "print( \"\"\"\n",
        "El resultado final de a+b es:\n",
        "%.2f\n",
        "\"\"\"%(a+b))"
      ]
    },
    {
      "cell_type": "markdown",
      "metadata": {
        "id": "bH7JOsuO1_Wn"
      },
      "source": [
        "## Ejercicios en clase:\n",
        "\n",
        "Implementemos la solución de la ecuación de caida libre:\n",
        "  \n",
        "<center>\n",
        "    \n",
        "1. Caída libre: $y(t) = v_0t-\\frac{1}{2}gt^2$\n",
        "<br>\n",
        "<br>\n",
        "<br>\n",
        "        \n",
        "2. Solución: $t = \\frac{-b \\pm \\sqrt{b^2 - 4ac} }{2a}$ \n",
        "    \n",
        "</center>"
      ]
    },
    {
      "cell_type": "markdown",
      "metadata": {
        "id": "ND5hp6wN1_Wo"
      },
      "source": [
        "## Implementemos algunas formulas\n",
        "\n",
        "<hr>\n",
        "\n",
        "### Ejemplo 1: Segunda ley de Newton\n",
        "<br>\n",
        "A partir de la segunda ley de Newton se pueder derivar un modelo para el determinar la posición vertical ($y$) de un objeto en caida libre para el instante $t$, sabiendo su velocidad inicial $V_0$:\n",
        "\n",
        "<br>\n",
        "<center>\n",
        "$$y(t) = v_0t-\\frac{1}{2}gt^2$$\n",
        "\n",
        "</center>"
      ]
    },
    {
      "cell_type": "code",
      "execution_count": null,
      "metadata": {
        "id": "6q6GaDs01_Wo"
      },
      "outputs": [],
      "source": []
    },
    {
      "cell_type": "markdown",
      "metadata": {
        "id": "3MiXYqXh1_Wo"
      },
      "source": [
        "<hr>\n",
        "\n",
        "### Ejemplo 2: Raíces de una ecuación cuadrática\n",
        "\n",
        "- De la forma $y = ax^2+bx+c$\n",
        "\n",
        "En este punto solo nos interesa implementar la formula de las raíces, sin considerar las validaciones que se requieren. Controlar la cantidad de decimales a 2 en la impresion del resultado.\n",
        "\n",
        "<br>\n",
        "\n",
        "<font size=5>\n",
        "\n",
        "   <center> $\\frac{-b \\pm \\sqrt{b^2-4ac}}{2a}$ </center>\n",
        "    \n",
        "</font>"
      ]
    },
    {
      "cell_type": "code",
      "execution_count": null,
      "metadata": {
        "id": "gmoryKWQ1_Wp"
      },
      "outputs": [],
      "source": [
        "#definamos las variables a, b y c\n",
        "from math import sqrt\n",
        " \n"
      ]
    }
  ],
  "metadata": {
    "celltoolbar": "Raw Cell Format",
    "kernelspec": {
      "display_name": "Python 3 (ipykernel)",
      "language": "python",
      "name": "python3"
    },
    "language_info": {
      "codemirror_mode": {
        "name": "ipython",
        "version": 3
      },
      "file_extension": ".py",
      "mimetype": "text/x-python",
      "name": "python",
      "nbconvert_exporter": "python",
      "pygments_lexer": "ipython3",
      "version": "3.9.12"
    },
    "colab": {
      "provenance": [],
      "toc_visible": true
    }
  },
  "nbformat": 4,
  "nbformat_minor": 0
}