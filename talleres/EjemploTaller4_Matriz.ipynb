{
  "nbformat": 4,
  "nbformat_minor": 0,
  "metadata": {
    "colab": {
      "provenance": []
    },
    "kernelspec": {
      "name": "python3",
      "display_name": "Python 3"
    },
    "language_info": {
      "name": "python"
    }
  },
  "cells": [
    {
      "cell_type": "markdown",
      "source": [
        "#Problema 3 del taller 4\n",
        "Diseñar una clase para definir matrices y vectores a partir de listas de Python. Sobrecargar el operador de la suma (+), resta (-), la multiplicación elemento a elemento (*) y el producto matricial (@) (matmul)."
      ],
      "metadata": {
        "id": "9dTBTZjn0Nxp"
      }
    },
    {
      "cell_type": "markdown",
      "source": [
        "La suma de matrices se define como\n",
        "$$ A_{n\\times m} + B_{n\\times m} = C$$\n",
        "\n",
        "$$\\begin{bmatrix} 1 & 2 & 3\\\\ 4 & 5 & 6\\\\ 7 & 8 & 9 \\end{bmatrix} + \\begin{bmatrix} 1 & 0 & 0\\\\ 0 & 1 & 0\\\\ 0 & 0 & 1 \\end{bmatrix} = \\begin{bmatrix} 2 & 2 & 3\\\\ 4 & 6 & 6\\\\ 7 & 8 & 10 \\end{bmatrix}$$\n",
        "\n",
        "\n",
        "$$ C_{i,j} = A_{i,j} + B_{i,j}$$"
      ],
      "metadata": {
        "id": "ulpAf0JEXAfj"
      }
    },
    {
      "cell_type": "markdown",
      "source": [
        "El producto matricial se define como\n",
        "$$A_{n\\times m} B_{m\\times p} = C_{n\\times p}$$\n",
        "\n",
        "$$\\begin{bmatrix} 1 & 2 & 3\\\\ 4 & 5 & 6\\\\ 7 & 8 & 9 \\end{bmatrix}  \\begin{bmatrix} 1 & 2 & 4 & 5\\\\ 1 & 1 & 1 & 1\\\\ 2 & 2 & 2 & 2 \\end{bmatrix} = \\begin{bmatrix} 9 &  10 &  \\\\   &   &  \\\\   &   &   \\end{bmatrix}$$\n",
        "$$ A @ B = C$$\n",
        "\n",
        "$$ C_{i,j} = \\sum_k A_{i,k} * B_{k,j}$$"
      ],
      "metadata": {
        "id": "1d5JWnZLota3"
      }
    },
    {
      "cell_type": "code",
      "execution_count": 90,
      "metadata": {
        "id": "0zgswkX7Udhd"
      },
      "outputs": [],
      "source": [
        "class Matriz:\n",
        "  def __init__(self,lista):\n",
        "    self.nfil = len(lista)\n",
        "    self.ncol = len(lista[0])\n",
        "    for i in range(1,self.nfil):\n",
        "      assert self.ncol==len(lista[i]), \"La cantidad de columnas debe ser igual para todas las filas.\"\n",
        "    self.val = lista\n",
        "\n",
        "  def __str__(self):\n",
        "    return f\"Matriz con forma ({self.nfil},{self.ncol})\\n {self.val}\"\n",
        "\n",
        "  def __add__(self, Mat2: Matriz):\n",
        "    assert type(Mat2)==Matriz, \"La segunda matriz debe ser de tipo matriz.\"\n",
        "    assert (self.nfil,self.ncol)==(Mat2.nfil,Mat2.ncol), f\"No tienen la misma forma. ({self.nfil},{self.ncol}) != ({B.nfil},{B.ncol})\"\n",
        "    resul = []\n",
        "    for i in range(self.nfil):\n",
        "      temp = [] #Para guardar la suma de las filas\n",
        "      for j in range(self.ncol):\n",
        "        temp.append(self.val[i][j]+Mat2.val[i][j])\n",
        "      resul.append(temp)\n",
        "    return Matriz(resul)\n",
        "\n",
        "  def __sub__(self, Mat2: Matriz):\n",
        "    assert type(Mat2)==Matriz, \"La segunda matriz debe ser de tipo matriz.\"\n",
        "    assert (self.nfil,self.ncol)==(Mat2.nfil,Mat2.ncol), f\"No tienen la misma forma. ({self.nfil},{self.ncol}) != ({B.nfil},{B.ncol})\"\n",
        "    resul = []\n",
        "    for i in range(self.nfil):\n",
        "      temp = [] #Para guardar la resta de las filas\n",
        "      for j in range(self.ncol):\n",
        "        temp.append(self.val[i][j] - Mat2.val[i][j])\n",
        "      resul.append(temp)\n",
        "    return Matriz(resul)\n",
        "\n",
        "\n",
        "  def __mul__(self, Mat2: Matriz):\n",
        "    assert type(Mat2)==Matriz, \"La segunda matriz debe ser de tipo matriz.\"\n",
        "    assert (self.nfil,self.ncol)==(Mat2.nfil,Mat2.ncol), f\"No tienen la misma forma. ({self.nfil},{self.ncol}) != ({Mat2.nfil},{Mat2.ncol})\"\n",
        "    resul = []\n",
        "    for i in range(self.nfil):\n",
        "      temp = [] #Para guardar la multiplicacion de las filas\n",
        "      for j in range(self.ncol):\n",
        "        temp.append(self.val[i][j]*Mat2.val[i][j])\n",
        "      resul.append(temp)\n",
        "    return Matriz(resul)\n",
        "\n",
        "  def __matmul__(self, Mat2: Matriz):\n",
        "    assert type(Mat2)==Matriz, \"La segunda matriz debe ser de tipo matriz.\"\n",
        "    assert self.ncol==Mat2.nfil, f\"No se puede hacer el producto porque {self.ncol} != {Mat2.nfil}\"\n",
        "    resul = []\n",
        "    for i in range(self.nfil):\n",
        "      temp = [] #Para guardar la multiplicacion de las filas\n",
        "      for j in range(Mat2.ncol):\n",
        "        suma = 0\n",
        "        for k in range(self.ncol):\n",
        "          suma += self.val[i][k]*Mat2.val[k][j]\n",
        "        temp.append(suma)\n",
        "      resul.append(temp)\n",
        "    return Matriz(resul)\n",
        ""
      ]
    },
    {
      "cell_type": "markdown",
      "source": [
        "Verificamos si la clase funciona correctamente"
      ],
      "metadata": {
        "id": "N3gKwUO31G9v"
      }
    },
    {
      "cell_type": "code",
      "source": [
        "A = [[1,2,3],[4,5,6],[7,8,9]]\n",
        "B = [[1,0,0],[0,1,0],[0,0,1]]\n",
        "D = [[1,0],[0,1]]\n",
        "C = [[2,3,4],[2,3,4],[2,3,4]]\n",
        "matrizA = Matriz(A)\n",
        "matrizB = Matriz(B)\n",
        "matrizC = Matriz(C)\n",
        "matrizD = matrizA@matrizC"
      ],
      "metadata": {
        "id": "A6urDLzyb0Dh"
      },
      "execution_count": 95,
      "outputs": []
    },
    {
      "cell_type": "code",
      "source": [
        "print(matrizD)"
      ],
      "metadata": {
        "colab": {
          "base_uri": "https://localhost:8080/"
        },
        "id": "swH8DLsRiNIU",
        "outputId": "19fd7aa5-d6b0-4e2e-d274-1e9e6deffd63"
      },
      "execution_count": 96,
      "outputs": [
        {
          "output_type": "stream",
          "name": "stdout",
          "text": [
            "Matriz con forma (3,3)\n",
            " [[12, 18, 24], [30, 45, 60], [48, 72, 96]]\n"
          ]
        }
      ]
    },
    {
      "cell_type": "code",
      "source": [
        "matrizE = Matriz([[1,2,4],[1,1,1],[2,2,2]])\n",
        "print(matrizA@matrizE)"
      ],
      "metadata": {
        "colab": {
          "base_uri": "https://localhost:8080/"
        },
        "id": "qrLW50tLosv3",
        "outputId": "12fe974c-4682-4d4d-aa16-b8ec3d667039"
      },
      "execution_count": 97,
      "outputs": [
        {
          "output_type": "stream",
          "name": "stdout",
          "text": [
            "Matriz con forma (3,3)\n",
            " [[9, 10, 12], [21, 25, 33], [33, 40, 54]]\n"
          ]
        }
      ]
    },
    {
      "cell_type": "markdown",
      "source": [
        "Codigos auxiliares para el desarrollo de la clase"
      ],
      "metadata": {
        "id": "cuWYdm3J0ZY3"
      }
    },
    {
      "cell_type": "code",
      "source": [
        "#La suma de listas se concatenan\n",
        "A+B"
      ],
      "metadata": {
        "colab": {
          "base_uri": "https://localhost:8080/"
        },
        "id": "QhkSBu88YUOk",
        "outputId": "6206f25b-8047-42ea-f855-b8a6eff831ac"
      },
      "execution_count": 4,
      "outputs": [
        {
          "output_type": "execute_result",
          "data": {
            "text/plain": [
              "[[1, 2, 3], [4, 5, 6], [7, 8, 9], [1, 0, 0], [0, 1, 0], [0, 0, 1]]"
            ]
          },
          "metadata": {},
          "execution_count": 4
        }
      ]
    },
    {
      "cell_type": "code",
      "source": [
        "#Para conocer la cantidad de filas\n",
        "len(A)"
      ],
      "metadata": {
        "colab": {
          "base_uri": "https://localhost:8080/"
        },
        "id": "7EUfp3nFYUc2",
        "outputId": "d6a24355-24fd-4d76-a9b8-56dd5ec758fd"
      },
      "execution_count": 99,
      "outputs": [
        {
          "output_type": "execute_result",
          "data": {
            "text/plain": [
              "3"
            ]
          },
          "metadata": {},
          "execution_count": 99
        }
      ]
    },
    {
      "cell_type": "code",
      "source": [
        "#Para conocer la cantidad de columnas\n",
        "len(A[0])"
      ],
      "metadata": {
        "colab": {
          "base_uri": "https://localhost:8080/"
        },
        "id": "IHIGtA5Y0_6g",
        "outputId": "5abb2e53-ab6c-4ae2-c3c7-e885d319c4c3"
      },
      "execution_count": 100,
      "outputs": [
        {
          "output_type": "execute_result",
          "data": {
            "text/plain": [
              "3"
            ]
          },
          "metadata": {},
          "execution_count": 100
        }
      ]
    },
    {
      "cell_type": "code",
      "source": [
        "#Para saber su la variable es de tipo matriz\n",
        "type(matrizA)"
      ],
      "metadata": {
        "colab": {
          "base_uri": "https://localhost:8080/",
          "height": 103
        },
        "id": "Ec4tM6G8dHWn",
        "outputId": "7ce528f0-bc76-414f-d5f5-e8a0cf249685"
      },
      "execution_count": 22,
      "outputs": [
        {
          "output_type": "execute_result",
          "data": {
            "text/plain": [
              "__main__.Matriz"
            ],
            "text/html": [
              "<div style=\"max-width:800px; border: 1px solid var(--colab-border-color);\"><style>\n",
              "      pre.function-repr-contents {\n",
              "        overflow-x: auto;\n",
              "        padding: 8px 12px;\n",
              "        max-height: 500px;\n",
              "      }\n",
              "\n",
              "      pre.function-repr-contents.function-repr-contents-collapsed {\n",
              "        cursor: pointer;\n",
              "        max-height: 100px;\n",
              "      }\n",
              "    </style>\n",
              "    <pre style=\"white-space: initial; background:\n",
              "         var(--colab-secondary-surface-color); padding: 8px 12px;\n",
              "         border-bottom: 1px solid var(--colab-border-color);\"><b>Matriz</b><br/>def __init__(lista)</pre><pre class=\"function-repr-contents function-repr-contents-collapsed\" style=\"\"><a class=\"filepath\" style=\"display:none\" href=\"#\"></a>&lt;no docstring&gt;</pre></div>"
            ]
          },
          "metadata": {},
          "execution_count": 22
        }
      ]
    },
    {
      "cell_type": "code",
      "source": [
        "#para verificar si las matrices tienen igual tamaño\n",
        "print((1,2)==(2,3))\n",
        "print((1,2)==(1,2))"
      ],
      "metadata": {
        "colab": {
          "base_uri": "https://localhost:8080/"
        },
        "id": "laFgGS-X0dYo",
        "outputId": "7c620df3-f8f8-4e1d-cd0b-eb9e19a671ac"
      },
      "execution_count": 98,
      "outputs": [
        {
          "output_type": "stream",
          "name": "stdout",
          "text": [
            "False\n",
            "True\n"
          ]
        }
      ]
    },
    {
      "cell_type": "code",
      "source": [
        "#Para imprimir la lista como una matriz\n",
        "for i in range(len(A)):\n",
        "  for j in range(len(A[i])):\n",
        "    print(f\"fila {i} columna {j} con valor {A[i][j]}\")"
      ],
      "metadata": {
        "colab": {
          "base_uri": "https://localhost:8080/"
        },
        "id": "Y8pRBqUKdlxH",
        "outputId": "9793e206-0f74-47f0-9ca0-691382200af2"
      },
      "execution_count": 29,
      "outputs": [
        {
          "output_type": "stream",
          "name": "stdout",
          "text": [
            "fila 0 columna 0 con valor 1\n",
            "fila 0 columna 1 con valor 2\n",
            "fila 0 columna 2 con valor 3\n",
            "fila 1 columna 0 con valor 4\n",
            "fila 1 columna 1 con valor 5\n",
            "fila 1 columna 2 con valor 6\n",
            "fila 2 columna 0 con valor 7\n",
            "fila 2 columna 1 con valor 8\n",
            "fila 2 columna 2 con valor 9\n"
          ]
        }
      ]
    }
  ]
}